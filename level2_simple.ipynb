{
 "metadata": {
  "name": "",
  "signature": "sha256:d163b5d1bd2ff4e22728d68c790043559b846ec51da98b67dd6dd12aa6008136"
 },
 "nbformat": 3,
 "nbformat_minor": 0,
 "worksheets": [
  {
   "cells": [
    {
     "cell_type": "markdown",
     "metadata": {},
     "source": [
      "## Level 2 + in limbo analysis using simpler in limbo test"
     ]
    },
    {
     "cell_type": "markdown",
     "metadata": {},
     "source": [
      "One of the reviewers of our paper *An antidote to the imager's fallacy, or\n",
      "how to identify brain areas that are in limbo* suggested a simpler approach for the in-limbo test: simply subtract the contrast size of the comparison voxel and do the level 2 analysis again. \n",
      "\n",
      "This test is implemented in this notebook."
     ]
    },
    {
     "cell_type": "markdown",
     "metadata": {},
     "source": [
      "First we import import libraries"
     ]
    },
    {
     "cell_type": "code",
     "collapsed": false,
     "input": [
      "import nipype.algorithms.modelgen as model\n",
      "import pandas\n",
      "import nipype.pipeline.engine as pe\n",
      "from nipype.interfaces.base import Bunch\n",
      "\n",
      "import nipype.interfaces.utility as util\n",
      "import nipype.interfaces.io as nio\n",
      "import nipype.interfaces.fsl as fsl"
     ],
     "language": "python",
     "metadata": {},
     "outputs": [],
     "prompt_number": 1
    },
    {
     "cell_type": "markdown",
     "metadata": {},
     "source": [
      "We find the copes, varcopes and dof_files of the first level FSL analysis"
     ]
    },
    {
     "cell_type": "code",
     "collapsed": false,
     "input": [
      "import glob, os\n",
      "\n",
      "#copes = sorted(glob.glob('/home/gdholla1/data/in_limbo/birte/copes_mni/*/cope1.nii.gz'))\n",
      "#varcopes = sorted(glob.glob('/home/gdholla1/data/in_limbo/birte/varcopes_mni/*/varcope1.nii.gz'))\n",
      "\n",
      "copes = sorted(glob.glob('/home/felice/results2/ds6/output/model01/task001/*/copes/mni/model001/task001_cope08.nii.gz'))\n",
      "varcopes = sorted(glob.glob('/home/felice/results2/ds6/output/model01/task001/*/varcopes/mni/model001/task001_varcope08.nii.gz'))\n",
      "\n",
      "dof_files = [os.path.abspath('dof.txt')] * len(copes)"
     ],
     "language": "python",
     "metadata": {},
     "outputs": [],
     "prompt_number": 2
    },
    {
     "cell_type": "markdown",
     "metadata": {},
     "source": [
      "Set up different thresholds"
     ]
    },
    {
     "cell_type": "code",
     "collapsed": false,
     "input": [
      "#thresholds = [2.3, 3.1, 3.6, 4.1]\n",
      "thresholds = [2.3, 2.5, 2.7, 2.9, 3.1, 3.3, 3.5, 3.7, 3.9, 4.1]"
     ],
     "language": "python",
     "metadata": {},
     "outputs": [],
     "prompt_number": 3
    },
    {
     "cell_type": "markdown",
     "metadata": {},
     "source": [
      "## Set up a standard mixed effects level2 analysis"
     ]
    },
    {
     "cell_type": "markdown",
     "metadata": {},
     "source": [
      "This is a completely standard level 2 analysis pipeline with FSL FLAME. Because the SPMs of the first level analysis were unsmoothed, we have to do that first."
     ]
    },
    {
     "cell_type": "code",
     "collapsed": false,
     "input": [
      "from nipype.workflows.fmri.fsl import create_fixed_effects_flow\n",
      "# Create mixed effects work flow\n",
      "mixedfx = create_fixed_effects_flow('in_limbo_level2_felice_fsl')\n",
      "mixedfx.base_dir = '/home/felice/workflow_folders/'\n",
      "\n",
      "\n",
      "# Set up smoothing nodes\n",
      "#smoother_copes  = pe.MapNode(fsl.IsotropicSmooth(), \n",
      "        #              iterfield=['in_file'],\n",
      "         #             name='smoother_copes')                   DON'T NEED THIS BECAUSE MY FILE ARE ALREADY SMOOTHED\n",
      "\n",
      "#smoother_copes.inputs.in_file = copes\n",
      "#smoother_copes.inputs.fwhm = 8.0\n",
      "\n",
      "#smoother_varcopes  = pe.MapNode(fsl.IsotropicSmooth(), \n",
      " #                     iterfield=['in_file'],\n",
      "#                      name='smoother_varcopes')\n",
      "\n",
      "#smoother_varcopes.inputs.in_file = varcopes\n",
      "#smoother_varcopes.inputs.fwhm = 8.0\n",
      "\n",
      "# mixedfx.connect(smoother_copes, 'out_file', mixedfx.get_node('inputspec'), 'copes')\n",
      "# mixedfx.connect(smoother_varcopes, 'out_file', mixedfx.get_node('inputspec'), 'varcopes')\n",
      "\n",
      "mixedfx.inputs.inputspec.copes = copes   # give as input directly the files after 1st level analysis\n",
      "mixedfx.inputs.inputspec.varcopes = varcopes\n",
      "\n",
      "mixedfx.inputs.inputspec.dof_files = dof_files\n",
      "mixedfx.inputs.flameo.mask_file = '/usr/share/fsl/data/standard/MNI152_T1_2mm_brain_mask.nii.gz'\n",
      "mixedfx.inputs.l2model.num_copes = len(copes)\n",
      "\n",
      "### Mixed effects (flame1) instead of fixed effects (fe)\n",
      "mixedfx.inputs.flameo.run_mode = 'flame1'\n",
      "\n",
      "\n",
      "# Set up a datasink to write data to\n",
      "ds = pe.Node(nio.DataSink(), name='datasink')\n",
      "ds.inputs.base_directory = '/home/felice/level2_fsl_results2/ds6/contrast4'   # remember to change the directory folder for each ds\n",
      "mixedfx.connect(mixedfx.get_node('outputspec'), 'zstats', ds, 'zstats')\n",
      "\n",
      "# Estimate smoothness for Gaussian Random Field Theory\n",
      "smooth_est = pe.Node(fsl.SmoothEstimate(), name='smooth_est')\n",
      "smooth_est.inputs.mask_file = '/usr/share/fsl/data/standard/MNI152_T1_2mm_brain_mask.nii.gz'\n",
      "\n",
      "get_one = lambda x: x[0]\n",
      "\n",
      "mixedfx.connect(mixedfx.get_node('outputspec'), ('zstats', get_one), smooth_est, 'zstat_file')\n",
      "\n",
      "cluster = pe.Node(fsl.Cluster(), name='cluster')\n",
      "cluster.inputs.out_threshold_file = True\n",
      "\n",
      "# Iterate over different thresholds\n",
      "cluster.iterables = [('threshold',\n",
      "                      thresholds)]\n",
      "\n",
      "# Set up GRF and write threhsolded z-map to datasink\n",
      "mixedfx.connect(smooth_est, 'dlh', cluster, 'dlh')\n",
      "mixedfx.connect(mixedfx.get_node('outputspec'), ('zstats', get_one), cluster, 'in_file')\n",
      "mixedfx.connect(cluster, 'threshold_file', ds, 'thresholded_z')"
     ],
     "language": "python",
     "metadata": {},
     "outputs": [],
     "prompt_number": 4
    },
    {
     "cell_type": "markdown",
     "metadata": {},
     "source": [
      "## Set up in limbo part"
     ]
    },
    {
     "cell_type": "markdown",
     "metadata": {},
     "source": [
      "We set up a function *argmin* that gets the index of the least-significantly activated voxel in the level 2 result."
     ]
    },
    {
     "cell_type": "code",
     "collapsed": false,
     "input": [
      "def argmin(image, threshold=0):\n",
      "    import nibabel as nb\n",
      "    import numpy as np\n",
      "    \n",
      "    image = nb.load(image)\n",
      "    data = np.ma.masked_less_equal(image.get_data(), threshold)\n",
      "    return np.unravel_index(np.ma.argmin(data), data.shape)\n",
      "\n",
      "get_comparison_voxel = pe.Node(util.Function(function=argmin,\n",
      "                                             input_names=['image'],\n",
      "                                             output_names=['index']),\n",
      "                               name='get_comparison_voxel')"
     ],
     "language": "python",
     "metadata": {},
     "outputs": [],
     "prompt_number": 5
    },
    {
     "cell_type": "markdown",
     "metadata": {},
     "source": [
      "We set up a function *get_min_value* that gets the contrast sizes in this least-significantly\n",
      "activated voxel for all subjects"
     ]
    },
    {
     "cell_type": "code",
     "collapsed": false,
     "input": [
      "def get_value_at(image, index):\n",
      "    import nibabel as nb    \n",
      "    \n",
      "    return nb.load(image).get_data()[index]\n",
      "\n",
      "get_min_value = pe.MapNode(util.Function(function=get_value_at,\n",
      "                                         input_names=['image', 'index'],\n",
      "                                         output_names=['value']),\n",
      "                           iterfield=['image'],\n",
      "                           name='get_min_value')\n"
     ],
     "language": "python",
     "metadata": {},
     "outputs": [],
     "prompt_number": 6
    },
    {
     "cell_type": "markdown",
     "metadata": {},
     "source": [
      "## Subtract this value and inverse the map"
     ]
    },
    {
     "cell_type": "markdown",
     "metadata": {},
     "source": [
      "Now we connect the standard level 2 analysis to these nodes"
     ]
    },
    {
     "cell_type": "code",
     "collapsed": false,
     "input": [
      "mixedfx.connect(cluster, 'threshold_file', get_comparison_voxel, 'image')\n",
      "mixedfx.connect(get_comparison_voxel, 'index', get_min_value, 'index')\n",
      "get_min_value.inputs.image = copes\n",
      "\n",
      "#mixedfx.connect(smoother_copes, 'out_file', get_min_value, 'image')"
     ],
     "language": "python",
     "metadata": {},
     "outputs": [],
     "prompt_number": 7
    },
    {
     "cell_type": "markdown",
     "metadata": {},
     "source": [
      "We subtract the contrasts sizes in the comparison voxel from the individual contrast maps. Then we multiply everything with -1."
     ]
    },
    {
     "cell_type": "code",
     "collapsed": false,
     "input": [
      "def subtract_and_inverse(image, value):\n",
      "    import nibabel as nb\n",
      "    import os\n",
      "    \n",
      "    image = nb.load(image)\n",
      "    data = image.get_data()\n",
      "    \n",
      "    data -= value\n",
      "    data *= -1\n",
      "    \n",
      "    fn = os.path.abspath('cope_in_limbo.nii.gz')\n",
      "    nb.save(nb.Nifti1Image(data, image.get_affine()), fn)\n",
      "    \n",
      "    return fn\n",
      "\n",
      "\n",
      "subtract_cope = pe.MapNode(util.Function(function=subtract_and_inverse,\n",
      "                                         input_names=['image', 'value'],\n",
      "                                         output_names=['in_limbo_cope'],\n",
      "                                         ),\n",
      "                           iterfield=['image',\n",
      "                                      'value'],\n",
      "                           name='subtract_from_cope')\n",
      "\n",
      "\n",
      "mixedfx.connect(get_min_value, 'value', subtract_cope, 'value')\n",
      "subtract_cope.inputs.image = copes\n",
      "#mixedfx.connect(smoother_copes, 'out_file', subtract_cope, 'image')"
     ],
     "language": "python",
     "metadata": {},
     "outputs": [],
     "prompt_number": 8
    },
    {
     "cell_type": "markdown",
     "metadata": {},
     "source": [
      "Now we create a second standard level 2 analysis pipeline. We input the 'subtracted-and-inversed' copes from the first level 2 analysis."
     ]
    },
    {
     "cell_type": "code",
     "collapsed": false,
     "input": [
      "in_limbo_mixedfx = create_fixed_effects_flow('in_limbo_mixedfx')\n",
      "#mixedfx.connect(smoother_varcopes, 'out_file', in_limbo_mixedfx, 'inputspec.varcopes')\n",
      "in_limbo_mixedfx.inputs.inputspec.varcopes = varcopes\n",
      "\n",
      "in_limbo_mixedfx.inputs.inputspec.dof_files = dof_files\n",
      "in_limbo_mixedfx.inputs.flameo.mask_file = '/usr/share/fsl/data/standard/MNI152_T1_2mm_brain_mask.nii.gz'\n",
      "in_limbo_mixedfx.inputs.l2model.num_copes = len(copes)\n",
      "\n",
      "mixedfx.connect(subtract_cope, 'in_limbo_cope', in_limbo_mixedfx, 'inputspec.copes')\n"
     ],
     "language": "python",
     "metadata": {},
     "outputs": [],
     "prompt_number": 9
    },
    {
     "cell_type": "markdown",
     "metadata": {},
     "source": [
      "## Determine what's in limbo and what's not"
     ]
    },
    {
     "cell_type": "markdown",
     "metadata": {},
     "source": [
      "Now we have to sort all voxels according to the outcome of the two pipelines. We have three categories and apply the following logic:\n",
      "\n",
      "* Areas that are significantly activated \n",
      " * positive thresholded z value after first level 2 analysis\n",
      "* In limbo areas\n",
      " * Thresholde Z-value of zero after first level 2 analysis\n",
      " * Not significantly different from comparison voxel (t < threshold)\n",
      "* Areas that are not in limbo\n",
      " * Thresholded Z-value of zero after first level 2 analysis\n",
      " * Significantly different from comparison voxel (t > threshold)"
     ]
    },
    {
     "cell_type": "code",
     "collapsed": false,
     "input": [
      "def get_in_limbo_area(thresholded_z, in_limbo_t, threshold):\n",
      "    \n",
      "    import nibabel as nb\n",
      "    import numpy as np\n",
      "    import os\n",
      "    \n",
      "    # Load the two level 2 results\n",
      "    z_image = nb.load(thresholded_z)\n",
      "    z = z_image.get_data()\n",
      "    in_limbo_t = nb.load(in_limbo_t).get_data()\n",
      "    \n",
      "    # Set up outputs\n",
      "    in_limbo = np.zeros_like(z)\n",
      "    unactivated = np.zeros_like(z)\n",
      "    \n",
      "    # Apply logic\n",
      "    in_limbo[(z == 0) & (in_limbo_t < threshold) & (in_limbo_t != 0)] = 1\n",
      "    unactivated[(z == 0) & (in_limbo_t > threshold)] = 1\n",
      "    \n",
      "    nb.save(nb.Nifti1Image(in_limbo, z_image.get_affine(),), \n",
      "            os.path.abspath('in_limbo.nii.gz'))\n",
      "    \n",
      "    nb.save(nb.Nifti1Image(unactivated, z_image.get_affine(),), \n",
      "        os.path.abspath('in_limbo_unactivated.nii.gz'))\n",
      "    \n",
      "    return os.path.abspath('in_limbo.nii.gz'), os.path.abspath('in_limbo_unactivated.nii.gz')\n",
      "\n",
      "in_limbo_mapper = pe.Node(util.Function(function=get_in_limbo_area,\n",
      "                                        input_names=['thresholded_z', \n",
      "                                                     'in_limbo_t',\n",
      "                                                     'threshold'],\n",
      "                                        output_names=['in_limbo', 'unactivated']),\n",
      "                          name='in_limbo_mapper')"
     ],
     "language": "python",
     "metadata": {},
     "outputs": [],
     "prompt_number": 10
    },
    {
     "cell_type": "markdown",
     "metadata": {},
     "source": [
      "We have to set an $\\alpha$-value for the in-limbo test and calculate the corresponding t-value. Here we do a one-sided alpha level of .05 and calculate the corresponding t-threshold. We put that into the get_in_limbo_area function."
     ]
    },
    {
     "cell_type": "code",
     "collapsed": false,
     "input": [
      "import scipy as sp\n",
      "from scipy import stats\n",
      "\n",
      "dof = len(copes) - 1\n",
      "in_limbo_mapper.inputs.threshold = sp.stats.t(dof).ppf(0.95)\n",
      "\n",
      "\n",
      "mixedfx.connect(in_limbo_mixedfx.get_node('outputspec'), ('tstats', get_one), in_limbo_mapper, 'in_limbo_t')\n",
      "mixedfx.connect(cluster, 'threshold_file', in_limbo_mapper, 'thresholded_z')\n",
      "\n",
      "##new code\n",
      "mixedfx.connect(in_limbo_mapper, 'in_limbo', ds, 'in_limbo')"
     ],
     "language": "python",
     "metadata": {},
     "outputs": [],
     "prompt_number": 11
    },
    {
     "cell_type": "code",
     "collapsed": false,
     "input": [
      "mixedfx.run()"
     ],
     "language": "python",
     "metadata": {},
     "outputs": [
      {
       "output_type": "stream",
       "stream": "stderr",
       "text": [
        "INFO:workflow:['check', 'execution', 'logging']\n"
       ]
      },
      {
       "output_type": "stream",
       "stream": "stderr",
       "text": [
        "INFO:workflow:Running serially.\n"
       ]
      },
      {
       "output_type": "stream",
       "stream": "stderr",
       "text": [
        "INFO:workflow:Executing node varcopemerge in dir: /home/felice/workflow_folders/in_limbo_level2_felice_fsl/in_limbo_mixedfx/varcopemerge\n"
       ]
      },
      {
       "output_type": "stream",
       "stream": "stderr",
       "text": [
        "INFO:workflow:Executing node _varcopemerge0 in dir: /home/felice/workflow_folders/in_limbo_level2_felice_fsl/in_limbo_mixedfx/varcopemerge/mapflow/_varcopemerge0\n"
       ]
      },
      {
       "output_type": "stream",
       "stream": "stderr",
       "text": [
        "INFO:workflow:Running: fslmerge -t task001_varcope08_merged.nii.gz /home/felice/results2/ds6/output/model01/task001/sub001/varcopes/mni/model001/task001_varcope08.nii.gz /home/felice/results2/ds6/output/model01/task001/sub002/varcopes/mni/model001/task001_varcope08.nii.gz /home/felice/results2/ds6/output/model01/task001/sub003/varcopes/mni/model001/task001_varcope08.nii.gz /home/felice/results2/ds6/output/model01/task001/sub004/varcopes/mni/model001/task001_varcope08.nii.gz /home/felice/results2/ds6/output/model01/task001/sub005/varcopes/mni/model001/task001_varcope08.nii.gz /home/felice/results2/ds6/output/model01/task001/sub006/varcopes/mni/model001/task001_varcope08.nii.gz /home/felice/results2/ds6/output/model01/task001/sub007/varcopes/mni/model001/task001_varcope08.nii.gz /home/felice/results2/ds6/output/model01/task001/sub008/varcopes/mni/model001/task001_varcope08.nii.gz /home/felice/results2/ds6/output/model01/task001/sub009/varcopes/mni/model001/task001_varcope08.nii.gz /home/felice/results2/ds6/output/model01/task001/sub010/varcopes/mni/model001/task001_varcope08.nii.gz /home/felice/results2/ds6/output/model01/task001/sub011/varcopes/mni/model001/task001_varcope08.nii.gz /home/felice/results2/ds6/output/model01/task001/sub012/varcopes/mni/model001/task001_varcope08.nii.gz /home/felice/results2/ds6/output/model01/task001/sub013/varcopes/mni/model001/task001_varcope08.nii.gz /home/felice/results2/ds6/output/model01/task001/sub014/varcopes/mni/model001/task001_varcope08.nii.gz /home/felice/results2/ds6/output/model01/task001/sub015/varcopes/mni/model001/task001_varcope08.nii.gz /home/felice/results2/ds6/output/model01/task001/sub016/varcopes/mni/model001/task001_varcope08.nii.gz /home/felice/results2/ds6/output/model01/task001/sub017/varcopes/mni/model001/task001_varcope08.nii.gz /home/felice/results2/ds6/output/model01/task001/sub018/varcopes/mni/model001/task001_varcope08.nii.gz /home/felice/results2/ds6/output/model01/task001/sub019/varcopes/mni/model001/task001_varcope08.nii.gz /home/felice/results2/ds6/output/model01/task001/sub020/varcopes/mni/model001/task001_varcope08.nii.gz /home/felice/results2/ds6/output/model01/task001/sub021/varcopes/mni/model001/task001_varcope08.nii.gz /home/felice/results2/ds6/output/model01/task001/sub022/varcopes/mni/model001/task001_varcope08.nii.gz /home/felice/results2/ds6/output/model01/task001/sub023/varcopes/mni/model001/task001_varcope08.nii.gz /home/felice/results2/ds6/output/model01/task001/sub024/varcopes/mni/model001/task001_varcope08.nii.gz /home/felice/results2/ds6/output/model01/task001/sub025/varcopes/mni/model001/task001_varcope08.nii.gz /home/felice/results2/ds6/output/model01/task001/sub026/varcopes/mni/model001/task001_varcope08.nii.gz\n"
       ]
      },
      {
       "output_type": "stream",
       "stream": "stderr",
       "text": [
        "INFO:workflow:Executing node l2model in dir: /home/felice/workflow_folders/in_limbo_level2_felice_fsl/l2model\n"
       ]
      },
      {
       "output_type": "stream",
       "stream": "stderr",
       "text": [
        "INFO:workflow:Collecting precomputed outputs\n"
       ]
      },
      {
       "output_type": "stream",
       "stream": "stderr",
       "text": [
        "INFO:workflow:Executing node varcopemerge in dir: /home/felice/workflow_folders/in_limbo_level2_felice_fsl/varcopemerge\n"
       ]
      },
      {
       "output_type": "stream",
       "stream": "stderr",
       "text": [
        "INFO:workflow:Executing node _varcopemerge0 in dir: /home/felice/workflow_folders/in_limbo_level2_felice_fsl/varcopemerge/mapflow/_varcopemerge0\n"
       ]
      },
      {
       "output_type": "stream",
       "stream": "stderr",
       "text": [
        "INFO:workflow:Running: fslmerge -t task001_varcope08_merged.nii.gz /home/felice/results2/ds6/output/model01/task001/sub001/varcopes/mni/model001/task001_varcope08.nii.gz /home/felice/results2/ds6/output/model01/task001/sub002/varcopes/mni/model001/task001_varcope08.nii.gz /home/felice/results2/ds6/output/model01/task001/sub003/varcopes/mni/model001/task001_varcope08.nii.gz /home/felice/results2/ds6/output/model01/task001/sub004/varcopes/mni/model001/task001_varcope08.nii.gz /home/felice/results2/ds6/output/model01/task001/sub005/varcopes/mni/model001/task001_varcope08.nii.gz /home/felice/results2/ds6/output/model01/task001/sub006/varcopes/mni/model001/task001_varcope08.nii.gz /home/felice/results2/ds6/output/model01/task001/sub007/varcopes/mni/model001/task001_varcope08.nii.gz /home/felice/results2/ds6/output/model01/task001/sub008/varcopes/mni/model001/task001_varcope08.nii.gz /home/felice/results2/ds6/output/model01/task001/sub009/varcopes/mni/model001/task001_varcope08.nii.gz /home/felice/results2/ds6/output/model01/task001/sub010/varcopes/mni/model001/task001_varcope08.nii.gz /home/felice/results2/ds6/output/model01/task001/sub011/varcopes/mni/model001/task001_varcope08.nii.gz /home/felice/results2/ds6/output/model01/task001/sub012/varcopes/mni/model001/task001_varcope08.nii.gz /home/felice/results2/ds6/output/model01/task001/sub013/varcopes/mni/model001/task001_varcope08.nii.gz /home/felice/results2/ds6/output/model01/task001/sub014/varcopes/mni/model001/task001_varcope08.nii.gz /home/felice/results2/ds6/output/model01/task001/sub015/varcopes/mni/model001/task001_varcope08.nii.gz /home/felice/results2/ds6/output/model01/task001/sub016/varcopes/mni/model001/task001_varcope08.nii.gz /home/felice/results2/ds6/output/model01/task001/sub017/varcopes/mni/model001/task001_varcope08.nii.gz /home/felice/results2/ds6/output/model01/task001/sub018/varcopes/mni/model001/task001_varcope08.nii.gz /home/felice/results2/ds6/output/model01/task001/sub019/varcopes/mni/model001/task001_varcope08.nii.gz /home/felice/results2/ds6/output/model01/task001/sub020/varcopes/mni/model001/task001_varcope08.nii.gz /home/felice/results2/ds6/output/model01/task001/sub021/varcopes/mni/model001/task001_varcope08.nii.gz /home/felice/results2/ds6/output/model01/task001/sub022/varcopes/mni/model001/task001_varcope08.nii.gz /home/felice/results2/ds6/output/model01/task001/sub023/varcopes/mni/model001/task001_varcope08.nii.gz /home/felice/results2/ds6/output/model01/task001/sub024/varcopes/mni/model001/task001_varcope08.nii.gz /home/felice/results2/ds6/output/model01/task001/sub025/varcopes/mni/model001/task001_varcope08.nii.gz /home/felice/results2/ds6/output/model01/task001/sub026/varcopes/mni/model001/task001_varcope08.nii.gz\n"
       ]
      },
      {
       "output_type": "stream",
       "stream": "stderr",
       "text": [
        "INFO:workflow:Executing node l2model in dir: /home/felice/workflow_folders/in_limbo_level2_felice_fsl/in_limbo_mixedfx/l2model\n"
       ]
      },
      {
       "output_type": "stream",
       "stream": "stderr",
       "text": [
        "INFO:workflow:Collecting precomputed outputs\n"
       ]
      },
      {
       "output_type": "stream",
       "stream": "stderr",
       "text": [
        "INFO:workflow:Executing node copemerge in dir: /home/felice/workflow_folders/in_limbo_level2_felice_fsl/copemerge\n"
       ]
      },
      {
       "output_type": "stream",
       "stream": "stderr",
       "text": [
        "INFO:workflow:Executing node _copemerge0 in dir: /home/felice/workflow_folders/in_limbo_level2_felice_fsl/copemerge/mapflow/_copemerge0\n"
       ]
      },
      {
       "output_type": "stream",
       "stream": "stderr",
       "text": [
        "INFO:workflow:Running: fslmerge -t task001_cope08_merged.nii.gz /home/felice/results2/ds6/output/model01/task001/sub001/copes/mni/model001/task001_cope08.nii.gz /home/felice/results2/ds6/output/model01/task001/sub002/copes/mni/model001/task001_cope08.nii.gz /home/felice/results2/ds6/output/model01/task001/sub003/copes/mni/model001/task001_cope08.nii.gz /home/felice/results2/ds6/output/model01/task001/sub004/copes/mni/model001/task001_cope08.nii.gz /home/felice/results2/ds6/output/model01/task001/sub005/copes/mni/model001/task001_cope08.nii.gz /home/felice/results2/ds6/output/model01/task001/sub006/copes/mni/model001/task001_cope08.nii.gz /home/felice/results2/ds6/output/model01/task001/sub007/copes/mni/model001/task001_cope08.nii.gz /home/felice/results2/ds6/output/model01/task001/sub008/copes/mni/model001/task001_cope08.nii.gz /home/felice/results2/ds6/output/model01/task001/sub009/copes/mni/model001/task001_cope08.nii.gz /home/felice/results2/ds6/output/model01/task001/sub010/copes/mni/model001/task001_cope08.nii.gz /home/felice/results2/ds6/output/model01/task001/sub011/copes/mni/model001/task001_cope08.nii.gz /home/felice/results2/ds6/output/model01/task001/sub012/copes/mni/model001/task001_cope08.nii.gz /home/felice/results2/ds6/output/model01/task001/sub013/copes/mni/model001/task001_cope08.nii.gz /home/felice/results2/ds6/output/model01/task001/sub014/copes/mni/model001/task001_cope08.nii.gz /home/felice/results2/ds6/output/model01/task001/sub015/copes/mni/model001/task001_cope08.nii.gz /home/felice/results2/ds6/output/model01/task001/sub016/copes/mni/model001/task001_cope08.nii.gz /home/felice/results2/ds6/output/model01/task001/sub017/copes/mni/model001/task001_cope08.nii.gz /home/felice/results2/ds6/output/model01/task001/sub018/copes/mni/model001/task001_cope08.nii.gz /home/felice/results2/ds6/output/model01/task001/sub019/copes/mni/model001/task001_cope08.nii.gz /home/felice/results2/ds6/output/model01/task001/sub020/copes/mni/model001/task001_cope08.nii.gz /home/felice/results2/ds6/output/model01/task001/sub021/copes/mni/model001/task001_cope08.nii.gz /home/felice/results2/ds6/output/model01/task001/sub022/copes/mni/model001/task001_cope08.nii.gz /home/felice/results2/ds6/output/model01/task001/sub023/copes/mni/model001/task001_cope08.nii.gz /home/felice/results2/ds6/output/model01/task001/sub024/copes/mni/model001/task001_cope08.nii.gz /home/felice/results2/ds6/output/model01/task001/sub025/copes/mni/model001/task001_cope08.nii.gz /home/felice/results2/ds6/output/model01/task001/sub026/copes/mni/model001/task001_cope08.nii.gz\n"
       ]
      },
      {
       "output_type": "stream",
       "stream": "stderr",
       "text": [
        "INFO:workflow:Executing node gendofvolume in dir: /home/felice/workflow_folders/in_limbo_level2_felice_fsl/gendofvolume\n"
       ]
      },
      {
       "output_type": "stream",
       "stream": "stderr",
       "text": [
        "INFO:workflow:Executing node flameo in dir: /home/felice/workflow_folders/in_limbo_level2_felice_fsl/flameo\n"
       ]
      },
      {
       "output_type": "stream",
       "stream": "stderr",
       "text": [
        "INFO:workflow:Executing node _flameo0 in dir: /home/felice/workflow_folders/in_limbo_level2_felice_fsl/flameo/mapflow/_flameo0\n"
       ]
      },
      {
       "output_type": "stream",
       "stream": "stderr",
       "text": [
        "INFO:workflow:Running: flameo --copefile=/home/felice/workflow_folders/in_limbo_level2_felice_fsl/copemerge/mapflow/_copemerge0/task001_cope08_merged.nii.gz --covsplitfile=/home/felice/workflow_folders/in_limbo_level2_felice_fsl/l2model/design.grp --designfile=/home/felice/workflow_folders/in_limbo_level2_felice_fsl/l2model/design.mat --dofvarcopefile=/home/felice/workflow_folders/in_limbo_level2_felice_fsl/gendofvolume/dof_file.nii.gz --ld=stats --maskfile=/usr/share/fsl/data/standard/MNI152_T1_2mm_brain_mask.nii.gz --runmode=flame1 --tcontrastsfile=/home/felice/workflow_folders/in_limbo_level2_felice_fsl/l2model/design.con --varcopefile=/home/felice/workflow_folders/in_limbo_level2_felice_fsl/varcopemerge/mapflow/_varcopemerge0/task001_varcope08_merged.nii.gz\n"
       ]
      },
      {
       "output_type": "stream",
       "stream": "stderr",
       "text": [
        "INFO:interface:stdout 2015-01-28T19:01:54.095372:Log directory is: stats\n"
       ]
      },
      {
       "output_type": "stream",
       "stream": "stderr",
       "text": [
        "INFO:interface:stdout 2015-01-28T19:01:54.096546:Setting up:\n"
       ]
      },
      {
       "output_type": "stream",
       "stream": "stderr",
       "text": [
        "INFO:interface:stdout 2015-01-28T19:01:55.393461:ntptsing=26.000000 \n"
       ]
      },
      {
       "output_type": "stream",
       "stream": "stderr",
       "text": [
        "INFO:interface:stdout 2015-01-28T19:01:55.393461:\n"
       ]
      },
      {
       "output_type": "stream",
       "stream": "stderr",
       "text": [
        "INFO:interface:stdout 2015-01-28T19:01:55.393461:evs_group=1.000000 \n"
       ]
      },
      {
       "output_type": "stream",
       "stream": "stderr",
       "text": [
        "INFO:interface:stdout 2015-01-28T19:01:55.393461:\n"
       ]
      },
      {
       "output_type": "stream",
       "stream": "stderr",
       "text": [
        "INFO:interface:stdout 2015-01-28T19:01:55.397808:No f contrasts\n"
       ]
      },
      {
       "output_type": "stream",
       "stream": "stderr",
       "text": [
        "INFO:interface:stdout 2015-01-28T19:01:55.413488:\n"
       ]
      },
      {
       "output_type": "stream",
       "stream": "stderr",
       "text": [
        "INFO:interface:stdout 2015-01-28T19:01:55.413488:WARNING: The passed in varcope file, /home/felice/workflow_folders/in_limbo_level2_felice_fsl/varcopemerge/mapflow/_varcopemerge0/task001_varcope08_merged.nii.gz, contains voxels inside the mask with zero (or negative) values. These voxels will be excluded from the analysis.\n"
       ]
      },
      {
       "output_type": "stream",
       "stream": "stderr",
       "text": [
        "INFO:interface:stdout 2015-01-28T19:01:55.420810:nevs=1\n"
       ]
      },
      {
       "output_type": "stream",
       "stream": "stderr",
       "text": [
        "INFO:interface:stdout 2015-01-28T19:01:55.420810:ntpts=26\n"
       ]
      },
      {
       "output_type": "stream",
       "stream": "stderr",
       "text": [
        "INFO:interface:stdout 2015-01-28T19:01:55.420810:ngs=1\n"
       ]
      },
      {
       "output_type": "stream",
       "stream": "stderr",
       "text": [
        "INFO:interface:stdout 2015-01-28T19:01:55.420810:nvoxels=0\n"
       ]
      },
      {
       "output_type": "stream",
       "stream": "stderr",
       "text": [
        "INFO:interface:stdout 2015-01-28T19:01:55.467011:Running:\n"
       ]
      },
      {
       "output_type": "stream",
       "stream": "stderr",
       "text": [
        "INFO:interface:stdout 2015-01-28T19:01:55.467011:nmaskvoxels=0\n"
       ]
      },
      {
       "output_type": "stream",
       "stream": "stderr",
       "text": [
        "INFO:interface:stdout 2015-01-28T19:01:55.476501:\n"
       ]
      },
      {
       "output_type": "stream",
       "stream": "stderr",
       "text": [
        "INFO:interface:stdout 2015-01-28T19:01:55.482721:nmaskvoxels=0\n"
       ]
      },
      {
       "output_type": "stream",
       "stream": "stderr",
       "text": [
        "INFO:interface:stdout 2015-01-28T19:01:55.482721:Saving results\n"
       ]
      },
      {
       "output_type": "stream",
       "stream": "stderr",
       "text": [
        "INFO:interface:stdout 2015-01-28T19:01:57.436794:\n"
       ]
      },
      {
       "output_type": "stream",
       "stream": "stderr",
       "text": [
        "INFO:interface:stdout 2015-01-28T19:01:57.436794:Log directory was: stats\n"
       ]
      },
      {
       "output_type": "stream",
       "stream": "stderr",
       "text": [
        "INFO:workflow:Executing node smooth_est in dir: /home/felice/workflow_folders/in_limbo_level2_felice_fsl/smooth_est\n"
       ]
      },
      {
       "output_type": "stream",
       "stream": "stderr",
       "text": [
        "INFO:workflow:Running: smoothest --mask=/usr/share/fsl/data/standard/MNI152_T1_2mm_brain_mask.nii.gz --zstat=/home/felice/workflow_folders/in_limbo_level2_felice_fsl/flameo/mapflow/_flameo0/stats/zstat1.nii.gz\n"
       ]
      },
      {
       "output_type": "stream",
       "stream": "stderr",
       "text": [
        "INFO:interface:stderr 2015-01-28T19:01:57.619511:WARNING: Extreme smoothness detected in X - possibly biased global estimate.\n"
       ]
      },
      {
       "output_type": "stream",
       "stream": "stderr",
       "text": [
        "INFO:interface:stderr 2015-01-28T19:01:57.619511:WARNING: Extreme smoothness detected in Y - possibly biased global estimate.\n"
       ]
      },
      {
       "output_type": "stream",
       "stream": "stderr",
       "text": [
        "INFO:interface:stderr 2015-01-28T19:01:57.619511:WARNING: Extreme smoothness detected in Z - possibly biased global estimate.\n"
       ]
      },
      {
       "output_type": "stream",
       "stream": "stderr",
       "text": [
        "INFO:interface:stdout 2015-01-28T19:01:57.621502:DLH nan\n"
       ]
      },
      {
       "output_type": "stream",
       "stream": "stderr",
       "text": [
        "INFO:interface:stdout 2015-01-28T19:01:57.621502:VOLUME 228483\n"
       ]
      },
      {
       "output_type": "stream",
       "stream": "stderr",
       "text": [
        "INFO:interface:stdout 2015-01-28T19:01:57.621502:RESELS nan\n"
       ]
      },
      {
       "output_type": "stream",
       "stream": "stderr",
       "text": [
        "INFO:workflow:Executing node cluster.aI.a2 in dir: /home/felice/workflow_folders/in_limbo_level2_felice_fsl/_threshold_2.7/cluster\n"
       ]
      },
      {
       "output_type": "stream",
       "stream": "stderr",
       "text": [
        "INFO:workflow:Running: cluster --dlh=nan --in=/home/felice/workflow_folders/in_limbo_level2_felice_fsl/flameo/mapflow/_flameo0/stats/zstat1.nii.gz --othresh=/home/felice/workflow_folders/in_limbo_level2_felice_fsl/_threshold_2.7/cluster/zstat1_threshold.nii.gz --thresh=2.7000000000\n"
       ]
      },
      {
       "output_type": "stream",
       "stream": "stderr",
       "text": [
        "INFO:interface:stdout 2015-01-28T19:01:57.773518:Cluster Index\tVoxels\tMAX\tMAX X (vox)\tMAX Y (vox)\tMAX Z (vox)\tCOG X (vox)\tCOG Y (vox)\tCOG Z (vox)\n"
       ]
      },
      {
       "output_type": "stream",
       "stream": "stderr",
       "text": [
        "INFO:workflow:Executing node get_comparison_voxel.a2 in dir: /home/felice/workflow_folders/in_limbo_level2_felice_fsl/_threshold_2.7/get_comparison_voxel\n"
       ]
      },
      {
       "output_type": "stream",
       "stream": "stderr",
       "text": [
        "INFO:workflow:Executing node get_min_value.a2 in dir: /home/felice/workflow_folders/in_limbo_level2_felice_fsl/_threshold_2.7/get_min_value\n"
       ]
      },
      {
       "output_type": "stream",
       "stream": "stderr",
       "text": [
        "INFO:workflow:Executing node _get_min_value0 in dir: /home/felice/workflow_folders/in_limbo_level2_felice_fsl/_threshold_2.7/get_min_value/mapflow/_get_min_value0\n"
       ]
      },
      {
       "output_type": "stream",
       "stream": "stderr",
       "text": [
        "INFO:workflow:Executing node _get_min_value1 in dir: /home/felice/workflow_folders/in_limbo_level2_felice_fsl/_threshold_2.7/get_min_value/mapflow/_get_min_value1\n"
       ]
      },
      {
       "output_type": "stream",
       "stream": "stderr",
       "text": [
        "INFO:workflow:Executing node _get_min_value2 in dir: /home/felice/workflow_folders/in_limbo_level2_felice_fsl/_threshold_2.7/get_min_value/mapflow/_get_min_value2\n"
       ]
      },
      {
       "output_type": "stream",
       "stream": "stderr",
       "text": [
        "INFO:workflow:Executing node _get_min_value3 in dir: /home/felice/workflow_folders/in_limbo_level2_felice_fsl/_threshold_2.7/get_min_value/mapflow/_get_min_value3\n"
       ]
      },
      {
       "output_type": "stream",
       "stream": "stderr",
       "text": [
        "INFO:workflow:Executing node _get_min_value4 in dir: /home/felice/workflow_folders/in_limbo_level2_felice_fsl/_threshold_2.7/get_min_value/mapflow/_get_min_value4\n"
       ]
      },
      {
       "output_type": "stream",
       "stream": "stderr",
       "text": [
        "INFO:workflow:Executing node _get_min_value5 in dir: /home/felice/workflow_folders/in_limbo_level2_felice_fsl/_threshold_2.7/get_min_value/mapflow/_get_min_value5\n"
       ]
      },
      {
       "output_type": "stream",
       "stream": "stderr",
       "text": [
        "INFO:workflow:Executing node _get_min_value6 in dir: /home/felice/workflow_folders/in_limbo_level2_felice_fsl/_threshold_2.7/get_min_value/mapflow/_get_min_value6\n"
       ]
      },
      {
       "output_type": "stream",
       "stream": "stderr",
       "text": [
        "INFO:workflow:Executing node _get_min_value7 in dir: /home/felice/workflow_folders/in_limbo_level2_felice_fsl/_threshold_2.7/get_min_value/mapflow/_get_min_value7\n"
       ]
      },
      {
       "output_type": "stream",
       "stream": "stderr",
       "text": [
        "INFO:workflow:Executing node _get_min_value8 in dir: /home/felice/workflow_folders/in_limbo_level2_felice_fsl/_threshold_2.7/get_min_value/mapflow/_get_min_value8\n"
       ]
      },
      {
       "output_type": "stream",
       "stream": "stderr",
       "text": [
        "INFO:workflow:Executing node _get_min_value9 in dir: /home/felice/workflow_folders/in_limbo_level2_felice_fsl/_threshold_2.7/get_min_value/mapflow/_get_min_value9\n"
       ]
      },
      {
       "output_type": "stream",
       "stream": "stderr",
       "text": [
        "INFO:workflow:Executing node _get_min_value10 in dir: /home/felice/workflow_folders/in_limbo_level2_felice_fsl/_threshold_2.7/get_min_value/mapflow/_get_min_value10\n"
       ]
      },
      {
       "output_type": "stream",
       "stream": "stderr",
       "text": [
        "INFO:workflow:Executing node _get_min_value11 in dir: /home/felice/workflow_folders/in_limbo_level2_felice_fsl/_threshold_2.7/get_min_value/mapflow/_get_min_value11\n"
       ]
      },
      {
       "output_type": "stream",
       "stream": "stderr",
       "text": [
        "INFO:workflow:Executing node _get_min_value12 in dir: /home/felice/workflow_folders/in_limbo_level2_felice_fsl/_threshold_2.7/get_min_value/mapflow/_get_min_value12\n"
       ]
      },
      {
       "output_type": "stream",
       "stream": "stderr",
       "text": [
        "INFO:workflow:Executing node _get_min_value13 in dir: /home/felice/workflow_folders/in_limbo_level2_felice_fsl/_threshold_2.7/get_min_value/mapflow/_get_min_value13\n"
       ]
      },
      {
       "output_type": "stream",
       "stream": "stderr",
       "text": [
        "INFO:workflow:Executing node _get_min_value14 in dir: /home/felice/workflow_folders/in_limbo_level2_felice_fsl/_threshold_2.7/get_min_value/mapflow/_get_min_value14\n"
       ]
      },
      {
       "output_type": "stream",
       "stream": "stderr",
       "text": [
        "INFO:workflow:Executing node _get_min_value15 in dir: /home/felice/workflow_folders/in_limbo_level2_felice_fsl/_threshold_2.7/get_min_value/mapflow/_get_min_value15\n"
       ]
      },
      {
       "output_type": "stream",
       "stream": "stderr",
       "text": [
        "INFO:workflow:Executing node _get_min_value16 in dir: /home/felice/workflow_folders/in_limbo_level2_felice_fsl/_threshold_2.7/get_min_value/mapflow/_get_min_value16\n"
       ]
      },
      {
       "output_type": "stream",
       "stream": "stderr",
       "text": [
        "INFO:workflow:Executing node _get_min_value17 in dir: /home/felice/workflow_folders/in_limbo_level2_felice_fsl/_threshold_2.7/get_min_value/mapflow/_get_min_value17\n"
       ]
      },
      {
       "output_type": "stream",
       "stream": "stderr",
       "text": [
        "INFO:workflow:Executing node _get_min_value18 in dir: /home/felice/workflow_folders/in_limbo_level2_felice_fsl/_threshold_2.7/get_min_value/mapflow/_get_min_value18\n"
       ]
      },
      {
       "output_type": "stream",
       "stream": "stderr",
       "text": [
        "INFO:workflow:Executing node _get_min_value19 in dir: /home/felice/workflow_folders/in_limbo_level2_felice_fsl/_threshold_2.7/get_min_value/mapflow/_get_min_value19\n"
       ]
      },
      {
       "output_type": "stream",
       "stream": "stderr",
       "text": [
        "INFO:workflow:Executing node _get_min_value20 in dir: /home/felice/workflow_folders/in_limbo_level2_felice_fsl/_threshold_2.7/get_min_value/mapflow/_get_min_value20\n"
       ]
      },
      {
       "output_type": "stream",
       "stream": "stderr",
       "text": [
        "INFO:workflow:Executing node _get_min_value21 in dir: /home/felice/workflow_folders/in_limbo_level2_felice_fsl/_threshold_2.7/get_min_value/mapflow/_get_min_value21\n"
       ]
      },
      {
       "output_type": "stream",
       "stream": "stderr",
       "text": [
        "INFO:workflow:Executing node _get_min_value22 in dir: /home/felice/workflow_folders/in_limbo_level2_felice_fsl/_threshold_2.7/get_min_value/mapflow/_get_min_value22\n"
       ]
      },
      {
       "output_type": "stream",
       "stream": "stderr",
       "text": [
        "INFO:workflow:Executing node _get_min_value23 in dir: /home/felice/workflow_folders/in_limbo_level2_felice_fsl/_threshold_2.7/get_min_value/mapflow/_get_min_value23\n"
       ]
      },
      {
       "output_type": "stream",
       "stream": "stderr",
       "text": [
        "INFO:workflow:Executing node _get_min_value24 in dir: /home/felice/workflow_folders/in_limbo_level2_felice_fsl/_threshold_2.7/get_min_value/mapflow/_get_min_value24\n"
       ]
      },
      {
       "output_type": "stream",
       "stream": "stderr",
       "text": [
        "INFO:workflow:Executing node _get_min_value25 in dir: /home/felice/workflow_folders/in_limbo_level2_felice_fsl/_threshold_2.7/get_min_value/mapflow/_get_min_value25\n"
       ]
      },
      {
       "output_type": "stream",
       "stream": "stderr",
       "text": [
        "INFO:workflow:Executing node subtract_from_cope.a2 in dir: /home/felice/workflow_folders/in_limbo_level2_felice_fsl/_threshold_2.7/subtract_from_cope\n"
       ]
      },
      {
       "output_type": "stream",
       "stream": "stderr",
       "text": [
        "INFO:workflow:Executing node _subtract_from_cope0 in dir: /home/felice/workflow_folders/in_limbo_level2_felice_fsl/_threshold_2.7/subtract_from_cope/mapflow/_subtract_from_cope0\n"
       ]
      },
      {
       "output_type": "stream",
       "stream": "stderr",
       "text": [
        "INFO:workflow:Executing node _subtract_from_cope1 in dir: /home/felice/workflow_folders/in_limbo_level2_felice_fsl/_threshold_2.7/subtract_from_cope/mapflow/_subtract_from_cope1\n"
       ]
      },
      {
       "output_type": "stream",
       "stream": "stderr",
       "text": [
        "INFO:workflow:Executing node _subtract_from_cope2 in dir: /home/felice/workflow_folders/in_limbo_level2_felice_fsl/_threshold_2.7/subtract_from_cope/mapflow/_subtract_from_cope2\n"
       ]
      },
      {
       "output_type": "stream",
       "stream": "stderr",
       "text": [
        "INFO:workflow:Executing node _subtract_from_cope3 in dir: /home/felice/workflow_folders/in_limbo_level2_felice_fsl/_threshold_2.7/subtract_from_cope/mapflow/_subtract_from_cope3\n"
       ]
      },
      {
       "output_type": "stream",
       "stream": "stderr",
       "text": [
        "INFO:workflow:Executing node _subtract_from_cope4 in dir: /home/felice/workflow_folders/in_limbo_level2_felice_fsl/_threshold_2.7/subtract_from_cope/mapflow/_subtract_from_cope4\n"
       ]
      },
      {
       "output_type": "stream",
       "stream": "stderr",
       "text": [
        "INFO:workflow:Executing node _subtract_from_cope5 in dir: /home/felice/workflow_folders/in_limbo_level2_felice_fsl/_threshold_2.7/subtract_from_cope/mapflow/_subtract_from_cope5\n"
       ]
      },
      {
       "output_type": "stream",
       "stream": "stderr",
       "text": [
        "INFO:workflow:Executing node _subtract_from_cope6 in dir: /home/felice/workflow_folders/in_limbo_level2_felice_fsl/_threshold_2.7/subtract_from_cope/mapflow/_subtract_from_cope6\n"
       ]
      },
      {
       "output_type": "stream",
       "stream": "stderr",
       "text": [
        "INFO:workflow:Executing node _subtract_from_cope7 in dir: /home/felice/workflow_folders/in_limbo_level2_felice_fsl/_threshold_2.7/subtract_from_cope/mapflow/_subtract_from_cope7\n"
       ]
      },
      {
       "output_type": "stream",
       "stream": "stderr",
       "text": [
        "INFO:workflow:Executing node _subtract_from_cope8 in dir: /home/felice/workflow_folders/in_limbo_level2_felice_fsl/_threshold_2.7/subtract_from_cope/mapflow/_subtract_from_cope8\n"
       ]
      },
      {
       "output_type": "stream",
       "stream": "stderr",
       "text": [
        "INFO:workflow:Executing node _subtract_from_cope9 in dir: /home/felice/workflow_folders/in_limbo_level2_felice_fsl/_threshold_2.7/subtract_from_cope/mapflow/_subtract_from_cope9\n"
       ]
      },
      {
       "output_type": "stream",
       "stream": "stderr",
       "text": [
        "INFO:workflow:Executing node _subtract_from_cope10 in dir: /home/felice/workflow_folders/in_limbo_level2_felice_fsl/_threshold_2.7/subtract_from_cope/mapflow/_subtract_from_cope10\n"
       ]
      },
      {
       "output_type": "stream",
       "stream": "stderr",
       "text": [
        "INFO:workflow:Executing node _subtract_from_cope11 in dir: /home/felice/workflow_folders/in_limbo_level2_felice_fsl/_threshold_2.7/subtract_from_cope/mapflow/_subtract_from_cope11\n"
       ]
      },
      {
       "output_type": "stream",
       "stream": "stderr",
       "text": [
        "INFO:workflow:Executing node _subtract_from_cope12 in dir: /home/felice/workflow_folders/in_limbo_level2_felice_fsl/_threshold_2.7/subtract_from_cope/mapflow/_subtract_from_cope12\n"
       ]
      },
      {
       "output_type": "stream",
       "stream": "stderr",
       "text": [
        "INFO:workflow:Executing node _subtract_from_cope13 in dir: /home/felice/workflow_folders/in_limbo_level2_felice_fsl/_threshold_2.7/subtract_from_cope/mapflow/_subtract_from_cope13\n"
       ]
      },
      {
       "output_type": "stream",
       "stream": "stderr",
       "text": [
        "INFO:workflow:Executing node _subtract_from_cope14 in dir: /home/felice/workflow_folders/in_limbo_level2_felice_fsl/_threshold_2.7/subtract_from_cope/mapflow/_subtract_from_cope14\n"
       ]
      },
      {
       "output_type": "stream",
       "stream": "stderr",
       "text": [
        "INFO:workflow:Executing node _subtract_from_cope15 in dir: /home/felice/workflow_folders/in_limbo_level2_felice_fsl/_threshold_2.7/subtract_from_cope/mapflow/_subtract_from_cope15\n"
       ]
      },
      {
       "output_type": "stream",
       "stream": "stderr",
       "text": [
        "INFO:workflow:Executing node _subtract_from_cope16 in dir: /home/felice/workflow_folders/in_limbo_level2_felice_fsl/_threshold_2.7/subtract_from_cope/mapflow/_subtract_from_cope16\n"
       ]
      },
      {
       "output_type": "stream",
       "stream": "stderr",
       "text": [
        "INFO:workflow:Executing node _subtract_from_cope17 in dir: /home/felice/workflow_folders/in_limbo_level2_felice_fsl/_threshold_2.7/subtract_from_cope/mapflow/_subtract_from_cope17\n"
       ]
      },
      {
       "output_type": "stream",
       "stream": "stderr",
       "text": [
        "INFO:workflow:Executing node _subtract_from_cope18 in dir: /home/felice/workflow_folders/in_limbo_level2_felice_fsl/_threshold_2.7/subtract_from_cope/mapflow/_subtract_from_cope18\n"
       ]
      },
      {
       "output_type": "stream",
       "stream": "stderr",
       "text": [
        "INFO:workflow:Executing node _subtract_from_cope19 in dir: /home/felice/workflow_folders/in_limbo_level2_felice_fsl/_threshold_2.7/subtract_from_cope/mapflow/_subtract_from_cope19\n"
       ]
      },
      {
       "output_type": "stream",
       "stream": "stderr",
       "text": [
        "INFO:workflow:Executing node _subtract_from_cope20 in dir: /home/felice/workflow_folders/in_limbo_level2_felice_fsl/_threshold_2.7/subtract_from_cope/mapflow/_subtract_from_cope20\n"
       ]
      },
      {
       "output_type": "stream",
       "stream": "stderr",
       "text": [
        "INFO:workflow:Executing node _subtract_from_cope21 in dir: /home/felice/workflow_folders/in_limbo_level2_felice_fsl/_threshold_2.7/subtract_from_cope/mapflow/_subtract_from_cope21\n"
       ]
      },
      {
       "output_type": "stream",
       "stream": "stderr",
       "text": [
        "INFO:workflow:Executing node _subtract_from_cope22 in dir: /home/felice/workflow_folders/in_limbo_level2_felice_fsl/_threshold_2.7/subtract_from_cope/mapflow/_subtract_from_cope22\n"
       ]
      },
      {
       "output_type": "stream",
       "stream": "stderr",
       "text": [
        "INFO:workflow:Executing node _subtract_from_cope23 in dir: /home/felice/workflow_folders/in_limbo_level2_felice_fsl/_threshold_2.7/subtract_from_cope/mapflow/_subtract_from_cope23\n"
       ]
      },
      {
       "output_type": "stream",
       "stream": "stderr",
       "text": [
        "INFO:workflow:Executing node _subtract_from_cope24 in dir: /home/felice/workflow_folders/in_limbo_level2_felice_fsl/_threshold_2.7/subtract_from_cope/mapflow/_subtract_from_cope24\n"
       ]
      },
      {
       "output_type": "stream",
       "stream": "stderr",
       "text": [
        "INFO:workflow:Executing node _subtract_from_cope25 in dir: /home/felice/workflow_folders/in_limbo_level2_felice_fsl/_threshold_2.7/subtract_from_cope/mapflow/_subtract_from_cope25\n"
       ]
      },
      {
       "output_type": "stream",
       "stream": "stderr",
       "text": [
        "INFO:workflow:Executing node copemerge.a2 in dir: /home/felice/workflow_folders/in_limbo_level2_felice_fsl/in_limbo_mixedfx/_threshold_2.7/copemerge\n"
       ]
      },
      {
       "output_type": "stream",
       "stream": "stderr",
       "text": [
        "INFO:workflow:Executing node _copemerge0 in dir: /home/felice/workflow_folders/in_limbo_level2_felice_fsl/in_limbo_mixedfx/_threshold_2.7/copemerge/mapflow/_copemerge0\n"
       ]
      },
      {
       "output_type": "stream",
       "stream": "stderr",
       "text": [
        "INFO:workflow:Running: fslmerge -t cope_in_limbo_merged.nii.gz /home/felice/workflow_folders/in_limbo_level2_felice_fsl/_threshold_2.7/subtract_from_cope/mapflow/_subtract_from_cope0/cope_in_limbo.nii.gz /home/felice/workflow_folders/in_limbo_level2_felice_fsl/_threshold_2.7/subtract_from_cope/mapflow/_subtract_from_cope1/cope_in_limbo.nii.gz /home/felice/workflow_folders/in_limbo_level2_felice_fsl/_threshold_2.7/subtract_from_cope/mapflow/_subtract_from_cope2/cope_in_limbo.nii.gz /home/felice/workflow_folders/in_limbo_level2_felice_fsl/_threshold_2.7/subtract_from_cope/mapflow/_subtract_from_cope3/cope_in_limbo.nii.gz /home/felice/workflow_folders/in_limbo_level2_felice_fsl/_threshold_2.7/subtract_from_cope/mapflow/_subtract_from_cope4/cope_in_limbo.nii.gz /home/felice/workflow_folders/in_limbo_level2_felice_fsl/_threshold_2.7/subtract_from_cope/mapflow/_subtract_from_cope5/cope_in_limbo.nii.gz /home/felice/workflow_folders/in_limbo_level2_felice_fsl/_threshold_2.7/subtract_from_cope/mapflow/_subtract_from_cope6/cope_in_limbo.nii.gz /home/felice/workflow_folders/in_limbo_level2_felice_fsl/_threshold_2.7/subtract_from_cope/mapflow/_subtract_from_cope7/cope_in_limbo.nii.gz /home/felice/workflow_folders/in_limbo_level2_felice_fsl/_threshold_2.7/subtract_from_cope/mapflow/_subtract_from_cope8/cope_in_limbo.nii.gz /home/felice/workflow_folders/in_limbo_level2_felice_fsl/_threshold_2.7/subtract_from_cope/mapflow/_subtract_from_cope9/cope_in_limbo.nii.gz /home/felice/workflow_folders/in_limbo_level2_felice_fsl/_threshold_2.7/subtract_from_cope/mapflow/_subtract_from_cope10/cope_in_limbo.nii.gz /home/felice/workflow_folders/in_limbo_level2_felice_fsl/_threshold_2.7/subtract_from_cope/mapflow/_subtract_from_cope11/cope_in_limbo.nii.gz /home/felice/workflow_folders/in_limbo_level2_felice_fsl/_threshold_2.7/subtract_from_cope/mapflow/_subtract_from_cope12/cope_in_limbo.nii.gz /home/felice/workflow_folders/in_limbo_level2_felice_fsl/_threshold_2.7/subtract_from_cope/mapflow/_subtract_from_cope13/cope_in_limbo.nii.gz /home/felice/workflow_folders/in_limbo_level2_felice_fsl/_threshold_2.7/subtract_from_cope/mapflow/_subtract_from_cope14/cope_in_limbo.nii.gz /home/felice/workflow_folders/in_limbo_level2_felice_fsl/_threshold_2.7/subtract_from_cope/mapflow/_subtract_from_cope15/cope_in_limbo.nii.gz /home/felice/workflow_folders/in_limbo_level2_felice_fsl/_threshold_2.7/subtract_from_cope/mapflow/_subtract_from_cope16/cope_in_limbo.nii.gz /home/felice/workflow_folders/in_limbo_level2_felice_fsl/_threshold_2.7/subtract_from_cope/mapflow/_subtract_from_cope17/cope_in_limbo.nii.gz /home/felice/workflow_folders/in_limbo_level2_felice_fsl/_threshold_2.7/subtract_from_cope/mapflow/_subtract_from_cope18/cope_in_limbo.nii.gz /home/felice/workflow_folders/in_limbo_level2_felice_fsl/_threshold_2.7/subtract_from_cope/mapflow/_subtract_from_cope19/cope_in_limbo.nii.gz /home/felice/workflow_folders/in_limbo_level2_felice_fsl/_threshold_2.7/subtract_from_cope/mapflow/_subtract_from_cope20/cope_in_limbo.nii.gz /home/felice/workflow_folders/in_limbo_level2_felice_fsl/_threshold_2.7/subtract_from_cope/mapflow/_subtract_from_cope21/cope_in_limbo.nii.gz /home/felice/workflow_folders/in_limbo_level2_felice_fsl/_threshold_2.7/subtract_from_cope/mapflow/_subtract_from_cope22/cope_in_limbo.nii.gz /home/felice/workflow_folders/in_limbo_level2_felice_fsl/_threshold_2.7/subtract_from_cope/mapflow/_subtract_from_cope23/cope_in_limbo.nii.gz /home/felice/workflow_folders/in_limbo_level2_felice_fsl/_threshold_2.7/subtract_from_cope/mapflow/_subtract_from_cope24/cope_in_limbo.nii.gz /home/felice/workflow_folders/in_limbo_level2_felice_fsl/_threshold_2.7/subtract_from_cope/mapflow/_subtract_from_cope25/cope_in_limbo.nii.gz\n"
       ]
      },
      {
       "output_type": "stream",
       "stream": "stderr",
       "text": [
        "INFO:workflow:Executing node gendofvolume.a2 in dir: /home/felice/workflow_folders/in_limbo_level2_felice_fsl/in_limbo_mixedfx/_threshold_2.7/gendofvolume\n"
       ]
      },
      {
       "output_type": "stream",
       "stream": "stderr",
       "text": [
        "INFO:workflow:Executing node flameo.a2 in dir: /home/felice/workflow_folders/in_limbo_level2_felice_fsl/in_limbo_mixedfx/_threshold_2.7/flameo\n"
       ]
      },
      {
       "output_type": "stream",
       "stream": "stderr",
       "text": [
        "INFO:workflow:Executing node _flameo0 in dir: /home/felice/workflow_folders/in_limbo_level2_felice_fsl/in_limbo_mixedfx/_threshold_2.7/flameo/mapflow/_flameo0\n"
       ]
      },
      {
       "output_type": "stream",
       "stream": "stderr",
       "text": [
        "INFO:workflow:Running: flameo --copefile=/home/felice/workflow_folders/in_limbo_level2_felice_fsl/in_limbo_mixedfx/_threshold_2.7/copemerge/mapflow/_copemerge0/cope_in_limbo_merged.nii.gz --covsplitfile=/home/felice/workflow_folders/in_limbo_level2_felice_fsl/in_limbo_mixedfx/l2model/design.grp --designfile=/home/felice/workflow_folders/in_limbo_level2_felice_fsl/in_limbo_mixedfx/l2model/design.mat --dofvarcopefile=/home/felice/workflow_folders/in_limbo_level2_felice_fsl/in_limbo_mixedfx/_threshold_2.7/gendofvolume/dof_file.nii.gz --ld=stats --maskfile=/usr/share/fsl/data/standard/MNI152_T1_2mm_brain_mask.nii.gz --runmode=fe --tcontrastsfile=/home/felice/workflow_folders/in_limbo_level2_felice_fsl/in_limbo_mixedfx/l2model/design.con --varcopefile=/home/felice/workflow_folders/in_limbo_level2_felice_fsl/in_limbo_mixedfx/varcopemerge/mapflow/_varcopemerge0/task001_varcope08_merged.nii.gz\n"
       ]
      },
      {
       "output_type": "stream",
       "stream": "stderr",
       "text": [
        "INFO:interface:stdout 2015-01-28T19:02:03.368129:Log directory is: stats\n"
       ]
      },
      {
       "output_type": "stream",
       "stream": "stderr",
       "text": [
        "INFO:interface:stdout 2015-01-28T19:02:03.369291:Setting up:\n"
       ]
      },
      {
       "output_type": "stream",
       "stream": "stderr",
       "text": [
        "INFO:interface:stdout 2015-01-28T19:02:04.561768:ntptsing=26.000000 \n"
       ]
      },
      {
       "output_type": "stream",
       "stream": "stderr",
       "text": [
        "INFO:interface:stdout 2015-01-28T19:02:04.561768:\n"
       ]
      },
      {
       "output_type": "stream",
       "stream": "stderr",
       "text": [
        "INFO:interface:stdout 2015-01-28T19:02:04.561768:evs_group=1.000000 \n"
       ]
      },
      {
       "output_type": "stream",
       "stream": "stderr",
       "text": [
        "INFO:interface:stdout 2015-01-28T19:02:04.561768:\n"
       ]
      },
      {
       "output_type": "stream",
       "stream": "stderr",
       "text": [
        "INFO:interface:stdout 2015-01-28T19:02:04.563848:No f contrasts\n"
       ]
      },
      {
       "output_type": "stream",
       "stream": "stderr",
       "text": [
        "INFO:interface:stdout 2015-01-28T19:02:04.582799:\n"
       ]
      },
      {
       "output_type": "stream",
       "stream": "stderr",
       "text": [
        "INFO:interface:stdout 2015-01-28T19:02:04.582799:WARNING: The passed in varcope file, /home/felice/workflow_folders/in_limbo_level2_felice_fsl/in_limbo_mixedfx/varcopemerge/mapflow/_varcopemerge0/task001_varcope08_merged.nii.gz, contains voxels inside the mask with zero (or negative) values. These voxels will be excluded from the analysis.\n"
       ]
      },
      {
       "output_type": "stream",
       "stream": "stderr",
       "text": [
        "INFO:interface:stdout 2015-01-28T19:02:04.589794:nevs=1\n"
       ]
      },
      {
       "output_type": "stream",
       "stream": "stderr",
       "text": [
        "INFO:interface:stdout 2015-01-28T19:02:04.589794:ntpts=26\n"
       ]
      },
      {
       "output_type": "stream",
       "stream": "stderr",
       "text": [
        "INFO:interface:stdout 2015-01-28T19:02:04.589794:ngs=1\n"
       ]
      },
      {
       "output_type": "stream",
       "stream": "stderr",
       "text": [
        "INFO:interface:stdout 2015-01-28T19:02:04.589794:nvoxels=0\n"
       ]
      },
      {
       "output_type": "stream",
       "stream": "stderr",
       "text": [
        "INFO:interface:stdout 2015-01-28T19:02:04.638986:Running:\n"
       ]
      },
      {
       "output_type": "stream",
       "stream": "stderr",
       "text": [
        "INFO:interface:stdout 2015-01-28T19:02:04.638986:nmaskvoxels=0\n"
       ]
      },
      {
       "output_type": "stream",
       "stream": "stderr",
       "text": [
        "INFO:interface:stdout 2015-01-28T19:02:04.645405:\n"
       ]
      },
      {
       "output_type": "stream",
       "stream": "stderr",
       "text": [
        "INFO:interface:stdout 2015-01-28T19:02:04.647368:Saving results\n"
       ]
      },
      {
       "output_type": "stream",
       "stream": "stderr",
       "text": [
        "INFO:interface:stdout 2015-01-28T19:02:06.790473:\n"
       ]
      },
      {
       "output_type": "stream",
       "stream": "stderr",
       "text": [
        "INFO:interface:stdout 2015-01-28T19:02:06.790473:Log directory was: stats\n"
       ]
      },
      {
       "output_type": "stream",
       "stream": "stderr",
       "text": [
        "INFO:workflow:Executing node in_limbo_mapper.a2 in dir: /home/felice/workflow_folders/in_limbo_level2_felice_fsl/_threshold_2.7/in_limbo_mapper\n"
       ]
      },
      {
       "output_type": "stream",
       "stream": "stderr",
       "text": [
        "INFO:workflow:Executing node datasink.a2 in dir: /home/felice/workflow_folders/in_limbo_level2_felice_fsl/_threshold_2.7/datasink\n"
       ]
      },
      {
       "output_type": "stream",
       "stream": "stderr",
       "text": [
        "INFO:workflow:Executing node cluster.aI.a4 in dir: /home/felice/workflow_folders/in_limbo_level2_felice_fsl/_threshold_3.1/cluster\n"
       ]
      },
      {
       "output_type": "stream",
       "stream": "stderr",
       "text": [
        "INFO:workflow:Running: cluster --dlh=nan --in=/home/felice/workflow_folders/in_limbo_level2_felice_fsl/flameo/mapflow/_flameo0/stats/zstat1.nii.gz --othresh=/home/felice/workflow_folders/in_limbo_level2_felice_fsl/_threshold_3.1/cluster/zstat1_threshold.nii.gz --thresh=3.1000000000\n"
       ]
      },
      {
       "output_type": "stream",
       "stream": "stderr",
       "text": [
        "INFO:interface:stdout 2015-01-28T19:02:07.075306:Cluster Index\tVoxels\tMAX\tMAX X (vox)\tMAX Y (vox)\tMAX Z (vox)\tCOG X (vox)\tCOG Y (vox)\tCOG Z (vox)\n"
       ]
      },
      {
       "output_type": "stream",
       "stream": "stderr",
       "text": [
        "INFO:workflow:Executing node cluster.aI.a8 in dir: /home/felice/workflow_folders/in_limbo_level2_felice_fsl/_threshold_3.9/cluster\n"
       ]
      },
      {
       "output_type": "stream",
       "stream": "stderr",
       "text": [
        "INFO:workflow:Running: cluster --dlh=nan --in=/home/felice/workflow_folders/in_limbo_level2_felice_fsl/flameo/mapflow/_flameo0/stats/zstat1.nii.gz --othresh=/home/felice/workflow_folders/in_limbo_level2_felice_fsl/_threshold_3.9/cluster/zstat1_threshold.nii.gz --thresh=3.9000000000\n"
       ]
      },
      {
       "output_type": "stream",
       "stream": "stderr",
       "text": [
        "INFO:interface:stdout 2015-01-28T19:02:07.276629:Cluster Index\tVoxels\tMAX\tMAX X (vox)\tMAX Y (vox)\tMAX Z (vox)\tCOG X (vox)\tCOG Y (vox)\tCOG Z (vox)\n"
       ]
      },
      {
       "output_type": "stream",
       "stream": "stderr",
       "text": [
        "INFO:workflow:Executing node cluster.aI.a7 in dir: /home/felice/workflow_folders/in_limbo_level2_felice_fsl/_threshold_3.7/cluster\n"
       ]
      },
      {
       "output_type": "stream",
       "stream": "stderr",
       "text": [
        "INFO:workflow:Running: cluster --dlh=nan --in=/home/felice/workflow_folders/in_limbo_level2_felice_fsl/flameo/mapflow/_flameo0/stats/zstat1.nii.gz --othresh=/home/felice/workflow_folders/in_limbo_level2_felice_fsl/_threshold_3.7/cluster/zstat1_threshold.nii.gz --thresh=3.7000000000\n"
       ]
      },
      {
       "output_type": "stream",
       "stream": "stderr",
       "text": [
        "INFO:interface:stdout 2015-01-28T19:02:07.472392:Cluster Index\tVoxels\tMAX\tMAX X (vox)\tMAX Y (vox)\tMAX Z (vox)\tCOG X (vox)\tCOG Y (vox)\tCOG Z (vox)\n"
       ]
      },
      {
       "output_type": "stream",
       "stream": "stderr",
       "text": [
        "INFO:workflow:Executing node cluster.aI.a3 in dir: /home/felice/workflow_folders/in_limbo_level2_felice_fsl/_threshold_2.9/cluster\n"
       ]
      },
      {
       "output_type": "stream",
       "stream": "stderr",
       "text": [
        "INFO:workflow:Running: cluster --dlh=nan --in=/home/felice/workflow_folders/in_limbo_level2_felice_fsl/flameo/mapflow/_flameo0/stats/zstat1.nii.gz --othresh=/home/felice/workflow_folders/in_limbo_level2_felice_fsl/_threshold_2.9/cluster/zstat1_threshold.nii.gz --thresh=2.9000000000\n"
       ]
      },
      {
       "output_type": "stream",
       "stream": "stderr",
       "text": [
        "INFO:interface:stdout 2015-01-28T19:02:07.690302:Cluster Index\tVoxels\tMAX\tMAX X (vox)\tMAX Y (vox)\tMAX Z (vox)\tCOG X (vox)\tCOG Y (vox)\tCOG Z (vox)\n"
       ]
      },
      {
       "output_type": "stream",
       "stream": "stderr",
       "text": [
        "INFO:workflow:Executing node get_comparison_voxel.a3 in dir: /home/felice/workflow_folders/in_limbo_level2_felice_fsl/_threshold_2.9/get_comparison_voxel\n"
       ]
      },
      {
       "output_type": "stream",
       "stream": "stderr",
       "text": [
        "INFO:workflow:Executing node get_min_value.a3 in dir: /home/felice/workflow_folders/in_limbo_level2_felice_fsl/_threshold_2.9/get_min_value\n"
       ]
      },
      {
       "output_type": "stream",
       "stream": "stderr",
       "text": [
        "INFO:workflow:Executing node _get_min_value0 in dir: /home/felice/workflow_folders/in_limbo_level2_felice_fsl/_threshold_2.9/get_min_value/mapflow/_get_min_value0\n"
       ]
      },
      {
       "output_type": "stream",
       "stream": "stderr",
       "text": [
        "INFO:workflow:Executing node _get_min_value1 in dir: /home/felice/workflow_folders/in_limbo_level2_felice_fsl/_threshold_2.9/get_min_value/mapflow/_get_min_value1\n"
       ]
      },
      {
       "output_type": "stream",
       "stream": "stderr",
       "text": [
        "INFO:workflow:Executing node _get_min_value2 in dir: /home/felice/workflow_folders/in_limbo_level2_felice_fsl/_threshold_2.9/get_min_value/mapflow/_get_min_value2\n"
       ]
      },
      {
       "output_type": "stream",
       "stream": "stderr",
       "text": [
        "INFO:workflow:Executing node _get_min_value3 in dir: /home/felice/workflow_folders/in_limbo_level2_felice_fsl/_threshold_2.9/get_min_value/mapflow/_get_min_value3\n"
       ]
      },
      {
       "output_type": "stream",
       "stream": "stderr",
       "text": [
        "INFO:workflow:Executing node _get_min_value4 in dir: /home/felice/workflow_folders/in_limbo_level2_felice_fsl/_threshold_2.9/get_min_value/mapflow/_get_min_value4\n"
       ]
      },
      {
       "output_type": "stream",
       "stream": "stderr",
       "text": [
        "INFO:workflow:Executing node _get_min_value5 in dir: /home/felice/workflow_folders/in_limbo_level2_felice_fsl/_threshold_2.9/get_min_value/mapflow/_get_min_value5\n"
       ]
      },
      {
       "output_type": "stream",
       "stream": "stderr",
       "text": [
        "INFO:workflow:Executing node _get_min_value6 in dir: /home/felice/workflow_folders/in_limbo_level2_felice_fsl/_threshold_2.9/get_min_value/mapflow/_get_min_value6\n"
       ]
      },
      {
       "output_type": "stream",
       "stream": "stderr",
       "text": [
        "INFO:workflow:Executing node _get_min_value7 in dir: /home/felice/workflow_folders/in_limbo_level2_felice_fsl/_threshold_2.9/get_min_value/mapflow/_get_min_value7\n"
       ]
      },
      {
       "output_type": "stream",
       "stream": "stderr",
       "text": [
        "INFO:workflow:Executing node _get_min_value8 in dir: /home/felice/workflow_folders/in_limbo_level2_felice_fsl/_threshold_2.9/get_min_value/mapflow/_get_min_value8\n"
       ]
      },
      {
       "output_type": "stream",
       "stream": "stderr",
       "text": [
        "INFO:workflow:Executing node _get_min_value9 in dir: /home/felice/workflow_folders/in_limbo_level2_felice_fsl/_threshold_2.9/get_min_value/mapflow/_get_min_value9\n"
       ]
      },
      {
       "output_type": "stream",
       "stream": "stderr",
       "text": [
        "INFO:workflow:Executing node _get_min_value10 in dir: /home/felice/workflow_folders/in_limbo_level2_felice_fsl/_threshold_2.9/get_min_value/mapflow/_get_min_value10\n"
       ]
      },
      {
       "output_type": "stream",
       "stream": "stderr",
       "text": [
        "INFO:workflow:Executing node _get_min_value11 in dir: /home/felice/workflow_folders/in_limbo_level2_felice_fsl/_threshold_2.9/get_min_value/mapflow/_get_min_value11\n"
       ]
      },
      {
       "output_type": "stream",
       "stream": "stderr",
       "text": [
        "INFO:workflow:Executing node _get_min_value12 in dir: /home/felice/workflow_folders/in_limbo_level2_felice_fsl/_threshold_2.9/get_min_value/mapflow/_get_min_value12\n"
       ]
      },
      {
       "output_type": "stream",
       "stream": "stderr",
       "text": [
        "INFO:workflow:Executing node _get_min_value13 in dir: /home/felice/workflow_folders/in_limbo_level2_felice_fsl/_threshold_2.9/get_min_value/mapflow/_get_min_value13\n"
       ]
      },
      {
       "output_type": "stream",
       "stream": "stderr",
       "text": [
        "INFO:workflow:Executing node _get_min_value14 in dir: /home/felice/workflow_folders/in_limbo_level2_felice_fsl/_threshold_2.9/get_min_value/mapflow/_get_min_value14\n"
       ]
      },
      {
       "output_type": "stream",
       "stream": "stderr",
       "text": [
        "INFO:workflow:Executing node _get_min_value15 in dir: /home/felice/workflow_folders/in_limbo_level2_felice_fsl/_threshold_2.9/get_min_value/mapflow/_get_min_value15\n"
       ]
      },
      {
       "output_type": "stream",
       "stream": "stderr",
       "text": [
        "INFO:workflow:Executing node _get_min_value16 in dir: /home/felice/workflow_folders/in_limbo_level2_felice_fsl/_threshold_2.9/get_min_value/mapflow/_get_min_value16\n"
       ]
      },
      {
       "output_type": "stream",
       "stream": "stderr",
       "text": [
        "INFO:workflow:Executing node _get_min_value17 in dir: /home/felice/workflow_folders/in_limbo_level2_felice_fsl/_threshold_2.9/get_min_value/mapflow/_get_min_value17\n"
       ]
      },
      {
       "output_type": "stream",
       "stream": "stderr",
       "text": [
        "INFO:workflow:Executing node _get_min_value18 in dir: /home/felice/workflow_folders/in_limbo_level2_felice_fsl/_threshold_2.9/get_min_value/mapflow/_get_min_value18\n"
       ]
      },
      {
       "output_type": "stream",
       "stream": "stderr",
       "text": [
        "INFO:workflow:Executing node _get_min_value19 in dir: /home/felice/workflow_folders/in_limbo_level2_felice_fsl/_threshold_2.9/get_min_value/mapflow/_get_min_value19\n"
       ]
      },
      {
       "output_type": "stream",
       "stream": "stderr",
       "text": [
        "INFO:workflow:Executing node _get_min_value20 in dir: /home/felice/workflow_folders/in_limbo_level2_felice_fsl/_threshold_2.9/get_min_value/mapflow/_get_min_value20\n"
       ]
      },
      {
       "output_type": "stream",
       "stream": "stderr",
       "text": [
        "INFO:workflow:Executing node _get_min_value21 in dir: /home/felice/workflow_folders/in_limbo_level2_felice_fsl/_threshold_2.9/get_min_value/mapflow/_get_min_value21\n"
       ]
      },
      {
       "output_type": "stream",
       "stream": "stderr",
       "text": [
        "INFO:workflow:Executing node _get_min_value22 in dir: /home/felice/workflow_folders/in_limbo_level2_felice_fsl/_threshold_2.9/get_min_value/mapflow/_get_min_value22\n"
       ]
      },
      {
       "output_type": "stream",
       "stream": "stderr",
       "text": [
        "INFO:workflow:Executing node _get_min_value23 in dir: /home/felice/workflow_folders/in_limbo_level2_felice_fsl/_threshold_2.9/get_min_value/mapflow/_get_min_value23\n"
       ]
      },
      {
       "output_type": "stream",
       "stream": "stderr",
       "text": [
        "INFO:workflow:Executing node _get_min_value24 in dir: /home/felice/workflow_folders/in_limbo_level2_felice_fsl/_threshold_2.9/get_min_value/mapflow/_get_min_value24\n"
       ]
      },
      {
       "output_type": "stream",
       "stream": "stderr",
       "text": [
        "INFO:workflow:Executing node _get_min_value25 in dir: /home/felice/workflow_folders/in_limbo_level2_felice_fsl/_threshold_2.9/get_min_value/mapflow/_get_min_value25\n"
       ]
      },
      {
       "output_type": "stream",
       "stream": "stderr",
       "text": [
        "INFO:workflow:Executing node subtract_from_cope.a3 in dir: /home/felice/workflow_folders/in_limbo_level2_felice_fsl/_threshold_2.9/subtract_from_cope\n"
       ]
      },
      {
       "output_type": "stream",
       "stream": "stderr",
       "text": [
        "INFO:workflow:Executing node _subtract_from_cope0 in dir: /home/felice/workflow_folders/in_limbo_level2_felice_fsl/_threshold_2.9/subtract_from_cope/mapflow/_subtract_from_cope0\n"
       ]
      },
      {
       "output_type": "stream",
       "stream": "stderr",
       "text": [
        "INFO:workflow:Executing node _subtract_from_cope1 in dir: /home/felice/workflow_folders/in_limbo_level2_felice_fsl/_threshold_2.9/subtract_from_cope/mapflow/_subtract_from_cope1\n"
       ]
      },
      {
       "output_type": "stream",
       "stream": "stderr",
       "text": [
        "INFO:workflow:Executing node _subtract_from_cope2 in dir: /home/felice/workflow_folders/in_limbo_level2_felice_fsl/_threshold_2.9/subtract_from_cope/mapflow/_subtract_from_cope2\n"
       ]
      },
      {
       "output_type": "stream",
       "stream": "stderr",
       "text": [
        "INFO:workflow:Executing node _subtract_from_cope3 in dir: /home/felice/workflow_folders/in_limbo_level2_felice_fsl/_threshold_2.9/subtract_from_cope/mapflow/_subtract_from_cope3\n"
       ]
      },
      {
       "output_type": "stream",
       "stream": "stderr",
       "text": [
        "INFO:workflow:Executing node _subtract_from_cope4 in dir: /home/felice/workflow_folders/in_limbo_level2_felice_fsl/_threshold_2.9/subtract_from_cope/mapflow/_subtract_from_cope4\n"
       ]
      },
      {
       "output_type": "stream",
       "stream": "stderr",
       "text": [
        "INFO:workflow:Executing node _subtract_from_cope5 in dir: /home/felice/workflow_folders/in_limbo_level2_felice_fsl/_threshold_2.9/subtract_from_cope/mapflow/_subtract_from_cope5\n"
       ]
      },
      {
       "output_type": "stream",
       "stream": "stderr",
       "text": [
        "INFO:workflow:Executing node _subtract_from_cope6 in dir: /home/felice/workflow_folders/in_limbo_level2_felice_fsl/_threshold_2.9/subtract_from_cope/mapflow/_subtract_from_cope6\n"
       ]
      },
      {
       "output_type": "stream",
       "stream": "stderr",
       "text": [
        "INFO:workflow:Executing node _subtract_from_cope7 in dir: /home/felice/workflow_folders/in_limbo_level2_felice_fsl/_threshold_2.9/subtract_from_cope/mapflow/_subtract_from_cope7\n"
       ]
      },
      {
       "output_type": "stream",
       "stream": "stderr",
       "text": [
        "INFO:workflow:Executing node _subtract_from_cope8 in dir: /home/felice/workflow_folders/in_limbo_level2_felice_fsl/_threshold_2.9/subtract_from_cope/mapflow/_subtract_from_cope8\n"
       ]
      },
      {
       "output_type": "stream",
       "stream": "stderr",
       "text": [
        "INFO:workflow:Executing node _subtract_from_cope9 in dir: /home/felice/workflow_folders/in_limbo_level2_felice_fsl/_threshold_2.9/subtract_from_cope/mapflow/_subtract_from_cope9\n"
       ]
      },
      {
       "output_type": "stream",
       "stream": "stderr",
       "text": [
        "INFO:workflow:Executing node _subtract_from_cope10 in dir: /home/felice/workflow_folders/in_limbo_level2_felice_fsl/_threshold_2.9/subtract_from_cope/mapflow/_subtract_from_cope10\n"
       ]
      },
      {
       "output_type": "stream",
       "stream": "stderr",
       "text": [
        "INFO:workflow:Executing node _subtract_from_cope11 in dir: /home/felice/workflow_folders/in_limbo_level2_felice_fsl/_threshold_2.9/subtract_from_cope/mapflow/_subtract_from_cope11\n"
       ]
      },
      {
       "output_type": "stream",
       "stream": "stderr",
       "text": [
        "INFO:workflow:Executing node _subtract_from_cope12 in dir: /home/felice/workflow_folders/in_limbo_level2_felice_fsl/_threshold_2.9/subtract_from_cope/mapflow/_subtract_from_cope12\n"
       ]
      },
      {
       "output_type": "stream",
       "stream": "stderr",
       "text": [
        "INFO:workflow:Executing node _subtract_from_cope13 in dir: /home/felice/workflow_folders/in_limbo_level2_felice_fsl/_threshold_2.9/subtract_from_cope/mapflow/_subtract_from_cope13\n"
       ]
      },
      {
       "output_type": "stream",
       "stream": "stderr",
       "text": [
        "INFO:workflow:Executing node _subtract_from_cope14 in dir: /home/felice/workflow_folders/in_limbo_level2_felice_fsl/_threshold_2.9/subtract_from_cope/mapflow/_subtract_from_cope14\n"
       ]
      },
      {
       "output_type": "stream",
       "stream": "stderr",
       "text": [
        "INFO:workflow:Executing node _subtract_from_cope15 in dir: /home/felice/workflow_folders/in_limbo_level2_felice_fsl/_threshold_2.9/subtract_from_cope/mapflow/_subtract_from_cope15\n"
       ]
      },
      {
       "output_type": "stream",
       "stream": "stderr",
       "text": [
        "INFO:workflow:Executing node _subtract_from_cope16 in dir: /home/felice/workflow_folders/in_limbo_level2_felice_fsl/_threshold_2.9/subtract_from_cope/mapflow/_subtract_from_cope16\n"
       ]
      },
      {
       "output_type": "stream",
       "stream": "stderr",
       "text": [
        "INFO:workflow:Executing node _subtract_from_cope17 in dir: /home/felice/workflow_folders/in_limbo_level2_felice_fsl/_threshold_2.9/subtract_from_cope/mapflow/_subtract_from_cope17\n"
       ]
      },
      {
       "output_type": "stream",
       "stream": "stderr",
       "text": [
        "INFO:workflow:Executing node _subtract_from_cope18 in dir: /home/felice/workflow_folders/in_limbo_level2_felice_fsl/_threshold_2.9/subtract_from_cope/mapflow/_subtract_from_cope18\n"
       ]
      },
      {
       "output_type": "stream",
       "stream": "stderr",
       "text": [
        "INFO:workflow:Executing node _subtract_from_cope19 in dir: /home/felice/workflow_folders/in_limbo_level2_felice_fsl/_threshold_2.9/subtract_from_cope/mapflow/_subtract_from_cope19\n"
       ]
      },
      {
       "output_type": "stream",
       "stream": "stderr",
       "text": [
        "INFO:workflow:Executing node _subtract_from_cope20 in dir: /home/felice/workflow_folders/in_limbo_level2_felice_fsl/_threshold_2.9/subtract_from_cope/mapflow/_subtract_from_cope20\n"
       ]
      },
      {
       "output_type": "stream",
       "stream": "stderr",
       "text": [
        "INFO:workflow:Executing node _subtract_from_cope21 in dir: /home/felice/workflow_folders/in_limbo_level2_felice_fsl/_threshold_2.9/subtract_from_cope/mapflow/_subtract_from_cope21\n"
       ]
      },
      {
       "output_type": "stream",
       "stream": "stderr",
       "text": [
        "INFO:workflow:Executing node _subtract_from_cope22 in dir: /home/felice/workflow_folders/in_limbo_level2_felice_fsl/_threshold_2.9/subtract_from_cope/mapflow/_subtract_from_cope22\n"
       ]
      },
      {
       "output_type": "stream",
       "stream": "stderr",
       "text": [
        "INFO:workflow:Executing node _subtract_from_cope23 in dir: /home/felice/workflow_folders/in_limbo_level2_felice_fsl/_threshold_2.9/subtract_from_cope/mapflow/_subtract_from_cope23\n"
       ]
      },
      {
       "output_type": "stream",
       "stream": "stderr",
       "text": [
        "INFO:workflow:Executing node _subtract_from_cope24 in dir: /home/felice/workflow_folders/in_limbo_level2_felice_fsl/_threshold_2.9/subtract_from_cope/mapflow/_subtract_from_cope24\n"
       ]
      },
      {
       "output_type": "stream",
       "stream": "stderr",
       "text": [
        "INFO:workflow:Executing node _subtract_from_cope25 in dir: /home/felice/workflow_folders/in_limbo_level2_felice_fsl/_threshold_2.9/subtract_from_cope/mapflow/_subtract_from_cope25\n"
       ]
      },
      {
       "output_type": "stream",
       "stream": "stderr",
       "text": [
        "INFO:workflow:Executing node copemerge.a3 in dir: /home/felice/workflow_folders/in_limbo_level2_felice_fsl/in_limbo_mixedfx/_threshold_2.9/copemerge\n"
       ]
      },
      {
       "output_type": "stream",
       "stream": "stderr",
       "text": [
        "INFO:workflow:Executing node _copemerge0 in dir: /home/felice/workflow_folders/in_limbo_level2_felice_fsl/in_limbo_mixedfx/_threshold_2.9/copemerge/mapflow/_copemerge0\n"
       ]
      },
      {
       "output_type": "stream",
       "stream": "stderr",
       "text": [
        "INFO:workflow:Running: fslmerge -t cope_in_limbo_merged.nii.gz /home/felice/workflow_folders/in_limbo_level2_felice_fsl/_threshold_2.9/subtract_from_cope/mapflow/_subtract_from_cope0/cope_in_limbo.nii.gz /home/felice/workflow_folders/in_limbo_level2_felice_fsl/_threshold_2.9/subtract_from_cope/mapflow/_subtract_from_cope1/cope_in_limbo.nii.gz /home/felice/workflow_folders/in_limbo_level2_felice_fsl/_threshold_2.9/subtract_from_cope/mapflow/_subtract_from_cope2/cope_in_limbo.nii.gz /home/felice/workflow_folders/in_limbo_level2_felice_fsl/_threshold_2.9/subtract_from_cope/mapflow/_subtract_from_cope3/cope_in_limbo.nii.gz /home/felice/workflow_folders/in_limbo_level2_felice_fsl/_threshold_2.9/subtract_from_cope/mapflow/_subtract_from_cope4/cope_in_limbo.nii.gz /home/felice/workflow_folders/in_limbo_level2_felice_fsl/_threshold_2.9/subtract_from_cope/mapflow/_subtract_from_cope5/cope_in_limbo.nii.gz /home/felice/workflow_folders/in_limbo_level2_felice_fsl/_threshold_2.9/subtract_from_cope/mapflow/_subtract_from_cope6/cope_in_limbo.nii.gz /home/felice/workflow_folders/in_limbo_level2_felice_fsl/_threshold_2.9/subtract_from_cope/mapflow/_subtract_from_cope7/cope_in_limbo.nii.gz /home/felice/workflow_folders/in_limbo_level2_felice_fsl/_threshold_2.9/subtract_from_cope/mapflow/_subtract_from_cope8/cope_in_limbo.nii.gz /home/felice/workflow_folders/in_limbo_level2_felice_fsl/_threshold_2.9/subtract_from_cope/mapflow/_subtract_from_cope9/cope_in_limbo.nii.gz /home/felice/workflow_folders/in_limbo_level2_felice_fsl/_threshold_2.9/subtract_from_cope/mapflow/_subtract_from_cope10/cope_in_limbo.nii.gz /home/felice/workflow_folders/in_limbo_level2_felice_fsl/_threshold_2.9/subtract_from_cope/mapflow/_subtract_from_cope11/cope_in_limbo.nii.gz /home/felice/workflow_folders/in_limbo_level2_felice_fsl/_threshold_2.9/subtract_from_cope/mapflow/_subtract_from_cope12/cope_in_limbo.nii.gz /home/felice/workflow_folders/in_limbo_level2_felice_fsl/_threshold_2.9/subtract_from_cope/mapflow/_subtract_from_cope13/cope_in_limbo.nii.gz /home/felice/workflow_folders/in_limbo_level2_felice_fsl/_threshold_2.9/subtract_from_cope/mapflow/_subtract_from_cope14/cope_in_limbo.nii.gz /home/felice/workflow_folders/in_limbo_level2_felice_fsl/_threshold_2.9/subtract_from_cope/mapflow/_subtract_from_cope15/cope_in_limbo.nii.gz /home/felice/workflow_folders/in_limbo_level2_felice_fsl/_threshold_2.9/subtract_from_cope/mapflow/_subtract_from_cope16/cope_in_limbo.nii.gz /home/felice/workflow_folders/in_limbo_level2_felice_fsl/_threshold_2.9/subtract_from_cope/mapflow/_subtract_from_cope17/cope_in_limbo.nii.gz /home/felice/workflow_folders/in_limbo_level2_felice_fsl/_threshold_2.9/subtract_from_cope/mapflow/_subtract_from_cope18/cope_in_limbo.nii.gz /home/felice/workflow_folders/in_limbo_level2_felice_fsl/_threshold_2.9/subtract_from_cope/mapflow/_subtract_from_cope19/cope_in_limbo.nii.gz /home/felice/workflow_folders/in_limbo_level2_felice_fsl/_threshold_2.9/subtract_from_cope/mapflow/_subtract_from_cope20/cope_in_limbo.nii.gz /home/felice/workflow_folders/in_limbo_level2_felice_fsl/_threshold_2.9/subtract_from_cope/mapflow/_subtract_from_cope21/cope_in_limbo.nii.gz /home/felice/workflow_folders/in_limbo_level2_felice_fsl/_threshold_2.9/subtract_from_cope/mapflow/_subtract_from_cope22/cope_in_limbo.nii.gz /home/felice/workflow_folders/in_limbo_level2_felice_fsl/_threshold_2.9/subtract_from_cope/mapflow/_subtract_from_cope23/cope_in_limbo.nii.gz /home/felice/workflow_folders/in_limbo_level2_felice_fsl/_threshold_2.9/subtract_from_cope/mapflow/_subtract_from_cope24/cope_in_limbo.nii.gz /home/felice/workflow_folders/in_limbo_level2_felice_fsl/_threshold_2.9/subtract_from_cope/mapflow/_subtract_from_cope25/cope_in_limbo.nii.gz\n"
       ]
      },
      {
       "output_type": "stream",
       "stream": "stderr",
       "text": [
        "INFO:workflow:Executing node gendofvolume.a3 in dir: /home/felice/workflow_folders/in_limbo_level2_felice_fsl/in_limbo_mixedfx/_threshold_2.9/gendofvolume\n"
       ]
      },
      {
       "output_type": "stream",
       "stream": "stderr",
       "text": [
        "INFO:workflow:Executing node flameo.a3 in dir: /home/felice/workflow_folders/in_limbo_level2_felice_fsl/in_limbo_mixedfx/_threshold_2.9/flameo\n"
       ]
      },
      {
       "output_type": "stream",
       "stream": "stderr",
       "text": [
        "INFO:workflow:Executing node _flameo0 in dir: /home/felice/workflow_folders/in_limbo_level2_felice_fsl/in_limbo_mixedfx/_threshold_2.9/flameo/mapflow/_flameo0\n"
       ]
      },
      {
       "output_type": "stream",
       "stream": "stderr",
       "text": [
        "INFO:workflow:Running: flameo --copefile=/home/felice/workflow_folders/in_limbo_level2_felice_fsl/in_limbo_mixedfx/_threshold_2.9/copemerge/mapflow/_copemerge0/cope_in_limbo_merged.nii.gz --covsplitfile=/home/felice/workflow_folders/in_limbo_level2_felice_fsl/in_limbo_mixedfx/l2model/design.grp --designfile=/home/felice/workflow_folders/in_limbo_level2_felice_fsl/in_limbo_mixedfx/l2model/design.mat --dofvarcopefile=/home/felice/workflow_folders/in_limbo_level2_felice_fsl/in_limbo_mixedfx/_threshold_2.9/gendofvolume/dof_file.nii.gz --ld=stats --maskfile=/usr/share/fsl/data/standard/MNI152_T1_2mm_brain_mask.nii.gz --runmode=fe --tcontrastsfile=/home/felice/workflow_folders/in_limbo_level2_felice_fsl/in_limbo_mixedfx/l2model/design.con --varcopefile=/home/felice/workflow_folders/in_limbo_level2_felice_fsl/in_limbo_mixedfx/varcopemerge/mapflow/_varcopemerge0/task001_varcope08_merged.nii.gz\n"
       ]
      },
      {
       "output_type": "stream",
       "stream": "stderr",
       "text": [
        "INFO:interface:stdout 2015-01-28T19:02:13.352251:Log directory is: stats\n"
       ]
      },
      {
       "output_type": "stream",
       "stream": "stderr",
       "text": [
        "INFO:interface:stdout 2015-01-28T19:02:13.354155:Setting up:\n"
       ]
      },
      {
       "output_type": "stream",
       "stream": "stderr",
       "text": [
        "INFO:interface:stdout 2015-01-28T19:02:14.558298:ntptsing=26.000000 \n"
       ]
      },
      {
       "output_type": "stream",
       "stream": "stderr",
       "text": [
        "INFO:interface:stdout 2015-01-28T19:02:14.558298:\n"
       ]
      },
      {
       "output_type": "stream",
       "stream": "stderr",
       "text": [
        "INFO:interface:stdout 2015-01-28T19:02:14.558298:evs_group=1.000000 \n"
       ]
      },
      {
       "output_type": "stream",
       "stream": "stderr",
       "text": [
        "INFO:interface:stdout 2015-01-28T19:02:14.558298:\n"
       ]
      },
      {
       "output_type": "stream",
       "stream": "stderr",
       "text": [
        "INFO:interface:stdout 2015-01-28T19:02:14.562807:No f contrasts\n"
       ]
      },
      {
       "output_type": "stream",
       "stream": "stderr",
       "text": [
        "INFO:interface:stdout 2015-01-28T19:02:14.578127:\n"
       ]
      },
      {
       "output_type": "stream",
       "stream": "stderr",
       "text": [
        "INFO:interface:stdout 2015-01-28T19:02:14.578127:WARNING: The passed in varcope file, /home/felice/workflow_folders/in_limbo_level2_felice_fsl/in_limbo_mixedfx/varcopemerge/mapflow/_varcopemerge0/task001_varcope08_merged.nii.gz, contains voxels inside the mask with zero (or negative) values. These voxels will be excluded from the analysis.\n"
       ]
      },
      {
       "output_type": "stream",
       "stream": "stderr",
       "text": [
        "INFO:interface:stdout 2015-01-28T19:02:14.587230:nevs=1\n"
       ]
      },
      {
       "output_type": "stream",
       "stream": "stderr",
       "text": [
        "INFO:interface:stdout 2015-01-28T19:02:14.587230:ntpts=26\n"
       ]
      },
      {
       "output_type": "stream",
       "stream": "stderr",
       "text": [
        "INFO:interface:stdout 2015-01-28T19:02:14.587230:ngs=1\n"
       ]
      },
      {
       "output_type": "stream",
       "stream": "stderr",
       "text": [
        "INFO:interface:stdout 2015-01-28T19:02:14.587230:nvoxels=0\n"
       ]
      },
      {
       "output_type": "stream",
       "stream": "stderr",
       "text": [
        "INFO:interface:stdout 2015-01-28T19:02:14.634698:Running:\n"
       ]
      },
      {
       "output_type": "stream",
       "stream": "stderr",
       "text": [
        "INFO:interface:stdout 2015-01-28T19:02:14.634698:nmaskvoxels=0\n"
       ]
      },
      {
       "output_type": "stream",
       "stream": "stderr",
       "text": [
        "INFO:interface:stdout 2015-01-28T19:02:14.641554:\n"
       ]
      },
      {
       "output_type": "stream",
       "stream": "stderr",
       "text": [
        "INFO:interface:stdout 2015-01-28T19:02:14.641554:Saving results\n"
       ]
      },
      {
       "output_type": "stream",
       "stream": "stderr",
       "text": [
        "INFO:interface:stdout 2015-01-28T19:02:16.724503:\n"
       ]
      },
      {
       "output_type": "stream",
       "stream": "stderr",
       "text": [
        "INFO:interface:stdout 2015-01-28T19:02:16.724503:Log directory was: stats\n"
       ]
      },
      {
       "output_type": "stream",
       "stream": "stderr",
       "text": [
        "INFO:workflow:Executing node in_limbo_mapper.a3 in dir: /home/felice/workflow_folders/in_limbo_level2_felice_fsl/_threshold_2.9/in_limbo_mapper\n"
       ]
      },
      {
       "output_type": "stream",
       "stream": "stderr",
       "text": [
        "INFO:workflow:Executing node datasink.a3 in dir: /home/felice/workflow_folders/in_limbo_level2_felice_fsl/_threshold_2.9/datasink\n"
       ]
      },
      {
       "output_type": "stream",
       "stream": "stderr",
       "text": [
        "INFO:workflow:Executing node cluster.aI.a6 in dir: /home/felice/workflow_folders/in_limbo_level2_felice_fsl/_threshold_3.5/cluster\n"
       ]
      },
      {
       "output_type": "stream",
       "stream": "stderr",
       "text": [
        "INFO:workflow:Running: cluster --dlh=nan --in=/home/felice/workflow_folders/in_limbo_level2_felice_fsl/flameo/mapflow/_flameo0/stats/zstat1.nii.gz --othresh=/home/felice/workflow_folders/in_limbo_level2_felice_fsl/_threshold_3.5/cluster/zstat1_threshold.nii.gz --thresh=3.5000000000\n"
       ]
      },
      {
       "output_type": "stream",
       "stream": "stderr",
       "text": [
        "INFO:interface:stdout 2015-01-28T19:02:17.004834:Cluster Index\tVoxels\tMAX\tMAX X (vox)\tMAX Y (vox)\tMAX Z (vox)\tCOG X (vox)\tCOG Y (vox)\tCOG Z (vox)\n"
       ]
      },
      {
       "output_type": "stream",
       "stream": "stderr",
       "text": [
        "INFO:workflow:Executing node get_comparison_voxel.a6 in dir: /home/felice/workflow_folders/in_limbo_level2_felice_fsl/_threshold_3.5/get_comparison_voxel\n"
       ]
      },
      {
       "output_type": "stream",
       "stream": "stderr",
       "text": [
        "INFO:workflow:Executing node get_min_value.a6 in dir: /home/felice/workflow_folders/in_limbo_level2_felice_fsl/_threshold_3.5/get_min_value\n"
       ]
      },
      {
       "output_type": "stream",
       "stream": "stderr",
       "text": [
        "INFO:workflow:Executing node _get_min_value0 in dir: /home/felice/workflow_folders/in_limbo_level2_felice_fsl/_threshold_3.5/get_min_value/mapflow/_get_min_value0\n"
       ]
      },
      {
       "output_type": "stream",
       "stream": "stderr",
       "text": [
        "INFO:workflow:Executing node _get_min_value1 in dir: /home/felice/workflow_folders/in_limbo_level2_felice_fsl/_threshold_3.5/get_min_value/mapflow/_get_min_value1\n"
       ]
      },
      {
       "output_type": "stream",
       "stream": "stderr",
       "text": [
        "INFO:workflow:Executing node _get_min_value2 in dir: /home/felice/workflow_folders/in_limbo_level2_felice_fsl/_threshold_3.5/get_min_value/mapflow/_get_min_value2\n"
       ]
      },
      {
       "output_type": "stream",
       "stream": "stderr",
       "text": [
        "INFO:workflow:Executing node _get_min_value3 in dir: /home/felice/workflow_folders/in_limbo_level2_felice_fsl/_threshold_3.5/get_min_value/mapflow/_get_min_value3\n"
       ]
      },
      {
       "output_type": "stream",
       "stream": "stderr",
       "text": [
        "INFO:workflow:Executing node _get_min_value4 in dir: /home/felice/workflow_folders/in_limbo_level2_felice_fsl/_threshold_3.5/get_min_value/mapflow/_get_min_value4\n"
       ]
      },
      {
       "output_type": "stream",
       "stream": "stderr",
       "text": [
        "INFO:workflow:Executing node _get_min_value5 in dir: /home/felice/workflow_folders/in_limbo_level2_felice_fsl/_threshold_3.5/get_min_value/mapflow/_get_min_value5\n"
       ]
      },
      {
       "output_type": "stream",
       "stream": "stderr",
       "text": [
        "INFO:workflow:Executing node _get_min_value6 in dir: /home/felice/workflow_folders/in_limbo_level2_felice_fsl/_threshold_3.5/get_min_value/mapflow/_get_min_value6\n"
       ]
      },
      {
       "output_type": "stream",
       "stream": "stderr",
       "text": [
        "INFO:workflow:Executing node _get_min_value7 in dir: /home/felice/workflow_folders/in_limbo_level2_felice_fsl/_threshold_3.5/get_min_value/mapflow/_get_min_value7\n"
       ]
      },
      {
       "output_type": "stream",
       "stream": "stderr",
       "text": [
        "INFO:workflow:Executing node _get_min_value8 in dir: /home/felice/workflow_folders/in_limbo_level2_felice_fsl/_threshold_3.5/get_min_value/mapflow/_get_min_value8\n"
       ]
      },
      {
       "output_type": "stream",
       "stream": "stderr",
       "text": [
        "INFO:workflow:Executing node _get_min_value9 in dir: /home/felice/workflow_folders/in_limbo_level2_felice_fsl/_threshold_3.5/get_min_value/mapflow/_get_min_value9\n"
       ]
      },
      {
       "output_type": "stream",
       "stream": "stderr",
       "text": [
        "INFO:workflow:Executing node _get_min_value10 in dir: /home/felice/workflow_folders/in_limbo_level2_felice_fsl/_threshold_3.5/get_min_value/mapflow/_get_min_value10\n"
       ]
      },
      {
       "output_type": "stream",
       "stream": "stderr",
       "text": [
        "INFO:workflow:Executing node _get_min_value11 in dir: /home/felice/workflow_folders/in_limbo_level2_felice_fsl/_threshold_3.5/get_min_value/mapflow/_get_min_value11\n"
       ]
      },
      {
       "output_type": "stream",
       "stream": "stderr",
       "text": [
        "INFO:workflow:Executing node _get_min_value12 in dir: /home/felice/workflow_folders/in_limbo_level2_felice_fsl/_threshold_3.5/get_min_value/mapflow/_get_min_value12\n"
       ]
      },
      {
       "output_type": "stream",
       "stream": "stderr",
       "text": [
        "INFO:workflow:Executing node _get_min_value13 in dir: /home/felice/workflow_folders/in_limbo_level2_felice_fsl/_threshold_3.5/get_min_value/mapflow/_get_min_value13\n"
       ]
      },
      {
       "output_type": "stream",
       "stream": "stderr",
       "text": [
        "INFO:workflow:Executing node _get_min_value14 in dir: /home/felice/workflow_folders/in_limbo_level2_felice_fsl/_threshold_3.5/get_min_value/mapflow/_get_min_value14\n"
       ]
      },
      {
       "output_type": "stream",
       "stream": "stderr",
       "text": [
        "INFO:workflow:Executing node _get_min_value15 in dir: /home/felice/workflow_folders/in_limbo_level2_felice_fsl/_threshold_3.5/get_min_value/mapflow/_get_min_value15\n"
       ]
      },
      {
       "output_type": "stream",
       "stream": "stderr",
       "text": [
        "INFO:workflow:Executing node _get_min_value16 in dir: /home/felice/workflow_folders/in_limbo_level2_felice_fsl/_threshold_3.5/get_min_value/mapflow/_get_min_value16\n"
       ]
      },
      {
       "output_type": "stream",
       "stream": "stderr",
       "text": [
        "INFO:workflow:Executing node _get_min_value17 in dir: /home/felice/workflow_folders/in_limbo_level2_felice_fsl/_threshold_3.5/get_min_value/mapflow/_get_min_value17\n"
       ]
      },
      {
       "output_type": "stream",
       "stream": "stderr",
       "text": [
        "INFO:workflow:Executing node _get_min_value18 in dir: /home/felice/workflow_folders/in_limbo_level2_felice_fsl/_threshold_3.5/get_min_value/mapflow/_get_min_value18\n"
       ]
      },
      {
       "output_type": "stream",
       "stream": "stderr",
       "text": [
        "INFO:workflow:Executing node _get_min_value19 in dir: /home/felice/workflow_folders/in_limbo_level2_felice_fsl/_threshold_3.5/get_min_value/mapflow/_get_min_value19\n"
       ]
      },
      {
       "output_type": "stream",
       "stream": "stderr",
       "text": [
        "INFO:workflow:Executing node _get_min_value20 in dir: /home/felice/workflow_folders/in_limbo_level2_felice_fsl/_threshold_3.5/get_min_value/mapflow/_get_min_value20\n"
       ]
      },
      {
       "output_type": "stream",
       "stream": "stderr",
       "text": [
        "INFO:workflow:Executing node _get_min_value21 in dir: /home/felice/workflow_folders/in_limbo_level2_felice_fsl/_threshold_3.5/get_min_value/mapflow/_get_min_value21\n"
       ]
      },
      {
       "output_type": "stream",
       "stream": "stderr",
       "text": [
        "INFO:workflow:Executing node _get_min_value22 in dir: /home/felice/workflow_folders/in_limbo_level2_felice_fsl/_threshold_3.5/get_min_value/mapflow/_get_min_value22\n"
       ]
      },
      {
       "output_type": "stream",
       "stream": "stderr",
       "text": [
        "INFO:workflow:Executing node _get_min_value23 in dir: /home/felice/workflow_folders/in_limbo_level2_felice_fsl/_threshold_3.5/get_min_value/mapflow/_get_min_value23\n"
       ]
      },
      {
       "output_type": "stream",
       "stream": "stderr",
       "text": [
        "INFO:workflow:Executing node _get_min_value24 in dir: /home/felice/workflow_folders/in_limbo_level2_felice_fsl/_threshold_3.5/get_min_value/mapflow/_get_min_value24\n"
       ]
      },
      {
       "output_type": "stream",
       "stream": "stderr",
       "text": [
        "INFO:workflow:Executing node _get_min_value25 in dir: /home/felice/workflow_folders/in_limbo_level2_felice_fsl/_threshold_3.5/get_min_value/mapflow/_get_min_value25\n"
       ]
      },
      {
       "output_type": "stream",
       "stream": "stderr",
       "text": [
        "INFO:workflow:Executing node subtract_from_cope.a6 in dir: /home/felice/workflow_folders/in_limbo_level2_felice_fsl/_threshold_3.5/subtract_from_cope\n"
       ]
      },
      {
       "output_type": "stream",
       "stream": "stderr",
       "text": [
        "INFO:workflow:Executing node _subtract_from_cope0 in dir: /home/felice/workflow_folders/in_limbo_level2_felice_fsl/_threshold_3.5/subtract_from_cope/mapflow/_subtract_from_cope0\n"
       ]
      },
      {
       "output_type": "stream",
       "stream": "stderr",
       "text": [
        "INFO:workflow:Executing node _subtract_from_cope1 in dir: /home/felice/workflow_folders/in_limbo_level2_felice_fsl/_threshold_3.5/subtract_from_cope/mapflow/_subtract_from_cope1\n"
       ]
      },
      {
       "output_type": "stream",
       "stream": "stderr",
       "text": [
        "INFO:workflow:Executing node _subtract_from_cope2 in dir: /home/felice/workflow_folders/in_limbo_level2_felice_fsl/_threshold_3.5/subtract_from_cope/mapflow/_subtract_from_cope2\n"
       ]
      },
      {
       "output_type": "stream",
       "stream": "stderr",
       "text": [
        "INFO:workflow:Executing node _subtract_from_cope3 in dir: /home/felice/workflow_folders/in_limbo_level2_felice_fsl/_threshold_3.5/subtract_from_cope/mapflow/_subtract_from_cope3\n"
       ]
      },
      {
       "output_type": "stream",
       "stream": "stderr",
       "text": [
        "INFO:workflow:Executing node _subtract_from_cope4 in dir: /home/felice/workflow_folders/in_limbo_level2_felice_fsl/_threshold_3.5/subtract_from_cope/mapflow/_subtract_from_cope4\n"
       ]
      },
      {
       "output_type": "stream",
       "stream": "stderr",
       "text": [
        "INFO:workflow:Executing node _subtract_from_cope5 in dir: /home/felice/workflow_folders/in_limbo_level2_felice_fsl/_threshold_3.5/subtract_from_cope/mapflow/_subtract_from_cope5\n"
       ]
      },
      {
       "output_type": "stream",
       "stream": "stderr",
       "text": [
        "INFO:workflow:Executing node _subtract_from_cope6 in dir: /home/felice/workflow_folders/in_limbo_level2_felice_fsl/_threshold_3.5/subtract_from_cope/mapflow/_subtract_from_cope6\n"
       ]
      },
      {
       "output_type": "stream",
       "stream": "stderr",
       "text": [
        "INFO:workflow:Executing node _subtract_from_cope7 in dir: /home/felice/workflow_folders/in_limbo_level2_felice_fsl/_threshold_3.5/subtract_from_cope/mapflow/_subtract_from_cope7\n"
       ]
      },
      {
       "output_type": "stream",
       "stream": "stderr",
       "text": [
        "INFO:workflow:Executing node _subtract_from_cope8 in dir: /home/felice/workflow_folders/in_limbo_level2_felice_fsl/_threshold_3.5/subtract_from_cope/mapflow/_subtract_from_cope8\n"
       ]
      },
      {
       "output_type": "stream",
       "stream": "stderr",
       "text": [
        "INFO:workflow:Executing node _subtract_from_cope9 in dir: /home/felice/workflow_folders/in_limbo_level2_felice_fsl/_threshold_3.5/subtract_from_cope/mapflow/_subtract_from_cope9\n"
       ]
      },
      {
       "output_type": "stream",
       "stream": "stderr",
       "text": [
        "INFO:workflow:Executing node _subtract_from_cope10 in dir: /home/felice/workflow_folders/in_limbo_level2_felice_fsl/_threshold_3.5/subtract_from_cope/mapflow/_subtract_from_cope10\n"
       ]
      },
      {
       "output_type": "stream",
       "stream": "stderr",
       "text": [
        "INFO:workflow:Executing node _subtract_from_cope11 in dir: /home/felice/workflow_folders/in_limbo_level2_felice_fsl/_threshold_3.5/subtract_from_cope/mapflow/_subtract_from_cope11\n"
       ]
      },
      {
       "output_type": "stream",
       "stream": "stderr",
       "text": [
        "INFO:workflow:Executing node _subtract_from_cope12 in dir: /home/felice/workflow_folders/in_limbo_level2_felice_fsl/_threshold_3.5/subtract_from_cope/mapflow/_subtract_from_cope12\n"
       ]
      },
      {
       "output_type": "stream",
       "stream": "stderr",
       "text": [
        "INFO:workflow:Executing node _subtract_from_cope13 in dir: /home/felice/workflow_folders/in_limbo_level2_felice_fsl/_threshold_3.5/subtract_from_cope/mapflow/_subtract_from_cope13\n"
       ]
      },
      {
       "output_type": "stream",
       "stream": "stderr",
       "text": [
        "INFO:workflow:Executing node _subtract_from_cope14 in dir: /home/felice/workflow_folders/in_limbo_level2_felice_fsl/_threshold_3.5/subtract_from_cope/mapflow/_subtract_from_cope14\n"
       ]
      },
      {
       "output_type": "stream",
       "stream": "stderr",
       "text": [
        "INFO:workflow:Executing node _subtract_from_cope15 in dir: /home/felice/workflow_folders/in_limbo_level2_felice_fsl/_threshold_3.5/subtract_from_cope/mapflow/_subtract_from_cope15\n"
       ]
      },
      {
       "output_type": "stream",
       "stream": "stderr",
       "text": [
        "INFO:workflow:Executing node _subtract_from_cope16 in dir: /home/felice/workflow_folders/in_limbo_level2_felice_fsl/_threshold_3.5/subtract_from_cope/mapflow/_subtract_from_cope16\n"
       ]
      },
      {
       "output_type": "stream",
       "stream": "stderr",
       "text": [
        "INFO:workflow:Executing node _subtract_from_cope17 in dir: /home/felice/workflow_folders/in_limbo_level2_felice_fsl/_threshold_3.5/subtract_from_cope/mapflow/_subtract_from_cope17\n"
       ]
      },
      {
       "output_type": "stream",
       "stream": "stderr",
       "text": [
        "INFO:workflow:Executing node _subtract_from_cope18 in dir: /home/felice/workflow_folders/in_limbo_level2_felice_fsl/_threshold_3.5/subtract_from_cope/mapflow/_subtract_from_cope18\n"
       ]
      },
      {
       "output_type": "stream",
       "stream": "stderr",
       "text": [
        "INFO:workflow:Executing node _subtract_from_cope19 in dir: /home/felice/workflow_folders/in_limbo_level2_felice_fsl/_threshold_3.5/subtract_from_cope/mapflow/_subtract_from_cope19\n"
       ]
      },
      {
       "output_type": "stream",
       "stream": "stderr",
       "text": [
        "INFO:workflow:Executing node _subtract_from_cope20 in dir: /home/felice/workflow_folders/in_limbo_level2_felice_fsl/_threshold_3.5/subtract_from_cope/mapflow/_subtract_from_cope20\n"
       ]
      },
      {
       "output_type": "stream",
       "stream": "stderr",
       "text": [
        "INFO:workflow:Executing node _subtract_from_cope21 in dir: /home/felice/workflow_folders/in_limbo_level2_felice_fsl/_threshold_3.5/subtract_from_cope/mapflow/_subtract_from_cope21\n"
       ]
      },
      {
       "output_type": "stream",
       "stream": "stderr",
       "text": [
        "INFO:workflow:Executing node _subtract_from_cope22 in dir: /home/felice/workflow_folders/in_limbo_level2_felice_fsl/_threshold_3.5/subtract_from_cope/mapflow/_subtract_from_cope22\n"
       ]
      },
      {
       "output_type": "stream",
       "stream": "stderr",
       "text": [
        "INFO:workflow:Executing node _subtract_from_cope23 in dir: /home/felice/workflow_folders/in_limbo_level2_felice_fsl/_threshold_3.5/subtract_from_cope/mapflow/_subtract_from_cope23\n"
       ]
      },
      {
       "output_type": "stream",
       "stream": "stderr",
       "text": [
        "INFO:workflow:Executing node _subtract_from_cope24 in dir: /home/felice/workflow_folders/in_limbo_level2_felice_fsl/_threshold_3.5/subtract_from_cope/mapflow/_subtract_from_cope24\n"
       ]
      },
      {
       "output_type": "stream",
       "stream": "stderr",
       "text": [
        "INFO:workflow:Executing node _subtract_from_cope25 in dir: /home/felice/workflow_folders/in_limbo_level2_felice_fsl/_threshold_3.5/subtract_from_cope/mapflow/_subtract_from_cope25\n"
       ]
      },
      {
       "output_type": "stream",
       "stream": "stderr",
       "text": [
        "INFO:workflow:Executing node copemerge.a6 in dir: /home/felice/workflow_folders/in_limbo_level2_felice_fsl/in_limbo_mixedfx/_threshold_3.5/copemerge\n"
       ]
      },
      {
       "output_type": "stream",
       "stream": "stderr",
       "text": [
        "INFO:workflow:Executing node _copemerge0 in dir: /home/felice/workflow_folders/in_limbo_level2_felice_fsl/in_limbo_mixedfx/_threshold_3.5/copemerge/mapflow/_copemerge0\n"
       ]
      },
      {
       "output_type": "stream",
       "stream": "stderr",
       "text": [
        "INFO:workflow:Running: fslmerge -t cope_in_limbo_merged.nii.gz /home/felice/workflow_folders/in_limbo_level2_felice_fsl/_threshold_3.5/subtract_from_cope/mapflow/_subtract_from_cope0/cope_in_limbo.nii.gz /home/felice/workflow_folders/in_limbo_level2_felice_fsl/_threshold_3.5/subtract_from_cope/mapflow/_subtract_from_cope1/cope_in_limbo.nii.gz /home/felice/workflow_folders/in_limbo_level2_felice_fsl/_threshold_3.5/subtract_from_cope/mapflow/_subtract_from_cope2/cope_in_limbo.nii.gz /home/felice/workflow_folders/in_limbo_level2_felice_fsl/_threshold_3.5/subtract_from_cope/mapflow/_subtract_from_cope3/cope_in_limbo.nii.gz /home/felice/workflow_folders/in_limbo_level2_felice_fsl/_threshold_3.5/subtract_from_cope/mapflow/_subtract_from_cope4/cope_in_limbo.nii.gz /home/felice/workflow_folders/in_limbo_level2_felice_fsl/_threshold_3.5/subtract_from_cope/mapflow/_subtract_from_cope5/cope_in_limbo.nii.gz /home/felice/workflow_folders/in_limbo_level2_felice_fsl/_threshold_3.5/subtract_from_cope/mapflow/_subtract_from_cope6/cope_in_limbo.nii.gz /home/felice/workflow_folders/in_limbo_level2_felice_fsl/_threshold_3.5/subtract_from_cope/mapflow/_subtract_from_cope7/cope_in_limbo.nii.gz /home/felice/workflow_folders/in_limbo_level2_felice_fsl/_threshold_3.5/subtract_from_cope/mapflow/_subtract_from_cope8/cope_in_limbo.nii.gz /home/felice/workflow_folders/in_limbo_level2_felice_fsl/_threshold_3.5/subtract_from_cope/mapflow/_subtract_from_cope9/cope_in_limbo.nii.gz /home/felice/workflow_folders/in_limbo_level2_felice_fsl/_threshold_3.5/subtract_from_cope/mapflow/_subtract_from_cope10/cope_in_limbo.nii.gz /home/felice/workflow_folders/in_limbo_level2_felice_fsl/_threshold_3.5/subtract_from_cope/mapflow/_subtract_from_cope11/cope_in_limbo.nii.gz /home/felice/workflow_folders/in_limbo_level2_felice_fsl/_threshold_3.5/subtract_from_cope/mapflow/_subtract_from_cope12/cope_in_limbo.nii.gz /home/felice/workflow_folders/in_limbo_level2_felice_fsl/_threshold_3.5/subtract_from_cope/mapflow/_subtract_from_cope13/cope_in_limbo.nii.gz /home/felice/workflow_folders/in_limbo_level2_felice_fsl/_threshold_3.5/subtract_from_cope/mapflow/_subtract_from_cope14/cope_in_limbo.nii.gz /home/felice/workflow_folders/in_limbo_level2_felice_fsl/_threshold_3.5/subtract_from_cope/mapflow/_subtract_from_cope15/cope_in_limbo.nii.gz /home/felice/workflow_folders/in_limbo_level2_felice_fsl/_threshold_3.5/subtract_from_cope/mapflow/_subtract_from_cope16/cope_in_limbo.nii.gz /home/felice/workflow_folders/in_limbo_level2_felice_fsl/_threshold_3.5/subtract_from_cope/mapflow/_subtract_from_cope17/cope_in_limbo.nii.gz /home/felice/workflow_folders/in_limbo_level2_felice_fsl/_threshold_3.5/subtract_from_cope/mapflow/_subtract_from_cope18/cope_in_limbo.nii.gz /home/felice/workflow_folders/in_limbo_level2_felice_fsl/_threshold_3.5/subtract_from_cope/mapflow/_subtract_from_cope19/cope_in_limbo.nii.gz /home/felice/workflow_folders/in_limbo_level2_felice_fsl/_threshold_3.5/subtract_from_cope/mapflow/_subtract_from_cope20/cope_in_limbo.nii.gz /home/felice/workflow_folders/in_limbo_level2_felice_fsl/_threshold_3.5/subtract_from_cope/mapflow/_subtract_from_cope21/cope_in_limbo.nii.gz /home/felice/workflow_folders/in_limbo_level2_felice_fsl/_threshold_3.5/subtract_from_cope/mapflow/_subtract_from_cope22/cope_in_limbo.nii.gz /home/felice/workflow_folders/in_limbo_level2_felice_fsl/_threshold_3.5/subtract_from_cope/mapflow/_subtract_from_cope23/cope_in_limbo.nii.gz /home/felice/workflow_folders/in_limbo_level2_felice_fsl/_threshold_3.5/subtract_from_cope/mapflow/_subtract_from_cope24/cope_in_limbo.nii.gz /home/felice/workflow_folders/in_limbo_level2_felice_fsl/_threshold_3.5/subtract_from_cope/mapflow/_subtract_from_cope25/cope_in_limbo.nii.gz\n"
       ]
      },
      {
       "output_type": "stream",
       "stream": "stderr",
       "text": [
        "INFO:workflow:Executing node gendofvolume.a6 in dir: /home/felice/workflow_folders/in_limbo_level2_felice_fsl/in_limbo_mixedfx/_threshold_3.5/gendofvolume\n"
       ]
      },
      {
       "output_type": "stream",
       "stream": "stderr",
       "text": [
        "INFO:workflow:Executing node flameo.a6 in dir: /home/felice/workflow_folders/in_limbo_level2_felice_fsl/in_limbo_mixedfx/_threshold_3.5/flameo\n"
       ]
      },
      {
       "output_type": "stream",
       "stream": "stderr",
       "text": [
        "INFO:workflow:Executing node _flameo0 in dir: /home/felice/workflow_folders/in_limbo_level2_felice_fsl/in_limbo_mixedfx/_threshold_3.5/flameo/mapflow/_flameo0\n"
       ]
      },
      {
       "output_type": "stream",
       "stream": "stderr",
       "text": [
        "INFO:workflow:Running: flameo --copefile=/home/felice/workflow_folders/in_limbo_level2_felice_fsl/in_limbo_mixedfx/_threshold_3.5/copemerge/mapflow/_copemerge0/cope_in_limbo_merged.nii.gz --covsplitfile=/home/felice/workflow_folders/in_limbo_level2_felice_fsl/in_limbo_mixedfx/l2model/design.grp --designfile=/home/felice/workflow_folders/in_limbo_level2_felice_fsl/in_limbo_mixedfx/l2model/design.mat --dofvarcopefile=/home/felice/workflow_folders/in_limbo_level2_felice_fsl/in_limbo_mixedfx/_threshold_3.5/gendofvolume/dof_file.nii.gz --ld=stats --maskfile=/usr/share/fsl/data/standard/MNI152_T1_2mm_brain_mask.nii.gz --runmode=fe --tcontrastsfile=/home/felice/workflow_folders/in_limbo_level2_felice_fsl/in_limbo_mixedfx/l2model/design.con --varcopefile=/home/felice/workflow_folders/in_limbo_level2_felice_fsl/in_limbo_mixedfx/varcopemerge/mapflow/_varcopemerge0/task001_varcope08_merged.nii.gz\n"
       ]
      },
      {
       "output_type": "stream",
       "stream": "stderr",
       "text": [
        "INFO:interface:stdout 2015-01-28T19:02:22.675668:Log directory is: stats\n"
       ]
      },
      {
       "output_type": "stream",
       "stream": "stderr",
       "text": [
        "INFO:interface:stdout 2015-01-28T19:02:22.677757:Setting up:\n"
       ]
      },
      {
       "output_type": "stream",
       "stream": "stderr",
       "text": [
        "INFO:interface:stdout 2015-01-28T19:02:23.892161:ntptsing=26.000000 \n"
       ]
      },
      {
       "output_type": "stream",
       "stream": "stderr",
       "text": [
        "INFO:interface:stdout 2015-01-28T19:02:23.892161:\n"
       ]
      },
      {
       "output_type": "stream",
       "stream": "stderr",
       "text": [
        "INFO:interface:stdout 2015-01-28T19:02:23.892161:evs_group=1.000000 \n"
       ]
      },
      {
       "output_type": "stream",
       "stream": "stderr",
       "text": [
        "INFO:interface:stdout 2015-01-28T19:02:23.892161:\n"
       ]
      },
      {
       "output_type": "stream",
       "stream": "stderr",
       "text": [
        "INFO:interface:stdout 2015-01-28T19:02:23.895186:No f contrasts\n"
       ]
      },
      {
       "output_type": "stream",
       "stream": "stderr",
       "text": [
        "INFO:interface:stdout 2015-01-28T19:02:23.916599:\n"
       ]
      },
      {
       "output_type": "stream",
       "stream": "stderr",
       "text": [
        "INFO:interface:stdout 2015-01-28T19:02:23.916599:WARNING: The passed in varcope file, /home/felice/workflow_folders/in_limbo_level2_felice_fsl/in_limbo_mixedfx/varcopemerge/mapflow/_varcopemerge0/task001_varcope08_merged.nii.gz, contains voxels inside the mask with zero (or negative) values. These voxels will be excluded from the analysis.\n"
       ]
      },
      {
       "output_type": "stream",
       "stream": "stderr",
       "text": [
        "INFO:interface:stdout 2015-01-28T19:02:23.927008:nevs=1\n"
       ]
      },
      {
       "output_type": "stream",
       "stream": "stderr",
       "text": [
        "INFO:interface:stdout 2015-01-28T19:02:23.931781:ntpts=26\n"
       ]
      },
      {
       "output_type": "stream",
       "stream": "stderr",
       "text": [
        "INFO:interface:stdout 2015-01-28T19:02:23.931781:ngs=1\n"
       ]
      },
      {
       "output_type": "stream",
       "stream": "stderr",
       "text": [
        "INFO:interface:stdout 2015-01-28T19:02:23.931781:nvoxels=0\n"
       ]
      },
      {
       "output_type": "stream",
       "stream": "stderr",
       "text": [
        "INFO:interface:stdout 2015-01-28T19:02:23.986820:Running:\n"
       ]
      },
      {
       "output_type": "stream",
       "stream": "stderr",
       "text": [
        "INFO:interface:stdout 2015-01-28T19:02:23.986820:nmaskvoxels=0\n"
       ]
      },
      {
       "output_type": "stream",
       "stream": "stderr",
       "text": [
        "INFO:interface:stdout 2015-01-28T19:02:23.996485:\n"
       ]
      },
      {
       "output_type": "stream",
       "stream": "stderr",
       "text": [
        "INFO:interface:stdout 2015-01-28T19:02:23.996485:Saving results\n"
       ]
      },
      {
       "output_type": "stream",
       "stream": "stderr",
       "text": [
        "INFO:interface:stdout 2015-01-28T19:02:26.286069:\n"
       ]
      },
      {
       "output_type": "stream",
       "stream": "stderr",
       "text": [
        "INFO:interface:stdout 2015-01-28T19:02:26.286069:Log directory was: stats\n"
       ]
      },
      {
       "output_type": "stream",
       "stream": "stderr",
       "text": [
        "INFO:workflow:Executing node in_limbo_mapper.a6 in dir: /home/felice/workflow_folders/in_limbo_level2_felice_fsl/_threshold_3.5/in_limbo_mapper\n"
       ]
      },
      {
       "output_type": "stream",
       "stream": "stderr",
       "text": [
        "INFO:workflow:Executing node datasink.a6 in dir: /home/felice/workflow_folders/in_limbo_level2_felice_fsl/_threshold_3.5/datasink\n"
       ]
      },
      {
       "output_type": "stream",
       "stream": "stderr",
       "text": [
        "INFO:workflow:Executing node cluster.aI.a5 in dir: /home/felice/workflow_folders/in_limbo_level2_felice_fsl/_threshold_3.3/cluster\n"
       ]
      },
      {
       "output_type": "stream",
       "stream": "stderr",
       "text": [
        "INFO:workflow:Running: cluster --dlh=nan --in=/home/felice/workflow_folders/in_limbo_level2_felice_fsl/flameo/mapflow/_flameo0/stats/zstat1.nii.gz --othresh=/home/felice/workflow_folders/in_limbo_level2_felice_fsl/_threshold_3.3/cluster/zstat1_threshold.nii.gz --thresh=3.3000000000\n"
       ]
      },
      {
       "output_type": "stream",
       "stream": "stderr",
       "text": [
        "INFO:interface:stdout 2015-01-28T19:02:26.595452:Cluster Index\tVoxels\tMAX\tMAX X (vox)\tMAX Y (vox)\tMAX Z (vox)\tCOG X (vox)\tCOG Y (vox)\tCOG Z (vox)\n"
       ]
      },
      {
       "output_type": "stream",
       "stream": "stderr",
       "text": [
        "INFO:workflow:Executing node get_comparison_voxel.a5 in dir: /home/felice/workflow_folders/in_limbo_level2_felice_fsl/_threshold_3.3/get_comparison_voxel\n"
       ]
      },
      {
       "output_type": "stream",
       "stream": "stderr",
       "text": [
        "INFO:workflow:Executing node get_min_value.a5 in dir: /home/felice/workflow_folders/in_limbo_level2_felice_fsl/_threshold_3.3/get_min_value\n"
       ]
      },
      {
       "output_type": "stream",
       "stream": "stderr",
       "text": [
        "INFO:workflow:Executing node _get_min_value0 in dir: /home/felice/workflow_folders/in_limbo_level2_felice_fsl/_threshold_3.3/get_min_value/mapflow/_get_min_value0\n"
       ]
      },
      {
       "output_type": "stream",
       "stream": "stderr",
       "text": [
        "INFO:workflow:Executing node _get_min_value1 in dir: /home/felice/workflow_folders/in_limbo_level2_felice_fsl/_threshold_3.3/get_min_value/mapflow/_get_min_value1\n"
       ]
      },
      {
       "output_type": "stream",
       "stream": "stderr",
       "text": [
        "INFO:workflow:Executing node _get_min_value2 in dir: /home/felice/workflow_folders/in_limbo_level2_felice_fsl/_threshold_3.3/get_min_value/mapflow/_get_min_value2\n"
       ]
      },
      {
       "output_type": "stream",
       "stream": "stderr",
       "text": [
        "INFO:workflow:Executing node _get_min_value3 in dir: /home/felice/workflow_folders/in_limbo_level2_felice_fsl/_threshold_3.3/get_min_value/mapflow/_get_min_value3\n"
       ]
      },
      {
       "output_type": "stream",
       "stream": "stderr",
       "text": [
        "INFO:workflow:Executing node _get_min_value4 in dir: /home/felice/workflow_folders/in_limbo_level2_felice_fsl/_threshold_3.3/get_min_value/mapflow/_get_min_value4\n"
       ]
      },
      {
       "output_type": "stream",
       "stream": "stderr",
       "text": [
        "INFO:workflow:Executing node _get_min_value5 in dir: /home/felice/workflow_folders/in_limbo_level2_felice_fsl/_threshold_3.3/get_min_value/mapflow/_get_min_value5\n"
       ]
      },
      {
       "output_type": "stream",
       "stream": "stderr",
       "text": [
        "INFO:workflow:Executing node _get_min_value6 in dir: /home/felice/workflow_folders/in_limbo_level2_felice_fsl/_threshold_3.3/get_min_value/mapflow/_get_min_value6\n"
       ]
      },
      {
       "output_type": "stream",
       "stream": "stderr",
       "text": [
        "INFO:workflow:Executing node _get_min_value7 in dir: /home/felice/workflow_folders/in_limbo_level2_felice_fsl/_threshold_3.3/get_min_value/mapflow/_get_min_value7\n"
       ]
      },
      {
       "output_type": "stream",
       "stream": "stderr",
       "text": [
        "INFO:workflow:Executing node _get_min_value8 in dir: /home/felice/workflow_folders/in_limbo_level2_felice_fsl/_threshold_3.3/get_min_value/mapflow/_get_min_value8\n"
       ]
      },
      {
       "output_type": "stream",
       "stream": "stderr",
       "text": [
        "INFO:workflow:Executing node _get_min_value9 in dir: /home/felice/workflow_folders/in_limbo_level2_felice_fsl/_threshold_3.3/get_min_value/mapflow/_get_min_value9\n"
       ]
      },
      {
       "output_type": "stream",
       "stream": "stderr",
       "text": [
        "INFO:workflow:Executing node _get_min_value10 in dir: /home/felice/workflow_folders/in_limbo_level2_felice_fsl/_threshold_3.3/get_min_value/mapflow/_get_min_value10\n"
       ]
      },
      {
       "output_type": "stream",
       "stream": "stderr",
       "text": [
        "INFO:workflow:Executing node _get_min_value11 in dir: /home/felice/workflow_folders/in_limbo_level2_felice_fsl/_threshold_3.3/get_min_value/mapflow/_get_min_value11\n"
       ]
      },
      {
       "output_type": "stream",
       "stream": "stderr",
       "text": [
        "INFO:workflow:Executing node _get_min_value12 in dir: /home/felice/workflow_folders/in_limbo_level2_felice_fsl/_threshold_3.3/get_min_value/mapflow/_get_min_value12\n"
       ]
      },
      {
       "output_type": "stream",
       "stream": "stderr",
       "text": [
        "INFO:workflow:Executing node _get_min_value13 in dir: /home/felice/workflow_folders/in_limbo_level2_felice_fsl/_threshold_3.3/get_min_value/mapflow/_get_min_value13\n"
       ]
      },
      {
       "output_type": "stream",
       "stream": "stderr",
       "text": [
        "INFO:workflow:Executing node _get_min_value14 in dir: /home/felice/workflow_folders/in_limbo_level2_felice_fsl/_threshold_3.3/get_min_value/mapflow/_get_min_value14\n"
       ]
      },
      {
       "output_type": "stream",
       "stream": "stderr",
       "text": [
        "INFO:workflow:Executing node _get_min_value15 in dir: /home/felice/workflow_folders/in_limbo_level2_felice_fsl/_threshold_3.3/get_min_value/mapflow/_get_min_value15\n"
       ]
      },
      {
       "output_type": "stream",
       "stream": "stderr",
       "text": [
        "INFO:workflow:Executing node _get_min_value16 in dir: /home/felice/workflow_folders/in_limbo_level2_felice_fsl/_threshold_3.3/get_min_value/mapflow/_get_min_value16\n"
       ]
      },
      {
       "output_type": "stream",
       "stream": "stderr",
       "text": [
        "INFO:workflow:Executing node _get_min_value17 in dir: /home/felice/workflow_folders/in_limbo_level2_felice_fsl/_threshold_3.3/get_min_value/mapflow/_get_min_value17\n"
       ]
      },
      {
       "output_type": "stream",
       "stream": "stderr",
       "text": [
        "INFO:workflow:Executing node _get_min_value18 in dir: /home/felice/workflow_folders/in_limbo_level2_felice_fsl/_threshold_3.3/get_min_value/mapflow/_get_min_value18\n"
       ]
      },
      {
       "output_type": "stream",
       "stream": "stderr",
       "text": [
        "INFO:workflow:Executing node _get_min_value19 in dir: /home/felice/workflow_folders/in_limbo_level2_felice_fsl/_threshold_3.3/get_min_value/mapflow/_get_min_value19\n"
       ]
      },
      {
       "output_type": "stream",
       "stream": "stderr",
       "text": [
        "INFO:workflow:Executing node _get_min_value20 in dir: /home/felice/workflow_folders/in_limbo_level2_felice_fsl/_threshold_3.3/get_min_value/mapflow/_get_min_value20\n"
       ]
      },
      {
       "output_type": "stream",
       "stream": "stderr",
       "text": [
        "INFO:workflow:Executing node _get_min_value21 in dir: /home/felice/workflow_folders/in_limbo_level2_felice_fsl/_threshold_3.3/get_min_value/mapflow/_get_min_value21\n"
       ]
      },
      {
       "output_type": "stream",
       "stream": "stderr",
       "text": [
        "INFO:workflow:Executing node _get_min_value22 in dir: /home/felice/workflow_folders/in_limbo_level2_felice_fsl/_threshold_3.3/get_min_value/mapflow/_get_min_value22\n"
       ]
      },
      {
       "output_type": "stream",
       "stream": "stderr",
       "text": [
        "INFO:workflow:Executing node _get_min_value23 in dir: /home/felice/workflow_folders/in_limbo_level2_felice_fsl/_threshold_3.3/get_min_value/mapflow/_get_min_value23\n"
       ]
      },
      {
       "output_type": "stream",
       "stream": "stderr",
       "text": [
        "INFO:workflow:Executing node _get_min_value24 in dir: /home/felice/workflow_folders/in_limbo_level2_felice_fsl/_threshold_3.3/get_min_value/mapflow/_get_min_value24\n"
       ]
      },
      {
       "output_type": "stream",
       "stream": "stderr",
       "text": [
        "INFO:workflow:Executing node _get_min_value25 in dir: /home/felice/workflow_folders/in_limbo_level2_felice_fsl/_threshold_3.3/get_min_value/mapflow/_get_min_value25\n"
       ]
      },
      {
       "output_type": "stream",
       "stream": "stderr",
       "text": [
        "INFO:workflow:Executing node subtract_from_cope.a5 in dir: /home/felice/workflow_folders/in_limbo_level2_felice_fsl/_threshold_3.3/subtract_from_cope\n"
       ]
      },
      {
       "output_type": "stream",
       "stream": "stderr",
       "text": [
        "INFO:workflow:Executing node _subtract_from_cope0 in dir: /home/felice/workflow_folders/in_limbo_level2_felice_fsl/_threshold_3.3/subtract_from_cope/mapflow/_subtract_from_cope0\n"
       ]
      },
      {
       "output_type": "stream",
       "stream": "stderr",
       "text": [
        "INFO:workflow:Executing node _subtract_from_cope1 in dir: /home/felice/workflow_folders/in_limbo_level2_felice_fsl/_threshold_3.3/subtract_from_cope/mapflow/_subtract_from_cope1\n"
       ]
      },
      {
       "output_type": "stream",
       "stream": "stderr",
       "text": [
        "INFO:workflow:Executing node _subtract_from_cope2 in dir: /home/felice/workflow_folders/in_limbo_level2_felice_fsl/_threshold_3.3/subtract_from_cope/mapflow/_subtract_from_cope2\n"
       ]
      },
      {
       "output_type": "stream",
       "stream": "stderr",
       "text": [
        "INFO:workflow:Executing node _subtract_from_cope3 in dir: /home/felice/workflow_folders/in_limbo_level2_felice_fsl/_threshold_3.3/subtract_from_cope/mapflow/_subtract_from_cope3\n"
       ]
      },
      {
       "output_type": "stream",
       "stream": "stderr",
       "text": [
        "INFO:workflow:Executing node _subtract_from_cope4 in dir: /home/felice/workflow_folders/in_limbo_level2_felice_fsl/_threshold_3.3/subtract_from_cope/mapflow/_subtract_from_cope4\n"
       ]
      },
      {
       "output_type": "stream",
       "stream": "stderr",
       "text": [
        "INFO:workflow:Executing node _subtract_from_cope5 in dir: /home/felice/workflow_folders/in_limbo_level2_felice_fsl/_threshold_3.3/subtract_from_cope/mapflow/_subtract_from_cope5\n"
       ]
      },
      {
       "output_type": "stream",
       "stream": "stderr",
       "text": [
        "INFO:workflow:Executing node _subtract_from_cope6 in dir: /home/felice/workflow_folders/in_limbo_level2_felice_fsl/_threshold_3.3/subtract_from_cope/mapflow/_subtract_from_cope6\n"
       ]
      },
      {
       "output_type": "stream",
       "stream": "stderr",
       "text": [
        "INFO:workflow:Executing node _subtract_from_cope7 in dir: /home/felice/workflow_folders/in_limbo_level2_felice_fsl/_threshold_3.3/subtract_from_cope/mapflow/_subtract_from_cope7\n"
       ]
      },
      {
       "output_type": "stream",
       "stream": "stderr",
       "text": [
        "INFO:workflow:Executing node _subtract_from_cope8 in dir: /home/felice/workflow_folders/in_limbo_level2_felice_fsl/_threshold_3.3/subtract_from_cope/mapflow/_subtract_from_cope8\n"
       ]
      },
      {
       "output_type": "stream",
       "stream": "stderr",
       "text": [
        "INFO:workflow:Executing node _subtract_from_cope9 in dir: /home/felice/workflow_folders/in_limbo_level2_felice_fsl/_threshold_3.3/subtract_from_cope/mapflow/_subtract_from_cope9\n"
       ]
      },
      {
       "output_type": "stream",
       "stream": "stderr",
       "text": [
        "INFO:workflow:Executing node _subtract_from_cope10 in dir: /home/felice/workflow_folders/in_limbo_level2_felice_fsl/_threshold_3.3/subtract_from_cope/mapflow/_subtract_from_cope10\n"
       ]
      },
      {
       "output_type": "stream",
       "stream": "stderr",
       "text": [
        "INFO:workflow:Executing node _subtract_from_cope11 in dir: /home/felice/workflow_folders/in_limbo_level2_felice_fsl/_threshold_3.3/subtract_from_cope/mapflow/_subtract_from_cope11\n"
       ]
      },
      {
       "output_type": "stream",
       "stream": "stderr",
       "text": [
        "INFO:workflow:Executing node _subtract_from_cope12 in dir: /home/felice/workflow_folders/in_limbo_level2_felice_fsl/_threshold_3.3/subtract_from_cope/mapflow/_subtract_from_cope12\n"
       ]
      },
      {
       "output_type": "stream",
       "stream": "stderr",
       "text": [
        "INFO:workflow:Executing node _subtract_from_cope13 in dir: /home/felice/workflow_folders/in_limbo_level2_felice_fsl/_threshold_3.3/subtract_from_cope/mapflow/_subtract_from_cope13\n"
       ]
      },
      {
       "output_type": "stream",
       "stream": "stderr",
       "text": [
        "INFO:workflow:Executing node _subtract_from_cope14 in dir: /home/felice/workflow_folders/in_limbo_level2_felice_fsl/_threshold_3.3/subtract_from_cope/mapflow/_subtract_from_cope14\n"
       ]
      },
      {
       "output_type": "stream",
       "stream": "stderr",
       "text": [
        "INFO:workflow:Executing node _subtract_from_cope15 in dir: /home/felice/workflow_folders/in_limbo_level2_felice_fsl/_threshold_3.3/subtract_from_cope/mapflow/_subtract_from_cope15\n"
       ]
      },
      {
       "output_type": "stream",
       "stream": "stderr",
       "text": [
        "INFO:workflow:Executing node _subtract_from_cope16 in dir: /home/felice/workflow_folders/in_limbo_level2_felice_fsl/_threshold_3.3/subtract_from_cope/mapflow/_subtract_from_cope16\n"
       ]
      },
      {
       "output_type": "stream",
       "stream": "stderr",
       "text": [
        "INFO:workflow:Executing node _subtract_from_cope17 in dir: /home/felice/workflow_folders/in_limbo_level2_felice_fsl/_threshold_3.3/subtract_from_cope/mapflow/_subtract_from_cope17\n"
       ]
      },
      {
       "output_type": "stream",
       "stream": "stderr",
       "text": [
        "INFO:workflow:Executing node _subtract_from_cope18 in dir: /home/felice/workflow_folders/in_limbo_level2_felice_fsl/_threshold_3.3/subtract_from_cope/mapflow/_subtract_from_cope18\n"
       ]
      },
      {
       "output_type": "stream",
       "stream": "stderr",
       "text": [
        "INFO:workflow:Executing node _subtract_from_cope19 in dir: /home/felice/workflow_folders/in_limbo_level2_felice_fsl/_threshold_3.3/subtract_from_cope/mapflow/_subtract_from_cope19\n"
       ]
      },
      {
       "output_type": "stream",
       "stream": "stderr",
       "text": [
        "INFO:workflow:Executing node _subtract_from_cope20 in dir: /home/felice/workflow_folders/in_limbo_level2_felice_fsl/_threshold_3.3/subtract_from_cope/mapflow/_subtract_from_cope20\n"
       ]
      },
      {
       "output_type": "stream",
       "stream": "stderr",
       "text": [
        "INFO:workflow:Executing node _subtract_from_cope21 in dir: /home/felice/workflow_folders/in_limbo_level2_felice_fsl/_threshold_3.3/subtract_from_cope/mapflow/_subtract_from_cope21\n"
       ]
      },
      {
       "output_type": "stream",
       "stream": "stderr",
       "text": [
        "INFO:workflow:Executing node _subtract_from_cope22 in dir: /home/felice/workflow_folders/in_limbo_level2_felice_fsl/_threshold_3.3/subtract_from_cope/mapflow/_subtract_from_cope22\n"
       ]
      },
      {
       "output_type": "stream",
       "stream": "stderr",
       "text": [
        "INFO:workflow:Executing node _subtract_from_cope23 in dir: /home/felice/workflow_folders/in_limbo_level2_felice_fsl/_threshold_3.3/subtract_from_cope/mapflow/_subtract_from_cope23\n"
       ]
      },
      {
       "output_type": "stream",
       "stream": "stderr",
       "text": [
        "INFO:workflow:Executing node _subtract_from_cope24 in dir: /home/felice/workflow_folders/in_limbo_level2_felice_fsl/_threshold_3.3/subtract_from_cope/mapflow/_subtract_from_cope24\n"
       ]
      },
      {
       "output_type": "stream",
       "stream": "stderr",
       "text": [
        "INFO:workflow:Executing node _subtract_from_cope25 in dir: /home/felice/workflow_folders/in_limbo_level2_felice_fsl/_threshold_3.3/subtract_from_cope/mapflow/_subtract_from_cope25\n"
       ]
      },
      {
       "output_type": "stream",
       "stream": "stderr",
       "text": [
        "INFO:workflow:Executing node copemerge.a5 in dir: /home/felice/workflow_folders/in_limbo_level2_felice_fsl/in_limbo_mixedfx/_threshold_3.3/copemerge\n"
       ]
      },
      {
       "output_type": "stream",
       "stream": "stderr",
       "text": [
        "INFO:workflow:Executing node _copemerge0 in dir: /home/felice/workflow_folders/in_limbo_level2_felice_fsl/in_limbo_mixedfx/_threshold_3.3/copemerge/mapflow/_copemerge0\n"
       ]
      },
      {
       "output_type": "stream",
       "stream": "stderr",
       "text": [
        "INFO:workflow:Running: fslmerge -t cope_in_limbo_merged.nii.gz /home/felice/workflow_folders/in_limbo_level2_felice_fsl/_threshold_3.3/subtract_from_cope/mapflow/_subtract_from_cope0/cope_in_limbo.nii.gz /home/felice/workflow_folders/in_limbo_level2_felice_fsl/_threshold_3.3/subtract_from_cope/mapflow/_subtract_from_cope1/cope_in_limbo.nii.gz /home/felice/workflow_folders/in_limbo_level2_felice_fsl/_threshold_3.3/subtract_from_cope/mapflow/_subtract_from_cope2/cope_in_limbo.nii.gz /home/felice/workflow_folders/in_limbo_level2_felice_fsl/_threshold_3.3/subtract_from_cope/mapflow/_subtract_from_cope3/cope_in_limbo.nii.gz /home/felice/workflow_folders/in_limbo_level2_felice_fsl/_threshold_3.3/subtract_from_cope/mapflow/_subtract_from_cope4/cope_in_limbo.nii.gz /home/felice/workflow_folders/in_limbo_level2_felice_fsl/_threshold_3.3/subtract_from_cope/mapflow/_subtract_from_cope5/cope_in_limbo.nii.gz /home/felice/workflow_folders/in_limbo_level2_felice_fsl/_threshold_3.3/subtract_from_cope/mapflow/_subtract_from_cope6/cope_in_limbo.nii.gz /home/felice/workflow_folders/in_limbo_level2_felice_fsl/_threshold_3.3/subtract_from_cope/mapflow/_subtract_from_cope7/cope_in_limbo.nii.gz /home/felice/workflow_folders/in_limbo_level2_felice_fsl/_threshold_3.3/subtract_from_cope/mapflow/_subtract_from_cope8/cope_in_limbo.nii.gz /home/felice/workflow_folders/in_limbo_level2_felice_fsl/_threshold_3.3/subtract_from_cope/mapflow/_subtract_from_cope9/cope_in_limbo.nii.gz /home/felice/workflow_folders/in_limbo_level2_felice_fsl/_threshold_3.3/subtract_from_cope/mapflow/_subtract_from_cope10/cope_in_limbo.nii.gz /home/felice/workflow_folders/in_limbo_level2_felice_fsl/_threshold_3.3/subtract_from_cope/mapflow/_subtract_from_cope11/cope_in_limbo.nii.gz /home/felice/workflow_folders/in_limbo_level2_felice_fsl/_threshold_3.3/subtract_from_cope/mapflow/_subtract_from_cope12/cope_in_limbo.nii.gz /home/felice/workflow_folders/in_limbo_level2_felice_fsl/_threshold_3.3/subtract_from_cope/mapflow/_subtract_from_cope13/cope_in_limbo.nii.gz /home/felice/workflow_folders/in_limbo_level2_felice_fsl/_threshold_3.3/subtract_from_cope/mapflow/_subtract_from_cope14/cope_in_limbo.nii.gz /home/felice/workflow_folders/in_limbo_level2_felice_fsl/_threshold_3.3/subtract_from_cope/mapflow/_subtract_from_cope15/cope_in_limbo.nii.gz /home/felice/workflow_folders/in_limbo_level2_felice_fsl/_threshold_3.3/subtract_from_cope/mapflow/_subtract_from_cope16/cope_in_limbo.nii.gz /home/felice/workflow_folders/in_limbo_level2_felice_fsl/_threshold_3.3/subtract_from_cope/mapflow/_subtract_from_cope17/cope_in_limbo.nii.gz /home/felice/workflow_folders/in_limbo_level2_felice_fsl/_threshold_3.3/subtract_from_cope/mapflow/_subtract_from_cope18/cope_in_limbo.nii.gz /home/felice/workflow_folders/in_limbo_level2_felice_fsl/_threshold_3.3/subtract_from_cope/mapflow/_subtract_from_cope19/cope_in_limbo.nii.gz /home/felice/workflow_folders/in_limbo_level2_felice_fsl/_threshold_3.3/subtract_from_cope/mapflow/_subtract_from_cope20/cope_in_limbo.nii.gz /home/felice/workflow_folders/in_limbo_level2_felice_fsl/_threshold_3.3/subtract_from_cope/mapflow/_subtract_from_cope21/cope_in_limbo.nii.gz /home/felice/workflow_folders/in_limbo_level2_felice_fsl/_threshold_3.3/subtract_from_cope/mapflow/_subtract_from_cope22/cope_in_limbo.nii.gz /home/felice/workflow_folders/in_limbo_level2_felice_fsl/_threshold_3.3/subtract_from_cope/mapflow/_subtract_from_cope23/cope_in_limbo.nii.gz /home/felice/workflow_folders/in_limbo_level2_felice_fsl/_threshold_3.3/subtract_from_cope/mapflow/_subtract_from_cope24/cope_in_limbo.nii.gz /home/felice/workflow_folders/in_limbo_level2_felice_fsl/_threshold_3.3/subtract_from_cope/mapflow/_subtract_from_cope25/cope_in_limbo.nii.gz\n"
       ]
      },
      {
       "output_type": "stream",
       "stream": "stderr",
       "text": [
        "INFO:workflow:Executing node gendofvolume.a5 in dir: /home/felice/workflow_folders/in_limbo_level2_felice_fsl/in_limbo_mixedfx/_threshold_3.3/gendofvolume\n"
       ]
      },
      {
       "output_type": "stream",
       "stream": "stderr",
       "text": [
        "INFO:workflow:Executing node cluster.aI.a0 in dir: /home/felice/workflow_folders/in_limbo_level2_felice_fsl/_threshold_2.3/cluster\n"
       ]
      },
      {
       "output_type": "stream",
       "stream": "stderr",
       "text": [
        "INFO:workflow:Running: cluster --dlh=nan --in=/home/felice/workflow_folders/in_limbo_level2_felice_fsl/flameo/mapflow/_flameo0/stats/zstat1.nii.gz --othresh=/home/felice/workflow_folders/in_limbo_level2_felice_fsl/_threshold_2.3/cluster/zstat1_threshold.nii.gz --thresh=2.3000000000\n"
       ]
      },
      {
       "output_type": "stream",
       "stream": "stderr",
       "text": [
        "INFO:interface:stdout 2015-01-28T19:02:32.389546:Cluster Index\tVoxels\tMAX\tMAX X (vox)\tMAX Y (vox)\tMAX Z (vox)\tCOG X (vox)\tCOG Y (vox)\tCOG Z (vox)\n"
       ]
      },
      {
       "output_type": "stream",
       "stream": "stderr",
       "text": [
        "INFO:workflow:Executing node get_comparison_voxel.a0 in dir: /home/felice/workflow_folders/in_limbo_level2_felice_fsl/_threshold_2.3/get_comparison_voxel\n"
       ]
      },
      {
       "output_type": "stream",
       "stream": "stderr",
       "text": [
        "INFO:workflow:Executing node get_min_value.a0 in dir: /home/felice/workflow_folders/in_limbo_level2_felice_fsl/_threshold_2.3/get_min_value\n"
       ]
      },
      {
       "output_type": "stream",
       "stream": "stderr",
       "text": [
        "INFO:workflow:Executing node _get_min_value0 in dir: /home/felice/workflow_folders/in_limbo_level2_felice_fsl/_threshold_2.3/get_min_value/mapflow/_get_min_value0\n"
       ]
      },
      {
       "output_type": "stream",
       "stream": "stderr",
       "text": [
        "INFO:workflow:Executing node _get_min_value1 in dir: /home/felice/workflow_folders/in_limbo_level2_felice_fsl/_threshold_2.3/get_min_value/mapflow/_get_min_value1\n"
       ]
      },
      {
       "output_type": "stream",
       "stream": "stderr",
       "text": [
        "INFO:workflow:Executing node _get_min_value2 in dir: /home/felice/workflow_folders/in_limbo_level2_felice_fsl/_threshold_2.3/get_min_value/mapflow/_get_min_value2\n"
       ]
      },
      {
       "output_type": "stream",
       "stream": "stderr",
       "text": [
        "INFO:workflow:Executing node _get_min_value3 in dir: /home/felice/workflow_folders/in_limbo_level2_felice_fsl/_threshold_2.3/get_min_value/mapflow/_get_min_value3\n"
       ]
      },
      {
       "output_type": "stream",
       "stream": "stderr",
       "text": [
        "INFO:workflow:Executing node _get_min_value4 in dir: /home/felice/workflow_folders/in_limbo_level2_felice_fsl/_threshold_2.3/get_min_value/mapflow/_get_min_value4\n"
       ]
      },
      {
       "output_type": "stream",
       "stream": "stderr",
       "text": [
        "INFO:workflow:Executing node _get_min_value5 in dir: /home/felice/workflow_folders/in_limbo_level2_felice_fsl/_threshold_2.3/get_min_value/mapflow/_get_min_value5\n"
       ]
      },
      {
       "output_type": "stream",
       "stream": "stderr",
       "text": [
        "INFO:workflow:Executing node _get_min_value6 in dir: /home/felice/workflow_folders/in_limbo_level2_felice_fsl/_threshold_2.3/get_min_value/mapflow/_get_min_value6\n"
       ]
      },
      {
       "output_type": "stream",
       "stream": "stderr",
       "text": [
        "INFO:workflow:Executing node _get_min_value7 in dir: /home/felice/workflow_folders/in_limbo_level2_felice_fsl/_threshold_2.3/get_min_value/mapflow/_get_min_value7\n"
       ]
      },
      {
       "output_type": "stream",
       "stream": "stderr",
       "text": [
        "INFO:workflow:Executing node _get_min_value8 in dir: /home/felice/workflow_folders/in_limbo_level2_felice_fsl/_threshold_2.3/get_min_value/mapflow/_get_min_value8\n"
       ]
      },
      {
       "output_type": "stream",
       "stream": "stderr",
       "text": [
        "INFO:workflow:Executing node _get_min_value9 in dir: /home/felice/workflow_folders/in_limbo_level2_felice_fsl/_threshold_2.3/get_min_value/mapflow/_get_min_value9\n"
       ]
      },
      {
       "output_type": "stream",
       "stream": "stderr",
       "text": [
        "INFO:workflow:Executing node _get_min_value10 in dir: /home/felice/workflow_folders/in_limbo_level2_felice_fsl/_threshold_2.3/get_min_value/mapflow/_get_min_value10\n"
       ]
      },
      {
       "output_type": "stream",
       "stream": "stderr",
       "text": [
        "INFO:workflow:Executing node _get_min_value11 in dir: /home/felice/workflow_folders/in_limbo_level2_felice_fsl/_threshold_2.3/get_min_value/mapflow/_get_min_value11\n"
       ]
      },
      {
       "output_type": "stream",
       "stream": "stderr",
       "text": [
        "INFO:workflow:Executing node _get_min_value12 in dir: /home/felice/workflow_folders/in_limbo_level2_felice_fsl/_threshold_2.3/get_min_value/mapflow/_get_min_value12\n"
       ]
      },
      {
       "output_type": "stream",
       "stream": "stderr",
       "text": [
        "INFO:workflow:Executing node _get_min_value13 in dir: /home/felice/workflow_folders/in_limbo_level2_felice_fsl/_threshold_2.3/get_min_value/mapflow/_get_min_value13\n"
       ]
      },
      {
       "output_type": "stream",
       "stream": "stderr",
       "text": [
        "INFO:workflow:Executing node _get_min_value14 in dir: /home/felice/workflow_folders/in_limbo_level2_felice_fsl/_threshold_2.3/get_min_value/mapflow/_get_min_value14\n"
       ]
      },
      {
       "output_type": "stream",
       "stream": "stderr",
       "text": [
        "INFO:workflow:Executing node _get_min_value15 in dir: /home/felice/workflow_folders/in_limbo_level2_felice_fsl/_threshold_2.3/get_min_value/mapflow/_get_min_value15\n"
       ]
      },
      {
       "output_type": "stream",
       "stream": "stderr",
       "text": [
        "INFO:workflow:Executing node _get_min_value16 in dir: /home/felice/workflow_folders/in_limbo_level2_felice_fsl/_threshold_2.3/get_min_value/mapflow/_get_min_value16\n"
       ]
      },
      {
       "output_type": "stream",
       "stream": "stderr",
       "text": [
        "INFO:workflow:Executing node _get_min_value17 in dir: /home/felice/workflow_folders/in_limbo_level2_felice_fsl/_threshold_2.3/get_min_value/mapflow/_get_min_value17\n"
       ]
      },
      {
       "output_type": "stream",
       "stream": "stderr",
       "text": [
        "INFO:workflow:Executing node _get_min_value18 in dir: /home/felice/workflow_folders/in_limbo_level2_felice_fsl/_threshold_2.3/get_min_value/mapflow/_get_min_value18\n"
       ]
      },
      {
       "output_type": "stream",
       "stream": "stderr",
       "text": [
        "INFO:workflow:Executing node _get_min_value19 in dir: /home/felice/workflow_folders/in_limbo_level2_felice_fsl/_threshold_2.3/get_min_value/mapflow/_get_min_value19\n"
       ]
      },
      {
       "output_type": "stream",
       "stream": "stderr",
       "text": [
        "INFO:workflow:Executing node _get_min_value20 in dir: /home/felice/workflow_folders/in_limbo_level2_felice_fsl/_threshold_2.3/get_min_value/mapflow/_get_min_value20\n"
       ]
      },
      {
       "output_type": "stream",
       "stream": "stderr",
       "text": [
        "INFO:workflow:Executing node _get_min_value21 in dir: /home/felice/workflow_folders/in_limbo_level2_felice_fsl/_threshold_2.3/get_min_value/mapflow/_get_min_value21\n"
       ]
      },
      {
       "output_type": "stream",
       "stream": "stderr",
       "text": [
        "INFO:workflow:Executing node _get_min_value22 in dir: /home/felice/workflow_folders/in_limbo_level2_felice_fsl/_threshold_2.3/get_min_value/mapflow/_get_min_value22\n"
       ]
      },
      {
       "output_type": "stream",
       "stream": "stderr",
       "text": [
        "INFO:workflow:Executing node _get_min_value23 in dir: /home/felice/workflow_folders/in_limbo_level2_felice_fsl/_threshold_2.3/get_min_value/mapflow/_get_min_value23\n"
       ]
      },
      {
       "output_type": "stream",
       "stream": "stderr",
       "text": [
        "INFO:workflow:Executing node _get_min_value24 in dir: /home/felice/workflow_folders/in_limbo_level2_felice_fsl/_threshold_2.3/get_min_value/mapflow/_get_min_value24\n"
       ]
      },
      {
       "output_type": "stream",
       "stream": "stderr",
       "text": [
        "INFO:workflow:Executing node _get_min_value25 in dir: /home/felice/workflow_folders/in_limbo_level2_felice_fsl/_threshold_2.3/get_min_value/mapflow/_get_min_value25\n"
       ]
      },
      {
       "output_type": "stream",
       "stream": "stderr",
       "text": [
        "INFO:workflow:Executing node subtract_from_cope.a0 in dir: /home/felice/workflow_folders/in_limbo_level2_felice_fsl/_threshold_2.3/subtract_from_cope\n"
       ]
      },
      {
       "output_type": "stream",
       "stream": "stderr",
       "text": [
        "INFO:workflow:Executing node _subtract_from_cope0 in dir: /home/felice/workflow_folders/in_limbo_level2_felice_fsl/_threshold_2.3/subtract_from_cope/mapflow/_subtract_from_cope0\n"
       ]
      },
      {
       "output_type": "stream",
       "stream": "stderr",
       "text": [
        "INFO:workflow:Executing node _subtract_from_cope1 in dir: /home/felice/workflow_folders/in_limbo_level2_felice_fsl/_threshold_2.3/subtract_from_cope/mapflow/_subtract_from_cope1\n"
       ]
      },
      {
       "output_type": "stream",
       "stream": "stderr",
       "text": [
        "INFO:workflow:Executing node _subtract_from_cope2 in dir: /home/felice/workflow_folders/in_limbo_level2_felice_fsl/_threshold_2.3/subtract_from_cope/mapflow/_subtract_from_cope2\n"
       ]
      },
      {
       "output_type": "stream",
       "stream": "stderr",
       "text": [
        "INFO:workflow:Executing node _subtract_from_cope3 in dir: /home/felice/workflow_folders/in_limbo_level2_felice_fsl/_threshold_2.3/subtract_from_cope/mapflow/_subtract_from_cope3\n"
       ]
      },
      {
       "output_type": "stream",
       "stream": "stderr",
       "text": [
        "INFO:workflow:Executing node _subtract_from_cope4 in dir: /home/felice/workflow_folders/in_limbo_level2_felice_fsl/_threshold_2.3/subtract_from_cope/mapflow/_subtract_from_cope4\n"
       ]
      },
      {
       "output_type": "stream",
       "stream": "stderr",
       "text": [
        "INFO:workflow:Executing node _subtract_from_cope5 in dir: /home/felice/workflow_folders/in_limbo_level2_felice_fsl/_threshold_2.3/subtract_from_cope/mapflow/_subtract_from_cope5\n"
       ]
      },
      {
       "output_type": "stream",
       "stream": "stderr",
       "text": [
        "INFO:workflow:Executing node _subtract_from_cope6 in dir: /home/felice/workflow_folders/in_limbo_level2_felice_fsl/_threshold_2.3/subtract_from_cope/mapflow/_subtract_from_cope6\n"
       ]
      },
      {
       "output_type": "stream",
       "stream": "stderr",
       "text": [
        "INFO:workflow:Executing node _subtract_from_cope7 in dir: /home/felice/workflow_folders/in_limbo_level2_felice_fsl/_threshold_2.3/subtract_from_cope/mapflow/_subtract_from_cope7\n"
       ]
      },
      {
       "output_type": "stream",
       "stream": "stderr",
       "text": [
        "INFO:workflow:Executing node _subtract_from_cope8 in dir: /home/felice/workflow_folders/in_limbo_level2_felice_fsl/_threshold_2.3/subtract_from_cope/mapflow/_subtract_from_cope8\n"
       ]
      },
      {
       "output_type": "stream",
       "stream": "stderr",
       "text": [
        "INFO:workflow:Executing node _subtract_from_cope9 in dir: /home/felice/workflow_folders/in_limbo_level2_felice_fsl/_threshold_2.3/subtract_from_cope/mapflow/_subtract_from_cope9\n"
       ]
      },
      {
       "output_type": "stream",
       "stream": "stderr",
       "text": [
        "INFO:workflow:Executing node _subtract_from_cope10 in dir: /home/felice/workflow_folders/in_limbo_level2_felice_fsl/_threshold_2.3/subtract_from_cope/mapflow/_subtract_from_cope10\n"
       ]
      },
      {
       "output_type": "stream",
       "stream": "stderr",
       "text": [
        "INFO:workflow:Executing node _subtract_from_cope11 in dir: /home/felice/workflow_folders/in_limbo_level2_felice_fsl/_threshold_2.3/subtract_from_cope/mapflow/_subtract_from_cope11\n"
       ]
      },
      {
       "output_type": "stream",
       "stream": "stderr",
       "text": [
        "INFO:workflow:Executing node _subtract_from_cope12 in dir: /home/felice/workflow_folders/in_limbo_level2_felice_fsl/_threshold_2.3/subtract_from_cope/mapflow/_subtract_from_cope12\n"
       ]
      },
      {
       "output_type": "stream",
       "stream": "stderr",
       "text": [
        "INFO:workflow:Executing node _subtract_from_cope13 in dir: /home/felice/workflow_folders/in_limbo_level2_felice_fsl/_threshold_2.3/subtract_from_cope/mapflow/_subtract_from_cope13\n"
       ]
      },
      {
       "output_type": "stream",
       "stream": "stderr",
       "text": [
        "INFO:workflow:Executing node _subtract_from_cope14 in dir: /home/felice/workflow_folders/in_limbo_level2_felice_fsl/_threshold_2.3/subtract_from_cope/mapflow/_subtract_from_cope14\n"
       ]
      },
      {
       "output_type": "stream",
       "stream": "stderr",
       "text": [
        "INFO:workflow:Executing node _subtract_from_cope15 in dir: /home/felice/workflow_folders/in_limbo_level2_felice_fsl/_threshold_2.3/subtract_from_cope/mapflow/_subtract_from_cope15\n"
       ]
      },
      {
       "output_type": "stream",
       "stream": "stderr",
       "text": [
        "INFO:workflow:Executing node _subtract_from_cope16 in dir: /home/felice/workflow_folders/in_limbo_level2_felice_fsl/_threshold_2.3/subtract_from_cope/mapflow/_subtract_from_cope16\n"
       ]
      },
      {
       "output_type": "stream",
       "stream": "stderr",
       "text": [
        "INFO:workflow:Executing node _subtract_from_cope17 in dir: /home/felice/workflow_folders/in_limbo_level2_felice_fsl/_threshold_2.3/subtract_from_cope/mapflow/_subtract_from_cope17\n"
       ]
      },
      {
       "output_type": "stream",
       "stream": "stderr",
       "text": [
        "INFO:workflow:Executing node _subtract_from_cope18 in dir: /home/felice/workflow_folders/in_limbo_level2_felice_fsl/_threshold_2.3/subtract_from_cope/mapflow/_subtract_from_cope18\n"
       ]
      },
      {
       "output_type": "stream",
       "stream": "stderr",
       "text": [
        "INFO:workflow:Executing node _subtract_from_cope19 in dir: /home/felice/workflow_folders/in_limbo_level2_felice_fsl/_threshold_2.3/subtract_from_cope/mapflow/_subtract_from_cope19\n"
       ]
      },
      {
       "output_type": "stream",
       "stream": "stderr",
       "text": [
        "INFO:workflow:Executing node _subtract_from_cope20 in dir: /home/felice/workflow_folders/in_limbo_level2_felice_fsl/_threshold_2.3/subtract_from_cope/mapflow/_subtract_from_cope20\n"
       ]
      },
      {
       "output_type": "stream",
       "stream": "stderr",
       "text": [
        "INFO:workflow:Executing node _subtract_from_cope21 in dir: /home/felice/workflow_folders/in_limbo_level2_felice_fsl/_threshold_2.3/subtract_from_cope/mapflow/_subtract_from_cope21\n"
       ]
      },
      {
       "output_type": "stream",
       "stream": "stderr",
       "text": [
        "INFO:workflow:Executing node _subtract_from_cope22 in dir: /home/felice/workflow_folders/in_limbo_level2_felice_fsl/_threshold_2.3/subtract_from_cope/mapflow/_subtract_from_cope22\n"
       ]
      },
      {
       "output_type": "stream",
       "stream": "stderr",
       "text": [
        "INFO:workflow:Executing node _subtract_from_cope23 in dir: /home/felice/workflow_folders/in_limbo_level2_felice_fsl/_threshold_2.3/subtract_from_cope/mapflow/_subtract_from_cope23\n"
       ]
      },
      {
       "output_type": "stream",
       "stream": "stderr",
       "text": [
        "INFO:workflow:Executing node _subtract_from_cope24 in dir: /home/felice/workflow_folders/in_limbo_level2_felice_fsl/_threshold_2.3/subtract_from_cope/mapflow/_subtract_from_cope24\n"
       ]
      },
      {
       "output_type": "stream",
       "stream": "stderr",
       "text": [
        "INFO:workflow:Executing node _subtract_from_cope25 in dir: /home/felice/workflow_folders/in_limbo_level2_felice_fsl/_threshold_2.3/subtract_from_cope/mapflow/_subtract_from_cope25\n"
       ]
      },
      {
       "output_type": "stream",
       "stream": "stderr",
       "text": [
        "INFO:workflow:Executing node copemerge.a0 in dir: /home/felice/workflow_folders/in_limbo_level2_felice_fsl/in_limbo_mixedfx/_threshold_2.3/copemerge\n"
       ]
      },
      {
       "output_type": "stream",
       "stream": "stderr",
       "text": [
        "INFO:workflow:Executing node _copemerge0 in dir: /home/felice/workflow_folders/in_limbo_level2_felice_fsl/in_limbo_mixedfx/_threshold_2.3/copemerge/mapflow/_copemerge0\n"
       ]
      },
      {
       "output_type": "stream",
       "stream": "stderr",
       "text": [
        "INFO:workflow:Running: fslmerge -t cope_in_limbo_merged.nii.gz /home/felice/workflow_folders/in_limbo_level2_felice_fsl/_threshold_2.3/subtract_from_cope/mapflow/_subtract_from_cope0/cope_in_limbo.nii.gz /home/felice/workflow_folders/in_limbo_level2_felice_fsl/_threshold_2.3/subtract_from_cope/mapflow/_subtract_from_cope1/cope_in_limbo.nii.gz /home/felice/workflow_folders/in_limbo_level2_felice_fsl/_threshold_2.3/subtract_from_cope/mapflow/_subtract_from_cope2/cope_in_limbo.nii.gz /home/felice/workflow_folders/in_limbo_level2_felice_fsl/_threshold_2.3/subtract_from_cope/mapflow/_subtract_from_cope3/cope_in_limbo.nii.gz /home/felice/workflow_folders/in_limbo_level2_felice_fsl/_threshold_2.3/subtract_from_cope/mapflow/_subtract_from_cope4/cope_in_limbo.nii.gz /home/felice/workflow_folders/in_limbo_level2_felice_fsl/_threshold_2.3/subtract_from_cope/mapflow/_subtract_from_cope5/cope_in_limbo.nii.gz /home/felice/workflow_folders/in_limbo_level2_felice_fsl/_threshold_2.3/subtract_from_cope/mapflow/_subtract_from_cope6/cope_in_limbo.nii.gz /home/felice/workflow_folders/in_limbo_level2_felice_fsl/_threshold_2.3/subtract_from_cope/mapflow/_subtract_from_cope7/cope_in_limbo.nii.gz /home/felice/workflow_folders/in_limbo_level2_felice_fsl/_threshold_2.3/subtract_from_cope/mapflow/_subtract_from_cope8/cope_in_limbo.nii.gz /home/felice/workflow_folders/in_limbo_level2_felice_fsl/_threshold_2.3/subtract_from_cope/mapflow/_subtract_from_cope9/cope_in_limbo.nii.gz /home/felice/workflow_folders/in_limbo_level2_felice_fsl/_threshold_2.3/subtract_from_cope/mapflow/_subtract_from_cope10/cope_in_limbo.nii.gz /home/felice/workflow_folders/in_limbo_level2_felice_fsl/_threshold_2.3/subtract_from_cope/mapflow/_subtract_from_cope11/cope_in_limbo.nii.gz /home/felice/workflow_folders/in_limbo_level2_felice_fsl/_threshold_2.3/subtract_from_cope/mapflow/_subtract_from_cope12/cope_in_limbo.nii.gz /home/felice/workflow_folders/in_limbo_level2_felice_fsl/_threshold_2.3/subtract_from_cope/mapflow/_subtract_from_cope13/cope_in_limbo.nii.gz /home/felice/workflow_folders/in_limbo_level2_felice_fsl/_threshold_2.3/subtract_from_cope/mapflow/_subtract_from_cope14/cope_in_limbo.nii.gz /home/felice/workflow_folders/in_limbo_level2_felice_fsl/_threshold_2.3/subtract_from_cope/mapflow/_subtract_from_cope15/cope_in_limbo.nii.gz /home/felice/workflow_folders/in_limbo_level2_felice_fsl/_threshold_2.3/subtract_from_cope/mapflow/_subtract_from_cope16/cope_in_limbo.nii.gz /home/felice/workflow_folders/in_limbo_level2_felice_fsl/_threshold_2.3/subtract_from_cope/mapflow/_subtract_from_cope17/cope_in_limbo.nii.gz /home/felice/workflow_folders/in_limbo_level2_felice_fsl/_threshold_2.3/subtract_from_cope/mapflow/_subtract_from_cope18/cope_in_limbo.nii.gz /home/felice/workflow_folders/in_limbo_level2_felice_fsl/_threshold_2.3/subtract_from_cope/mapflow/_subtract_from_cope19/cope_in_limbo.nii.gz /home/felice/workflow_folders/in_limbo_level2_felice_fsl/_threshold_2.3/subtract_from_cope/mapflow/_subtract_from_cope20/cope_in_limbo.nii.gz /home/felice/workflow_folders/in_limbo_level2_felice_fsl/_threshold_2.3/subtract_from_cope/mapflow/_subtract_from_cope21/cope_in_limbo.nii.gz /home/felice/workflow_folders/in_limbo_level2_felice_fsl/_threshold_2.3/subtract_from_cope/mapflow/_subtract_from_cope22/cope_in_limbo.nii.gz /home/felice/workflow_folders/in_limbo_level2_felice_fsl/_threshold_2.3/subtract_from_cope/mapflow/_subtract_from_cope23/cope_in_limbo.nii.gz /home/felice/workflow_folders/in_limbo_level2_felice_fsl/_threshold_2.3/subtract_from_cope/mapflow/_subtract_from_cope24/cope_in_limbo.nii.gz /home/felice/workflow_folders/in_limbo_level2_felice_fsl/_threshold_2.3/subtract_from_cope/mapflow/_subtract_from_cope25/cope_in_limbo.nii.gz\n"
       ]
      },
      {
       "output_type": "stream",
       "stream": "stderr",
       "text": [
        "INFO:workflow:Executing node gendofvolume.a0 in dir: /home/felice/workflow_folders/in_limbo_level2_felice_fsl/in_limbo_mixedfx/_threshold_2.3/gendofvolume\n"
       ]
      },
      {
       "output_type": "stream",
       "stream": "stderr",
       "text": [
        "INFO:workflow:Executing node flameo.a0 in dir: /home/felice/workflow_folders/in_limbo_level2_felice_fsl/in_limbo_mixedfx/_threshold_2.3/flameo\n"
       ]
      },
      {
       "output_type": "stream",
       "stream": "stderr",
       "text": [
        "INFO:workflow:Executing node _flameo0 in dir: /home/felice/workflow_folders/in_limbo_level2_felice_fsl/in_limbo_mixedfx/_threshold_2.3/flameo/mapflow/_flameo0\n"
       ]
      },
      {
       "output_type": "stream",
       "stream": "stderr",
       "text": [
        "INFO:workflow:Running: flameo --copefile=/home/felice/workflow_folders/in_limbo_level2_felice_fsl/in_limbo_mixedfx/_threshold_2.3/copemerge/mapflow/_copemerge0/cope_in_limbo_merged.nii.gz --covsplitfile=/home/felice/workflow_folders/in_limbo_level2_felice_fsl/in_limbo_mixedfx/l2model/design.grp --designfile=/home/felice/workflow_folders/in_limbo_level2_felice_fsl/in_limbo_mixedfx/l2model/design.mat --dofvarcopefile=/home/felice/workflow_folders/in_limbo_level2_felice_fsl/in_limbo_mixedfx/_threshold_2.3/gendofvolume/dof_file.nii.gz --ld=stats --maskfile=/usr/share/fsl/data/standard/MNI152_T1_2mm_brain_mask.nii.gz --runmode=fe --tcontrastsfile=/home/felice/workflow_folders/in_limbo_level2_felice_fsl/in_limbo_mixedfx/l2model/design.con --varcopefile=/home/felice/workflow_folders/in_limbo_level2_felice_fsl/in_limbo_mixedfx/varcopemerge/mapflow/_varcopemerge0/task001_varcope08_merged.nii.gz\n"
       ]
      },
      {
       "output_type": "stream",
       "stream": "stderr",
       "text": [
        "INFO:interface:stdout 2015-01-28T19:02:38.246124:Log directory is: stats\n"
       ]
      },
      {
       "output_type": "stream",
       "stream": "stderr",
       "text": [
        "INFO:interface:stdout 2015-01-28T19:02:38.247266:Setting up:\n"
       ]
      },
      {
       "output_type": "stream",
       "stream": "stderr",
       "text": [
        "INFO:interface:stdout 2015-01-28T19:02:39.387311:ntptsing=26.000000 \n"
       ]
      },
      {
       "output_type": "stream",
       "stream": "stderr",
       "text": [
        "INFO:interface:stdout 2015-01-28T19:02:39.387311:\n"
       ]
      },
      {
       "output_type": "stream",
       "stream": "stderr",
       "text": [
        "INFO:interface:stdout 2015-01-28T19:02:39.387311:evs_group=1.000000 \n"
       ]
      },
      {
       "output_type": "stream",
       "stream": "stderr",
       "text": [
        "INFO:interface:stdout 2015-01-28T19:02:39.387311:\n"
       ]
      },
      {
       "output_type": "stream",
       "stream": "stderr",
       "text": [
        "INFO:interface:stdout 2015-01-28T19:02:39.389256:No f contrasts\n"
       ]
      },
      {
       "output_type": "stream",
       "stream": "stderr",
       "text": [
        "INFO:interface:stdout 2015-01-28T19:02:39.406343:\n"
       ]
      },
      {
       "output_type": "stream",
       "stream": "stderr",
       "text": [
        "INFO:interface:stdout 2015-01-28T19:02:39.406343:WARNING: The passed in varcope file, /home/felice/workflow_folders/in_limbo_level2_felice_fsl/in_limbo_mixedfx/varcopemerge/mapflow/_varcopemerge0/task001_varcope08_merged.nii.gz, contains voxels inside the mask with zero (or negative) values. These voxels will be excluded from the analysis.\n"
       ]
      },
      {
       "output_type": "stream",
       "stream": "stderr",
       "text": [
        "INFO:interface:stdout 2015-01-28T19:02:39.413228:nevs=1\n"
       ]
      },
      {
       "output_type": "stream",
       "stream": "stderr",
       "text": [
        "INFO:interface:stdout 2015-01-28T19:02:39.413228:ntpts=26\n"
       ]
      },
      {
       "output_type": "stream",
       "stream": "stderr",
       "text": [
        "INFO:interface:stdout 2015-01-28T19:02:39.413228:ngs=1\n"
       ]
      },
      {
       "output_type": "stream",
       "stream": "stderr",
       "text": [
        "INFO:interface:stdout 2015-01-28T19:02:39.413228:nvoxels=0\n"
       ]
      },
      {
       "output_type": "stream",
       "stream": "stderr",
       "text": [
        "INFO:interface:stdout 2015-01-28T19:02:39.458324:Running:\n"
       ]
      },
      {
       "output_type": "stream",
       "stream": "stderr",
       "text": [
        "INFO:interface:stdout 2015-01-28T19:02:39.458324:nmaskvoxels=0\n"
       ]
      },
      {
       "output_type": "stream",
       "stream": "stderr",
       "text": [
        "INFO:interface:stdout 2015-01-28T19:02:39.465918:\n"
       ]
      },
      {
       "output_type": "stream",
       "stream": "stderr",
       "text": [
        "INFO:interface:stdout 2015-01-28T19:02:39.465918:Saving results\n"
       ]
      },
      {
       "output_type": "stream",
       "stream": "stderr",
       "text": [
        "INFO:interface:stdout 2015-01-28T19:02:41.494966:\n"
       ]
      },
      {
       "output_type": "stream",
       "stream": "stderr",
       "text": [
        "INFO:interface:stdout 2015-01-28T19:02:41.494966:Log directory was: stats\n"
       ]
      },
      {
       "output_type": "stream",
       "stream": "stderr",
       "text": [
        "INFO:workflow:Executing node in_limbo_mapper.a0 in dir: /home/felice/workflow_folders/in_limbo_level2_felice_fsl/_threshold_2.3/in_limbo_mapper\n"
       ]
      },
      {
       "output_type": "stream",
       "stream": "stderr",
       "text": [
        "INFO:workflow:Executing node datasink.a0 in dir: /home/felice/workflow_folders/in_limbo_level2_felice_fsl/_threshold_2.3/datasink\n"
       ]
      },
      {
       "output_type": "stream",
       "stream": "stderr",
       "text": [
        "INFO:workflow:Executing node cluster.aI.a1 in dir: /home/felice/workflow_folders/in_limbo_level2_felice_fsl/_threshold_2.5/cluster\n"
       ]
      },
      {
       "output_type": "stream",
       "stream": "stderr",
       "text": [
        "INFO:workflow:Running: cluster --dlh=nan --in=/home/felice/workflow_folders/in_limbo_level2_felice_fsl/flameo/mapflow/_flameo0/stats/zstat1.nii.gz --othresh=/home/felice/workflow_folders/in_limbo_level2_felice_fsl/_threshold_2.5/cluster/zstat1_threshold.nii.gz --thresh=2.5000000000\n"
       ]
      },
      {
       "output_type": "stream",
       "stream": "stderr",
       "text": [
        "INFO:interface:stdout 2015-01-28T19:02:41.806223:Cluster Index\tVoxels\tMAX\tMAX X (vox)\tMAX Y (vox)\tMAX Z (vox)\tCOG X (vox)\tCOG Y (vox)\tCOG Z (vox)\n"
       ]
      },
      {
       "output_type": "stream",
       "stream": "stderr",
       "text": [
        "INFO:workflow:Executing node get_comparison_voxel.a1 in dir: /home/felice/workflow_folders/in_limbo_level2_felice_fsl/_threshold_2.5/get_comparison_voxel\n"
       ]
      },
      {
       "output_type": "stream",
       "stream": "stderr",
       "text": [
        "INFO:workflow:Executing node get_min_value.a1 in dir: /home/felice/workflow_folders/in_limbo_level2_felice_fsl/_threshold_2.5/get_min_value\n"
       ]
      },
      {
       "output_type": "stream",
       "stream": "stderr",
       "text": [
        "INFO:workflow:Executing node _get_min_value0 in dir: /home/felice/workflow_folders/in_limbo_level2_felice_fsl/_threshold_2.5/get_min_value/mapflow/_get_min_value0\n"
       ]
      },
      {
       "output_type": "stream",
       "stream": "stderr",
       "text": [
        "INFO:workflow:Executing node _get_min_value1 in dir: /home/felice/workflow_folders/in_limbo_level2_felice_fsl/_threshold_2.5/get_min_value/mapflow/_get_min_value1\n"
       ]
      },
      {
       "output_type": "stream",
       "stream": "stderr",
       "text": [
        "INFO:workflow:Executing node _get_min_value2 in dir: /home/felice/workflow_folders/in_limbo_level2_felice_fsl/_threshold_2.5/get_min_value/mapflow/_get_min_value2\n"
       ]
      },
      {
       "output_type": "stream",
       "stream": "stderr",
       "text": [
        "INFO:workflow:Executing node _get_min_value3 in dir: /home/felice/workflow_folders/in_limbo_level2_felice_fsl/_threshold_2.5/get_min_value/mapflow/_get_min_value3\n"
       ]
      },
      {
       "output_type": "stream",
       "stream": "stderr",
       "text": [
        "INFO:workflow:Executing node _get_min_value4 in dir: /home/felice/workflow_folders/in_limbo_level2_felice_fsl/_threshold_2.5/get_min_value/mapflow/_get_min_value4\n"
       ]
      },
      {
       "output_type": "stream",
       "stream": "stderr",
       "text": [
        "INFO:workflow:Executing node _get_min_value5 in dir: /home/felice/workflow_folders/in_limbo_level2_felice_fsl/_threshold_2.5/get_min_value/mapflow/_get_min_value5\n"
       ]
      },
      {
       "output_type": "stream",
       "stream": "stderr",
       "text": [
        "INFO:workflow:Executing node _get_min_value6 in dir: /home/felice/workflow_folders/in_limbo_level2_felice_fsl/_threshold_2.5/get_min_value/mapflow/_get_min_value6\n"
       ]
      },
      {
       "output_type": "stream",
       "stream": "stderr",
       "text": [
        "INFO:workflow:Executing node _get_min_value7 in dir: /home/felice/workflow_folders/in_limbo_level2_felice_fsl/_threshold_2.5/get_min_value/mapflow/_get_min_value7\n"
       ]
      },
      {
       "output_type": "stream",
       "stream": "stderr",
       "text": [
        "INFO:workflow:Executing node _get_min_value8 in dir: /home/felice/workflow_folders/in_limbo_level2_felice_fsl/_threshold_2.5/get_min_value/mapflow/_get_min_value8\n"
       ]
      },
      {
       "output_type": "stream",
       "stream": "stderr",
       "text": [
        "INFO:workflow:Executing node _get_min_value9 in dir: /home/felice/workflow_folders/in_limbo_level2_felice_fsl/_threshold_2.5/get_min_value/mapflow/_get_min_value9\n"
       ]
      },
      {
       "output_type": "stream",
       "stream": "stderr",
       "text": [
        "INFO:workflow:Executing node _get_min_value10 in dir: /home/felice/workflow_folders/in_limbo_level2_felice_fsl/_threshold_2.5/get_min_value/mapflow/_get_min_value10\n"
       ]
      },
      {
       "output_type": "stream",
       "stream": "stderr",
       "text": [
        "INFO:workflow:Executing node _get_min_value11 in dir: /home/felice/workflow_folders/in_limbo_level2_felice_fsl/_threshold_2.5/get_min_value/mapflow/_get_min_value11\n"
       ]
      },
      {
       "output_type": "stream",
       "stream": "stderr",
       "text": [
        "INFO:workflow:Executing node _get_min_value12 in dir: /home/felice/workflow_folders/in_limbo_level2_felice_fsl/_threshold_2.5/get_min_value/mapflow/_get_min_value12\n"
       ]
      },
      {
       "output_type": "stream",
       "stream": "stderr",
       "text": [
        "INFO:workflow:Executing node _get_min_value13 in dir: /home/felice/workflow_folders/in_limbo_level2_felice_fsl/_threshold_2.5/get_min_value/mapflow/_get_min_value13\n"
       ]
      },
      {
       "output_type": "stream",
       "stream": "stderr",
       "text": [
        "INFO:workflow:Executing node _get_min_value14 in dir: /home/felice/workflow_folders/in_limbo_level2_felice_fsl/_threshold_2.5/get_min_value/mapflow/_get_min_value14\n"
       ]
      },
      {
       "output_type": "stream",
       "stream": "stderr",
       "text": [
        "INFO:workflow:Executing node _get_min_value15 in dir: /home/felice/workflow_folders/in_limbo_level2_felice_fsl/_threshold_2.5/get_min_value/mapflow/_get_min_value15\n"
       ]
      },
      {
       "output_type": "stream",
       "stream": "stderr",
       "text": [
        "INFO:workflow:Executing node _get_min_value16 in dir: /home/felice/workflow_folders/in_limbo_level2_felice_fsl/_threshold_2.5/get_min_value/mapflow/_get_min_value16\n"
       ]
      },
      {
       "output_type": "stream",
       "stream": "stderr",
       "text": [
        "INFO:workflow:Executing node _get_min_value17 in dir: /home/felice/workflow_folders/in_limbo_level2_felice_fsl/_threshold_2.5/get_min_value/mapflow/_get_min_value17\n"
       ]
      },
      {
       "output_type": "stream",
       "stream": "stderr",
       "text": [
        "INFO:workflow:Executing node _get_min_value18 in dir: /home/felice/workflow_folders/in_limbo_level2_felice_fsl/_threshold_2.5/get_min_value/mapflow/_get_min_value18\n"
       ]
      },
      {
       "output_type": "stream",
       "stream": "stderr",
       "text": [
        "INFO:workflow:Executing node _get_min_value19 in dir: /home/felice/workflow_folders/in_limbo_level2_felice_fsl/_threshold_2.5/get_min_value/mapflow/_get_min_value19\n"
       ]
      },
      {
       "output_type": "stream",
       "stream": "stderr",
       "text": [
        "INFO:workflow:Executing node _get_min_value20 in dir: /home/felice/workflow_folders/in_limbo_level2_felice_fsl/_threshold_2.5/get_min_value/mapflow/_get_min_value20\n"
       ]
      },
      {
       "output_type": "stream",
       "stream": "stderr",
       "text": [
        "INFO:workflow:Executing node _get_min_value21 in dir: /home/felice/workflow_folders/in_limbo_level2_felice_fsl/_threshold_2.5/get_min_value/mapflow/_get_min_value21\n"
       ]
      },
      {
       "output_type": "stream",
       "stream": "stderr",
       "text": [
        "INFO:workflow:Executing node _get_min_value22 in dir: /home/felice/workflow_folders/in_limbo_level2_felice_fsl/_threshold_2.5/get_min_value/mapflow/_get_min_value22\n"
       ]
      },
      {
       "output_type": "stream",
       "stream": "stderr",
       "text": [
        "INFO:workflow:Executing node _get_min_value23 in dir: /home/felice/workflow_folders/in_limbo_level2_felice_fsl/_threshold_2.5/get_min_value/mapflow/_get_min_value23\n"
       ]
      },
      {
       "output_type": "stream",
       "stream": "stderr",
       "text": [
        "INFO:workflow:Executing node _get_min_value24 in dir: /home/felice/workflow_folders/in_limbo_level2_felice_fsl/_threshold_2.5/get_min_value/mapflow/_get_min_value24\n"
       ]
      },
      {
       "output_type": "stream",
       "stream": "stderr",
       "text": [
        "INFO:workflow:Executing node _get_min_value25 in dir: /home/felice/workflow_folders/in_limbo_level2_felice_fsl/_threshold_2.5/get_min_value/mapflow/_get_min_value25\n"
       ]
      },
      {
       "output_type": "stream",
       "stream": "stderr",
       "text": [
        "INFO:workflow:Executing node subtract_from_cope.a1 in dir: /home/felice/workflow_folders/in_limbo_level2_felice_fsl/_threshold_2.5/subtract_from_cope\n"
       ]
      },
      {
       "output_type": "stream",
       "stream": "stderr",
       "text": [
        "INFO:workflow:Executing node _subtract_from_cope0 in dir: /home/felice/workflow_folders/in_limbo_level2_felice_fsl/_threshold_2.5/subtract_from_cope/mapflow/_subtract_from_cope0\n"
       ]
      },
      {
       "output_type": "stream",
       "stream": "stderr",
       "text": [
        "INFO:workflow:Executing node _subtract_from_cope1 in dir: /home/felice/workflow_folders/in_limbo_level2_felice_fsl/_threshold_2.5/subtract_from_cope/mapflow/_subtract_from_cope1\n"
       ]
      },
      {
       "output_type": "stream",
       "stream": "stderr",
       "text": [
        "INFO:workflow:Executing node _subtract_from_cope2 in dir: /home/felice/workflow_folders/in_limbo_level2_felice_fsl/_threshold_2.5/subtract_from_cope/mapflow/_subtract_from_cope2\n"
       ]
      },
      {
       "output_type": "stream",
       "stream": "stderr",
       "text": [
        "INFO:workflow:Executing node _subtract_from_cope3 in dir: /home/felice/workflow_folders/in_limbo_level2_felice_fsl/_threshold_2.5/subtract_from_cope/mapflow/_subtract_from_cope3\n"
       ]
      },
      {
       "output_type": "stream",
       "stream": "stderr",
       "text": [
        "INFO:workflow:Executing node _subtract_from_cope4 in dir: /home/felice/workflow_folders/in_limbo_level2_felice_fsl/_threshold_2.5/subtract_from_cope/mapflow/_subtract_from_cope4\n"
       ]
      },
      {
       "output_type": "stream",
       "stream": "stderr",
       "text": [
        "INFO:workflow:Executing node _subtract_from_cope5 in dir: /home/felice/workflow_folders/in_limbo_level2_felice_fsl/_threshold_2.5/subtract_from_cope/mapflow/_subtract_from_cope5\n"
       ]
      },
      {
       "output_type": "stream",
       "stream": "stderr",
       "text": [
        "INFO:workflow:Executing node _subtract_from_cope6 in dir: /home/felice/workflow_folders/in_limbo_level2_felice_fsl/_threshold_2.5/subtract_from_cope/mapflow/_subtract_from_cope6\n"
       ]
      },
      {
       "output_type": "stream",
       "stream": "stderr",
       "text": [
        "INFO:workflow:Executing node _subtract_from_cope7 in dir: /home/felice/workflow_folders/in_limbo_level2_felice_fsl/_threshold_2.5/subtract_from_cope/mapflow/_subtract_from_cope7\n"
       ]
      },
      {
       "output_type": "stream",
       "stream": "stderr",
       "text": [
        "INFO:workflow:Executing node _subtract_from_cope8 in dir: /home/felice/workflow_folders/in_limbo_level2_felice_fsl/_threshold_2.5/subtract_from_cope/mapflow/_subtract_from_cope8\n"
       ]
      },
      {
       "output_type": "stream",
       "stream": "stderr",
       "text": [
        "INFO:workflow:Executing node _subtract_from_cope9 in dir: /home/felice/workflow_folders/in_limbo_level2_felice_fsl/_threshold_2.5/subtract_from_cope/mapflow/_subtract_from_cope9\n"
       ]
      },
      {
       "output_type": "stream",
       "stream": "stderr",
       "text": [
        "INFO:workflow:Executing node _subtract_from_cope10 in dir: /home/felice/workflow_folders/in_limbo_level2_felice_fsl/_threshold_2.5/subtract_from_cope/mapflow/_subtract_from_cope10\n"
       ]
      },
      {
       "output_type": "stream",
       "stream": "stderr",
       "text": [
        "INFO:workflow:Executing node _subtract_from_cope11 in dir: /home/felice/workflow_folders/in_limbo_level2_felice_fsl/_threshold_2.5/subtract_from_cope/mapflow/_subtract_from_cope11\n"
       ]
      },
      {
       "output_type": "stream",
       "stream": "stderr",
       "text": [
        "INFO:workflow:Executing node _subtract_from_cope12 in dir: /home/felice/workflow_folders/in_limbo_level2_felice_fsl/_threshold_2.5/subtract_from_cope/mapflow/_subtract_from_cope12\n"
       ]
      },
      {
       "output_type": "stream",
       "stream": "stderr",
       "text": [
        "INFO:workflow:Executing node _subtract_from_cope13 in dir: /home/felice/workflow_folders/in_limbo_level2_felice_fsl/_threshold_2.5/subtract_from_cope/mapflow/_subtract_from_cope13\n"
       ]
      },
      {
       "output_type": "stream",
       "stream": "stderr",
       "text": [
        "INFO:workflow:Executing node _subtract_from_cope14 in dir: /home/felice/workflow_folders/in_limbo_level2_felice_fsl/_threshold_2.5/subtract_from_cope/mapflow/_subtract_from_cope14\n"
       ]
      },
      {
       "output_type": "stream",
       "stream": "stderr",
       "text": [
        "INFO:workflow:Executing node _subtract_from_cope15 in dir: /home/felice/workflow_folders/in_limbo_level2_felice_fsl/_threshold_2.5/subtract_from_cope/mapflow/_subtract_from_cope15\n"
       ]
      },
      {
       "output_type": "stream",
       "stream": "stderr",
       "text": [
        "INFO:workflow:Executing node _subtract_from_cope16 in dir: /home/felice/workflow_folders/in_limbo_level2_felice_fsl/_threshold_2.5/subtract_from_cope/mapflow/_subtract_from_cope16\n"
       ]
      },
      {
       "output_type": "stream",
       "stream": "stderr",
       "text": [
        "INFO:workflow:Executing node _subtract_from_cope17 in dir: /home/felice/workflow_folders/in_limbo_level2_felice_fsl/_threshold_2.5/subtract_from_cope/mapflow/_subtract_from_cope17\n"
       ]
      },
      {
       "output_type": "stream",
       "stream": "stderr",
       "text": [
        "INFO:workflow:Executing node _subtract_from_cope18 in dir: /home/felice/workflow_folders/in_limbo_level2_felice_fsl/_threshold_2.5/subtract_from_cope/mapflow/_subtract_from_cope18\n"
       ]
      },
      {
       "output_type": "stream",
       "stream": "stderr",
       "text": [
        "INFO:workflow:Executing node _subtract_from_cope19 in dir: /home/felice/workflow_folders/in_limbo_level2_felice_fsl/_threshold_2.5/subtract_from_cope/mapflow/_subtract_from_cope19\n"
       ]
      },
      {
       "output_type": "stream",
       "stream": "stderr",
       "text": [
        "INFO:workflow:Executing node _subtract_from_cope20 in dir: /home/felice/workflow_folders/in_limbo_level2_felice_fsl/_threshold_2.5/subtract_from_cope/mapflow/_subtract_from_cope20\n"
       ]
      },
      {
       "output_type": "stream",
       "stream": "stderr",
       "text": [
        "INFO:workflow:Executing node _subtract_from_cope21 in dir: /home/felice/workflow_folders/in_limbo_level2_felice_fsl/_threshold_2.5/subtract_from_cope/mapflow/_subtract_from_cope21\n"
       ]
      },
      {
       "output_type": "stream",
       "stream": "stderr",
       "text": [
        "INFO:workflow:Executing node _subtract_from_cope22 in dir: /home/felice/workflow_folders/in_limbo_level2_felice_fsl/_threshold_2.5/subtract_from_cope/mapflow/_subtract_from_cope22\n"
       ]
      },
      {
       "output_type": "stream",
       "stream": "stderr",
       "text": [
        "INFO:workflow:Executing node _subtract_from_cope23 in dir: /home/felice/workflow_folders/in_limbo_level2_felice_fsl/_threshold_2.5/subtract_from_cope/mapflow/_subtract_from_cope23\n"
       ]
      },
      {
       "output_type": "stream",
       "stream": "stderr",
       "text": [
        "INFO:workflow:Executing node _subtract_from_cope24 in dir: /home/felice/workflow_folders/in_limbo_level2_felice_fsl/_threshold_2.5/subtract_from_cope/mapflow/_subtract_from_cope24\n"
       ]
      },
      {
       "output_type": "stream",
       "stream": "stderr",
       "text": [
        "INFO:workflow:Executing node _subtract_from_cope25 in dir: /home/felice/workflow_folders/in_limbo_level2_felice_fsl/_threshold_2.5/subtract_from_cope/mapflow/_subtract_from_cope25\n"
       ]
      },
      {
       "output_type": "stream",
       "stream": "stderr",
       "text": [
        "INFO:workflow:Executing node get_comparison_voxel.a4 in dir: /home/felice/workflow_folders/in_limbo_level2_felice_fsl/_threshold_3.1/get_comparison_voxel\n"
       ]
      },
      {
       "output_type": "stream",
       "stream": "stderr",
       "text": [
        "INFO:workflow:Executing node copemerge.a1 in dir: /home/felice/workflow_folders/in_limbo_level2_felice_fsl/in_limbo_mixedfx/_threshold_2.5/copemerge\n"
       ]
      },
      {
       "output_type": "stream",
       "stream": "stderr",
       "text": [
        "INFO:workflow:Executing node _copemerge0 in dir: /home/felice/workflow_folders/in_limbo_level2_felice_fsl/in_limbo_mixedfx/_threshold_2.5/copemerge/mapflow/_copemerge0\n"
       ]
      },
      {
       "output_type": "stream",
       "stream": "stderr",
       "text": [
        "INFO:workflow:Running: fslmerge -t cope_in_limbo_merged.nii.gz /home/felice/workflow_folders/in_limbo_level2_felice_fsl/_threshold_2.5/subtract_from_cope/mapflow/_subtract_from_cope0/cope_in_limbo.nii.gz /home/felice/workflow_folders/in_limbo_level2_felice_fsl/_threshold_2.5/subtract_from_cope/mapflow/_subtract_from_cope1/cope_in_limbo.nii.gz /home/felice/workflow_folders/in_limbo_level2_felice_fsl/_threshold_2.5/subtract_from_cope/mapflow/_subtract_from_cope2/cope_in_limbo.nii.gz /home/felice/workflow_folders/in_limbo_level2_felice_fsl/_threshold_2.5/subtract_from_cope/mapflow/_subtract_from_cope3/cope_in_limbo.nii.gz /home/felice/workflow_folders/in_limbo_level2_felice_fsl/_threshold_2.5/subtract_from_cope/mapflow/_subtract_from_cope4/cope_in_limbo.nii.gz /home/felice/workflow_folders/in_limbo_level2_felice_fsl/_threshold_2.5/subtract_from_cope/mapflow/_subtract_from_cope5/cope_in_limbo.nii.gz /home/felice/workflow_folders/in_limbo_level2_felice_fsl/_threshold_2.5/subtract_from_cope/mapflow/_subtract_from_cope6/cope_in_limbo.nii.gz /home/felice/workflow_folders/in_limbo_level2_felice_fsl/_threshold_2.5/subtract_from_cope/mapflow/_subtract_from_cope7/cope_in_limbo.nii.gz /home/felice/workflow_folders/in_limbo_level2_felice_fsl/_threshold_2.5/subtract_from_cope/mapflow/_subtract_from_cope8/cope_in_limbo.nii.gz /home/felice/workflow_folders/in_limbo_level2_felice_fsl/_threshold_2.5/subtract_from_cope/mapflow/_subtract_from_cope9/cope_in_limbo.nii.gz /home/felice/workflow_folders/in_limbo_level2_felice_fsl/_threshold_2.5/subtract_from_cope/mapflow/_subtract_from_cope10/cope_in_limbo.nii.gz /home/felice/workflow_folders/in_limbo_level2_felice_fsl/_threshold_2.5/subtract_from_cope/mapflow/_subtract_from_cope11/cope_in_limbo.nii.gz /home/felice/workflow_folders/in_limbo_level2_felice_fsl/_threshold_2.5/subtract_from_cope/mapflow/_subtract_from_cope12/cope_in_limbo.nii.gz /home/felice/workflow_folders/in_limbo_level2_felice_fsl/_threshold_2.5/subtract_from_cope/mapflow/_subtract_from_cope13/cope_in_limbo.nii.gz /home/felice/workflow_folders/in_limbo_level2_felice_fsl/_threshold_2.5/subtract_from_cope/mapflow/_subtract_from_cope14/cope_in_limbo.nii.gz /home/felice/workflow_folders/in_limbo_level2_felice_fsl/_threshold_2.5/subtract_from_cope/mapflow/_subtract_from_cope15/cope_in_limbo.nii.gz /home/felice/workflow_folders/in_limbo_level2_felice_fsl/_threshold_2.5/subtract_from_cope/mapflow/_subtract_from_cope16/cope_in_limbo.nii.gz /home/felice/workflow_folders/in_limbo_level2_felice_fsl/_threshold_2.5/subtract_from_cope/mapflow/_subtract_from_cope17/cope_in_limbo.nii.gz /home/felice/workflow_folders/in_limbo_level2_felice_fsl/_threshold_2.5/subtract_from_cope/mapflow/_subtract_from_cope18/cope_in_limbo.nii.gz /home/felice/workflow_folders/in_limbo_level2_felice_fsl/_threshold_2.5/subtract_from_cope/mapflow/_subtract_from_cope19/cope_in_limbo.nii.gz /home/felice/workflow_folders/in_limbo_level2_felice_fsl/_threshold_2.5/subtract_from_cope/mapflow/_subtract_from_cope20/cope_in_limbo.nii.gz /home/felice/workflow_folders/in_limbo_level2_felice_fsl/_threshold_2.5/subtract_from_cope/mapflow/_subtract_from_cope21/cope_in_limbo.nii.gz /home/felice/workflow_folders/in_limbo_level2_felice_fsl/_threshold_2.5/subtract_from_cope/mapflow/_subtract_from_cope22/cope_in_limbo.nii.gz /home/felice/workflow_folders/in_limbo_level2_felice_fsl/_threshold_2.5/subtract_from_cope/mapflow/_subtract_from_cope23/cope_in_limbo.nii.gz /home/felice/workflow_folders/in_limbo_level2_felice_fsl/_threshold_2.5/subtract_from_cope/mapflow/_subtract_from_cope24/cope_in_limbo.nii.gz /home/felice/workflow_folders/in_limbo_level2_felice_fsl/_threshold_2.5/subtract_from_cope/mapflow/_subtract_from_cope25/cope_in_limbo.nii.gz\n"
       ]
      },
      {
       "output_type": "stream",
       "stream": "stderr",
       "text": [
        "INFO:workflow:Executing node gendofvolume.a1 in dir: /home/felice/workflow_folders/in_limbo_level2_felice_fsl/in_limbo_mixedfx/_threshold_2.5/gendofvolume\n"
       ]
      },
      {
       "output_type": "stream",
       "stream": "stderr",
       "text": [
        "INFO:workflow:Executing node flameo.a1 in dir: /home/felice/workflow_folders/in_limbo_level2_felice_fsl/in_limbo_mixedfx/_threshold_2.5/flameo\n"
       ]
      },
      {
       "output_type": "stream",
       "stream": "stderr",
       "text": [
        "INFO:workflow:Executing node _flameo0 in dir: /home/felice/workflow_folders/in_limbo_level2_felice_fsl/in_limbo_mixedfx/_threshold_2.5/flameo/mapflow/_flameo0\n"
       ]
      },
      {
       "output_type": "stream",
       "stream": "stderr",
       "text": [
        "INFO:workflow:Running: flameo --copefile=/home/felice/workflow_folders/in_limbo_level2_felice_fsl/in_limbo_mixedfx/_threshold_2.5/copemerge/mapflow/_copemerge0/cope_in_limbo_merged.nii.gz --covsplitfile=/home/felice/workflow_folders/in_limbo_level2_felice_fsl/in_limbo_mixedfx/l2model/design.grp --designfile=/home/felice/workflow_folders/in_limbo_level2_felice_fsl/in_limbo_mixedfx/l2model/design.mat --dofvarcopefile=/home/felice/workflow_folders/in_limbo_level2_felice_fsl/in_limbo_mixedfx/_threshold_2.5/gendofvolume/dof_file.nii.gz --ld=stats --maskfile=/usr/share/fsl/data/standard/MNI152_T1_2mm_brain_mask.nii.gz --runmode=fe --tcontrastsfile=/home/felice/workflow_folders/in_limbo_level2_felice_fsl/in_limbo_mixedfx/l2model/design.con --varcopefile=/home/felice/workflow_folders/in_limbo_level2_felice_fsl/in_limbo_mixedfx/varcopemerge/mapflow/_varcopemerge0/task001_varcope08_merged.nii.gz\n"
       ]
      },
      {
       "output_type": "stream",
       "stream": "stderr",
       "text": [
        "INFO:interface:stdout 2015-01-28T19:02:47.844783:Log directory is: stats\n"
       ]
      },
      {
       "output_type": "stream",
       "stream": "stderr",
       "text": [
        "INFO:interface:stdout 2015-01-28T19:02:47.846162:Setting up:\n"
       ]
      },
      {
       "output_type": "stream",
       "stream": "stderr",
       "text": [
        "INFO:interface:stdout 2015-01-28T19:02:49.037831:ntptsing=26.000000 \n"
       ]
      },
      {
       "output_type": "stream",
       "stream": "stderr",
       "text": [
        "INFO:interface:stdout 2015-01-28T19:02:49.037831:\n"
       ]
      },
      {
       "output_type": "stream",
       "stream": "stderr",
       "text": [
        "INFO:interface:stdout 2015-01-28T19:02:49.037831:evs_group=1.000000 \n"
       ]
      },
      {
       "output_type": "stream",
       "stream": "stderr",
       "text": [
        "INFO:interface:stdout 2015-01-28T19:02:49.037831:\n"
       ]
      },
      {
       "output_type": "stream",
       "stream": "stderr",
       "text": [
        "INFO:interface:stdout 2015-01-28T19:02:49.044820:No f contrasts\n"
       ]
      },
      {
       "output_type": "stream",
       "stream": "stderr",
       "text": [
        "INFO:interface:stdout 2015-01-28T19:02:49.062661:\n"
       ]
      },
      {
       "output_type": "stream",
       "stream": "stderr",
       "text": [
        "INFO:interface:stdout 2015-01-28T19:02:49.062661:WARNING: The passed in varcope file, /home/felice/workflow_folders/in_limbo_level2_felice_fsl/in_limbo_mixedfx/varcopemerge/mapflow/_varcopemerge0/task001_varcope08_merged.nii.gz, contains voxels inside the mask with zero (or negative) values. These voxels will be excluded from the analysis.\n"
       ]
      },
      {
       "output_type": "stream",
       "stream": "stderr",
       "text": [
        "INFO:interface:stdout 2015-01-28T19:02:49.069800:nevs=1\n"
       ]
      },
      {
       "output_type": "stream",
       "stream": "stderr",
       "text": [
        "INFO:interface:stdout 2015-01-28T19:02:49.069800:ntpts=26\n"
       ]
      },
      {
       "output_type": "stream",
       "stream": "stderr",
       "text": [
        "INFO:interface:stdout 2015-01-28T19:02:49.069800:ngs=1\n"
       ]
      },
      {
       "output_type": "stream",
       "stream": "stderr",
       "text": [
        "INFO:interface:stdout 2015-01-28T19:02:49.069800:nvoxels=0\n"
       ]
      },
      {
       "output_type": "stream",
       "stream": "stderr",
       "text": [
        "INFO:interface:stdout 2015-01-28T19:02:49.115219:Running:\n"
       ]
      },
      {
       "output_type": "stream",
       "stream": "stderr",
       "text": [
        "INFO:interface:stdout 2015-01-28T19:02:49.115219:nmaskvoxels=0\n"
       ]
      },
      {
       "output_type": "stream",
       "stream": "stderr",
       "text": [
        "INFO:interface:stdout 2015-01-28T19:02:49.122112:\n"
       ]
      },
      {
       "output_type": "stream",
       "stream": "stderr",
       "text": [
        "INFO:interface:stdout 2015-01-28T19:02:49.122112:Saving results\n"
       ]
      },
      {
       "output_type": "stream",
       "stream": "stderr",
       "text": [
        "INFO:interface:stdout 2015-01-28T19:02:51.176684:\n"
       ]
      },
      {
       "output_type": "stream",
       "stream": "stderr",
       "text": [
        "INFO:interface:stdout 2015-01-28T19:02:51.176684:Log directory was: stats\n"
       ]
      },
      {
       "output_type": "stream",
       "stream": "stderr",
       "text": [
        "INFO:workflow:Executing node in_limbo_mapper.a1 in dir: /home/felice/workflow_folders/in_limbo_level2_felice_fsl/_threshold_2.5/in_limbo_mapper\n"
       ]
      },
      {
       "output_type": "stream",
       "stream": "stderr",
       "text": [
        "INFO:workflow:Executing node datasink.a1 in dir: /home/felice/workflow_folders/in_limbo_level2_felice_fsl/_threshold_2.5/datasink\n"
       ]
      },
      {
       "output_type": "stream",
       "stream": "stderr",
       "text": [
        "INFO:workflow:Executing node cluster.aI.a9 in dir: /home/felice/workflow_folders/in_limbo_level2_felice_fsl/_threshold_4.1/cluster\n"
       ]
      },
      {
       "output_type": "stream",
       "stream": "stderr",
       "text": [
        "INFO:workflow:Running: cluster --dlh=nan --in=/home/felice/workflow_folders/in_limbo_level2_felice_fsl/flameo/mapflow/_flameo0/stats/zstat1.nii.gz --othresh=/home/felice/workflow_folders/in_limbo_level2_felice_fsl/_threshold_4.1/cluster/zstat1_threshold.nii.gz --thresh=4.1000000000\n"
       ]
      },
      {
       "output_type": "stream",
       "stream": "stderr",
       "text": [
        "INFO:interface:stdout 2015-01-28T19:02:51.463225:Cluster Index\tVoxels\tMAX\tMAX X (vox)\tMAX Y (vox)\tMAX Z (vox)\tCOG X (vox)\tCOG Y (vox)\tCOG Z (vox)\n"
       ]
      },
      {
       "output_type": "stream",
       "stream": "stderr",
       "text": [
        "INFO:workflow:Executing node get_comparison_voxel.a9 in dir: /home/felice/workflow_folders/in_limbo_level2_felice_fsl/_threshold_4.1/get_comparison_voxel\n"
       ]
      },
      {
       "output_type": "stream",
       "stream": "stderr",
       "text": [
        "INFO:workflow:Executing node get_min_value.a9 in dir: /home/felice/workflow_folders/in_limbo_level2_felice_fsl/_threshold_4.1/get_min_value\n"
       ]
      },
      {
       "output_type": "stream",
       "stream": "stderr",
       "text": [
        "INFO:workflow:Executing node _get_min_value0 in dir: /home/felice/workflow_folders/in_limbo_level2_felice_fsl/_threshold_4.1/get_min_value/mapflow/_get_min_value0\n"
       ]
      },
      {
       "output_type": "stream",
       "stream": "stderr",
       "text": [
        "INFO:workflow:Executing node _get_min_value1 in dir: /home/felice/workflow_folders/in_limbo_level2_felice_fsl/_threshold_4.1/get_min_value/mapflow/_get_min_value1\n"
       ]
      },
      {
       "output_type": "stream",
       "stream": "stderr",
       "text": [
        "INFO:workflow:Executing node _get_min_value2 in dir: /home/felice/workflow_folders/in_limbo_level2_felice_fsl/_threshold_4.1/get_min_value/mapflow/_get_min_value2\n"
       ]
      },
      {
       "output_type": "stream",
       "stream": "stderr",
       "text": [
        "INFO:workflow:Executing node _get_min_value3 in dir: /home/felice/workflow_folders/in_limbo_level2_felice_fsl/_threshold_4.1/get_min_value/mapflow/_get_min_value3\n"
       ]
      },
      {
       "output_type": "stream",
       "stream": "stderr",
       "text": [
        "INFO:workflow:Executing node _get_min_value4 in dir: /home/felice/workflow_folders/in_limbo_level2_felice_fsl/_threshold_4.1/get_min_value/mapflow/_get_min_value4\n"
       ]
      },
      {
       "output_type": "stream",
       "stream": "stderr",
       "text": [
        "INFO:workflow:Executing node _get_min_value5 in dir: /home/felice/workflow_folders/in_limbo_level2_felice_fsl/_threshold_4.1/get_min_value/mapflow/_get_min_value5\n"
       ]
      },
      {
       "output_type": "stream",
       "stream": "stderr",
       "text": [
        "INFO:workflow:Executing node _get_min_value6 in dir: /home/felice/workflow_folders/in_limbo_level2_felice_fsl/_threshold_4.1/get_min_value/mapflow/_get_min_value6\n"
       ]
      },
      {
       "output_type": "stream",
       "stream": "stderr",
       "text": [
        "INFO:workflow:Executing node _get_min_value7 in dir: /home/felice/workflow_folders/in_limbo_level2_felice_fsl/_threshold_4.1/get_min_value/mapflow/_get_min_value7\n"
       ]
      },
      {
       "output_type": "stream",
       "stream": "stderr",
       "text": [
        "INFO:workflow:Executing node _get_min_value8 in dir: /home/felice/workflow_folders/in_limbo_level2_felice_fsl/_threshold_4.1/get_min_value/mapflow/_get_min_value8\n"
       ]
      },
      {
       "output_type": "stream",
       "stream": "stderr",
       "text": [
        "INFO:workflow:Executing node _get_min_value9 in dir: /home/felice/workflow_folders/in_limbo_level2_felice_fsl/_threshold_4.1/get_min_value/mapflow/_get_min_value9\n"
       ]
      },
      {
       "output_type": "stream",
       "stream": "stderr",
       "text": [
        "INFO:workflow:Executing node _get_min_value10 in dir: /home/felice/workflow_folders/in_limbo_level2_felice_fsl/_threshold_4.1/get_min_value/mapflow/_get_min_value10\n"
       ]
      },
      {
       "output_type": "stream",
       "stream": "stderr",
       "text": [
        "INFO:workflow:Executing node _get_min_value11 in dir: /home/felice/workflow_folders/in_limbo_level2_felice_fsl/_threshold_4.1/get_min_value/mapflow/_get_min_value11\n"
       ]
      },
      {
       "output_type": "stream",
       "stream": "stderr",
       "text": [
        "INFO:workflow:Executing node _get_min_value12 in dir: /home/felice/workflow_folders/in_limbo_level2_felice_fsl/_threshold_4.1/get_min_value/mapflow/_get_min_value12\n"
       ]
      },
      {
       "output_type": "stream",
       "stream": "stderr",
       "text": [
        "INFO:workflow:Executing node _get_min_value13 in dir: /home/felice/workflow_folders/in_limbo_level2_felice_fsl/_threshold_4.1/get_min_value/mapflow/_get_min_value13\n"
       ]
      },
      {
       "output_type": "stream",
       "stream": "stderr",
       "text": [
        "INFO:workflow:Executing node _get_min_value14 in dir: /home/felice/workflow_folders/in_limbo_level2_felice_fsl/_threshold_4.1/get_min_value/mapflow/_get_min_value14\n"
       ]
      },
      {
       "output_type": "stream",
       "stream": "stderr",
       "text": [
        "INFO:workflow:Executing node _get_min_value15 in dir: /home/felice/workflow_folders/in_limbo_level2_felice_fsl/_threshold_4.1/get_min_value/mapflow/_get_min_value15\n"
       ]
      },
      {
       "output_type": "stream",
       "stream": "stderr",
       "text": [
        "INFO:workflow:Executing node _get_min_value16 in dir: /home/felice/workflow_folders/in_limbo_level2_felice_fsl/_threshold_4.1/get_min_value/mapflow/_get_min_value16\n"
       ]
      },
      {
       "output_type": "stream",
       "stream": "stderr",
       "text": [
        "INFO:workflow:Executing node _get_min_value17 in dir: /home/felice/workflow_folders/in_limbo_level2_felice_fsl/_threshold_4.1/get_min_value/mapflow/_get_min_value17\n"
       ]
      },
      {
       "output_type": "stream",
       "stream": "stderr",
       "text": [
        "INFO:workflow:Executing node _get_min_value18 in dir: /home/felice/workflow_folders/in_limbo_level2_felice_fsl/_threshold_4.1/get_min_value/mapflow/_get_min_value18\n"
       ]
      },
      {
       "output_type": "stream",
       "stream": "stderr",
       "text": [
        "INFO:workflow:Executing node _get_min_value19 in dir: /home/felice/workflow_folders/in_limbo_level2_felice_fsl/_threshold_4.1/get_min_value/mapflow/_get_min_value19\n"
       ]
      },
      {
       "output_type": "stream",
       "stream": "stderr",
       "text": [
        "INFO:workflow:Executing node _get_min_value20 in dir: /home/felice/workflow_folders/in_limbo_level2_felice_fsl/_threshold_4.1/get_min_value/mapflow/_get_min_value20\n"
       ]
      },
      {
       "output_type": "stream",
       "stream": "stderr",
       "text": [
        "INFO:workflow:Executing node _get_min_value21 in dir: /home/felice/workflow_folders/in_limbo_level2_felice_fsl/_threshold_4.1/get_min_value/mapflow/_get_min_value21\n"
       ]
      },
      {
       "output_type": "stream",
       "stream": "stderr",
       "text": [
        "INFO:workflow:Executing node _get_min_value22 in dir: /home/felice/workflow_folders/in_limbo_level2_felice_fsl/_threshold_4.1/get_min_value/mapflow/_get_min_value22\n"
       ]
      },
      {
       "output_type": "stream",
       "stream": "stderr",
       "text": [
        "INFO:workflow:Executing node _get_min_value23 in dir: /home/felice/workflow_folders/in_limbo_level2_felice_fsl/_threshold_4.1/get_min_value/mapflow/_get_min_value23\n"
       ]
      },
      {
       "output_type": "stream",
       "stream": "stderr",
       "text": [
        "INFO:workflow:Executing node _get_min_value24 in dir: /home/felice/workflow_folders/in_limbo_level2_felice_fsl/_threshold_4.1/get_min_value/mapflow/_get_min_value24\n"
       ]
      },
      {
       "output_type": "stream",
       "stream": "stderr",
       "text": [
        "INFO:workflow:Executing node _get_min_value25 in dir: /home/felice/workflow_folders/in_limbo_level2_felice_fsl/_threshold_4.1/get_min_value/mapflow/_get_min_value25\n"
       ]
      },
      {
       "output_type": "stream",
       "stream": "stderr",
       "text": [
        "INFO:workflow:Executing node subtract_from_cope.a9 in dir: /home/felice/workflow_folders/in_limbo_level2_felice_fsl/_threshold_4.1/subtract_from_cope\n"
       ]
      },
      {
       "output_type": "stream",
       "stream": "stderr",
       "text": [
        "INFO:workflow:Executing node _subtract_from_cope0 in dir: /home/felice/workflow_folders/in_limbo_level2_felice_fsl/_threshold_4.1/subtract_from_cope/mapflow/_subtract_from_cope0\n"
       ]
      },
      {
       "output_type": "stream",
       "stream": "stderr",
       "text": [
        "INFO:workflow:Executing node _subtract_from_cope1 in dir: /home/felice/workflow_folders/in_limbo_level2_felice_fsl/_threshold_4.1/subtract_from_cope/mapflow/_subtract_from_cope1\n"
       ]
      },
      {
       "output_type": "stream",
       "stream": "stderr",
       "text": [
        "INFO:workflow:Executing node _subtract_from_cope2 in dir: /home/felice/workflow_folders/in_limbo_level2_felice_fsl/_threshold_4.1/subtract_from_cope/mapflow/_subtract_from_cope2\n"
       ]
      },
      {
       "output_type": "stream",
       "stream": "stderr",
       "text": [
        "INFO:workflow:Executing node _subtract_from_cope3 in dir: /home/felice/workflow_folders/in_limbo_level2_felice_fsl/_threshold_4.1/subtract_from_cope/mapflow/_subtract_from_cope3\n"
       ]
      },
      {
       "output_type": "stream",
       "stream": "stderr",
       "text": [
        "INFO:workflow:Executing node _subtract_from_cope4 in dir: /home/felice/workflow_folders/in_limbo_level2_felice_fsl/_threshold_4.1/subtract_from_cope/mapflow/_subtract_from_cope4\n"
       ]
      },
      {
       "output_type": "stream",
       "stream": "stderr",
       "text": [
        "INFO:workflow:Executing node _subtract_from_cope5 in dir: /home/felice/workflow_folders/in_limbo_level2_felice_fsl/_threshold_4.1/subtract_from_cope/mapflow/_subtract_from_cope5\n"
       ]
      },
      {
       "output_type": "stream",
       "stream": "stderr",
       "text": [
        "INFO:workflow:Executing node _subtract_from_cope6 in dir: /home/felice/workflow_folders/in_limbo_level2_felice_fsl/_threshold_4.1/subtract_from_cope/mapflow/_subtract_from_cope6\n"
       ]
      },
      {
       "output_type": "stream",
       "stream": "stderr",
       "text": [
        "INFO:workflow:Executing node _subtract_from_cope7 in dir: /home/felice/workflow_folders/in_limbo_level2_felice_fsl/_threshold_4.1/subtract_from_cope/mapflow/_subtract_from_cope7\n"
       ]
      },
      {
       "output_type": "stream",
       "stream": "stderr",
       "text": [
        "INFO:workflow:Executing node _subtract_from_cope8 in dir: /home/felice/workflow_folders/in_limbo_level2_felice_fsl/_threshold_4.1/subtract_from_cope/mapflow/_subtract_from_cope8\n"
       ]
      },
      {
       "output_type": "stream",
       "stream": "stderr",
       "text": [
        "INFO:workflow:Executing node _subtract_from_cope9 in dir: /home/felice/workflow_folders/in_limbo_level2_felice_fsl/_threshold_4.1/subtract_from_cope/mapflow/_subtract_from_cope9\n"
       ]
      },
      {
       "output_type": "stream",
       "stream": "stderr",
       "text": [
        "INFO:workflow:Executing node _subtract_from_cope10 in dir: /home/felice/workflow_folders/in_limbo_level2_felice_fsl/_threshold_4.1/subtract_from_cope/mapflow/_subtract_from_cope10\n"
       ]
      },
      {
       "output_type": "stream",
       "stream": "stderr",
       "text": [
        "INFO:workflow:Executing node _subtract_from_cope11 in dir: /home/felice/workflow_folders/in_limbo_level2_felice_fsl/_threshold_4.1/subtract_from_cope/mapflow/_subtract_from_cope11\n"
       ]
      },
      {
       "output_type": "stream",
       "stream": "stderr",
       "text": [
        "INFO:workflow:Executing node _subtract_from_cope12 in dir: /home/felice/workflow_folders/in_limbo_level2_felice_fsl/_threshold_4.1/subtract_from_cope/mapflow/_subtract_from_cope12\n"
       ]
      },
      {
       "output_type": "stream",
       "stream": "stderr",
       "text": [
        "INFO:workflow:Executing node _subtract_from_cope13 in dir: /home/felice/workflow_folders/in_limbo_level2_felice_fsl/_threshold_4.1/subtract_from_cope/mapflow/_subtract_from_cope13\n"
       ]
      },
      {
       "output_type": "stream",
       "stream": "stderr",
       "text": [
        "INFO:workflow:Executing node _subtract_from_cope14 in dir: /home/felice/workflow_folders/in_limbo_level2_felice_fsl/_threshold_4.1/subtract_from_cope/mapflow/_subtract_from_cope14\n"
       ]
      },
      {
       "output_type": "stream",
       "stream": "stderr",
       "text": [
        "INFO:workflow:Executing node _subtract_from_cope15 in dir: /home/felice/workflow_folders/in_limbo_level2_felice_fsl/_threshold_4.1/subtract_from_cope/mapflow/_subtract_from_cope15\n"
       ]
      },
      {
       "output_type": "stream",
       "stream": "stderr",
       "text": [
        "INFO:workflow:Executing node _subtract_from_cope16 in dir: /home/felice/workflow_folders/in_limbo_level2_felice_fsl/_threshold_4.1/subtract_from_cope/mapflow/_subtract_from_cope16\n"
       ]
      },
      {
       "output_type": "stream",
       "stream": "stderr",
       "text": [
        "INFO:workflow:Executing node _subtract_from_cope17 in dir: /home/felice/workflow_folders/in_limbo_level2_felice_fsl/_threshold_4.1/subtract_from_cope/mapflow/_subtract_from_cope17\n"
       ]
      },
      {
       "output_type": "stream",
       "stream": "stderr",
       "text": [
        "INFO:workflow:Executing node _subtract_from_cope18 in dir: /home/felice/workflow_folders/in_limbo_level2_felice_fsl/_threshold_4.1/subtract_from_cope/mapflow/_subtract_from_cope18\n"
       ]
      },
      {
       "output_type": "stream",
       "stream": "stderr",
       "text": [
        "INFO:workflow:Executing node _subtract_from_cope19 in dir: /home/felice/workflow_folders/in_limbo_level2_felice_fsl/_threshold_4.1/subtract_from_cope/mapflow/_subtract_from_cope19\n"
       ]
      },
      {
       "output_type": "stream",
       "stream": "stderr",
       "text": [
        "INFO:workflow:Executing node _subtract_from_cope20 in dir: /home/felice/workflow_folders/in_limbo_level2_felice_fsl/_threshold_4.1/subtract_from_cope/mapflow/_subtract_from_cope20\n"
       ]
      },
      {
       "output_type": "stream",
       "stream": "stderr",
       "text": [
        "INFO:workflow:Executing node _subtract_from_cope21 in dir: /home/felice/workflow_folders/in_limbo_level2_felice_fsl/_threshold_4.1/subtract_from_cope/mapflow/_subtract_from_cope21\n"
       ]
      },
      {
       "output_type": "stream",
       "stream": "stderr",
       "text": [
        "INFO:workflow:Executing node _subtract_from_cope22 in dir: /home/felice/workflow_folders/in_limbo_level2_felice_fsl/_threshold_4.1/subtract_from_cope/mapflow/_subtract_from_cope22\n"
       ]
      },
      {
       "output_type": "stream",
       "stream": "stderr",
       "text": [
        "INFO:workflow:Executing node _subtract_from_cope23 in dir: /home/felice/workflow_folders/in_limbo_level2_felice_fsl/_threshold_4.1/subtract_from_cope/mapflow/_subtract_from_cope23\n"
       ]
      },
      {
       "output_type": "stream",
       "stream": "stderr",
       "text": [
        "INFO:workflow:Executing node _subtract_from_cope24 in dir: /home/felice/workflow_folders/in_limbo_level2_felice_fsl/_threshold_4.1/subtract_from_cope/mapflow/_subtract_from_cope24\n"
       ]
      },
      {
       "output_type": "stream",
       "stream": "stderr",
       "text": [
        "INFO:workflow:Executing node _subtract_from_cope25 in dir: /home/felice/workflow_folders/in_limbo_level2_felice_fsl/_threshold_4.1/subtract_from_cope/mapflow/_subtract_from_cope25\n"
       ]
      },
      {
       "output_type": "stream",
       "stream": "stderr",
       "text": [
        "INFO:workflow:Executing node copemerge.a9 in dir: /home/felice/workflow_folders/in_limbo_level2_felice_fsl/in_limbo_mixedfx/_threshold_4.1/copemerge\n"
       ]
      },
      {
       "output_type": "stream",
       "stream": "stderr",
       "text": [
        "INFO:workflow:Executing node _copemerge0 in dir: /home/felice/workflow_folders/in_limbo_level2_felice_fsl/in_limbo_mixedfx/_threshold_4.1/copemerge/mapflow/_copemerge0\n"
       ]
      },
      {
       "output_type": "stream",
       "stream": "stderr",
       "text": [
        "INFO:workflow:Running: fslmerge -t cope_in_limbo_merged.nii.gz /home/felice/workflow_folders/in_limbo_level2_felice_fsl/_threshold_4.1/subtract_from_cope/mapflow/_subtract_from_cope0/cope_in_limbo.nii.gz /home/felice/workflow_folders/in_limbo_level2_felice_fsl/_threshold_4.1/subtract_from_cope/mapflow/_subtract_from_cope1/cope_in_limbo.nii.gz /home/felice/workflow_folders/in_limbo_level2_felice_fsl/_threshold_4.1/subtract_from_cope/mapflow/_subtract_from_cope2/cope_in_limbo.nii.gz /home/felice/workflow_folders/in_limbo_level2_felice_fsl/_threshold_4.1/subtract_from_cope/mapflow/_subtract_from_cope3/cope_in_limbo.nii.gz /home/felice/workflow_folders/in_limbo_level2_felice_fsl/_threshold_4.1/subtract_from_cope/mapflow/_subtract_from_cope4/cope_in_limbo.nii.gz /home/felice/workflow_folders/in_limbo_level2_felice_fsl/_threshold_4.1/subtract_from_cope/mapflow/_subtract_from_cope5/cope_in_limbo.nii.gz /home/felice/workflow_folders/in_limbo_level2_felice_fsl/_threshold_4.1/subtract_from_cope/mapflow/_subtract_from_cope6/cope_in_limbo.nii.gz /home/felice/workflow_folders/in_limbo_level2_felice_fsl/_threshold_4.1/subtract_from_cope/mapflow/_subtract_from_cope7/cope_in_limbo.nii.gz /home/felice/workflow_folders/in_limbo_level2_felice_fsl/_threshold_4.1/subtract_from_cope/mapflow/_subtract_from_cope8/cope_in_limbo.nii.gz /home/felice/workflow_folders/in_limbo_level2_felice_fsl/_threshold_4.1/subtract_from_cope/mapflow/_subtract_from_cope9/cope_in_limbo.nii.gz /home/felice/workflow_folders/in_limbo_level2_felice_fsl/_threshold_4.1/subtract_from_cope/mapflow/_subtract_from_cope10/cope_in_limbo.nii.gz /home/felice/workflow_folders/in_limbo_level2_felice_fsl/_threshold_4.1/subtract_from_cope/mapflow/_subtract_from_cope11/cope_in_limbo.nii.gz /home/felice/workflow_folders/in_limbo_level2_felice_fsl/_threshold_4.1/subtract_from_cope/mapflow/_subtract_from_cope12/cope_in_limbo.nii.gz /home/felice/workflow_folders/in_limbo_level2_felice_fsl/_threshold_4.1/subtract_from_cope/mapflow/_subtract_from_cope13/cope_in_limbo.nii.gz /home/felice/workflow_folders/in_limbo_level2_felice_fsl/_threshold_4.1/subtract_from_cope/mapflow/_subtract_from_cope14/cope_in_limbo.nii.gz /home/felice/workflow_folders/in_limbo_level2_felice_fsl/_threshold_4.1/subtract_from_cope/mapflow/_subtract_from_cope15/cope_in_limbo.nii.gz /home/felice/workflow_folders/in_limbo_level2_felice_fsl/_threshold_4.1/subtract_from_cope/mapflow/_subtract_from_cope16/cope_in_limbo.nii.gz /home/felice/workflow_folders/in_limbo_level2_felice_fsl/_threshold_4.1/subtract_from_cope/mapflow/_subtract_from_cope17/cope_in_limbo.nii.gz /home/felice/workflow_folders/in_limbo_level2_felice_fsl/_threshold_4.1/subtract_from_cope/mapflow/_subtract_from_cope18/cope_in_limbo.nii.gz /home/felice/workflow_folders/in_limbo_level2_felice_fsl/_threshold_4.1/subtract_from_cope/mapflow/_subtract_from_cope19/cope_in_limbo.nii.gz /home/felice/workflow_folders/in_limbo_level2_felice_fsl/_threshold_4.1/subtract_from_cope/mapflow/_subtract_from_cope20/cope_in_limbo.nii.gz /home/felice/workflow_folders/in_limbo_level2_felice_fsl/_threshold_4.1/subtract_from_cope/mapflow/_subtract_from_cope21/cope_in_limbo.nii.gz /home/felice/workflow_folders/in_limbo_level2_felice_fsl/_threshold_4.1/subtract_from_cope/mapflow/_subtract_from_cope22/cope_in_limbo.nii.gz /home/felice/workflow_folders/in_limbo_level2_felice_fsl/_threshold_4.1/subtract_from_cope/mapflow/_subtract_from_cope23/cope_in_limbo.nii.gz /home/felice/workflow_folders/in_limbo_level2_felice_fsl/_threshold_4.1/subtract_from_cope/mapflow/_subtract_from_cope24/cope_in_limbo.nii.gz /home/felice/workflow_folders/in_limbo_level2_felice_fsl/_threshold_4.1/subtract_from_cope/mapflow/_subtract_from_cope25/cope_in_limbo.nii.gz\n"
       ]
      },
      {
       "output_type": "stream",
       "stream": "stderr",
       "text": [
        "INFO:workflow:Executing node gendofvolume.a9 in dir: /home/felice/workflow_folders/in_limbo_level2_felice_fsl/in_limbo_mixedfx/_threshold_4.1/gendofvolume\n"
       ]
      },
      {
       "output_type": "stream",
       "stream": "stderr",
       "text": [
        "INFO:workflow:Executing node flameo.a9 in dir: /home/felice/workflow_folders/in_limbo_level2_felice_fsl/in_limbo_mixedfx/_threshold_4.1/flameo\n"
       ]
      },
      {
       "output_type": "stream",
       "stream": "stderr",
       "text": [
        "INFO:workflow:Executing node _flameo0 in dir: /home/felice/workflow_folders/in_limbo_level2_felice_fsl/in_limbo_mixedfx/_threshold_4.1/flameo/mapflow/_flameo0\n"
       ]
      },
      {
       "output_type": "stream",
       "stream": "stderr",
       "text": [
        "INFO:workflow:Running: flameo --copefile=/home/felice/workflow_folders/in_limbo_level2_felice_fsl/in_limbo_mixedfx/_threshold_4.1/copemerge/mapflow/_copemerge0/cope_in_limbo_merged.nii.gz --covsplitfile=/home/felice/workflow_folders/in_limbo_level2_felice_fsl/in_limbo_mixedfx/l2model/design.grp --designfile=/home/felice/workflow_folders/in_limbo_level2_felice_fsl/in_limbo_mixedfx/l2model/design.mat --dofvarcopefile=/home/felice/workflow_folders/in_limbo_level2_felice_fsl/in_limbo_mixedfx/_threshold_4.1/gendofvolume/dof_file.nii.gz --ld=stats --maskfile=/usr/share/fsl/data/standard/MNI152_T1_2mm_brain_mask.nii.gz --runmode=fe --tcontrastsfile=/home/felice/workflow_folders/in_limbo_level2_felice_fsl/in_limbo_mixedfx/l2model/design.con --varcopefile=/home/felice/workflow_folders/in_limbo_level2_felice_fsl/in_limbo_mixedfx/varcopemerge/mapflow/_varcopemerge0/task001_varcope08_merged.nii.gz\n"
       ]
      },
      {
       "output_type": "stream",
       "stream": "stderr",
       "text": [
        "INFO:interface:stdout 2015-01-28T19:02:57.123265:Log directory is: stats\n"
       ]
      },
      {
       "output_type": "stream",
       "stream": "stderr",
       "text": [
        "INFO:interface:stdout 2015-01-28T19:02:57.124435:Setting up:\n"
       ]
      },
      {
       "output_type": "stream",
       "stream": "stderr",
       "text": [
        "INFO:interface:stdout 2015-01-28T19:02:58.314248:ntptsing=26.000000 \n"
       ]
      },
      {
       "output_type": "stream",
       "stream": "stderr",
       "text": [
        "INFO:interface:stdout 2015-01-28T19:02:58.314248:\n"
       ]
      },
      {
       "output_type": "stream",
       "stream": "stderr",
       "text": [
        "INFO:interface:stdout 2015-01-28T19:02:58.314248:evs_group=1.000000 \n"
       ]
      },
      {
       "output_type": "stream",
       "stream": "stderr",
       "text": [
        "INFO:interface:stdout 2015-01-28T19:02:58.314248:\n"
       ]
      },
      {
       "output_type": "stream",
       "stream": "stderr",
       "text": [
        "INFO:interface:stdout 2015-01-28T19:02:58.319405:No f contrasts\n"
       ]
      },
      {
       "output_type": "stream",
       "stream": "stderr",
       "text": [
        "INFO:interface:stdout 2015-01-28T19:02:58.334046:\n"
       ]
      },
      {
       "output_type": "stream",
       "stream": "stderr",
       "text": [
        "INFO:interface:stdout 2015-01-28T19:02:58.334046:WARNING: The passed in varcope file, /home/felice/workflow_folders/in_limbo_level2_felice_fsl/in_limbo_mixedfx/varcopemerge/mapflow/_varcopemerge0/task001_varcope08_merged.nii.gz, contains voxels inside the mask with zero (or negative) values. These voxels will be excluded from the analysis.\n"
       ]
      },
      {
       "output_type": "stream",
       "stream": "stderr",
       "text": [
        "INFO:interface:stdout 2015-01-28T19:02:58.340990:nevs=1\n"
       ]
      },
      {
       "output_type": "stream",
       "stream": "stderr",
       "text": [
        "INFO:interface:stdout 2015-01-28T19:02:58.340990:ntpts=26\n"
       ]
      },
      {
       "output_type": "stream",
       "stream": "stderr",
       "text": [
        "INFO:interface:stdout 2015-01-28T19:02:58.340990:ngs=1\n"
       ]
      },
      {
       "output_type": "stream",
       "stream": "stderr",
       "text": [
        "INFO:interface:stdout 2015-01-28T19:02:58.340990:nvoxels=0\n"
       ]
      },
      {
       "output_type": "stream",
       "stream": "stderr",
       "text": [
        "INFO:interface:stdout 2015-01-28T19:02:58.385692:Running:\n"
       ]
      },
      {
       "output_type": "stream",
       "stream": "stderr",
       "text": [
        "INFO:interface:stdout 2015-01-28T19:02:58.385692:nmaskvoxels=0\n"
       ]
      },
      {
       "output_type": "stream",
       "stream": "stderr",
       "text": [
        "INFO:interface:stdout 2015-01-28T19:02:58.392410:\n"
       ]
      },
      {
       "output_type": "stream",
       "stream": "stderr",
       "text": [
        "INFO:interface:stdout 2015-01-28T19:02:58.392410:Saving results\n"
       ]
      },
      {
       "output_type": "stream",
       "stream": "stderr",
       "text": [
        "INFO:interface:stdout 2015-01-28T19:03:00.456998:\n"
       ]
      },
      {
       "output_type": "stream",
       "stream": "stderr",
       "text": [
        "INFO:interface:stdout 2015-01-28T19:03:00.456998:Log directory was: stats\n"
       ]
      },
      {
       "output_type": "stream",
       "stream": "stderr",
       "text": [
        "INFO:workflow:Executing node in_limbo_mapper.a9 in dir: /home/felice/workflow_folders/in_limbo_level2_felice_fsl/_threshold_4.1/in_limbo_mapper\n"
       ]
      },
      {
       "output_type": "stream",
       "stream": "stderr",
       "text": [
        "INFO:workflow:Executing node datasink.a9 in dir: /home/felice/workflow_folders/in_limbo_level2_felice_fsl/_threshold_4.1/datasink\n"
       ]
      },
      {
       "output_type": "stream",
       "stream": "stderr",
       "text": [
        "INFO:workflow:Executing node get_min_value.a4 in dir: /home/felice/workflow_folders/in_limbo_level2_felice_fsl/_threshold_3.1/get_min_value\n"
       ]
      },
      {
       "output_type": "stream",
       "stream": "stderr",
       "text": [
        "INFO:workflow:Executing node _get_min_value0 in dir: /home/felice/workflow_folders/in_limbo_level2_felice_fsl/_threshold_3.1/get_min_value/mapflow/_get_min_value0\n"
       ]
      },
      {
       "output_type": "stream",
       "stream": "stderr",
       "text": [
        "INFO:workflow:Executing node _get_min_value1 in dir: /home/felice/workflow_folders/in_limbo_level2_felice_fsl/_threshold_3.1/get_min_value/mapflow/_get_min_value1\n"
       ]
      },
      {
       "output_type": "stream",
       "stream": "stderr",
       "text": [
        "INFO:workflow:Executing node _get_min_value2 in dir: /home/felice/workflow_folders/in_limbo_level2_felice_fsl/_threshold_3.1/get_min_value/mapflow/_get_min_value2\n"
       ]
      },
      {
       "output_type": "stream",
       "stream": "stderr",
       "text": [
        "INFO:workflow:Executing node _get_min_value3 in dir: /home/felice/workflow_folders/in_limbo_level2_felice_fsl/_threshold_3.1/get_min_value/mapflow/_get_min_value3\n"
       ]
      },
      {
       "output_type": "stream",
       "stream": "stderr",
       "text": [
        "INFO:workflow:Executing node _get_min_value4 in dir: /home/felice/workflow_folders/in_limbo_level2_felice_fsl/_threshold_3.1/get_min_value/mapflow/_get_min_value4\n"
       ]
      },
      {
       "output_type": "stream",
       "stream": "stderr",
       "text": [
        "INFO:workflow:Executing node _get_min_value5 in dir: /home/felice/workflow_folders/in_limbo_level2_felice_fsl/_threshold_3.1/get_min_value/mapflow/_get_min_value5\n"
       ]
      },
      {
       "output_type": "stream",
       "stream": "stderr",
       "text": [
        "INFO:workflow:Executing node _get_min_value6 in dir: /home/felice/workflow_folders/in_limbo_level2_felice_fsl/_threshold_3.1/get_min_value/mapflow/_get_min_value6\n"
       ]
      },
      {
       "output_type": "stream",
       "stream": "stderr",
       "text": [
        "INFO:workflow:Executing node _get_min_value7 in dir: /home/felice/workflow_folders/in_limbo_level2_felice_fsl/_threshold_3.1/get_min_value/mapflow/_get_min_value7\n"
       ]
      },
      {
       "output_type": "stream",
       "stream": "stderr",
       "text": [
        "INFO:workflow:Executing node _get_min_value8 in dir: /home/felice/workflow_folders/in_limbo_level2_felice_fsl/_threshold_3.1/get_min_value/mapflow/_get_min_value8\n"
       ]
      },
      {
       "output_type": "stream",
       "stream": "stderr",
       "text": [
        "INFO:workflow:Executing node _get_min_value9 in dir: /home/felice/workflow_folders/in_limbo_level2_felice_fsl/_threshold_3.1/get_min_value/mapflow/_get_min_value9\n"
       ]
      },
      {
       "output_type": "stream",
       "stream": "stderr",
       "text": [
        "INFO:workflow:Executing node _get_min_value10 in dir: /home/felice/workflow_folders/in_limbo_level2_felice_fsl/_threshold_3.1/get_min_value/mapflow/_get_min_value10\n"
       ]
      },
      {
       "output_type": "stream",
       "stream": "stderr",
       "text": [
        "INFO:workflow:Executing node _get_min_value11 in dir: /home/felice/workflow_folders/in_limbo_level2_felice_fsl/_threshold_3.1/get_min_value/mapflow/_get_min_value11\n"
       ]
      },
      {
       "output_type": "stream",
       "stream": "stderr",
       "text": [
        "INFO:workflow:Executing node _get_min_value12 in dir: /home/felice/workflow_folders/in_limbo_level2_felice_fsl/_threshold_3.1/get_min_value/mapflow/_get_min_value12\n"
       ]
      },
      {
       "output_type": "stream",
       "stream": "stderr",
       "text": [
        "INFO:workflow:Executing node _get_min_value13 in dir: /home/felice/workflow_folders/in_limbo_level2_felice_fsl/_threshold_3.1/get_min_value/mapflow/_get_min_value13\n"
       ]
      },
      {
       "output_type": "stream",
       "stream": "stderr",
       "text": [
        "INFO:workflow:Executing node _get_min_value14 in dir: /home/felice/workflow_folders/in_limbo_level2_felice_fsl/_threshold_3.1/get_min_value/mapflow/_get_min_value14\n"
       ]
      },
      {
       "output_type": "stream",
       "stream": "stderr",
       "text": [
        "INFO:workflow:Executing node _get_min_value15 in dir: /home/felice/workflow_folders/in_limbo_level2_felice_fsl/_threshold_3.1/get_min_value/mapflow/_get_min_value15\n"
       ]
      },
      {
       "output_type": "stream",
       "stream": "stderr",
       "text": [
        "INFO:workflow:Executing node _get_min_value16 in dir: /home/felice/workflow_folders/in_limbo_level2_felice_fsl/_threshold_3.1/get_min_value/mapflow/_get_min_value16\n"
       ]
      },
      {
       "output_type": "stream",
       "stream": "stderr",
       "text": [
        "INFO:workflow:Executing node _get_min_value17 in dir: /home/felice/workflow_folders/in_limbo_level2_felice_fsl/_threshold_3.1/get_min_value/mapflow/_get_min_value17\n"
       ]
      },
      {
       "output_type": "stream",
       "stream": "stderr",
       "text": [
        "INFO:workflow:Executing node _get_min_value18 in dir: /home/felice/workflow_folders/in_limbo_level2_felice_fsl/_threshold_3.1/get_min_value/mapflow/_get_min_value18\n"
       ]
      },
      {
       "output_type": "stream",
       "stream": "stderr",
       "text": [
        "INFO:workflow:Executing node _get_min_value19 in dir: /home/felice/workflow_folders/in_limbo_level2_felice_fsl/_threshold_3.1/get_min_value/mapflow/_get_min_value19\n"
       ]
      },
      {
       "output_type": "stream",
       "stream": "stderr",
       "text": [
        "INFO:workflow:Executing node _get_min_value20 in dir: /home/felice/workflow_folders/in_limbo_level2_felice_fsl/_threshold_3.1/get_min_value/mapflow/_get_min_value20\n"
       ]
      },
      {
       "output_type": "stream",
       "stream": "stderr",
       "text": [
        "INFO:workflow:Executing node _get_min_value21 in dir: /home/felice/workflow_folders/in_limbo_level2_felice_fsl/_threshold_3.1/get_min_value/mapflow/_get_min_value21\n"
       ]
      },
      {
       "output_type": "stream",
       "stream": "stderr",
       "text": [
        "INFO:workflow:Executing node _get_min_value22 in dir: /home/felice/workflow_folders/in_limbo_level2_felice_fsl/_threshold_3.1/get_min_value/mapflow/_get_min_value22\n"
       ]
      },
      {
       "output_type": "stream",
       "stream": "stderr",
       "text": [
        "INFO:workflow:Executing node _get_min_value23 in dir: /home/felice/workflow_folders/in_limbo_level2_felice_fsl/_threshold_3.1/get_min_value/mapflow/_get_min_value23\n"
       ]
      },
      {
       "output_type": "stream",
       "stream": "stderr",
       "text": [
        "INFO:workflow:Executing node _get_min_value24 in dir: /home/felice/workflow_folders/in_limbo_level2_felice_fsl/_threshold_3.1/get_min_value/mapflow/_get_min_value24\n"
       ]
      },
      {
       "output_type": "stream",
       "stream": "stderr",
       "text": [
        "INFO:workflow:Executing node _get_min_value25 in dir: /home/felice/workflow_folders/in_limbo_level2_felice_fsl/_threshold_3.1/get_min_value/mapflow/_get_min_value25\n"
       ]
      },
      {
       "output_type": "stream",
       "stream": "stderr",
       "text": [
        "INFO:workflow:Executing node subtract_from_cope.a4 in dir: /home/felice/workflow_folders/in_limbo_level2_felice_fsl/_threshold_3.1/subtract_from_cope\n"
       ]
      },
      {
       "output_type": "stream",
       "stream": "stderr",
       "text": [
        "INFO:workflow:Executing node _subtract_from_cope0 in dir: /home/felice/workflow_folders/in_limbo_level2_felice_fsl/_threshold_3.1/subtract_from_cope/mapflow/_subtract_from_cope0\n"
       ]
      },
      {
       "output_type": "stream",
       "stream": "stderr",
       "text": [
        "INFO:workflow:Executing node _subtract_from_cope1 in dir: /home/felice/workflow_folders/in_limbo_level2_felice_fsl/_threshold_3.1/subtract_from_cope/mapflow/_subtract_from_cope1\n"
       ]
      },
      {
       "output_type": "stream",
       "stream": "stderr",
       "text": [
        "INFO:workflow:Executing node _subtract_from_cope2 in dir: /home/felice/workflow_folders/in_limbo_level2_felice_fsl/_threshold_3.1/subtract_from_cope/mapflow/_subtract_from_cope2\n"
       ]
      },
      {
       "output_type": "stream",
       "stream": "stderr",
       "text": [
        "INFO:workflow:Executing node _subtract_from_cope3 in dir: /home/felice/workflow_folders/in_limbo_level2_felice_fsl/_threshold_3.1/subtract_from_cope/mapflow/_subtract_from_cope3\n"
       ]
      },
      {
       "output_type": "stream",
       "stream": "stderr",
       "text": [
        "INFO:workflow:Executing node _subtract_from_cope4 in dir: /home/felice/workflow_folders/in_limbo_level2_felice_fsl/_threshold_3.1/subtract_from_cope/mapflow/_subtract_from_cope4\n"
       ]
      },
      {
       "output_type": "stream",
       "stream": "stderr",
       "text": [
        "INFO:workflow:Executing node _subtract_from_cope5 in dir: /home/felice/workflow_folders/in_limbo_level2_felice_fsl/_threshold_3.1/subtract_from_cope/mapflow/_subtract_from_cope5\n"
       ]
      },
      {
       "output_type": "stream",
       "stream": "stderr",
       "text": [
        "INFO:workflow:Executing node _subtract_from_cope6 in dir: /home/felice/workflow_folders/in_limbo_level2_felice_fsl/_threshold_3.1/subtract_from_cope/mapflow/_subtract_from_cope6\n"
       ]
      },
      {
       "output_type": "stream",
       "stream": "stderr",
       "text": [
        "INFO:workflow:Executing node _subtract_from_cope7 in dir: /home/felice/workflow_folders/in_limbo_level2_felice_fsl/_threshold_3.1/subtract_from_cope/mapflow/_subtract_from_cope7\n"
       ]
      },
      {
       "output_type": "stream",
       "stream": "stderr",
       "text": [
        "INFO:workflow:Executing node _subtract_from_cope8 in dir: /home/felice/workflow_folders/in_limbo_level2_felice_fsl/_threshold_3.1/subtract_from_cope/mapflow/_subtract_from_cope8\n"
       ]
      },
      {
       "output_type": "stream",
       "stream": "stderr",
       "text": [
        "INFO:workflow:Executing node _subtract_from_cope9 in dir: /home/felice/workflow_folders/in_limbo_level2_felice_fsl/_threshold_3.1/subtract_from_cope/mapflow/_subtract_from_cope9\n"
       ]
      },
      {
       "output_type": "stream",
       "stream": "stderr",
       "text": [
        "INFO:workflow:Executing node _subtract_from_cope10 in dir: /home/felice/workflow_folders/in_limbo_level2_felice_fsl/_threshold_3.1/subtract_from_cope/mapflow/_subtract_from_cope10\n"
       ]
      },
      {
       "output_type": "stream",
       "stream": "stderr",
       "text": [
        "INFO:workflow:Executing node _subtract_from_cope11 in dir: /home/felice/workflow_folders/in_limbo_level2_felice_fsl/_threshold_3.1/subtract_from_cope/mapflow/_subtract_from_cope11\n"
       ]
      },
      {
       "output_type": "stream",
       "stream": "stderr",
       "text": [
        "INFO:workflow:Executing node _subtract_from_cope12 in dir: /home/felice/workflow_folders/in_limbo_level2_felice_fsl/_threshold_3.1/subtract_from_cope/mapflow/_subtract_from_cope12\n"
       ]
      },
      {
       "output_type": "stream",
       "stream": "stderr",
       "text": [
        "INFO:workflow:Executing node _subtract_from_cope13 in dir: /home/felice/workflow_folders/in_limbo_level2_felice_fsl/_threshold_3.1/subtract_from_cope/mapflow/_subtract_from_cope13\n"
       ]
      },
      {
       "output_type": "stream",
       "stream": "stderr",
       "text": [
        "INFO:workflow:Executing node _subtract_from_cope14 in dir: /home/felice/workflow_folders/in_limbo_level2_felice_fsl/_threshold_3.1/subtract_from_cope/mapflow/_subtract_from_cope14\n"
       ]
      },
      {
       "output_type": "stream",
       "stream": "stderr",
       "text": [
        "INFO:workflow:Executing node _subtract_from_cope15 in dir: /home/felice/workflow_folders/in_limbo_level2_felice_fsl/_threshold_3.1/subtract_from_cope/mapflow/_subtract_from_cope15\n"
       ]
      },
      {
       "output_type": "stream",
       "stream": "stderr",
       "text": [
        "INFO:workflow:Executing node _subtract_from_cope16 in dir: /home/felice/workflow_folders/in_limbo_level2_felice_fsl/_threshold_3.1/subtract_from_cope/mapflow/_subtract_from_cope16\n"
       ]
      },
      {
       "output_type": "stream",
       "stream": "stderr",
       "text": [
        "INFO:workflow:Executing node _subtract_from_cope17 in dir: /home/felice/workflow_folders/in_limbo_level2_felice_fsl/_threshold_3.1/subtract_from_cope/mapflow/_subtract_from_cope17\n"
       ]
      },
      {
       "output_type": "stream",
       "stream": "stderr",
       "text": [
        "INFO:workflow:Executing node _subtract_from_cope18 in dir: /home/felice/workflow_folders/in_limbo_level2_felice_fsl/_threshold_3.1/subtract_from_cope/mapflow/_subtract_from_cope18\n"
       ]
      },
      {
       "output_type": "stream",
       "stream": "stderr",
       "text": [
        "INFO:workflow:Executing node _subtract_from_cope19 in dir: /home/felice/workflow_folders/in_limbo_level2_felice_fsl/_threshold_3.1/subtract_from_cope/mapflow/_subtract_from_cope19\n"
       ]
      },
      {
       "output_type": "stream",
       "stream": "stderr",
       "text": [
        "INFO:workflow:Executing node _subtract_from_cope20 in dir: /home/felice/workflow_folders/in_limbo_level2_felice_fsl/_threshold_3.1/subtract_from_cope/mapflow/_subtract_from_cope20\n"
       ]
      },
      {
       "output_type": "stream",
       "stream": "stderr",
       "text": [
        "INFO:workflow:Executing node _subtract_from_cope21 in dir: /home/felice/workflow_folders/in_limbo_level2_felice_fsl/_threshold_3.1/subtract_from_cope/mapflow/_subtract_from_cope21\n"
       ]
      },
      {
       "output_type": "stream",
       "stream": "stderr",
       "text": [
        "INFO:workflow:Executing node _subtract_from_cope22 in dir: /home/felice/workflow_folders/in_limbo_level2_felice_fsl/_threshold_3.1/subtract_from_cope/mapflow/_subtract_from_cope22\n"
       ]
      },
      {
       "output_type": "stream",
       "stream": "stderr",
       "text": [
        "INFO:workflow:Executing node _subtract_from_cope23 in dir: /home/felice/workflow_folders/in_limbo_level2_felice_fsl/_threshold_3.1/subtract_from_cope/mapflow/_subtract_from_cope23\n"
       ]
      },
      {
       "output_type": "stream",
       "stream": "stderr",
       "text": [
        "INFO:workflow:Executing node _subtract_from_cope24 in dir: /home/felice/workflow_folders/in_limbo_level2_felice_fsl/_threshold_3.1/subtract_from_cope/mapflow/_subtract_from_cope24\n"
       ]
      },
      {
       "output_type": "stream",
       "stream": "stderr",
       "text": [
        "INFO:workflow:Executing node _subtract_from_cope25 in dir: /home/felice/workflow_folders/in_limbo_level2_felice_fsl/_threshold_3.1/subtract_from_cope/mapflow/_subtract_from_cope25\n"
       ]
      },
      {
       "output_type": "stream",
       "stream": "stderr",
       "text": [
        "INFO:workflow:Executing node get_comparison_voxel.a8 in dir: /home/felice/workflow_folders/in_limbo_level2_felice_fsl/_threshold_3.9/get_comparison_voxel\n"
       ]
      },
      {
       "output_type": "stream",
       "stream": "stderr",
       "text": [
        "INFO:workflow:Executing node get_min_value.a8 in dir: /home/felice/workflow_folders/in_limbo_level2_felice_fsl/_threshold_3.9/get_min_value\n"
       ]
      },
      {
       "output_type": "stream",
       "stream": "stderr",
       "text": [
        "INFO:workflow:Executing node _get_min_value0 in dir: /home/felice/workflow_folders/in_limbo_level2_felice_fsl/_threshold_3.9/get_min_value/mapflow/_get_min_value0\n"
       ]
      },
      {
       "output_type": "stream",
       "stream": "stderr",
       "text": [
        "INFO:workflow:Executing node _get_min_value1 in dir: /home/felice/workflow_folders/in_limbo_level2_felice_fsl/_threshold_3.9/get_min_value/mapflow/_get_min_value1\n"
       ]
      },
      {
       "output_type": "stream",
       "stream": "stderr",
       "text": [
        "INFO:workflow:Executing node _get_min_value2 in dir: /home/felice/workflow_folders/in_limbo_level2_felice_fsl/_threshold_3.9/get_min_value/mapflow/_get_min_value2\n"
       ]
      },
      {
       "output_type": "stream",
       "stream": "stderr",
       "text": [
        "INFO:workflow:Executing node _get_min_value3 in dir: /home/felice/workflow_folders/in_limbo_level2_felice_fsl/_threshold_3.9/get_min_value/mapflow/_get_min_value3\n"
       ]
      },
      {
       "output_type": "stream",
       "stream": "stderr",
       "text": [
        "INFO:workflow:Executing node _get_min_value4 in dir: /home/felice/workflow_folders/in_limbo_level2_felice_fsl/_threshold_3.9/get_min_value/mapflow/_get_min_value4\n"
       ]
      },
      {
       "output_type": "stream",
       "stream": "stderr",
       "text": [
        "INFO:workflow:Executing node _get_min_value5 in dir: /home/felice/workflow_folders/in_limbo_level2_felice_fsl/_threshold_3.9/get_min_value/mapflow/_get_min_value5\n"
       ]
      },
      {
       "output_type": "stream",
       "stream": "stderr",
       "text": [
        "INFO:workflow:Executing node _get_min_value6 in dir: /home/felice/workflow_folders/in_limbo_level2_felice_fsl/_threshold_3.9/get_min_value/mapflow/_get_min_value6\n"
       ]
      },
      {
       "output_type": "stream",
       "stream": "stderr",
       "text": [
        "INFO:workflow:Executing node _get_min_value7 in dir: /home/felice/workflow_folders/in_limbo_level2_felice_fsl/_threshold_3.9/get_min_value/mapflow/_get_min_value7\n"
       ]
      },
      {
       "output_type": "stream",
       "stream": "stderr",
       "text": [
        "INFO:workflow:Executing node _get_min_value8 in dir: /home/felice/workflow_folders/in_limbo_level2_felice_fsl/_threshold_3.9/get_min_value/mapflow/_get_min_value8\n"
       ]
      },
      {
       "output_type": "stream",
       "stream": "stderr",
       "text": [
        "INFO:workflow:Executing node _get_min_value9 in dir: /home/felice/workflow_folders/in_limbo_level2_felice_fsl/_threshold_3.9/get_min_value/mapflow/_get_min_value9\n"
       ]
      },
      {
       "output_type": "stream",
       "stream": "stderr",
       "text": [
        "INFO:workflow:Executing node _get_min_value10 in dir: /home/felice/workflow_folders/in_limbo_level2_felice_fsl/_threshold_3.9/get_min_value/mapflow/_get_min_value10\n"
       ]
      },
      {
       "output_type": "stream",
       "stream": "stderr",
       "text": [
        "INFO:workflow:Executing node _get_min_value11 in dir: /home/felice/workflow_folders/in_limbo_level2_felice_fsl/_threshold_3.9/get_min_value/mapflow/_get_min_value11\n"
       ]
      },
      {
       "output_type": "stream",
       "stream": "stderr",
       "text": [
        "INFO:workflow:Executing node _get_min_value12 in dir: /home/felice/workflow_folders/in_limbo_level2_felice_fsl/_threshold_3.9/get_min_value/mapflow/_get_min_value12\n"
       ]
      },
      {
       "output_type": "stream",
       "stream": "stderr",
       "text": [
        "INFO:workflow:Executing node _get_min_value13 in dir: /home/felice/workflow_folders/in_limbo_level2_felice_fsl/_threshold_3.9/get_min_value/mapflow/_get_min_value13\n"
       ]
      },
      {
       "output_type": "stream",
       "stream": "stderr",
       "text": [
        "INFO:workflow:Executing node _get_min_value14 in dir: /home/felice/workflow_folders/in_limbo_level2_felice_fsl/_threshold_3.9/get_min_value/mapflow/_get_min_value14\n"
       ]
      },
      {
       "output_type": "stream",
       "stream": "stderr",
       "text": [
        "INFO:workflow:Executing node _get_min_value15 in dir: /home/felice/workflow_folders/in_limbo_level2_felice_fsl/_threshold_3.9/get_min_value/mapflow/_get_min_value15\n"
       ]
      },
      {
       "output_type": "stream",
       "stream": "stderr",
       "text": [
        "INFO:workflow:Executing node _get_min_value16 in dir: /home/felice/workflow_folders/in_limbo_level2_felice_fsl/_threshold_3.9/get_min_value/mapflow/_get_min_value16\n"
       ]
      },
      {
       "output_type": "stream",
       "stream": "stderr",
       "text": [
        "INFO:workflow:Executing node _get_min_value17 in dir: /home/felice/workflow_folders/in_limbo_level2_felice_fsl/_threshold_3.9/get_min_value/mapflow/_get_min_value17\n"
       ]
      },
      {
       "output_type": "stream",
       "stream": "stderr",
       "text": [
        "INFO:workflow:Executing node _get_min_value18 in dir: /home/felice/workflow_folders/in_limbo_level2_felice_fsl/_threshold_3.9/get_min_value/mapflow/_get_min_value18\n"
       ]
      },
      {
       "output_type": "stream",
       "stream": "stderr",
       "text": [
        "INFO:workflow:Executing node _get_min_value19 in dir: /home/felice/workflow_folders/in_limbo_level2_felice_fsl/_threshold_3.9/get_min_value/mapflow/_get_min_value19\n"
       ]
      },
      {
       "output_type": "stream",
       "stream": "stderr",
       "text": [
        "INFO:workflow:Executing node _get_min_value20 in dir: /home/felice/workflow_folders/in_limbo_level2_felice_fsl/_threshold_3.9/get_min_value/mapflow/_get_min_value20\n"
       ]
      },
      {
       "output_type": "stream",
       "stream": "stderr",
       "text": [
        "INFO:workflow:Executing node _get_min_value21 in dir: /home/felice/workflow_folders/in_limbo_level2_felice_fsl/_threshold_3.9/get_min_value/mapflow/_get_min_value21\n"
       ]
      },
      {
       "output_type": "stream",
       "stream": "stderr",
       "text": [
        "INFO:workflow:Executing node _get_min_value22 in dir: /home/felice/workflow_folders/in_limbo_level2_felice_fsl/_threshold_3.9/get_min_value/mapflow/_get_min_value22\n"
       ]
      },
      {
       "output_type": "stream",
       "stream": "stderr",
       "text": [
        "INFO:workflow:Executing node _get_min_value23 in dir: /home/felice/workflow_folders/in_limbo_level2_felice_fsl/_threshold_3.9/get_min_value/mapflow/_get_min_value23\n"
       ]
      },
      {
       "output_type": "stream",
       "stream": "stderr",
       "text": [
        "INFO:workflow:Executing node _get_min_value24 in dir: /home/felice/workflow_folders/in_limbo_level2_felice_fsl/_threshold_3.9/get_min_value/mapflow/_get_min_value24\n"
       ]
      },
      {
       "output_type": "stream",
       "stream": "stderr",
       "text": [
        "INFO:workflow:Executing node _get_min_value25 in dir: /home/felice/workflow_folders/in_limbo_level2_felice_fsl/_threshold_3.9/get_min_value/mapflow/_get_min_value25\n"
       ]
      },
      {
       "output_type": "stream",
       "stream": "stderr",
       "text": [
        "INFO:workflow:Executing node subtract_from_cope.a8 in dir: /home/felice/workflow_folders/in_limbo_level2_felice_fsl/_threshold_3.9/subtract_from_cope\n"
       ]
      },
      {
       "output_type": "stream",
       "stream": "stderr",
       "text": [
        "INFO:workflow:Executing node _subtract_from_cope0 in dir: /home/felice/workflow_folders/in_limbo_level2_felice_fsl/_threshold_3.9/subtract_from_cope/mapflow/_subtract_from_cope0\n"
       ]
      },
      {
       "output_type": "stream",
       "stream": "stderr",
       "text": [
        "INFO:workflow:Executing node _subtract_from_cope1 in dir: /home/felice/workflow_folders/in_limbo_level2_felice_fsl/_threshold_3.9/subtract_from_cope/mapflow/_subtract_from_cope1\n"
       ]
      },
      {
       "output_type": "stream",
       "stream": "stderr",
       "text": [
        "INFO:workflow:Executing node _subtract_from_cope2 in dir: /home/felice/workflow_folders/in_limbo_level2_felice_fsl/_threshold_3.9/subtract_from_cope/mapflow/_subtract_from_cope2\n"
       ]
      },
      {
       "output_type": "stream",
       "stream": "stderr",
       "text": [
        "INFO:workflow:Executing node _subtract_from_cope3 in dir: /home/felice/workflow_folders/in_limbo_level2_felice_fsl/_threshold_3.9/subtract_from_cope/mapflow/_subtract_from_cope3\n"
       ]
      },
      {
       "output_type": "stream",
       "stream": "stderr",
       "text": [
        "INFO:workflow:Executing node _subtract_from_cope4 in dir: /home/felice/workflow_folders/in_limbo_level2_felice_fsl/_threshold_3.9/subtract_from_cope/mapflow/_subtract_from_cope4\n"
       ]
      },
      {
       "output_type": "stream",
       "stream": "stderr",
       "text": [
        "INFO:workflow:Executing node _subtract_from_cope5 in dir: /home/felice/workflow_folders/in_limbo_level2_felice_fsl/_threshold_3.9/subtract_from_cope/mapflow/_subtract_from_cope5\n"
       ]
      },
      {
       "output_type": "stream",
       "stream": "stderr",
       "text": [
        "INFO:workflow:Executing node _subtract_from_cope6 in dir: /home/felice/workflow_folders/in_limbo_level2_felice_fsl/_threshold_3.9/subtract_from_cope/mapflow/_subtract_from_cope6\n"
       ]
      },
      {
       "output_type": "stream",
       "stream": "stderr",
       "text": [
        "INFO:workflow:Executing node _subtract_from_cope7 in dir: /home/felice/workflow_folders/in_limbo_level2_felice_fsl/_threshold_3.9/subtract_from_cope/mapflow/_subtract_from_cope7\n"
       ]
      },
      {
       "output_type": "stream",
       "stream": "stderr",
       "text": [
        "INFO:workflow:Executing node _subtract_from_cope8 in dir: /home/felice/workflow_folders/in_limbo_level2_felice_fsl/_threshold_3.9/subtract_from_cope/mapflow/_subtract_from_cope8\n"
       ]
      },
      {
       "output_type": "stream",
       "stream": "stderr",
       "text": [
        "INFO:workflow:Executing node _subtract_from_cope9 in dir: /home/felice/workflow_folders/in_limbo_level2_felice_fsl/_threshold_3.9/subtract_from_cope/mapflow/_subtract_from_cope9\n"
       ]
      },
      {
       "output_type": "stream",
       "stream": "stderr",
       "text": [
        "INFO:workflow:Executing node _subtract_from_cope10 in dir: /home/felice/workflow_folders/in_limbo_level2_felice_fsl/_threshold_3.9/subtract_from_cope/mapflow/_subtract_from_cope10\n"
       ]
      },
      {
       "output_type": "stream",
       "stream": "stderr",
       "text": [
        "INFO:workflow:Executing node _subtract_from_cope11 in dir: /home/felice/workflow_folders/in_limbo_level2_felice_fsl/_threshold_3.9/subtract_from_cope/mapflow/_subtract_from_cope11\n"
       ]
      },
      {
       "output_type": "stream",
       "stream": "stderr",
       "text": [
        "INFO:workflow:Executing node _subtract_from_cope12 in dir: /home/felice/workflow_folders/in_limbo_level2_felice_fsl/_threshold_3.9/subtract_from_cope/mapflow/_subtract_from_cope12\n"
       ]
      },
      {
       "output_type": "stream",
       "stream": "stderr",
       "text": [
        "INFO:workflow:Executing node _subtract_from_cope13 in dir: /home/felice/workflow_folders/in_limbo_level2_felice_fsl/_threshold_3.9/subtract_from_cope/mapflow/_subtract_from_cope13\n"
       ]
      },
      {
       "output_type": "stream",
       "stream": "stderr",
       "text": [
        "INFO:workflow:Executing node _subtract_from_cope14 in dir: /home/felice/workflow_folders/in_limbo_level2_felice_fsl/_threshold_3.9/subtract_from_cope/mapflow/_subtract_from_cope14\n"
       ]
      },
      {
       "output_type": "stream",
       "stream": "stderr",
       "text": [
        "INFO:workflow:Executing node _subtract_from_cope15 in dir: /home/felice/workflow_folders/in_limbo_level2_felice_fsl/_threshold_3.9/subtract_from_cope/mapflow/_subtract_from_cope15\n"
       ]
      },
      {
       "output_type": "stream",
       "stream": "stderr",
       "text": [
        "INFO:workflow:Executing node _subtract_from_cope16 in dir: /home/felice/workflow_folders/in_limbo_level2_felice_fsl/_threshold_3.9/subtract_from_cope/mapflow/_subtract_from_cope16\n"
       ]
      },
      {
       "output_type": "stream",
       "stream": "stderr",
       "text": [
        "INFO:workflow:Executing node _subtract_from_cope17 in dir: /home/felice/workflow_folders/in_limbo_level2_felice_fsl/_threshold_3.9/subtract_from_cope/mapflow/_subtract_from_cope17\n"
       ]
      },
      {
       "output_type": "stream",
       "stream": "stderr",
       "text": [
        "INFO:workflow:Executing node _subtract_from_cope18 in dir: /home/felice/workflow_folders/in_limbo_level2_felice_fsl/_threshold_3.9/subtract_from_cope/mapflow/_subtract_from_cope18\n"
       ]
      },
      {
       "output_type": "stream",
       "stream": "stderr",
       "text": [
        "INFO:workflow:Executing node _subtract_from_cope19 in dir: /home/felice/workflow_folders/in_limbo_level2_felice_fsl/_threshold_3.9/subtract_from_cope/mapflow/_subtract_from_cope19\n"
       ]
      },
      {
       "output_type": "stream",
       "stream": "stderr",
       "text": [
        "INFO:workflow:Executing node _subtract_from_cope20 in dir: /home/felice/workflow_folders/in_limbo_level2_felice_fsl/_threshold_3.9/subtract_from_cope/mapflow/_subtract_from_cope20\n"
       ]
      },
      {
       "output_type": "stream",
       "stream": "stderr",
       "text": [
        "INFO:workflow:Executing node _subtract_from_cope21 in dir: /home/felice/workflow_folders/in_limbo_level2_felice_fsl/_threshold_3.9/subtract_from_cope/mapflow/_subtract_from_cope21\n"
       ]
      },
      {
       "output_type": "stream",
       "stream": "stderr",
       "text": [
        "INFO:workflow:Executing node _subtract_from_cope22 in dir: /home/felice/workflow_folders/in_limbo_level2_felice_fsl/_threshold_3.9/subtract_from_cope/mapflow/_subtract_from_cope22\n"
       ]
      },
      {
       "output_type": "stream",
       "stream": "stderr",
       "text": [
        "INFO:workflow:Executing node _subtract_from_cope23 in dir: /home/felice/workflow_folders/in_limbo_level2_felice_fsl/_threshold_3.9/subtract_from_cope/mapflow/_subtract_from_cope23\n"
       ]
      },
      {
       "output_type": "stream",
       "stream": "stderr",
       "text": [
        "INFO:workflow:Executing node _subtract_from_cope24 in dir: /home/felice/workflow_folders/in_limbo_level2_felice_fsl/_threshold_3.9/subtract_from_cope/mapflow/_subtract_from_cope24\n"
       ]
      },
      {
       "output_type": "stream",
       "stream": "stderr",
       "text": [
        "INFO:workflow:Executing node _subtract_from_cope25 in dir: /home/felice/workflow_folders/in_limbo_level2_felice_fsl/_threshold_3.9/subtract_from_cope/mapflow/_subtract_from_cope25\n"
       ]
      },
      {
       "output_type": "stream",
       "stream": "stderr",
       "text": [
        "INFO:workflow:Executing node copemerge.a8 in dir: /home/felice/workflow_folders/in_limbo_level2_felice_fsl/in_limbo_mixedfx/_threshold_3.9/copemerge\n"
       ]
      },
      {
       "output_type": "stream",
       "stream": "stderr",
       "text": [
        "INFO:workflow:Executing node _copemerge0 in dir: /home/felice/workflow_folders/in_limbo_level2_felice_fsl/in_limbo_mixedfx/_threshold_3.9/copemerge/mapflow/_copemerge0\n"
       ]
      },
      {
       "output_type": "stream",
       "stream": "stderr",
       "text": [
        "INFO:workflow:Running: fslmerge -t cope_in_limbo_merged.nii.gz /home/felice/workflow_folders/in_limbo_level2_felice_fsl/_threshold_3.9/subtract_from_cope/mapflow/_subtract_from_cope0/cope_in_limbo.nii.gz /home/felice/workflow_folders/in_limbo_level2_felice_fsl/_threshold_3.9/subtract_from_cope/mapflow/_subtract_from_cope1/cope_in_limbo.nii.gz /home/felice/workflow_folders/in_limbo_level2_felice_fsl/_threshold_3.9/subtract_from_cope/mapflow/_subtract_from_cope2/cope_in_limbo.nii.gz /home/felice/workflow_folders/in_limbo_level2_felice_fsl/_threshold_3.9/subtract_from_cope/mapflow/_subtract_from_cope3/cope_in_limbo.nii.gz /home/felice/workflow_folders/in_limbo_level2_felice_fsl/_threshold_3.9/subtract_from_cope/mapflow/_subtract_from_cope4/cope_in_limbo.nii.gz /home/felice/workflow_folders/in_limbo_level2_felice_fsl/_threshold_3.9/subtract_from_cope/mapflow/_subtract_from_cope5/cope_in_limbo.nii.gz /home/felice/workflow_folders/in_limbo_level2_felice_fsl/_threshold_3.9/subtract_from_cope/mapflow/_subtract_from_cope6/cope_in_limbo.nii.gz /home/felice/workflow_folders/in_limbo_level2_felice_fsl/_threshold_3.9/subtract_from_cope/mapflow/_subtract_from_cope7/cope_in_limbo.nii.gz /home/felice/workflow_folders/in_limbo_level2_felice_fsl/_threshold_3.9/subtract_from_cope/mapflow/_subtract_from_cope8/cope_in_limbo.nii.gz /home/felice/workflow_folders/in_limbo_level2_felice_fsl/_threshold_3.9/subtract_from_cope/mapflow/_subtract_from_cope9/cope_in_limbo.nii.gz /home/felice/workflow_folders/in_limbo_level2_felice_fsl/_threshold_3.9/subtract_from_cope/mapflow/_subtract_from_cope10/cope_in_limbo.nii.gz /home/felice/workflow_folders/in_limbo_level2_felice_fsl/_threshold_3.9/subtract_from_cope/mapflow/_subtract_from_cope11/cope_in_limbo.nii.gz /home/felice/workflow_folders/in_limbo_level2_felice_fsl/_threshold_3.9/subtract_from_cope/mapflow/_subtract_from_cope12/cope_in_limbo.nii.gz /home/felice/workflow_folders/in_limbo_level2_felice_fsl/_threshold_3.9/subtract_from_cope/mapflow/_subtract_from_cope13/cope_in_limbo.nii.gz /home/felice/workflow_folders/in_limbo_level2_felice_fsl/_threshold_3.9/subtract_from_cope/mapflow/_subtract_from_cope14/cope_in_limbo.nii.gz /home/felice/workflow_folders/in_limbo_level2_felice_fsl/_threshold_3.9/subtract_from_cope/mapflow/_subtract_from_cope15/cope_in_limbo.nii.gz /home/felice/workflow_folders/in_limbo_level2_felice_fsl/_threshold_3.9/subtract_from_cope/mapflow/_subtract_from_cope16/cope_in_limbo.nii.gz /home/felice/workflow_folders/in_limbo_level2_felice_fsl/_threshold_3.9/subtract_from_cope/mapflow/_subtract_from_cope17/cope_in_limbo.nii.gz /home/felice/workflow_folders/in_limbo_level2_felice_fsl/_threshold_3.9/subtract_from_cope/mapflow/_subtract_from_cope18/cope_in_limbo.nii.gz /home/felice/workflow_folders/in_limbo_level2_felice_fsl/_threshold_3.9/subtract_from_cope/mapflow/_subtract_from_cope19/cope_in_limbo.nii.gz /home/felice/workflow_folders/in_limbo_level2_felice_fsl/_threshold_3.9/subtract_from_cope/mapflow/_subtract_from_cope20/cope_in_limbo.nii.gz /home/felice/workflow_folders/in_limbo_level2_felice_fsl/_threshold_3.9/subtract_from_cope/mapflow/_subtract_from_cope21/cope_in_limbo.nii.gz /home/felice/workflow_folders/in_limbo_level2_felice_fsl/_threshold_3.9/subtract_from_cope/mapflow/_subtract_from_cope22/cope_in_limbo.nii.gz /home/felice/workflow_folders/in_limbo_level2_felice_fsl/_threshold_3.9/subtract_from_cope/mapflow/_subtract_from_cope23/cope_in_limbo.nii.gz /home/felice/workflow_folders/in_limbo_level2_felice_fsl/_threshold_3.9/subtract_from_cope/mapflow/_subtract_from_cope24/cope_in_limbo.nii.gz /home/felice/workflow_folders/in_limbo_level2_felice_fsl/_threshold_3.9/subtract_from_cope/mapflow/_subtract_from_cope25/cope_in_limbo.nii.gz\n"
       ]
      },
      {
       "output_type": "stream",
       "stream": "stderr",
       "text": [
        "INFO:workflow:Executing node gendofvolume.a8 in dir: /home/felice/workflow_folders/in_limbo_level2_felice_fsl/in_limbo_mixedfx/_threshold_3.9/gendofvolume\n"
       ]
      },
      {
       "output_type": "stream",
       "stream": "stderr",
       "text": [
        "INFO:workflow:Executing node flameo.a8 in dir: /home/felice/workflow_folders/in_limbo_level2_felice_fsl/in_limbo_mixedfx/_threshold_3.9/flameo\n"
       ]
      },
      {
       "output_type": "stream",
       "stream": "stderr",
       "text": [
        "INFO:workflow:Executing node _flameo0 in dir: /home/felice/workflow_folders/in_limbo_level2_felice_fsl/in_limbo_mixedfx/_threshold_3.9/flameo/mapflow/_flameo0\n"
       ]
      },
      {
       "output_type": "stream",
       "stream": "stderr",
       "text": [
        "INFO:workflow:Running: flameo --copefile=/home/felice/workflow_folders/in_limbo_level2_felice_fsl/in_limbo_mixedfx/_threshold_3.9/copemerge/mapflow/_copemerge0/cope_in_limbo_merged.nii.gz --covsplitfile=/home/felice/workflow_folders/in_limbo_level2_felice_fsl/in_limbo_mixedfx/l2model/design.grp --designfile=/home/felice/workflow_folders/in_limbo_level2_felice_fsl/in_limbo_mixedfx/l2model/design.mat --dofvarcopefile=/home/felice/workflow_folders/in_limbo_level2_felice_fsl/in_limbo_mixedfx/_threshold_3.9/gendofvolume/dof_file.nii.gz --ld=stats --maskfile=/usr/share/fsl/data/standard/MNI152_T1_2mm_brain_mask.nii.gz --runmode=fe --tcontrastsfile=/home/felice/workflow_folders/in_limbo_level2_felice_fsl/in_limbo_mixedfx/l2model/design.con --varcopefile=/home/felice/workflow_folders/in_limbo_level2_felice_fsl/in_limbo_mixedfx/varcopemerge/mapflow/_varcopemerge0/task001_varcope08_merged.nii.gz\n"
       ]
      },
      {
       "output_type": "stream",
       "stream": "stderr",
       "text": [
        "INFO:interface:stdout 2015-01-28T19:03:08.609142:Log directory is: stats\n"
       ]
      },
      {
       "output_type": "stream",
       "stream": "stderr",
       "text": [
        "INFO:interface:stdout 2015-01-28T19:03:08.610269:Setting up:\n"
       ]
      },
      {
       "output_type": "stream",
       "stream": "stderr",
       "text": [
        "INFO:interface:stdout 2015-01-28T19:03:09.804004:ntptsing=26.000000 \n"
       ]
      },
      {
       "output_type": "stream",
       "stream": "stderr",
       "text": [
        "INFO:interface:stdout 2015-01-28T19:03:09.804004:\n"
       ]
      },
      {
       "output_type": "stream",
       "stream": "stderr",
       "text": [
        "INFO:interface:stdout 2015-01-28T19:03:09.804004:evs_group=1.000000 \n"
       ]
      },
      {
       "output_type": "stream",
       "stream": "stderr",
       "text": [
        "INFO:interface:stdout 2015-01-28T19:03:09.804004:\n"
       ]
      },
      {
       "output_type": "stream",
       "stream": "stderr",
       "text": [
        "INFO:interface:stdout 2015-01-28T19:03:09.808112:No f contrasts\n"
       ]
      },
      {
       "output_type": "stream",
       "stream": "stderr",
       "text": [
        "INFO:interface:stdout 2015-01-28T19:03:09.822786:\n"
       ]
      },
      {
       "output_type": "stream",
       "stream": "stderr",
       "text": [
        "INFO:interface:stdout 2015-01-28T19:03:09.822786:WARNING: The passed in varcope file, /home/felice/workflow_folders/in_limbo_level2_felice_fsl/in_limbo_mixedfx/varcopemerge/mapflow/_varcopemerge0/task001_varcope08_merged.nii.gz, contains voxels inside the mask with zero (or negative) values. These voxels will be excluded from the analysis.\n"
       ]
      },
      {
       "output_type": "stream",
       "stream": "stderr",
       "text": [
        "INFO:interface:stdout 2015-01-28T19:03:09.830143:nevs=1\n"
       ]
      },
      {
       "output_type": "stream",
       "stream": "stderr",
       "text": [
        "INFO:interface:stdout 2015-01-28T19:03:09.830143:ntpts=26\n"
       ]
      },
      {
       "output_type": "stream",
       "stream": "stderr",
       "text": [
        "INFO:interface:stdout 2015-01-28T19:03:09.830143:ngs=1\n"
       ]
      },
      {
       "output_type": "stream",
       "stream": "stderr",
       "text": [
        "INFO:interface:stdout 2015-01-28T19:03:09.830143:nvoxels=0\n"
       ]
      },
      {
       "output_type": "stream",
       "stream": "stderr",
       "text": [
        "INFO:interface:stdout 2015-01-28T19:03:09.875456:Running:\n"
       ]
      },
      {
       "output_type": "stream",
       "stream": "stderr",
       "text": [
        "INFO:interface:stdout 2015-01-28T19:03:09.875456:nmaskvoxels=0\n"
       ]
      },
      {
       "output_type": "stream",
       "stream": "stderr",
       "text": [
        "INFO:interface:stdout 2015-01-28T19:03:09.882323:\n"
       ]
      },
      {
       "output_type": "stream",
       "stream": "stderr",
       "text": [
        "INFO:interface:stdout 2015-01-28T19:03:09.882323:Saving results\n"
       ]
      },
      {
       "output_type": "stream",
       "stream": "stderr",
       "text": [
        "INFO:interface:stdout 2015-01-28T19:03:11.953739:\n"
       ]
      },
      {
       "output_type": "stream",
       "stream": "stderr",
       "text": [
        "INFO:interface:stdout 2015-01-28T19:03:11.953739:Log directory was: stats\n"
       ]
      },
      {
       "output_type": "stream",
       "stream": "stderr",
       "text": [
        "INFO:workflow:Executing node in_limbo_mapper.a8 in dir: /home/felice/workflow_folders/in_limbo_level2_felice_fsl/_threshold_3.9/in_limbo_mapper\n"
       ]
      },
      {
       "output_type": "stream",
       "stream": "stderr",
       "text": [
        "INFO:workflow:Executing node datasink.a8 in dir: /home/felice/workflow_folders/in_limbo_level2_felice_fsl/_threshold_3.9/datasink\n"
       ]
      },
      {
       "output_type": "stream",
       "stream": "stderr",
       "text": [
        "INFO:workflow:Executing node get_comparison_voxel.a7 in dir: /home/felice/workflow_folders/in_limbo_level2_felice_fsl/_threshold_3.7/get_comparison_voxel\n"
       ]
      },
      {
       "output_type": "stream",
       "stream": "stderr",
       "text": [
        "INFO:workflow:Executing node copemerge.a4 in dir: /home/felice/workflow_folders/in_limbo_level2_felice_fsl/in_limbo_mixedfx/_threshold_3.1/copemerge\n"
       ]
      },
      {
       "output_type": "stream",
       "stream": "stderr",
       "text": [
        "INFO:workflow:Executing node _copemerge0 in dir: /home/felice/workflow_folders/in_limbo_level2_felice_fsl/in_limbo_mixedfx/_threshold_3.1/copemerge/mapflow/_copemerge0\n"
       ]
      },
      {
       "output_type": "stream",
       "stream": "stderr",
       "text": [
        "INFO:workflow:Running: fslmerge -t cope_in_limbo_merged.nii.gz /home/felice/workflow_folders/in_limbo_level2_felice_fsl/_threshold_3.1/subtract_from_cope/mapflow/_subtract_from_cope0/cope_in_limbo.nii.gz /home/felice/workflow_folders/in_limbo_level2_felice_fsl/_threshold_3.1/subtract_from_cope/mapflow/_subtract_from_cope1/cope_in_limbo.nii.gz /home/felice/workflow_folders/in_limbo_level2_felice_fsl/_threshold_3.1/subtract_from_cope/mapflow/_subtract_from_cope2/cope_in_limbo.nii.gz /home/felice/workflow_folders/in_limbo_level2_felice_fsl/_threshold_3.1/subtract_from_cope/mapflow/_subtract_from_cope3/cope_in_limbo.nii.gz /home/felice/workflow_folders/in_limbo_level2_felice_fsl/_threshold_3.1/subtract_from_cope/mapflow/_subtract_from_cope4/cope_in_limbo.nii.gz /home/felice/workflow_folders/in_limbo_level2_felice_fsl/_threshold_3.1/subtract_from_cope/mapflow/_subtract_from_cope5/cope_in_limbo.nii.gz /home/felice/workflow_folders/in_limbo_level2_felice_fsl/_threshold_3.1/subtract_from_cope/mapflow/_subtract_from_cope6/cope_in_limbo.nii.gz /home/felice/workflow_folders/in_limbo_level2_felice_fsl/_threshold_3.1/subtract_from_cope/mapflow/_subtract_from_cope7/cope_in_limbo.nii.gz /home/felice/workflow_folders/in_limbo_level2_felice_fsl/_threshold_3.1/subtract_from_cope/mapflow/_subtract_from_cope8/cope_in_limbo.nii.gz /home/felice/workflow_folders/in_limbo_level2_felice_fsl/_threshold_3.1/subtract_from_cope/mapflow/_subtract_from_cope9/cope_in_limbo.nii.gz /home/felice/workflow_folders/in_limbo_level2_felice_fsl/_threshold_3.1/subtract_from_cope/mapflow/_subtract_from_cope10/cope_in_limbo.nii.gz /home/felice/workflow_folders/in_limbo_level2_felice_fsl/_threshold_3.1/subtract_from_cope/mapflow/_subtract_from_cope11/cope_in_limbo.nii.gz /home/felice/workflow_folders/in_limbo_level2_felice_fsl/_threshold_3.1/subtract_from_cope/mapflow/_subtract_from_cope12/cope_in_limbo.nii.gz /home/felice/workflow_folders/in_limbo_level2_felice_fsl/_threshold_3.1/subtract_from_cope/mapflow/_subtract_from_cope13/cope_in_limbo.nii.gz /home/felice/workflow_folders/in_limbo_level2_felice_fsl/_threshold_3.1/subtract_from_cope/mapflow/_subtract_from_cope14/cope_in_limbo.nii.gz /home/felice/workflow_folders/in_limbo_level2_felice_fsl/_threshold_3.1/subtract_from_cope/mapflow/_subtract_from_cope15/cope_in_limbo.nii.gz /home/felice/workflow_folders/in_limbo_level2_felice_fsl/_threshold_3.1/subtract_from_cope/mapflow/_subtract_from_cope16/cope_in_limbo.nii.gz /home/felice/workflow_folders/in_limbo_level2_felice_fsl/_threshold_3.1/subtract_from_cope/mapflow/_subtract_from_cope17/cope_in_limbo.nii.gz /home/felice/workflow_folders/in_limbo_level2_felice_fsl/_threshold_3.1/subtract_from_cope/mapflow/_subtract_from_cope18/cope_in_limbo.nii.gz /home/felice/workflow_folders/in_limbo_level2_felice_fsl/_threshold_3.1/subtract_from_cope/mapflow/_subtract_from_cope19/cope_in_limbo.nii.gz /home/felice/workflow_folders/in_limbo_level2_felice_fsl/_threshold_3.1/subtract_from_cope/mapflow/_subtract_from_cope20/cope_in_limbo.nii.gz /home/felice/workflow_folders/in_limbo_level2_felice_fsl/_threshold_3.1/subtract_from_cope/mapflow/_subtract_from_cope21/cope_in_limbo.nii.gz /home/felice/workflow_folders/in_limbo_level2_felice_fsl/_threshold_3.1/subtract_from_cope/mapflow/_subtract_from_cope22/cope_in_limbo.nii.gz /home/felice/workflow_folders/in_limbo_level2_felice_fsl/_threshold_3.1/subtract_from_cope/mapflow/_subtract_from_cope23/cope_in_limbo.nii.gz /home/felice/workflow_folders/in_limbo_level2_felice_fsl/_threshold_3.1/subtract_from_cope/mapflow/_subtract_from_cope24/cope_in_limbo.nii.gz /home/felice/workflow_folders/in_limbo_level2_felice_fsl/_threshold_3.1/subtract_from_cope/mapflow/_subtract_from_cope25/cope_in_limbo.nii.gz\n"
       ]
      },
      {
       "output_type": "stream",
       "stream": "stderr",
       "text": [
        "INFO:workflow:Executing node gendofvolume.a4 in dir: /home/felice/workflow_folders/in_limbo_level2_felice_fsl/in_limbo_mixedfx/_threshold_3.1/gendofvolume\n"
       ]
      },
      {
       "output_type": "stream",
       "stream": "stderr",
       "text": [
        "INFO:workflow:Executing node flameo.a4 in dir: /home/felice/workflow_folders/in_limbo_level2_felice_fsl/in_limbo_mixedfx/_threshold_3.1/flameo\n"
       ]
      },
      {
       "output_type": "stream",
       "stream": "stderr",
       "text": [
        "INFO:workflow:Executing node _flameo0 in dir: /home/felice/workflow_folders/in_limbo_level2_felice_fsl/in_limbo_mixedfx/_threshold_3.1/flameo/mapflow/_flameo0\n"
       ]
      },
      {
       "output_type": "stream",
       "stream": "stderr",
       "text": [
        "INFO:workflow:Running: flameo --copefile=/home/felice/workflow_folders/in_limbo_level2_felice_fsl/in_limbo_mixedfx/_threshold_3.1/copemerge/mapflow/_copemerge0/cope_in_limbo_merged.nii.gz --covsplitfile=/home/felice/workflow_folders/in_limbo_level2_felice_fsl/in_limbo_mixedfx/l2model/design.grp --designfile=/home/felice/workflow_folders/in_limbo_level2_felice_fsl/in_limbo_mixedfx/l2model/design.mat --dofvarcopefile=/home/felice/workflow_folders/in_limbo_level2_felice_fsl/in_limbo_mixedfx/_threshold_3.1/gendofvolume/dof_file.nii.gz --ld=stats --maskfile=/usr/share/fsl/data/standard/MNI152_T1_2mm_brain_mask.nii.gz --runmode=fe --tcontrastsfile=/home/felice/workflow_folders/in_limbo_level2_felice_fsl/in_limbo_mixedfx/l2model/design.con --varcopefile=/home/felice/workflow_folders/in_limbo_level2_felice_fsl/in_limbo_mixedfx/varcopemerge/mapflow/_varcopemerge0/task001_varcope08_merged.nii.gz\n"
       ]
      },
      {
       "output_type": "stream",
       "stream": "stderr",
       "text": [
        "INFO:interface:stdout 2015-01-28T19:03:15.430282:Log directory is: stats\n"
       ]
      },
      {
       "output_type": "stream",
       "stream": "stderr",
       "text": [
        "INFO:interface:stdout 2015-01-28T19:03:15.431427:Setting up:\n"
       ]
      },
      {
       "output_type": "stream",
       "stream": "stderr",
       "text": [
        "INFO:interface:stdout 2015-01-28T19:03:16.596866:ntptsing=26.000000 \n"
       ]
      },
      {
       "output_type": "stream",
       "stream": "stderr",
       "text": [
        "INFO:interface:stdout 2015-01-28T19:03:16.596866:\n"
       ]
      },
      {
       "output_type": "stream",
       "stream": "stderr",
       "text": [
        "INFO:interface:stdout 2015-01-28T19:03:16.596866:evs_group=1.000000 \n"
       ]
      },
      {
       "output_type": "stream",
       "stream": "stderr",
       "text": [
        "INFO:interface:stdout 2015-01-28T19:03:16.596866:\n"
       ]
      },
      {
       "output_type": "stream",
       "stream": "stderr",
       "text": [
        "INFO:interface:stdout 2015-01-28T19:03:16.598828:No f contrasts\n"
       ]
      },
      {
       "output_type": "stream",
       "stream": "stderr",
       "text": [
        "INFO:interface:stdout 2015-01-28T19:03:16.613591:\n"
       ]
      },
      {
       "output_type": "stream",
       "stream": "stderr",
       "text": [
        "INFO:interface:stdout 2015-01-28T19:03:16.613591:WARNING: The passed in varcope file, /home/felice/workflow_folders/in_limbo_level2_felice_fsl/in_limbo_mixedfx/varcopemerge/mapflow/_varcopemerge0/task001_varcope08_merged.nii.gz, contains voxels inside the mask with zero (or negative) values. These voxels will be excluded from the analysis.\n"
       ]
      },
      {
       "output_type": "stream",
       "stream": "stderr",
       "text": [
        "INFO:interface:stdout 2015-01-28T19:03:16.620812:nevs=1\n"
       ]
      },
      {
       "output_type": "stream",
       "stream": "stderr",
       "text": [
        "INFO:interface:stdout 2015-01-28T19:03:16.620812:ntpts=26\n"
       ]
      },
      {
       "output_type": "stream",
       "stream": "stderr",
       "text": [
        "INFO:interface:stdout 2015-01-28T19:03:16.620812:ngs=1\n"
       ]
      },
      {
       "output_type": "stream",
       "stream": "stderr",
       "text": [
        "INFO:interface:stdout 2015-01-28T19:03:16.620812:nvoxels=0\n"
       ]
      },
      {
       "output_type": "stream",
       "stream": "stderr",
       "text": [
        "INFO:interface:stdout 2015-01-28T19:03:16.666221:Running:\n"
       ]
      },
      {
       "output_type": "stream",
       "stream": "stderr",
       "text": [
        "INFO:interface:stdout 2015-01-28T19:03:16.666221:nmaskvoxels=0\n"
       ]
      },
      {
       "output_type": "stream",
       "stream": "stderr",
       "text": [
        "INFO:interface:stdout 2015-01-28T19:03:16.673402:\n"
       ]
      },
      {
       "output_type": "stream",
       "stream": "stderr",
       "text": [
        "INFO:interface:stdout 2015-01-28T19:03:16.673402:Saving results\n"
       ]
      },
      {
       "output_type": "stream",
       "stream": "stderr",
       "text": [
        "INFO:interface:stdout 2015-01-28T19:03:18.797109:\n"
       ]
      },
      {
       "output_type": "stream",
       "stream": "stderr",
       "text": [
        "INFO:interface:stdout 2015-01-28T19:03:18.797109:Log directory was: stats\n"
       ]
      },
      {
       "output_type": "stream",
       "stream": "stderr",
       "text": [
        "INFO:workflow:Executing node in_limbo_mapper.a4 in dir: /home/felice/workflow_folders/in_limbo_level2_felice_fsl/_threshold_3.1/in_limbo_mapper\n"
       ]
      },
      {
       "output_type": "stream",
       "stream": "stderr",
       "text": [
        "INFO:workflow:Executing node datasink.a4 in dir: /home/felice/workflow_folders/in_limbo_level2_felice_fsl/_threshold_3.1/datasink\n"
       ]
      },
      {
       "output_type": "stream",
       "stream": "stderr",
       "text": [
        "INFO:workflow:Executing node flameo.a5 in dir: /home/felice/workflow_folders/in_limbo_level2_felice_fsl/in_limbo_mixedfx/_threshold_3.3/flameo\n"
       ]
      },
      {
       "output_type": "stream",
       "stream": "stderr",
       "text": [
        "INFO:workflow:Executing node _flameo0 in dir: /home/felice/workflow_folders/in_limbo_level2_felice_fsl/in_limbo_mixedfx/_threshold_3.3/flameo/mapflow/_flameo0\n"
       ]
      },
      {
       "output_type": "stream",
       "stream": "stderr",
       "text": [
        "INFO:workflow:Running: flameo --copefile=/home/felice/workflow_folders/in_limbo_level2_felice_fsl/in_limbo_mixedfx/_threshold_3.3/copemerge/mapflow/_copemerge0/cope_in_limbo_merged.nii.gz --covsplitfile=/home/felice/workflow_folders/in_limbo_level2_felice_fsl/in_limbo_mixedfx/l2model/design.grp --designfile=/home/felice/workflow_folders/in_limbo_level2_felice_fsl/in_limbo_mixedfx/l2model/design.mat --dofvarcopefile=/home/felice/workflow_folders/in_limbo_level2_felice_fsl/in_limbo_mixedfx/_threshold_3.3/gendofvolume/dof_file.nii.gz --ld=stats --maskfile=/usr/share/fsl/data/standard/MNI152_T1_2mm_brain_mask.nii.gz --runmode=fe --tcontrastsfile=/home/felice/workflow_folders/in_limbo_level2_felice_fsl/in_limbo_mixedfx/l2model/design.con --varcopefile=/home/felice/workflow_folders/in_limbo_level2_felice_fsl/in_limbo_mixedfx/varcopemerge/mapflow/_varcopemerge0/task001_varcope08_merged.nii.gz\n"
       ]
      },
      {
       "output_type": "stream",
       "stream": "stderr",
       "text": [
        "INFO:interface:stdout 2015-01-28T19:03:19.089145:Log directory is: stats\n"
       ]
      },
      {
       "output_type": "stream",
       "stream": "stderr",
       "text": [
        "INFO:interface:stdout 2015-01-28T19:03:19.090669:Setting up:\n"
       ]
      },
      {
       "output_type": "stream",
       "stream": "stderr",
       "text": [
        "INFO:interface:stdout 2015-01-28T19:03:20.266218:ntptsing=26.000000 \n"
       ]
      },
      {
       "output_type": "stream",
       "stream": "stderr",
       "text": [
        "INFO:interface:stdout 2015-01-28T19:03:20.266218:\n"
       ]
      },
      {
       "output_type": "stream",
       "stream": "stderr",
       "text": [
        "INFO:interface:stdout 2015-01-28T19:03:20.266218:evs_group=1.000000 \n"
       ]
      },
      {
       "output_type": "stream",
       "stream": "stderr",
       "text": [
        "INFO:interface:stdout 2015-01-28T19:03:20.266218:\n"
       ]
      },
      {
       "output_type": "stream",
       "stream": "stderr",
       "text": [
        "INFO:interface:stdout 2015-01-28T19:03:20.268477:No f contrasts\n"
       ]
      },
      {
       "output_type": "stream",
       "stream": "stderr",
       "text": [
        "INFO:interface:stdout 2015-01-28T19:03:20.291012:\n"
       ]
      },
      {
       "output_type": "stream",
       "stream": "stderr",
       "text": [
        "INFO:interface:stdout 2015-01-28T19:03:20.291012:WARNING: The passed in varcope file, /home/felice/workflow_folders/in_limbo_level2_felice_fsl/in_limbo_mixedfx/varcopemerge/mapflow/_varcopemerge0/task001_varcope08_merged.nii.gz, contains voxels inside the mask with zero (or negative) values. These voxels will be excluded from the analysis.\n"
       ]
      },
      {
       "output_type": "stream",
       "stream": "stderr",
       "text": [
        "INFO:interface:stdout 2015-01-28T19:03:20.302060:nevs=1\n"
       ]
      },
      {
       "output_type": "stream",
       "stream": "stderr",
       "text": [
        "INFO:interface:stdout 2015-01-28T19:03:20.302060:ntpts=26\n"
       ]
      },
      {
       "output_type": "stream",
       "stream": "stderr",
       "text": [
        "INFO:interface:stdout 2015-01-28T19:03:20.302060:ngs=1\n"
       ]
      },
      {
       "output_type": "stream",
       "stream": "stderr",
       "text": [
        "INFO:interface:stdout 2015-01-28T19:03:20.302060:nvoxels=0\n"
       ]
      },
      {
       "output_type": "stream",
       "stream": "stderr",
       "text": [
        "INFO:interface:stdout 2015-01-28T19:03:20.360333:Running:\n"
       ]
      },
      {
       "output_type": "stream",
       "stream": "stderr",
       "text": [
        "INFO:interface:stdout 2015-01-28T19:03:20.360333:nmaskvoxels=0\n"
       ]
      },
      {
       "output_type": "stream",
       "stream": "stderr",
       "text": [
        "INFO:interface:stdout 2015-01-28T19:03:20.370056:\n"
       ]
      },
      {
       "output_type": "stream",
       "stream": "stderr",
       "text": [
        "INFO:interface:stdout 2015-01-28T19:03:20.370056:Saving results\n"
       ]
      },
      {
       "output_type": "stream",
       "stream": "stderr",
       "text": [
        "INFO:interface:stdout 2015-01-28T19:03:22.429953:\n"
       ]
      },
      {
       "output_type": "stream",
       "stream": "stderr",
       "text": [
        "INFO:interface:stdout 2015-01-28T19:03:22.429953:Log directory was: stats\n"
       ]
      },
      {
       "output_type": "stream",
       "stream": "stderr",
       "text": [
        "INFO:workflow:Executing node in_limbo_mapper.a5 in dir: /home/felice/workflow_folders/in_limbo_level2_felice_fsl/_threshold_3.3/in_limbo_mapper\n"
       ]
      },
      {
       "output_type": "stream",
       "stream": "stderr",
       "text": [
        "INFO:workflow:Executing node datasink.a5 in dir: /home/felice/workflow_folders/in_limbo_level2_felice_fsl/_threshold_3.3/datasink\n"
       ]
      },
      {
       "output_type": "stream",
       "stream": "stderr",
       "text": [
        "INFO:workflow:Executing node get_min_value.a7 in dir: /home/felice/workflow_folders/in_limbo_level2_felice_fsl/_threshold_3.7/get_min_value\n"
       ]
      },
      {
       "output_type": "stream",
       "stream": "stderr",
       "text": [
        "INFO:workflow:Executing node _get_min_value0 in dir: /home/felice/workflow_folders/in_limbo_level2_felice_fsl/_threshold_3.7/get_min_value/mapflow/_get_min_value0\n"
       ]
      },
      {
       "output_type": "stream",
       "stream": "stderr",
       "text": [
        "INFO:workflow:Executing node _get_min_value1 in dir: /home/felice/workflow_folders/in_limbo_level2_felice_fsl/_threshold_3.7/get_min_value/mapflow/_get_min_value1\n"
       ]
      },
      {
       "output_type": "stream",
       "stream": "stderr",
       "text": [
        "INFO:workflow:Executing node _get_min_value2 in dir: /home/felice/workflow_folders/in_limbo_level2_felice_fsl/_threshold_3.7/get_min_value/mapflow/_get_min_value2\n"
       ]
      },
      {
       "output_type": "stream",
       "stream": "stderr",
       "text": [
        "INFO:workflow:Executing node _get_min_value3 in dir: /home/felice/workflow_folders/in_limbo_level2_felice_fsl/_threshold_3.7/get_min_value/mapflow/_get_min_value3\n"
       ]
      },
      {
       "output_type": "stream",
       "stream": "stderr",
       "text": [
        "INFO:workflow:Executing node _get_min_value4 in dir: /home/felice/workflow_folders/in_limbo_level2_felice_fsl/_threshold_3.7/get_min_value/mapflow/_get_min_value4\n"
       ]
      },
      {
       "output_type": "stream",
       "stream": "stderr",
       "text": [
        "INFO:workflow:Executing node _get_min_value5 in dir: /home/felice/workflow_folders/in_limbo_level2_felice_fsl/_threshold_3.7/get_min_value/mapflow/_get_min_value5\n"
       ]
      },
      {
       "output_type": "stream",
       "stream": "stderr",
       "text": [
        "INFO:workflow:Executing node _get_min_value6 in dir: /home/felice/workflow_folders/in_limbo_level2_felice_fsl/_threshold_3.7/get_min_value/mapflow/_get_min_value6\n"
       ]
      },
      {
       "output_type": "stream",
       "stream": "stderr",
       "text": [
        "INFO:workflow:Executing node _get_min_value7 in dir: /home/felice/workflow_folders/in_limbo_level2_felice_fsl/_threshold_3.7/get_min_value/mapflow/_get_min_value7\n"
       ]
      },
      {
       "output_type": "stream",
       "stream": "stderr",
       "text": [
        "INFO:workflow:Executing node _get_min_value8 in dir: /home/felice/workflow_folders/in_limbo_level2_felice_fsl/_threshold_3.7/get_min_value/mapflow/_get_min_value8\n"
       ]
      },
      {
       "output_type": "stream",
       "stream": "stderr",
       "text": [
        "INFO:workflow:Executing node _get_min_value9 in dir: /home/felice/workflow_folders/in_limbo_level2_felice_fsl/_threshold_3.7/get_min_value/mapflow/_get_min_value9\n"
       ]
      },
      {
       "output_type": "stream",
       "stream": "stderr",
       "text": [
        "INFO:workflow:Executing node _get_min_value10 in dir: /home/felice/workflow_folders/in_limbo_level2_felice_fsl/_threshold_3.7/get_min_value/mapflow/_get_min_value10\n"
       ]
      },
      {
       "output_type": "stream",
       "stream": "stderr",
       "text": [
        "INFO:workflow:Executing node _get_min_value11 in dir: /home/felice/workflow_folders/in_limbo_level2_felice_fsl/_threshold_3.7/get_min_value/mapflow/_get_min_value11\n"
       ]
      },
      {
       "output_type": "stream",
       "stream": "stderr",
       "text": [
        "INFO:workflow:Executing node _get_min_value12 in dir: /home/felice/workflow_folders/in_limbo_level2_felice_fsl/_threshold_3.7/get_min_value/mapflow/_get_min_value12\n"
       ]
      },
      {
       "output_type": "stream",
       "stream": "stderr",
       "text": [
        "INFO:workflow:Executing node _get_min_value13 in dir: /home/felice/workflow_folders/in_limbo_level2_felice_fsl/_threshold_3.7/get_min_value/mapflow/_get_min_value13\n"
       ]
      },
      {
       "output_type": "stream",
       "stream": "stderr",
       "text": [
        "INFO:workflow:Executing node _get_min_value14 in dir: /home/felice/workflow_folders/in_limbo_level2_felice_fsl/_threshold_3.7/get_min_value/mapflow/_get_min_value14\n"
       ]
      },
      {
       "output_type": "stream",
       "stream": "stderr",
       "text": [
        "INFO:workflow:Executing node _get_min_value15 in dir: /home/felice/workflow_folders/in_limbo_level2_felice_fsl/_threshold_3.7/get_min_value/mapflow/_get_min_value15\n"
       ]
      },
      {
       "output_type": "stream",
       "stream": "stderr",
       "text": [
        "INFO:workflow:Executing node _get_min_value16 in dir: /home/felice/workflow_folders/in_limbo_level2_felice_fsl/_threshold_3.7/get_min_value/mapflow/_get_min_value16\n"
       ]
      },
      {
       "output_type": "stream",
       "stream": "stderr",
       "text": [
        "INFO:workflow:Executing node _get_min_value17 in dir: /home/felice/workflow_folders/in_limbo_level2_felice_fsl/_threshold_3.7/get_min_value/mapflow/_get_min_value17\n"
       ]
      },
      {
       "output_type": "stream",
       "stream": "stderr",
       "text": [
        "INFO:workflow:Executing node _get_min_value18 in dir: /home/felice/workflow_folders/in_limbo_level2_felice_fsl/_threshold_3.7/get_min_value/mapflow/_get_min_value18\n"
       ]
      },
      {
       "output_type": "stream",
       "stream": "stderr",
       "text": [
        "INFO:workflow:Executing node _get_min_value19 in dir: /home/felice/workflow_folders/in_limbo_level2_felice_fsl/_threshold_3.7/get_min_value/mapflow/_get_min_value19\n"
       ]
      },
      {
       "output_type": "stream",
       "stream": "stderr",
       "text": [
        "INFO:workflow:Executing node _get_min_value20 in dir: /home/felice/workflow_folders/in_limbo_level2_felice_fsl/_threshold_3.7/get_min_value/mapflow/_get_min_value20\n"
       ]
      },
      {
       "output_type": "stream",
       "stream": "stderr",
       "text": [
        "INFO:workflow:Executing node _get_min_value21 in dir: /home/felice/workflow_folders/in_limbo_level2_felice_fsl/_threshold_3.7/get_min_value/mapflow/_get_min_value21\n"
       ]
      },
      {
       "output_type": "stream",
       "stream": "stderr",
       "text": [
        "INFO:workflow:Executing node _get_min_value22 in dir: /home/felice/workflow_folders/in_limbo_level2_felice_fsl/_threshold_3.7/get_min_value/mapflow/_get_min_value22\n"
       ]
      },
      {
       "output_type": "stream",
       "stream": "stderr",
       "text": [
        "INFO:workflow:Executing node _get_min_value23 in dir: /home/felice/workflow_folders/in_limbo_level2_felice_fsl/_threshold_3.7/get_min_value/mapflow/_get_min_value23\n"
       ]
      },
      {
       "output_type": "stream",
       "stream": "stderr",
       "text": [
        "INFO:workflow:Executing node _get_min_value24 in dir: /home/felice/workflow_folders/in_limbo_level2_felice_fsl/_threshold_3.7/get_min_value/mapflow/_get_min_value24\n"
       ]
      },
      {
       "output_type": "stream",
       "stream": "stderr",
       "text": [
        "INFO:workflow:Executing node _get_min_value25 in dir: /home/felice/workflow_folders/in_limbo_level2_felice_fsl/_threshold_3.7/get_min_value/mapflow/_get_min_value25\n"
       ]
      },
      {
       "output_type": "stream",
       "stream": "stderr",
       "text": [
        "INFO:workflow:Executing node subtract_from_cope.a7 in dir: /home/felice/workflow_folders/in_limbo_level2_felice_fsl/_threshold_3.7/subtract_from_cope\n"
       ]
      },
      {
       "output_type": "stream",
       "stream": "stderr",
       "text": [
        "INFO:workflow:Executing node _subtract_from_cope0 in dir: /home/felice/workflow_folders/in_limbo_level2_felice_fsl/_threshold_3.7/subtract_from_cope/mapflow/_subtract_from_cope0\n"
       ]
      },
      {
       "output_type": "stream",
       "stream": "stderr",
       "text": [
        "INFO:workflow:Executing node _subtract_from_cope1 in dir: /home/felice/workflow_folders/in_limbo_level2_felice_fsl/_threshold_3.7/subtract_from_cope/mapflow/_subtract_from_cope1\n"
       ]
      },
      {
       "output_type": "stream",
       "stream": "stderr",
       "text": [
        "INFO:workflow:Executing node _subtract_from_cope2 in dir: /home/felice/workflow_folders/in_limbo_level2_felice_fsl/_threshold_3.7/subtract_from_cope/mapflow/_subtract_from_cope2\n"
       ]
      },
      {
       "output_type": "stream",
       "stream": "stderr",
       "text": [
        "INFO:workflow:Executing node _subtract_from_cope3 in dir: /home/felice/workflow_folders/in_limbo_level2_felice_fsl/_threshold_3.7/subtract_from_cope/mapflow/_subtract_from_cope3\n"
       ]
      },
      {
       "output_type": "stream",
       "stream": "stderr",
       "text": [
        "INFO:workflow:Executing node _subtract_from_cope4 in dir: /home/felice/workflow_folders/in_limbo_level2_felice_fsl/_threshold_3.7/subtract_from_cope/mapflow/_subtract_from_cope4\n"
       ]
      },
      {
       "output_type": "stream",
       "stream": "stderr",
       "text": [
        "INFO:workflow:Executing node _subtract_from_cope5 in dir: /home/felice/workflow_folders/in_limbo_level2_felice_fsl/_threshold_3.7/subtract_from_cope/mapflow/_subtract_from_cope5\n"
       ]
      },
      {
       "output_type": "stream",
       "stream": "stderr",
       "text": [
        "INFO:workflow:Executing node _subtract_from_cope6 in dir: /home/felice/workflow_folders/in_limbo_level2_felice_fsl/_threshold_3.7/subtract_from_cope/mapflow/_subtract_from_cope6\n"
       ]
      },
      {
       "output_type": "stream",
       "stream": "stderr",
       "text": [
        "INFO:workflow:Executing node _subtract_from_cope7 in dir: /home/felice/workflow_folders/in_limbo_level2_felice_fsl/_threshold_3.7/subtract_from_cope/mapflow/_subtract_from_cope7\n"
       ]
      },
      {
       "output_type": "stream",
       "stream": "stderr",
       "text": [
        "INFO:workflow:Executing node _subtract_from_cope8 in dir: /home/felice/workflow_folders/in_limbo_level2_felice_fsl/_threshold_3.7/subtract_from_cope/mapflow/_subtract_from_cope8\n"
       ]
      },
      {
       "output_type": "stream",
       "stream": "stderr",
       "text": [
        "INFO:workflow:Executing node _subtract_from_cope9 in dir: /home/felice/workflow_folders/in_limbo_level2_felice_fsl/_threshold_3.7/subtract_from_cope/mapflow/_subtract_from_cope9\n"
       ]
      },
      {
       "output_type": "stream",
       "stream": "stderr",
       "text": [
        "INFO:workflow:Executing node _subtract_from_cope10 in dir: /home/felice/workflow_folders/in_limbo_level2_felice_fsl/_threshold_3.7/subtract_from_cope/mapflow/_subtract_from_cope10\n"
       ]
      },
      {
       "output_type": "stream",
       "stream": "stderr",
       "text": [
        "INFO:workflow:Executing node _subtract_from_cope11 in dir: /home/felice/workflow_folders/in_limbo_level2_felice_fsl/_threshold_3.7/subtract_from_cope/mapflow/_subtract_from_cope11\n"
       ]
      },
      {
       "output_type": "stream",
       "stream": "stderr",
       "text": [
        "INFO:workflow:Executing node _subtract_from_cope12 in dir: /home/felice/workflow_folders/in_limbo_level2_felice_fsl/_threshold_3.7/subtract_from_cope/mapflow/_subtract_from_cope12\n"
       ]
      },
      {
       "output_type": "stream",
       "stream": "stderr",
       "text": [
        "INFO:workflow:Executing node _subtract_from_cope13 in dir: /home/felice/workflow_folders/in_limbo_level2_felice_fsl/_threshold_3.7/subtract_from_cope/mapflow/_subtract_from_cope13\n"
       ]
      },
      {
       "output_type": "stream",
       "stream": "stderr",
       "text": [
        "INFO:workflow:Executing node _subtract_from_cope14 in dir: /home/felice/workflow_folders/in_limbo_level2_felice_fsl/_threshold_3.7/subtract_from_cope/mapflow/_subtract_from_cope14\n"
       ]
      },
      {
       "output_type": "stream",
       "stream": "stderr",
       "text": [
        "INFO:workflow:Executing node _subtract_from_cope15 in dir: /home/felice/workflow_folders/in_limbo_level2_felice_fsl/_threshold_3.7/subtract_from_cope/mapflow/_subtract_from_cope15\n"
       ]
      },
      {
       "output_type": "stream",
       "stream": "stderr",
       "text": [
        "INFO:workflow:Executing node _subtract_from_cope16 in dir: /home/felice/workflow_folders/in_limbo_level2_felice_fsl/_threshold_3.7/subtract_from_cope/mapflow/_subtract_from_cope16\n"
       ]
      },
      {
       "output_type": "stream",
       "stream": "stderr",
       "text": [
        "INFO:workflow:Executing node _subtract_from_cope17 in dir: /home/felice/workflow_folders/in_limbo_level2_felice_fsl/_threshold_3.7/subtract_from_cope/mapflow/_subtract_from_cope17\n"
       ]
      },
      {
       "output_type": "stream",
       "stream": "stderr",
       "text": [
        "INFO:workflow:Executing node _subtract_from_cope18 in dir: /home/felice/workflow_folders/in_limbo_level2_felice_fsl/_threshold_3.7/subtract_from_cope/mapflow/_subtract_from_cope18\n"
       ]
      },
      {
       "output_type": "stream",
       "stream": "stderr",
       "text": [
        "INFO:workflow:Executing node _subtract_from_cope19 in dir: /home/felice/workflow_folders/in_limbo_level2_felice_fsl/_threshold_3.7/subtract_from_cope/mapflow/_subtract_from_cope19\n"
       ]
      },
      {
       "output_type": "stream",
       "stream": "stderr",
       "text": [
        "INFO:workflow:Executing node _subtract_from_cope20 in dir: /home/felice/workflow_folders/in_limbo_level2_felice_fsl/_threshold_3.7/subtract_from_cope/mapflow/_subtract_from_cope20\n"
       ]
      },
      {
       "output_type": "stream",
       "stream": "stderr",
       "text": [
        "INFO:workflow:Executing node _subtract_from_cope21 in dir: /home/felice/workflow_folders/in_limbo_level2_felice_fsl/_threshold_3.7/subtract_from_cope/mapflow/_subtract_from_cope21\n"
       ]
      },
      {
       "output_type": "stream",
       "stream": "stderr",
       "text": [
        "INFO:workflow:Executing node _subtract_from_cope22 in dir: /home/felice/workflow_folders/in_limbo_level2_felice_fsl/_threshold_3.7/subtract_from_cope/mapflow/_subtract_from_cope22\n"
       ]
      },
      {
       "output_type": "stream",
       "stream": "stderr",
       "text": [
        "INFO:workflow:Executing node _subtract_from_cope23 in dir: /home/felice/workflow_folders/in_limbo_level2_felice_fsl/_threshold_3.7/subtract_from_cope/mapflow/_subtract_from_cope23\n"
       ]
      },
      {
       "output_type": "stream",
       "stream": "stderr",
       "text": [
        "INFO:workflow:Executing node _subtract_from_cope24 in dir: /home/felice/workflow_folders/in_limbo_level2_felice_fsl/_threshold_3.7/subtract_from_cope/mapflow/_subtract_from_cope24\n"
       ]
      },
      {
       "output_type": "stream",
       "stream": "stderr",
       "text": [
        "INFO:workflow:Executing node _subtract_from_cope25 in dir: /home/felice/workflow_folders/in_limbo_level2_felice_fsl/_threshold_3.7/subtract_from_cope/mapflow/_subtract_from_cope25\n"
       ]
      },
      {
       "output_type": "stream",
       "stream": "stderr",
       "text": [
        "INFO:workflow:Executing node copemerge.a7 in dir: /home/felice/workflow_folders/in_limbo_level2_felice_fsl/in_limbo_mixedfx/_threshold_3.7/copemerge\n"
       ]
      },
      {
       "output_type": "stream",
       "stream": "stderr",
       "text": [
        "INFO:workflow:Executing node _copemerge0 in dir: /home/felice/workflow_folders/in_limbo_level2_felice_fsl/in_limbo_mixedfx/_threshold_3.7/copemerge/mapflow/_copemerge0\n"
       ]
      },
      {
       "output_type": "stream",
       "stream": "stderr",
       "text": [
        "INFO:workflow:Running: fslmerge -t cope_in_limbo_merged.nii.gz /home/felice/workflow_folders/in_limbo_level2_felice_fsl/_threshold_3.7/subtract_from_cope/mapflow/_subtract_from_cope0/cope_in_limbo.nii.gz /home/felice/workflow_folders/in_limbo_level2_felice_fsl/_threshold_3.7/subtract_from_cope/mapflow/_subtract_from_cope1/cope_in_limbo.nii.gz /home/felice/workflow_folders/in_limbo_level2_felice_fsl/_threshold_3.7/subtract_from_cope/mapflow/_subtract_from_cope2/cope_in_limbo.nii.gz /home/felice/workflow_folders/in_limbo_level2_felice_fsl/_threshold_3.7/subtract_from_cope/mapflow/_subtract_from_cope3/cope_in_limbo.nii.gz /home/felice/workflow_folders/in_limbo_level2_felice_fsl/_threshold_3.7/subtract_from_cope/mapflow/_subtract_from_cope4/cope_in_limbo.nii.gz /home/felice/workflow_folders/in_limbo_level2_felice_fsl/_threshold_3.7/subtract_from_cope/mapflow/_subtract_from_cope5/cope_in_limbo.nii.gz /home/felice/workflow_folders/in_limbo_level2_felice_fsl/_threshold_3.7/subtract_from_cope/mapflow/_subtract_from_cope6/cope_in_limbo.nii.gz /home/felice/workflow_folders/in_limbo_level2_felice_fsl/_threshold_3.7/subtract_from_cope/mapflow/_subtract_from_cope7/cope_in_limbo.nii.gz /home/felice/workflow_folders/in_limbo_level2_felice_fsl/_threshold_3.7/subtract_from_cope/mapflow/_subtract_from_cope8/cope_in_limbo.nii.gz /home/felice/workflow_folders/in_limbo_level2_felice_fsl/_threshold_3.7/subtract_from_cope/mapflow/_subtract_from_cope9/cope_in_limbo.nii.gz /home/felice/workflow_folders/in_limbo_level2_felice_fsl/_threshold_3.7/subtract_from_cope/mapflow/_subtract_from_cope10/cope_in_limbo.nii.gz /home/felice/workflow_folders/in_limbo_level2_felice_fsl/_threshold_3.7/subtract_from_cope/mapflow/_subtract_from_cope11/cope_in_limbo.nii.gz /home/felice/workflow_folders/in_limbo_level2_felice_fsl/_threshold_3.7/subtract_from_cope/mapflow/_subtract_from_cope12/cope_in_limbo.nii.gz /home/felice/workflow_folders/in_limbo_level2_felice_fsl/_threshold_3.7/subtract_from_cope/mapflow/_subtract_from_cope13/cope_in_limbo.nii.gz /home/felice/workflow_folders/in_limbo_level2_felice_fsl/_threshold_3.7/subtract_from_cope/mapflow/_subtract_from_cope14/cope_in_limbo.nii.gz /home/felice/workflow_folders/in_limbo_level2_felice_fsl/_threshold_3.7/subtract_from_cope/mapflow/_subtract_from_cope15/cope_in_limbo.nii.gz /home/felice/workflow_folders/in_limbo_level2_felice_fsl/_threshold_3.7/subtract_from_cope/mapflow/_subtract_from_cope16/cope_in_limbo.nii.gz /home/felice/workflow_folders/in_limbo_level2_felice_fsl/_threshold_3.7/subtract_from_cope/mapflow/_subtract_from_cope17/cope_in_limbo.nii.gz /home/felice/workflow_folders/in_limbo_level2_felice_fsl/_threshold_3.7/subtract_from_cope/mapflow/_subtract_from_cope18/cope_in_limbo.nii.gz /home/felice/workflow_folders/in_limbo_level2_felice_fsl/_threshold_3.7/subtract_from_cope/mapflow/_subtract_from_cope19/cope_in_limbo.nii.gz /home/felice/workflow_folders/in_limbo_level2_felice_fsl/_threshold_3.7/subtract_from_cope/mapflow/_subtract_from_cope20/cope_in_limbo.nii.gz /home/felice/workflow_folders/in_limbo_level2_felice_fsl/_threshold_3.7/subtract_from_cope/mapflow/_subtract_from_cope21/cope_in_limbo.nii.gz /home/felice/workflow_folders/in_limbo_level2_felice_fsl/_threshold_3.7/subtract_from_cope/mapflow/_subtract_from_cope22/cope_in_limbo.nii.gz /home/felice/workflow_folders/in_limbo_level2_felice_fsl/_threshold_3.7/subtract_from_cope/mapflow/_subtract_from_cope23/cope_in_limbo.nii.gz /home/felice/workflow_folders/in_limbo_level2_felice_fsl/_threshold_3.7/subtract_from_cope/mapflow/_subtract_from_cope24/cope_in_limbo.nii.gz /home/felice/workflow_folders/in_limbo_level2_felice_fsl/_threshold_3.7/subtract_from_cope/mapflow/_subtract_from_cope25/cope_in_limbo.nii.gz\n"
       ]
      },
      {
       "output_type": "stream",
       "stream": "stderr",
       "text": [
        "INFO:workflow:Executing node gendofvolume.a7 in dir: /home/felice/workflow_folders/in_limbo_level2_felice_fsl/in_limbo_mixedfx/_threshold_3.7/gendofvolume\n"
       ]
      },
      {
       "output_type": "stream",
       "stream": "stderr",
       "text": [
        "INFO:workflow:Executing node flameo.a7 in dir: /home/felice/workflow_folders/in_limbo_level2_felice_fsl/in_limbo_mixedfx/_threshold_3.7/flameo\n"
       ]
      },
      {
       "output_type": "stream",
       "stream": "stderr",
       "text": [
        "INFO:workflow:Executing node _flameo0 in dir: /home/felice/workflow_folders/in_limbo_level2_felice_fsl/in_limbo_mixedfx/_threshold_3.7/flameo/mapflow/_flameo0\n"
       ]
      },
      {
       "output_type": "stream",
       "stream": "stderr",
       "text": [
        "INFO:workflow:Running: flameo --copefile=/home/felice/workflow_folders/in_limbo_level2_felice_fsl/in_limbo_mixedfx/_threshold_3.7/copemerge/mapflow/_copemerge0/cope_in_limbo_merged.nii.gz --covsplitfile=/home/felice/workflow_folders/in_limbo_level2_felice_fsl/in_limbo_mixedfx/l2model/design.grp --designfile=/home/felice/workflow_folders/in_limbo_level2_felice_fsl/in_limbo_mixedfx/l2model/design.mat --dofvarcopefile=/home/felice/workflow_folders/in_limbo_level2_felice_fsl/in_limbo_mixedfx/_threshold_3.7/gendofvolume/dof_file.nii.gz --ld=stats --maskfile=/usr/share/fsl/data/standard/MNI152_T1_2mm_brain_mask.nii.gz --runmode=fe --tcontrastsfile=/home/felice/workflow_folders/in_limbo_level2_felice_fsl/in_limbo_mixedfx/l2model/design.con --varcopefile=/home/felice/workflow_folders/in_limbo_level2_felice_fsl/in_limbo_mixedfx/varcopemerge/mapflow/_varcopemerge0/task001_varcope08_merged.nii.gz\n"
       ]
      },
      {
       "output_type": "stream",
       "stream": "stderr",
       "text": [
        "INFO:interface:stdout 2015-01-28T19:03:28.088854:Log directory is: stats\n"
       ]
      },
      {
       "output_type": "stream",
       "stream": "stderr",
       "text": [
        "INFO:interface:stdout 2015-01-28T19:03:28.090065:Setting up:\n"
       ]
      },
      {
       "output_type": "stream",
       "stream": "stderr",
       "text": [
        "INFO:interface:stdout 2015-01-28T19:03:29.277442:ntptsing=26.000000 \n"
       ]
      },
      {
       "output_type": "stream",
       "stream": "stderr",
       "text": [
        "INFO:interface:stdout 2015-01-28T19:03:29.277442:\n"
       ]
      },
      {
       "output_type": "stream",
       "stream": "stderr",
       "text": [
        "INFO:interface:stdout 2015-01-28T19:03:29.277442:evs_group=1.000000 \n"
       ]
      },
      {
       "output_type": "stream",
       "stream": "stderr",
       "text": [
        "INFO:interface:stdout 2015-01-28T19:03:29.277442:\n"
       ]
      },
      {
       "output_type": "stream",
       "stream": "stderr",
       "text": [
        "INFO:interface:stdout 2015-01-28T19:03:29.282291:No f contrasts\n"
       ]
      },
      {
       "output_type": "stream",
       "stream": "stderr",
       "text": [
        "INFO:interface:stdout 2015-01-28T19:03:29.294805:\n"
       ]
      },
      {
       "output_type": "stream",
       "stream": "stderr",
       "text": [
        "INFO:interface:stdout 2015-01-28T19:03:29.294805:WARNING: The passed in varcope file, /home/felice/workflow_folders/in_limbo_level2_felice_fsl/in_limbo_mixedfx/varcopemerge/mapflow/_varcopemerge0/task001_varcope08_merged.nii.gz, contains voxels inside the mask with zero (or negative) values. These voxels will be excluded from the analysis.\n"
       ]
      },
      {
       "output_type": "stream",
       "stream": "stderr",
       "text": [
        "INFO:interface:stdout 2015-01-28T19:03:29.301787:nevs=1\n"
       ]
      },
      {
       "output_type": "stream",
       "stream": "stderr",
       "text": [
        "INFO:interface:stdout 2015-01-28T19:03:29.301787:ntpts=26\n"
       ]
      },
      {
       "output_type": "stream",
       "stream": "stderr",
       "text": [
        "INFO:interface:stdout 2015-01-28T19:03:29.301787:ngs=1\n"
       ]
      },
      {
       "output_type": "stream",
       "stream": "stderr",
       "text": [
        "INFO:interface:stdout 2015-01-28T19:03:29.301787:nvoxels=0\n"
       ]
      },
      {
       "output_type": "stream",
       "stream": "stderr",
       "text": [
        "INFO:interface:stdout 2015-01-28T19:03:29.346478:Running:\n"
       ]
      },
      {
       "output_type": "stream",
       "stream": "stderr",
       "text": [
        "INFO:interface:stdout 2015-01-28T19:03:29.346478:nmaskvoxels=0\n"
       ]
      },
      {
       "output_type": "stream",
       "stream": "stderr",
       "text": [
        "INFO:interface:stdout 2015-01-28T19:03:29.353206:\n"
       ]
      },
      {
       "output_type": "stream",
       "stream": "stderr",
       "text": [
        "INFO:interface:stdout 2015-01-28T19:03:29.353206:Saving results\n"
       ]
      },
      {
       "output_type": "stream",
       "stream": "stderr",
       "text": [
        "INFO:interface:stdout 2015-01-28T19:03:31.420210:\n"
       ]
      },
      {
       "output_type": "stream",
       "stream": "stderr",
       "text": [
        "INFO:interface:stdout 2015-01-28T19:03:31.420210:Log directory was: stats\n"
       ]
      },
      {
       "output_type": "stream",
       "stream": "stderr",
       "text": [
        "INFO:workflow:Executing node in_limbo_mapper.a7 in dir: /home/felice/workflow_folders/in_limbo_level2_felice_fsl/_threshold_3.7/in_limbo_mapper\n"
       ]
      },
      {
       "output_type": "stream",
       "stream": "stderr",
       "text": [
        "INFO:workflow:Executing node datasink.a7 in dir: /home/felice/workflow_folders/in_limbo_level2_felice_fsl/_threshold_3.7/datasink\n"
       ]
      },
      {
       "metadata": {},
       "output_type": "pyout",
       "prompt_number": 12,
       "text": [
        "<networkx.classes.digraph.DiGraph at 0x7f183e6de3d0>"
       ]
      }
     ],
     "prompt_number": 12
    },
    {
     "cell_type": "markdown",
     "metadata": {},
     "source": [
      "## Run the workflow!"
     ]
    },
    {
     "cell_type": "markdown",
     "metadata": {},
     "source": [
      "Now we can make a graphical representation of the workflow"
     ]
    },
    {
     "cell_type": "code",
     "collapsed": false,
     "input": [
      "from IPython.display import Image\n",
      "mixedfx.write_graph()\n",
      "Image('/home/felice/workflow_folders/in_limbo_level2_felice_fsl/graph.dot.png')"
     ],
     "language": "python",
     "metadata": {},
     "outputs": [
      {
       "output_type": "stream",
       "stream": "stderr",
       "text": [
        "INFO:workflow:Converting dotfile: /home/felice/workflow_folders/in_limbo_level2_felice_fsl/graph.dot to png format\n"
       ]
      },
      {
       "metadata": {},
       "output_type": "pyout",
       "png": "[encoded data removed]",
       "prompt_number": 12,
       "text": [
        "<IPython.core.display.Image at 0x7f24608e38d0>"
       ]
      }
     ],
     "prompt_number": 12
    },
    {
     "cell_type": "markdown",
     "metadata": {},
     "source": [
      "and run it!"
     ]
    },
    {
     "cell_type": "code",
     "collapsed": false,
     "input": [
      "mixedfx.run()"
     ],
     "language": "python",
     "metadata": {},
     "outputs": [
      {
       "output_type": "stream",
       "stream": "stderr",
       "text": [
        "INFO:workflow:['check', 'execution', 'logging']\n"
       ]
      },
      {
       "output_type": "stream",
       "stream": "stderr",
       "text": [
        "INFO:workflow:Running serially.\n"
       ]
      },
      {
       "output_type": "stream",
       "stream": "stderr",
       "text": [
        "INFO:workflow:Executing node l2model in dir: /home/felice/workflow_folders/in_limbo_level2_felice_fsl/l2model\n"
       ]
      },
      {
       "output_type": "stream",
       "stream": "stderr",
       "text": [
        "INFO:workflow:Collecting precomputed outputs\n"
       ]
      },
      {
       "output_type": "stream",
       "stream": "stderr",
       "text": [
        "INFO:workflow:Executing node l2model in dir: /home/felice/workflow_folders/in_limbo_level2_felice_fsl/in_limbo_mixedfx/l2model\n"
       ]
      },
      {
       "output_type": "stream",
       "stream": "stderr",
       "text": [
        "INFO:workflow:Collecting precomputed outputs\n"
       ]
      },
      {
       "output_type": "stream",
       "stream": "stderr",
       "text": [
        "INFO:workflow:Executing node copemerge in dir: /home/felice/workflow_folders/in_limbo_level2_felice_fsl/copemerge\n"
       ]
      },
      {
       "output_type": "stream",
       "stream": "stderr",
       "text": [
        "INFO:workflow:Executing node _copemerge0 in dir: /home/felice/workflow_folders/in_limbo_level2_felice_fsl/copemerge/mapflow/_copemerge0\n"
       ]
      },
      {
       "output_type": "stream",
       "stream": "stderr",
       "text": [
        "INFO:workflow:Running: fslmerge -t task001_cope13_merged.nii.gz /home/felice/results2/ds1/output/model01/task001/sub001/copes/mni/model001/task001_cope13.nii.gz /home/felice/results2/ds1/output/model01/task001/sub002/copes/mni/model001/task001_cope13.nii.gz /home/felice/results2/ds1/output/model01/task001/sub003/copes/mni/model001/task001_cope13.nii.gz /home/felice/results2/ds1/output/model01/task001/sub004/copes/mni/model001/task001_cope13.nii.gz /home/felice/results2/ds1/output/model01/task001/sub005/copes/mni/model001/task001_cope13.nii.gz /home/felice/results2/ds1/output/model01/task001/sub006/copes/mni/model001/task001_cope13.nii.gz /home/felice/results2/ds1/output/model01/task001/sub007/copes/mni/model001/task001_cope13.nii.gz /home/felice/results2/ds1/output/model01/task001/sub008/copes/mni/model001/task001_cope13.nii.gz /home/felice/results2/ds1/output/model01/task001/sub009/copes/mni/model001/task001_cope13.nii.gz /home/felice/results2/ds1/output/model01/task001/sub010/copes/mni/model001/task001_cope13.nii.gz /home/felice/results2/ds1/output/model01/task001/sub011/copes/mni/model001/task001_cope13.nii.gz /home/felice/results2/ds1/output/model01/task001/sub012/copes/mni/model001/task001_cope13.nii.gz /home/felice/results2/ds1/output/model01/task001/sub013/copes/mni/model001/task001_cope13.nii.gz /home/felice/results2/ds1/output/model01/task001/sub014/copes/mni/model001/task001_cope13.nii.gz /home/felice/results2/ds1/output/model01/task001/sub015/copes/mni/model001/task001_cope13.nii.gz /home/felice/results2/ds1/output/model01/task001/sub016/copes/mni/model001/task001_cope13.nii.gz\n"
       ]
      },
      {
       "output_type": "stream",
       "stream": "stderr",
       "text": [
        "INFO:workflow:Executing node gendofvolume in dir: /home/felice/workflow_folders/in_limbo_level2_felice_fsl/gendofvolume\n"
       ]
      },
      {
       "output_type": "stream",
       "stream": "stderr",
       "text": [
        "INFO:workflow:Executing node varcopemerge in dir: /home/felice/workflow_folders/in_limbo_level2_felice_fsl/varcopemerge\n"
       ]
      },
      {
       "output_type": "stream",
       "stream": "stderr",
       "text": [
        "INFO:workflow:Executing node _varcopemerge0 in dir: /home/felice/workflow_folders/in_limbo_level2_felice_fsl/varcopemerge/mapflow/_varcopemerge0\n"
       ]
      },
      {
       "output_type": "stream",
       "stream": "stderr",
       "text": [
        "INFO:workflow:Running: fslmerge -t task001_varcope13_merged.nii.gz /home/felice/results2/ds1/output/model01/task001/sub001/varcopes/mni/model001/task001_varcope13.nii.gz /home/felice/results2/ds1/output/model01/task001/sub002/varcopes/mni/model001/task001_varcope13.nii.gz /home/felice/results2/ds1/output/model01/task001/sub003/varcopes/mni/model001/task001_varcope13.nii.gz /home/felice/results2/ds1/output/model01/task001/sub004/varcopes/mni/model001/task001_varcope13.nii.gz /home/felice/results2/ds1/output/model01/task001/sub005/varcopes/mni/model001/task001_varcope13.nii.gz /home/felice/results2/ds1/output/model01/task001/sub006/varcopes/mni/model001/task001_varcope13.nii.gz /home/felice/results2/ds1/output/model01/task001/sub007/varcopes/mni/model001/task001_varcope13.nii.gz /home/felice/results2/ds1/output/model01/task001/sub008/varcopes/mni/model001/task001_varcope13.nii.gz /home/felice/results2/ds1/output/model01/task001/sub009/varcopes/mni/model001/task001_varcope13.nii.gz /home/felice/results2/ds1/output/model01/task001/sub010/varcopes/mni/model001/task001_varcope13.nii.gz /home/felice/results2/ds1/output/model01/task001/sub011/varcopes/mni/model001/task001_varcope13.nii.gz /home/felice/results2/ds1/output/model01/task001/sub012/varcopes/mni/model001/task001_varcope13.nii.gz /home/felice/results2/ds1/output/model01/task001/sub013/varcopes/mni/model001/task001_varcope13.nii.gz /home/felice/results2/ds1/output/model01/task001/sub014/varcopes/mni/model001/task001_varcope13.nii.gz /home/felice/results2/ds1/output/model01/task001/sub015/varcopes/mni/model001/task001_varcope13.nii.gz /home/felice/results2/ds1/output/model01/task001/sub016/varcopes/mni/model001/task001_varcope13.nii.gz\n"
       ]
      },
      {
       "output_type": "stream",
       "stream": "stderr",
       "text": [
        "INFO:workflow:Executing node flameo in dir: /home/felice/workflow_folders/in_limbo_level2_felice_fsl/flameo\n"
       ]
      },
      {
       "output_type": "stream",
       "stream": "stderr",
       "text": [
        "INFO:workflow:Executing node _flameo0 in dir: /home/felice/workflow_folders/in_limbo_level2_felice_fsl/flameo/mapflow/_flameo0\n"
       ]
      },
      {
       "output_type": "stream",
       "stream": "stderr",
       "text": [
        "INFO:workflow:Running: flameo --copefile=/home/felice/workflow_folders/in_limbo_level2_felice_fsl/copemerge/mapflow/_copemerge0/task001_cope13_merged.nii.gz --covsplitfile=/home/felice/workflow_folders/in_limbo_level2_felice_fsl/l2model/design.grp --designfile=/home/felice/workflow_folders/in_limbo_level2_felice_fsl/l2model/design.mat --dofvarcopefile=/home/felice/workflow_folders/in_limbo_level2_felice_fsl/gendofvolume/dof_file.nii.gz --ld=stats --maskfile=/usr/share/fsl/data/standard/MNI152_T1_2mm_brain_mask.nii.gz --runmode=flame1 --tcontrastsfile=/home/felice/workflow_folders/in_limbo_level2_felice_fsl/l2model/design.con --varcopefile=/home/felice/workflow_folders/in_limbo_level2_felice_fsl/varcopemerge/mapflow/_varcopemerge0/task001_varcope13_merged.nii.gz\n"
       ]
      },
      {
       "output_type": "stream",
       "stream": "stderr",
       "text": [
        "INFO:interface:stdout 2015-01-28T16:40:29.506369:Log directory is: stats\n"
       ]
      },
      {
       "output_type": "stream",
       "stream": "stderr",
       "text": [
        "INFO:interface:stdout 2015-01-28T16:40:29.508201:Setting up:\n"
       ]
      },
      {
       "output_type": "stream",
       "stream": "stderr",
       "text": [
        "INFO:interface:stdout 2015-01-28T16:40:30.558604:ntptsing=16.000000 \n"
       ]
      },
      {
       "output_type": "stream",
       "stream": "stderr",
       "text": [
        "INFO:interface:stdout 2015-01-28T16:40:30.558604:\n"
       ]
      },
      {
       "output_type": "stream",
       "stream": "stderr",
       "text": [
        "INFO:interface:stdout 2015-01-28T16:40:30.558604:evs_group=1.000000 \n"
       ]
      },
      {
       "output_type": "stream",
       "stream": "stderr",
       "text": [
        "INFO:interface:stdout 2015-01-28T16:40:30.558604:\n"
       ]
      },
      {
       "output_type": "stream",
       "stream": "stderr",
       "text": [
        "INFO:interface:stdout 2015-01-28T16:40:30.560833:No f contrasts\n"
       ]
      },
      {
       "output_type": "stream",
       "stream": "stderr",
       "text": [
        "INFO:interface:stdout 2015-01-28T16:40:30.681887:\n"
       ]
      },
      {
       "output_type": "stream",
       "stream": "stderr",
       "text": [
        "INFO:interface:stdout 2015-01-28T16:40:30.681887:WARNING: The passed in varcope file, /home/felice/workflow_folders/in_limbo_level2_felice_fsl/varcopemerge/mapflow/_varcopemerge0/task001_varcope13_merged.nii.gz, contains voxels inside the mask with zero (or negative) values. These voxels will be excluded from the analysis.\n"
       ]
      },
      {
       "output_type": "stream",
       "stream": "stderr",
       "text": [
        "INFO:interface:stdout 2015-01-28T16:40:30.694786:nevs=1\n"
       ]
      },
      {
       "output_type": "stream",
       "stream": "stderr",
       "text": [
        "INFO:interface:stdout 2015-01-28T16:40:30.694786:ntpts=16\n"
       ]
      },
      {
       "output_type": "stream",
       "stream": "stderr",
       "text": [
        "INFO:interface:stdout 2015-01-28T16:40:30.694786:ngs=1\n"
       ]
      },
      {
       "output_type": "stream",
       "stream": "stderr",
       "text": [
        "INFO:interface:stdout 2015-01-28T16:40:30.694786:nvoxels=39136\n"
       ]
      },
      {
       "output_type": "stream",
       "stream": "stderr",
       "text": [
        "INFO:interface:stdout 2015-01-28T16:40:30.742529:Running:\n"
       ]
      },
      {
       "output_type": "stream",
       "stream": "stderr",
       "text": [
        "INFO:interface:stdout 2015-01-28T16:40:30.742529:nmaskvoxels=39136\n"
       ]
      },
      {
       "output_type": "stream",
       "stream": "stderr",
       "text": [
        "INFO:interface:stdout 2015-01-28T16:40:37.399179: 1 2 3 4 5 6 7 8 9 10 11 12 13 14 15 16 17 18 19 20 21 22 23 24 25 26 27 28 29 30 31 32 33 34 35 36 37 38 39 40 41 42 43 44 45 46 47 48 49 50 51 52 53 54 55 56 57 58 59 60 61 62 63 64 65 66 67 68 69 70 71 72 73 74 75 76 77 78 79 80 81 82 83 84 85 86 87 88 89 90 91 92 93 94 95 96 97 98 99 100\n"
       ]
      },
      {
       "output_type": "stream",
       "stream": "stderr",
       "text": [
        "INFO:interface:stdout 2015-01-28T16:40:37.405346:nmaskvoxels=39136\n"
       ]
      },
      {
       "output_type": "stream",
       "stream": "stderr",
       "text": [
        "INFO:interface:stdout 2015-01-28T16:40:37.405346:Saving results\n"
       ]
      },
      {
       "output_type": "stream",
       "stream": "stderr",
       "text": [
        "INFO:interface:stdout 2015-01-28T16:40:39.894823:\n"
       ]
      },
      {
       "output_type": "stream",
       "stream": "stderr",
       "text": [
        "INFO:interface:stdout 2015-01-28T16:40:39.894823:Log directory was: stats\n"
       ]
      },
      {
       "output_type": "stream",
       "stream": "stderr",
       "text": [
        "INFO:workflow:Executing node smooth_est in dir: /home/felice/workflow_folders/in_limbo_level2_felice_fsl/smooth_est\n"
       ]
      },
      {
       "output_type": "stream",
       "stream": "stderr",
       "text": [
        "INFO:workflow:Running: smoothest --mask=/usr/share/fsl/data/standard/MNI152_T1_2mm_brain_mask.nii.gz --zstat=/home/felice/workflow_folders/in_limbo_level2_felice_fsl/flameo/mapflow/_flameo0/stats/zstat1.nii.gz\n"
       ]
      },
      {
       "output_type": "stream",
       "stream": "stderr",
       "text": [
        "INFO:interface:stdout 2015-01-28T16:40:40.069148:DLH 0.248483\n"
       ]
      },
      {
       "output_type": "stream",
       "stream": "stderr",
       "text": [
        "INFO:interface:stdout 2015-01-28T16:40:40.069148:VOLUME 228483\n"
       ]
      },
      {
       "output_type": "stream",
       "stream": "stderr",
       "text": [
        "INFO:interface:stdout 2015-01-28T16:40:40.069148:RESELS 18.5794\n"
       ]
      },
      {
       "output_type": "stream",
       "stream": "stderr",
       "text": [
        "INFO:workflow:Executing node cluster.aI.a6 in dir: /home/felice/workflow_folders/in_limbo_level2_felice_fsl/_threshold_3.5/cluster\n"
       ]
      },
      {
       "output_type": "stream",
       "stream": "stderr",
       "text": [
        "INFO:workflow:Running: cluster --dlh=0.2484830000 --in=/home/felice/workflow_folders/in_limbo_level2_felice_fsl/flameo/mapflow/_flameo0/stats/zstat1.nii.gz --othresh=/home/felice/workflow_folders/in_limbo_level2_felice_fsl/_threshold_3.5/cluster/zstat1_threshold.nii.gz --thresh=3.5000000000\n"
       ]
      },
      {
       "output_type": "stream",
       "stream": "stderr",
       "text": [
        "INFO:interface:stdout 2015-01-28T16:40:40.199820:Cluster Index\tVoxels\tMAX\tMAX X (vox)\tMAX Y (vox)\tMAX Z (vox)\tCOG X (vox)\tCOG Y (vox)\tCOG Z (vox)\n"
       ]
      },
      {
       "output_type": "stream",
       "stream": "stderr",
       "text": [
        "INFO:interface:stdout 2015-01-28T16:40:40.201281:14\t2126\t5.3\t32\t25\t31\t32.5\t28.4\t29.2\n"
       ]
      },
      {
       "output_type": "stream",
       "stream": "stderr",
       "text": [
        "INFO:interface:stdout 2015-01-28T16:40:40.201281:13\t1366\t5.97\t65\t25\t32\t59.3\t26.4\t28.7\n"
       ]
      },
      {
       "output_type": "stream",
       "stream": "stderr",
       "text": [
        "INFO:interface:stdout 2015-01-28T16:40:40.201281:12\t128\t4.46\t59\t31\t9\t57.4\t29.1\t12.2\n"
       ]
      },
      {
       "output_type": "stream",
       "stream": "stderr",
       "text": [
        "INFO:interface:stdout 2015-01-28T16:40:40.201281:11\t25\t4.19\t45\t36\t19\t46.1\t36.3\t19.1\n"
       ]
      },
      {
       "output_type": "stream",
       "stream": "stderr",
       "text": [
        "INFO:interface:stdout 2015-01-28T16:40:40.201281:10\t21\t4.11\t32\t29\t13\t32\t29.3\t13.1\n"
       ]
      },
      {
       "output_type": "stream",
       "stream": "stderr",
       "text": [
        "INFO:interface:stdout 2015-01-28T16:40:40.201281:9\t16\t3.77\t20\t54\t30\t20.2\t53.3\t31.3\n"
       ]
      },
      {
       "output_type": "stream",
       "stream": "stderr",
       "text": [
        "INFO:interface:stdout 2015-01-28T16:40:40.201281:8\t13\t3.71\t56\t33\t22\t56.7\t32.2\t20.2\n"
       ]
      },
      {
       "output_type": "stream",
       "stream": "stderr",
       "text": [
        "INFO:interface:stdout 2015-01-28T16:40:40.201281:7\t2\t3.58\t17\t27\t36\t17\t27.5\t36\n"
       ]
      },
      {
       "output_type": "stream",
       "stream": "stderr",
       "text": [
        "INFO:interface:stdout 2015-01-28T16:40:40.201281:6\t1\t3.62\t34\t14\t37\t34\t14\t37\n"
       ]
      },
      {
       "output_type": "stream",
       "stream": "stderr",
       "text": [
        "INFO:interface:stdout 2015-01-28T16:40:40.201281:5\t1\t6.62\t42\t42\t26\t42\t42\t26\n"
       ]
      },
      {
       "output_type": "stream",
       "stream": "stderr",
       "text": [
        "INFO:interface:stdout 2015-01-28T16:40:40.201281:4\t1\t5.57\t54\t52\t23\t54\t52\t23\n"
       ]
      },
      {
       "output_type": "stream",
       "stream": "stderr",
       "text": [
        "INFO:interface:stdout 2015-01-28T16:40:40.201281:3\t1\t4.69\t69\t40\t17\t69\t40\t17\n"
       ]
      },
      {
       "output_type": "stream",
       "stream": "stderr",
       "text": [
        "INFO:interface:stdout 2015-01-28T16:40:40.201281:2\t1\t4.32\t69\t40\t11\t69\t40\t11\n"
       ]
      },
      {
       "output_type": "stream",
       "stream": "stderr",
       "text": [
        "INFO:interface:stdout 2015-01-28T16:40:40.201281:1\t1\t3.54\t52\t40\t11\t52\t40\t11\n"
       ]
      },
      {
       "output_type": "stream",
       "stream": "stderr",
       "text": [
        "INFO:workflow:Executing node get_comparison_voxel.a6 in dir: /home/felice/workflow_folders/in_limbo_level2_felice_fsl/_threshold_3.5/get_comparison_voxel\n"
       ]
      },
      {
       "output_type": "stream",
       "stream": "stderr",
       "text": [
        "INFO:workflow:Executing node get_min_value.a6 in dir: /home/felice/workflow_folders/in_limbo_level2_felice_fsl/_threshold_3.5/get_min_value\n"
       ]
      },
      {
       "output_type": "stream",
       "stream": "stderr",
       "text": [
        "INFO:workflow:Executing node _get_min_value0 in dir: /home/felice/workflow_folders/in_limbo_level2_felice_fsl/_threshold_3.5/get_min_value/mapflow/_get_min_value0\n"
       ]
      },
      {
       "output_type": "stream",
       "stream": "stderr",
       "text": [
        "INFO:workflow:Executing node _get_min_value1 in dir: /home/felice/workflow_folders/in_limbo_level2_felice_fsl/_threshold_3.5/get_min_value/mapflow/_get_min_value1\n"
       ]
      },
      {
       "output_type": "stream",
       "stream": "stderr",
       "text": [
        "INFO:workflow:Executing node _get_min_value2 in dir: /home/felice/workflow_folders/in_limbo_level2_felice_fsl/_threshold_3.5/get_min_value/mapflow/_get_min_value2\n"
       ]
      },
      {
       "output_type": "stream",
       "stream": "stderr",
       "text": [
        "INFO:workflow:Executing node _get_min_value3 in dir: /home/felice/workflow_folders/in_limbo_level2_felice_fsl/_threshold_3.5/get_min_value/mapflow/_get_min_value3\n"
       ]
      },
      {
       "output_type": "stream",
       "stream": "stderr",
       "text": [
        "INFO:workflow:Executing node _get_min_value4 in dir: /home/felice/workflow_folders/in_limbo_level2_felice_fsl/_threshold_3.5/get_min_value/mapflow/_get_min_value4\n"
       ]
      },
      {
       "output_type": "stream",
       "stream": "stderr",
       "text": [
        "INFO:workflow:Executing node _get_min_value5 in dir: /home/felice/workflow_folders/in_limbo_level2_felice_fsl/_threshold_3.5/get_min_value/mapflow/_get_min_value5\n"
       ]
      },
      {
       "output_type": "stream",
       "stream": "stderr",
       "text": [
        "INFO:workflow:Executing node _get_min_value6 in dir: /home/felice/workflow_folders/in_limbo_level2_felice_fsl/_threshold_3.5/get_min_value/mapflow/_get_min_value6\n"
       ]
      },
      {
       "output_type": "stream",
       "stream": "stderr",
       "text": [
        "INFO:workflow:Executing node _get_min_value7 in dir: /home/felice/workflow_folders/in_limbo_level2_felice_fsl/_threshold_3.5/get_min_value/mapflow/_get_min_value7\n"
       ]
      },
      {
       "output_type": "stream",
       "stream": "stderr",
       "text": [
        "INFO:workflow:Executing node _get_min_value8 in dir: /home/felice/workflow_folders/in_limbo_level2_felice_fsl/_threshold_3.5/get_min_value/mapflow/_get_min_value8\n"
       ]
      },
      {
       "output_type": "stream",
       "stream": "stderr",
       "text": [
        "INFO:workflow:Executing node _get_min_value9 in dir: /home/felice/workflow_folders/in_limbo_level2_felice_fsl/_threshold_3.5/get_min_value/mapflow/_get_min_value9\n"
       ]
      },
      {
       "output_type": "stream",
       "stream": "stderr",
       "text": [
        "INFO:workflow:Executing node _get_min_value10 in dir: /home/felice/workflow_folders/in_limbo_level2_felice_fsl/_threshold_3.5/get_min_value/mapflow/_get_min_value10\n"
       ]
      },
      {
       "output_type": "stream",
       "stream": "stderr",
       "text": [
        "INFO:workflow:Executing node _get_min_value11 in dir: /home/felice/workflow_folders/in_limbo_level2_felice_fsl/_threshold_3.5/get_min_value/mapflow/_get_min_value11\n"
       ]
      },
      {
       "output_type": "stream",
       "stream": "stderr",
       "text": [
        "INFO:workflow:Executing node _get_min_value12 in dir: /home/felice/workflow_folders/in_limbo_level2_felice_fsl/_threshold_3.5/get_min_value/mapflow/_get_min_value12\n"
       ]
      },
      {
       "output_type": "stream",
       "stream": "stderr",
       "text": [
        "INFO:workflow:Executing node _get_min_value13 in dir: /home/felice/workflow_folders/in_limbo_level2_felice_fsl/_threshold_3.5/get_min_value/mapflow/_get_min_value13\n"
       ]
      },
      {
       "output_type": "stream",
       "stream": "stderr",
       "text": [
        "INFO:workflow:Executing node _get_min_value14 in dir: /home/felice/workflow_folders/in_limbo_level2_felice_fsl/_threshold_3.5/get_min_value/mapflow/_get_min_value14\n"
       ]
      },
      {
       "output_type": "stream",
       "stream": "stderr",
       "text": [
        "INFO:workflow:Executing node _get_min_value15 in dir: /home/felice/workflow_folders/in_limbo_level2_felice_fsl/_threshold_3.5/get_min_value/mapflow/_get_min_value15\n"
       ]
      },
      {
       "output_type": "stream",
       "stream": "stderr",
       "text": [
        "INFO:workflow:Executing node subtract_from_cope.a6 in dir: /home/felice/workflow_folders/in_limbo_level2_felice_fsl/_threshold_3.5/subtract_from_cope\n"
       ]
      },
      {
       "output_type": "stream",
       "stream": "stderr",
       "text": [
        "INFO:workflow:Executing node _subtract_from_cope0 in dir: /home/felice/workflow_folders/in_limbo_level2_felice_fsl/_threshold_3.5/subtract_from_cope/mapflow/_subtract_from_cope0\n"
       ]
      },
      {
       "output_type": "stream",
       "stream": "stderr",
       "text": [
        "INFO:workflow:Executing node _subtract_from_cope1 in dir: /home/felice/workflow_folders/in_limbo_level2_felice_fsl/_threshold_3.5/subtract_from_cope/mapflow/_subtract_from_cope1\n"
       ]
      },
      {
       "output_type": "stream",
       "stream": "stderr",
       "text": [
        "INFO:workflow:Executing node _subtract_from_cope2 in dir: /home/felice/workflow_folders/in_limbo_level2_felice_fsl/_threshold_3.5/subtract_from_cope/mapflow/_subtract_from_cope2\n"
       ]
      },
      {
       "output_type": "stream",
       "stream": "stderr",
       "text": [
        "INFO:workflow:Executing node _subtract_from_cope3 in dir: /home/felice/workflow_folders/in_limbo_level2_felice_fsl/_threshold_3.5/subtract_from_cope/mapflow/_subtract_from_cope3\n"
       ]
      },
      {
       "output_type": "stream",
       "stream": "stderr",
       "text": [
        "INFO:workflow:Executing node _subtract_from_cope4 in dir: /home/felice/workflow_folders/in_limbo_level2_felice_fsl/_threshold_3.5/subtract_from_cope/mapflow/_subtract_from_cope4\n"
       ]
      },
      {
       "output_type": "stream",
       "stream": "stderr",
       "text": [
        "INFO:workflow:Executing node _subtract_from_cope5 in dir: /home/felice/workflow_folders/in_limbo_level2_felice_fsl/_threshold_3.5/subtract_from_cope/mapflow/_subtract_from_cope5\n"
       ]
      },
      {
       "output_type": "stream",
       "stream": "stderr",
       "text": [
        "INFO:workflow:Executing node _subtract_from_cope6 in dir: /home/felice/workflow_folders/in_limbo_level2_felice_fsl/_threshold_3.5/subtract_from_cope/mapflow/_subtract_from_cope6\n"
       ]
      },
      {
       "output_type": "stream",
       "stream": "stderr",
       "text": [
        "INFO:workflow:Executing node _subtract_from_cope7 in dir: /home/felice/workflow_folders/in_limbo_level2_felice_fsl/_threshold_3.5/subtract_from_cope/mapflow/_subtract_from_cope7\n"
       ]
      },
      {
       "output_type": "stream",
       "stream": "stderr",
       "text": [
        "INFO:workflow:Executing node _subtract_from_cope8 in dir: /home/felice/workflow_folders/in_limbo_level2_felice_fsl/_threshold_3.5/subtract_from_cope/mapflow/_subtract_from_cope8\n"
       ]
      },
      {
       "output_type": "stream",
       "stream": "stderr",
       "text": [
        "INFO:workflow:Executing node _subtract_from_cope9 in dir: /home/felice/workflow_folders/in_limbo_level2_felice_fsl/_threshold_3.5/subtract_from_cope/mapflow/_subtract_from_cope9\n"
       ]
      },
      {
       "output_type": "stream",
       "stream": "stderr",
       "text": [
        "INFO:workflow:Executing node _subtract_from_cope10 in dir: /home/felice/workflow_folders/in_limbo_level2_felice_fsl/_threshold_3.5/subtract_from_cope/mapflow/_subtract_from_cope10\n"
       ]
      },
      {
       "output_type": "stream",
       "stream": "stderr",
       "text": [
        "INFO:workflow:Executing node _subtract_from_cope11 in dir: /home/felice/workflow_folders/in_limbo_level2_felice_fsl/_threshold_3.5/subtract_from_cope/mapflow/_subtract_from_cope11\n"
       ]
      },
      {
       "output_type": "stream",
       "stream": "stderr",
       "text": [
        "INFO:workflow:Executing node _subtract_from_cope12 in dir: /home/felice/workflow_folders/in_limbo_level2_felice_fsl/_threshold_3.5/subtract_from_cope/mapflow/_subtract_from_cope12\n"
       ]
      },
      {
       "output_type": "stream",
       "stream": "stderr",
       "text": [
        "INFO:workflow:Executing node _subtract_from_cope13 in dir: /home/felice/workflow_folders/in_limbo_level2_felice_fsl/_threshold_3.5/subtract_from_cope/mapflow/_subtract_from_cope13\n"
       ]
      },
      {
       "output_type": "stream",
       "stream": "stderr",
       "text": [
        "INFO:workflow:Executing node _subtract_from_cope14 in dir: /home/felice/workflow_folders/in_limbo_level2_felice_fsl/_threshold_3.5/subtract_from_cope/mapflow/_subtract_from_cope14\n"
       ]
      },
      {
       "output_type": "stream",
       "stream": "stderr",
       "text": [
        "INFO:workflow:Executing node _subtract_from_cope15 in dir: /home/felice/workflow_folders/in_limbo_level2_felice_fsl/_threshold_3.5/subtract_from_cope/mapflow/_subtract_from_cope15\n"
       ]
      },
      {
       "output_type": "stream",
       "stream": "stderr",
       "text": [
        "INFO:workflow:Executing node copemerge.a6 in dir: /home/felice/workflow_folders/in_limbo_level2_felice_fsl/in_limbo_mixedfx/_threshold_3.5/copemerge\n"
       ]
      },
      {
       "output_type": "stream",
       "stream": "stderr",
       "text": [
        "INFO:workflow:Executing node _copemerge0 in dir: /home/felice/workflow_folders/in_limbo_level2_felice_fsl/in_limbo_mixedfx/_threshold_3.5/copemerge/mapflow/_copemerge0\n"
       ]
      },
      {
       "output_type": "stream",
       "stream": "stderr",
       "text": [
        "INFO:workflow:Running: fslmerge -t cope_in_limbo_merged.nii.gz /home/felice/workflow_folders/in_limbo_level2_felice_fsl/_threshold_3.5/subtract_from_cope/mapflow/_subtract_from_cope0/cope_in_limbo.nii.gz /home/felice/workflow_folders/in_limbo_level2_felice_fsl/_threshold_3.5/subtract_from_cope/mapflow/_subtract_from_cope1/cope_in_limbo.nii.gz /home/felice/workflow_folders/in_limbo_level2_felice_fsl/_threshold_3.5/subtract_from_cope/mapflow/_subtract_from_cope2/cope_in_limbo.nii.gz /home/felice/workflow_folders/in_limbo_level2_felice_fsl/_threshold_3.5/subtract_from_cope/mapflow/_subtract_from_cope3/cope_in_limbo.nii.gz /home/felice/workflow_folders/in_limbo_level2_felice_fsl/_threshold_3.5/subtract_from_cope/mapflow/_subtract_from_cope4/cope_in_limbo.nii.gz /home/felice/workflow_folders/in_limbo_level2_felice_fsl/_threshold_3.5/subtract_from_cope/mapflow/_subtract_from_cope5/cope_in_limbo.nii.gz /home/felice/workflow_folders/in_limbo_level2_felice_fsl/_threshold_3.5/subtract_from_cope/mapflow/_subtract_from_cope6/cope_in_limbo.nii.gz /home/felice/workflow_folders/in_limbo_level2_felice_fsl/_threshold_3.5/subtract_from_cope/mapflow/_subtract_from_cope7/cope_in_limbo.nii.gz /home/felice/workflow_folders/in_limbo_level2_felice_fsl/_threshold_3.5/subtract_from_cope/mapflow/_subtract_from_cope8/cope_in_limbo.nii.gz /home/felice/workflow_folders/in_limbo_level2_felice_fsl/_threshold_3.5/subtract_from_cope/mapflow/_subtract_from_cope9/cope_in_limbo.nii.gz /home/felice/workflow_folders/in_limbo_level2_felice_fsl/_threshold_3.5/subtract_from_cope/mapflow/_subtract_from_cope10/cope_in_limbo.nii.gz /home/felice/workflow_folders/in_limbo_level2_felice_fsl/_threshold_3.5/subtract_from_cope/mapflow/_subtract_from_cope11/cope_in_limbo.nii.gz /home/felice/workflow_folders/in_limbo_level2_felice_fsl/_threshold_3.5/subtract_from_cope/mapflow/_subtract_from_cope12/cope_in_limbo.nii.gz /home/felice/workflow_folders/in_limbo_level2_felice_fsl/_threshold_3.5/subtract_from_cope/mapflow/_subtract_from_cope13/cope_in_limbo.nii.gz /home/felice/workflow_folders/in_limbo_level2_felice_fsl/_threshold_3.5/subtract_from_cope/mapflow/_subtract_from_cope14/cope_in_limbo.nii.gz /home/felice/workflow_folders/in_limbo_level2_felice_fsl/_threshold_3.5/subtract_from_cope/mapflow/_subtract_from_cope15/cope_in_limbo.nii.gz\n"
       ]
      },
      {
       "output_type": "stream",
       "stream": "stderr",
       "text": [
        "INFO:workflow:Executing node gendofvolume.a6 in dir: /home/felice/workflow_folders/in_limbo_level2_felice_fsl/in_limbo_mixedfx/_threshold_3.5/gendofvolume\n"
       ]
      },
      {
       "output_type": "stream",
       "stream": "stderr",
       "text": [
        "INFO:workflow:Executing node cluster.aI.a0 in dir: /home/felice/workflow_folders/in_limbo_level2_felice_fsl/_threshold_2.3/cluster\n"
       ]
      },
      {
       "output_type": "stream",
       "stream": "stderr",
       "text": [
        "INFO:workflow:Running: cluster --dlh=0.2484830000 --in=/home/felice/workflow_folders/in_limbo_level2_felice_fsl/flameo/mapflow/_flameo0/stats/zstat1.nii.gz --othresh=/home/felice/workflow_folders/in_limbo_level2_felice_fsl/_threshold_2.3/cluster/zstat1_threshold.nii.gz --thresh=2.3000000000\n"
       ]
      },
      {
       "output_type": "stream",
       "stream": "stderr",
       "text": [
        "INFO:interface:stdout 2015-01-28T16:40:47.567465:Cluster Index\tVoxels\tMAX\tMAX X (vox)\tMAX Y (vox)\tMAX Z (vox)\tCOG X (vox)\tCOG Y (vox)\tCOG Z (vox)\n"
       ]
      },
      {
       "output_type": "stream",
       "stream": "stderr",
       "text": [
        "INFO:interface:stdout 2015-01-28T16:40:47.568706:37\t9551\t5.97\t65\t25\t32\t44.7\t28.8\t25.9\n"
       ]
      },
      {
       "output_type": "stream",
       "stream": "stderr",
       "text": [
        "INFO:interface:stdout 2015-01-28T16:40:47.568706:36\t118\t3.77\t20\t54\t30\t19.1\t53.4\t31.2\n"
       ]
      },
      {
       "output_type": "stream",
       "stream": "stderr",
       "text": [
        "INFO:interface:stdout 2015-01-28T16:40:47.568706:35\t47\t3.54\t52\t40\t11\t52.2\t39.5\t11.8\n"
       ]
      },
      {
       "output_type": "stream",
       "stream": "stderr",
       "text": [
        "INFO:interface:stdout 2015-01-28T16:40:47.568706:34\t24\t2.84\t21\t74\t26\t21.3\t72.9\t25.8\n"
       ]
      },
      {
       "output_type": "stream",
       "stream": "stderr",
       "text": [
        "INFO:interface:stdout 2015-01-28T16:40:47.568706:33\t21\t3.4\t61\t52\t22\t60.8\t52.2\t21.4\n"
       ]
      },
      {
       "output_type": "stream",
       "stream": "stderr",
       "text": [
        "INFO:interface:stdout 2015-01-28T16:40:47.568706:32\t10\t2.68\t45\t39\t27\t43.7\t38.6\t26.6\n"
       ]
      },
      {
       "output_type": "stream",
       "stream": "stderr",
       "text": [
        "INFO:interface:stdout 2015-01-28T16:40:47.568706:31\t10\t2.63\t34\t65\t19\t32.8\t64.8\t18.7\n"
       ]
      },
      {
       "output_type": "stream",
       "stream": "stderr",
       "text": [
        "INFO:interface:stdout 2015-01-28T16:40:47.568706:30\t9\t3.26\t57\t50\t25\t57.2\t50.4\t25.6\n"
       ]
      },
      {
       "output_type": "stream",
       "stream": "stderr",
       "text": [
        "INFO:interface:stdout 2015-01-28T16:40:47.568706:29\t8\t3.44\t32\t70\t26\t31.3\t70.5\t25.7\n"
       ]
      },
      {
       "output_type": "stream",
       "stream": "stderr",
       "text": [
        "INFO:interface:stdout 2015-01-28T16:40:47.568706:28\t4\t2.44\t25\t61\t29\t25.3\t61.2\t28.7\n"
       ]
      },
      {
       "output_type": "stream",
       "stream": "stderr",
       "text": [
        "INFO:interface:stdout 2015-01-28T16:40:47.568706:27\t4\t2.64\t51\t46\t15\t51.2\t46\t15.3\n"
       ]
      },
      {
       "output_type": "stream",
       "stream": "stderr",
       "text": [
        "INFO:interface:stdout 2015-01-28T16:40:47.568706:26\t3\t2.46\t46\t46\t18\t46\t46.3\t18\n"
       ]
      },
      {
       "output_type": "stream",
       "stream": "stderr",
       "text": [
        "INFO:interface:stdout 2015-01-28T16:40:47.568706:25\t2\t2.42\t28\t74\t26\t28.5\t74\t26\n"
       ]
      },
      {
       "output_type": "stream",
       "stream": "stderr",
       "text": [
        "INFO:interface:stdout 2015-01-28T16:40:47.568706:24\t2\t6.62\t42\t42\t26\t42\t42.3\t26\n"
       ]
      },
      {
       "output_type": "stream",
       "stream": "stderr",
       "text": [
        "INFO:interface:stdout 2015-01-28T16:40:47.568706:23\t2\t2.4\t38\t36\t25\t38\t36.5\t25\n"
       ]
      },
      {
       "output_type": "stream",
       "stream": "stderr",
       "text": [
        "INFO:interface:stdout 2015-01-28T16:40:47.568706:22\t2\t2.45\t42\t48\t24\t42\t47.5\t24\n"
       ]
      },
      {
       "output_type": "stream",
       "stream": "stderr",
       "text": [
        "INFO:interface:stdout 2015-01-28T16:40:47.568706:21\t1\t2.49\t35\t11\t37\t35\t11\t37\n"
       ]
      },
      {
       "output_type": "stream",
       "stream": "stderr",
       "text": [
        "INFO:interface:stdout 2015-01-28T16:40:47.568706:20\t1\t2.31\t19\t43\t35\t19\t43\t35\n"
       ]
      },
      {
       "output_type": "stream",
       "stream": "stderr",
       "text": [
        "INFO:interface:stdout 2015-01-28T16:40:47.568706:19\t1\t2.39\t19\t64\t29\t19\t64\t29\n"
       ]
      },
      {
       "output_type": "stream",
       "stream": "stderr",
       "text": [
        "INFO:interface:stdout 2015-01-28T16:40:47.568706:18\t1\t2.4\t27\t64\t28\t27\t64\t28\n"
       ]
      },
      {
       "output_type": "stream",
       "stream": "stderr",
       "text": [
        "INFO:interface:stdout 2015-01-28T16:40:47.568706:17\t1\t2.41\t34\t61\t28\t34\t61\t28\n"
       ]
      },
      {
       "output_type": "stream",
       "stream": "stderr",
       "text": [
        "INFO:interface:stdout 2015-01-28T16:40:47.568706:16\t1\t2.34\t29\t66\t27\t29\t66\t27\n"
       ]
      },
      {
       "output_type": "stream",
       "stream": "stderr",
       "text": [
        "INFO:interface:stdout 2015-01-28T16:40:47.568706:15\t1\t2.45\t59\t54\t26\t59\t54\t26\n"
       ]
      },
      {
       "output_type": "stream",
       "stream": "stderr",
       "text": [
        "INFO:interface:stdout 2015-01-28T16:40:47.568706:14\t1\t2.37\t38\t19\t26\t38\t19\t26\n"
       ]
      },
      {
       "output_type": "stream",
       "stream": "stderr",
       "text": [
        "INFO:interface:stdout 2015-01-28T16:40:47.568706:13\t1\t3.36\t64\t53\t24\t64\t53\t24\n"
       ]
      },
      {
       "output_type": "stream",
       "stream": "stderr",
       "text": [
        "INFO:interface:stdout 2015-01-28T16:40:47.568706:12\t1\t5.57\t54\t52\t23\t54\t52\t23\n"
       ]
      },
      {
       "output_type": "stream",
       "stream": "stderr",
       "text": [
        "INFO:interface:stdout 2015-01-28T16:40:47.568706:11\t1\t2.3\t53\t50\t23\t53\t50\t23\n"
       ]
      },
      {
       "output_type": "stream",
       "stream": "stderr",
       "text": [
        "INFO:interface:stdout 2015-01-28T16:40:47.568706:10\t1\t2.4\t29\t31\t20\t29\t31\t20\n"
       ]
      },
      {
       "output_type": "stream",
       "stream": "stderr",
       "text": [
        "INFO:interface:stdout 2015-01-28T16:40:47.568706:9\t1\t2.46\t20\t71\t19\t20\t71\t19\n"
       ]
      },
      {
       "output_type": "stream",
       "stream": "stderr",
       "text": [
        "INFO:interface:stdout 2015-01-28T16:40:47.568706:8\t1\t2.39\t49\t43\t18\t49\t43\t18\n"
       ]
      },
      {
       "output_type": "stream",
       "stream": "stderr",
       "text": [
        "INFO:interface:stdout 2015-01-28T16:40:47.568706:7\t1\t2.34\t30\t75\t17\t30\t75\t17\n"
       ]
      },
      {
       "output_type": "stream",
       "stream": "stderr",
       "text": [
        "INFO:interface:stdout 2015-01-28T16:40:47.568706:6\t1\t4.69\t69\t40\t17\t69\t40\t17\n"
       ]
      },
      {
       "output_type": "stream",
       "stream": "stderr",
       "text": [
        "INFO:interface:stdout 2015-01-28T16:40:47.568706:5\t1\t2.57\t40\t47\t16\t40\t47\t16\n"
       ]
      },
      {
       "output_type": "stream",
       "stream": "stderr",
       "text": [
        "INFO:interface:stdout 2015-01-28T16:40:47.568706:4\t1\t2.53\t52\t43\t15\t52\t43\t15\n"
       ]
      },
      {
       "output_type": "stream",
       "stream": "stderr",
       "text": [
        "INFO:interface:stdout 2015-01-28T16:40:47.568706:3\t1\t2.38\t36\t44\t12\t36\t44\t12\n"
       ]
      },
      {
       "output_type": "stream",
       "stream": "stderr",
       "text": [
        "INFO:interface:stdout 2015-01-28T16:40:47.568706:2\t1\t4.32\t69\t40\t11\t69\t40\t11\n"
       ]
      },
      {
       "output_type": "stream",
       "stream": "stderr",
       "text": [
        "INFO:interface:stdout 2015-01-28T16:40:47.568706:1\t1\t2.63\t48\t35\t10\t48\t35\t10\n"
       ]
      },
      {
       "output_type": "stream",
       "stream": "stderr",
       "text": [
        "INFO:workflow:Executing node get_comparison_voxel.a0 in dir: /home/felice/workflow_folders/in_limbo_level2_felice_fsl/_threshold_2.3/get_comparison_voxel\n"
       ]
      },
      {
       "output_type": "stream",
       "stream": "stderr",
       "text": [
        "INFO:workflow:Executing node get_min_value.a0 in dir: /home/felice/workflow_folders/in_limbo_level2_felice_fsl/_threshold_2.3/get_min_value\n"
       ]
      },
      {
       "output_type": "stream",
       "stream": "stderr",
       "text": [
        "INFO:workflow:Executing node _get_min_value0 in dir: /home/felice/workflow_folders/in_limbo_level2_felice_fsl/_threshold_2.3/get_min_value/mapflow/_get_min_value0\n"
       ]
      },
      {
       "output_type": "stream",
       "stream": "stderr",
       "text": [
        "INFO:workflow:Executing node _get_min_value1 in dir: /home/felice/workflow_folders/in_limbo_level2_felice_fsl/_threshold_2.3/get_min_value/mapflow/_get_min_value1\n"
       ]
      },
      {
       "output_type": "stream",
       "stream": "stderr",
       "text": [
        "INFO:workflow:Executing node _get_min_value2 in dir: /home/felice/workflow_folders/in_limbo_level2_felice_fsl/_threshold_2.3/get_min_value/mapflow/_get_min_value2\n"
       ]
      },
      {
       "output_type": "stream",
       "stream": "stderr",
       "text": [
        "INFO:workflow:Executing node _get_min_value3 in dir: /home/felice/workflow_folders/in_limbo_level2_felice_fsl/_threshold_2.3/get_min_value/mapflow/_get_min_value3\n"
       ]
      },
      {
       "output_type": "stream",
       "stream": "stderr",
       "text": [
        "INFO:workflow:Executing node _get_min_value4 in dir: /home/felice/workflow_folders/in_limbo_level2_felice_fsl/_threshold_2.3/get_min_value/mapflow/_get_min_value4\n"
       ]
      },
      {
       "output_type": "stream",
       "stream": "stderr",
       "text": [
        "INFO:workflow:Executing node _get_min_value5 in dir: /home/felice/workflow_folders/in_limbo_level2_felice_fsl/_threshold_2.3/get_min_value/mapflow/_get_min_value5\n"
       ]
      },
      {
       "output_type": "stream",
       "stream": "stderr",
       "text": [
        "INFO:workflow:Executing node _get_min_value6 in dir: /home/felice/workflow_folders/in_limbo_level2_felice_fsl/_threshold_2.3/get_min_value/mapflow/_get_min_value6\n"
       ]
      },
      {
       "output_type": "stream",
       "stream": "stderr",
       "text": [
        "INFO:workflow:Executing node _get_min_value7 in dir: /home/felice/workflow_folders/in_limbo_level2_felice_fsl/_threshold_2.3/get_min_value/mapflow/_get_min_value7\n"
       ]
      },
      {
       "output_type": "stream",
       "stream": "stderr",
       "text": [
        "INFO:workflow:Executing node _get_min_value8 in dir: /home/felice/workflow_folders/in_limbo_level2_felice_fsl/_threshold_2.3/get_min_value/mapflow/_get_min_value8\n"
       ]
      },
      {
       "output_type": "stream",
       "stream": "stderr",
       "text": [
        "INFO:workflow:Executing node _get_min_value9 in dir: /home/felice/workflow_folders/in_limbo_level2_felice_fsl/_threshold_2.3/get_min_value/mapflow/_get_min_value9\n"
       ]
      },
      {
       "output_type": "stream",
       "stream": "stderr",
       "text": [
        "INFO:workflow:Executing node _get_min_value10 in dir: /home/felice/workflow_folders/in_limbo_level2_felice_fsl/_threshold_2.3/get_min_value/mapflow/_get_min_value10\n"
       ]
      },
      {
       "output_type": "stream",
       "stream": "stderr",
       "text": [
        "INFO:workflow:Executing node _get_min_value11 in dir: /home/felice/workflow_folders/in_limbo_level2_felice_fsl/_threshold_2.3/get_min_value/mapflow/_get_min_value11\n"
       ]
      },
      {
       "output_type": "stream",
       "stream": "stderr",
       "text": [
        "INFO:workflow:Executing node _get_min_value12 in dir: /home/felice/workflow_folders/in_limbo_level2_felice_fsl/_threshold_2.3/get_min_value/mapflow/_get_min_value12\n"
       ]
      },
      {
       "output_type": "stream",
       "stream": "stderr",
       "text": [
        "INFO:workflow:Executing node _get_min_value13 in dir: /home/felice/workflow_folders/in_limbo_level2_felice_fsl/_threshold_2.3/get_min_value/mapflow/_get_min_value13\n"
       ]
      },
      {
       "output_type": "stream",
       "stream": "stderr",
       "text": [
        "INFO:workflow:Executing node _get_min_value14 in dir: /home/felice/workflow_folders/in_limbo_level2_felice_fsl/_threshold_2.3/get_min_value/mapflow/_get_min_value14\n"
       ]
      },
      {
       "output_type": "stream",
       "stream": "stderr",
       "text": [
        "INFO:workflow:Executing node _get_min_value15 in dir: /home/felice/workflow_folders/in_limbo_level2_felice_fsl/_threshold_2.3/get_min_value/mapflow/_get_min_value15\n"
       ]
      },
      {
       "output_type": "stream",
       "stream": "stderr",
       "text": [
        "INFO:workflow:Executing node subtract_from_cope.a0 in dir: /home/felice/workflow_folders/in_limbo_level2_felice_fsl/_threshold_2.3/subtract_from_cope\n"
       ]
      },
      {
       "output_type": "stream",
       "stream": "stderr",
       "text": [
        "INFO:workflow:Executing node _subtract_from_cope0 in dir: /home/felice/workflow_folders/in_limbo_level2_felice_fsl/_threshold_2.3/subtract_from_cope/mapflow/_subtract_from_cope0\n"
       ]
      },
      {
       "output_type": "stream",
       "stream": "stderr",
       "text": [
        "INFO:workflow:Executing node _subtract_from_cope1 in dir: /home/felice/workflow_folders/in_limbo_level2_felice_fsl/_threshold_2.3/subtract_from_cope/mapflow/_subtract_from_cope1\n"
       ]
      },
      {
       "output_type": "stream",
       "stream": "stderr",
       "text": [
        "INFO:workflow:Executing node _subtract_from_cope2 in dir: /home/felice/workflow_folders/in_limbo_level2_felice_fsl/_threshold_2.3/subtract_from_cope/mapflow/_subtract_from_cope2\n"
       ]
      },
      {
       "output_type": "stream",
       "stream": "stderr",
       "text": [
        "INFO:workflow:Executing node _subtract_from_cope3 in dir: /home/felice/workflow_folders/in_limbo_level2_felice_fsl/_threshold_2.3/subtract_from_cope/mapflow/_subtract_from_cope3\n"
       ]
      },
      {
       "output_type": "stream",
       "stream": "stderr",
       "text": [
        "INFO:workflow:Executing node _subtract_from_cope4 in dir: /home/felice/workflow_folders/in_limbo_level2_felice_fsl/_threshold_2.3/subtract_from_cope/mapflow/_subtract_from_cope4\n"
       ]
      },
      {
       "output_type": "stream",
       "stream": "stderr",
       "text": [
        "INFO:workflow:Executing node _subtract_from_cope5 in dir: /home/felice/workflow_folders/in_limbo_level2_felice_fsl/_threshold_2.3/subtract_from_cope/mapflow/_subtract_from_cope5\n"
       ]
      },
      {
       "output_type": "stream",
       "stream": "stderr",
       "text": [
        "INFO:workflow:Executing node _subtract_from_cope6 in dir: /home/felice/workflow_folders/in_limbo_level2_felice_fsl/_threshold_2.3/subtract_from_cope/mapflow/_subtract_from_cope6\n"
       ]
      },
      {
       "output_type": "stream",
       "stream": "stderr",
       "text": [
        "INFO:workflow:Executing node _subtract_from_cope7 in dir: /home/felice/workflow_folders/in_limbo_level2_felice_fsl/_threshold_2.3/subtract_from_cope/mapflow/_subtract_from_cope7\n"
       ]
      },
      {
       "output_type": "stream",
       "stream": "stderr",
       "text": [
        "INFO:workflow:Executing node _subtract_from_cope8 in dir: /home/felice/workflow_folders/in_limbo_level2_felice_fsl/_threshold_2.3/subtract_from_cope/mapflow/_subtract_from_cope8\n"
       ]
      },
      {
       "output_type": "stream",
       "stream": "stderr",
       "text": [
        "INFO:workflow:Executing node _subtract_from_cope9 in dir: /home/felice/workflow_folders/in_limbo_level2_felice_fsl/_threshold_2.3/subtract_from_cope/mapflow/_subtract_from_cope9\n"
       ]
      },
      {
       "output_type": "stream",
       "stream": "stderr",
       "text": [
        "INFO:workflow:Executing node _subtract_from_cope10 in dir: /home/felice/workflow_folders/in_limbo_level2_felice_fsl/_threshold_2.3/subtract_from_cope/mapflow/_subtract_from_cope10\n"
       ]
      },
      {
       "output_type": "stream",
       "stream": "stderr",
       "text": [
        "INFO:workflow:Executing node _subtract_from_cope11 in dir: /home/felice/workflow_folders/in_limbo_level2_felice_fsl/_threshold_2.3/subtract_from_cope/mapflow/_subtract_from_cope11\n"
       ]
      },
      {
       "output_type": "stream",
       "stream": "stderr",
       "text": [
        "INFO:workflow:Executing node _subtract_from_cope12 in dir: /home/felice/workflow_folders/in_limbo_level2_felice_fsl/_threshold_2.3/subtract_from_cope/mapflow/_subtract_from_cope12\n"
       ]
      },
      {
       "output_type": "stream",
       "stream": "stderr",
       "text": [
        "INFO:workflow:Executing node _subtract_from_cope13 in dir: /home/felice/workflow_folders/in_limbo_level2_felice_fsl/_threshold_2.3/subtract_from_cope/mapflow/_subtract_from_cope13\n"
       ]
      },
      {
       "output_type": "stream",
       "stream": "stderr",
       "text": [
        "INFO:workflow:Executing node _subtract_from_cope14 in dir: /home/felice/workflow_folders/in_limbo_level2_felice_fsl/_threshold_2.3/subtract_from_cope/mapflow/_subtract_from_cope14\n"
       ]
      },
      {
       "output_type": "stream",
       "stream": "stderr",
       "text": [
        "INFO:workflow:Executing node _subtract_from_cope15 in dir: /home/felice/workflow_folders/in_limbo_level2_felice_fsl/_threshold_2.3/subtract_from_cope/mapflow/_subtract_from_cope15\n"
       ]
      },
      {
       "output_type": "stream",
       "stream": "stderr",
       "text": [
        "INFO:workflow:Executing node copemerge.a0 in dir: /home/felice/workflow_folders/in_limbo_level2_felice_fsl/in_limbo_mixedfx/_threshold_2.3/copemerge\n"
       ]
      },
      {
       "output_type": "stream",
       "stream": "stderr",
       "text": [
        "INFO:workflow:Executing node _copemerge0 in dir: /home/felice/workflow_folders/in_limbo_level2_felice_fsl/in_limbo_mixedfx/_threshold_2.3/copemerge/mapflow/_copemerge0\n"
       ]
      },
      {
       "output_type": "stream",
       "stream": "stderr",
       "text": [
        "INFO:workflow:Running: fslmerge -t cope_in_limbo_merged.nii.gz /home/felice/workflow_folders/in_limbo_level2_felice_fsl/_threshold_2.3/subtract_from_cope/mapflow/_subtract_from_cope0/cope_in_limbo.nii.gz /home/felice/workflow_folders/in_limbo_level2_felice_fsl/_threshold_2.3/subtract_from_cope/mapflow/_subtract_from_cope1/cope_in_limbo.nii.gz /home/felice/workflow_folders/in_limbo_level2_felice_fsl/_threshold_2.3/subtract_from_cope/mapflow/_subtract_from_cope2/cope_in_limbo.nii.gz /home/felice/workflow_folders/in_limbo_level2_felice_fsl/_threshold_2.3/subtract_from_cope/mapflow/_subtract_from_cope3/cope_in_limbo.nii.gz /home/felice/workflow_folders/in_limbo_level2_felice_fsl/_threshold_2.3/subtract_from_cope/mapflow/_subtract_from_cope4/cope_in_limbo.nii.gz /home/felice/workflow_folders/in_limbo_level2_felice_fsl/_threshold_2.3/subtract_from_cope/mapflow/_subtract_from_cope5/cope_in_limbo.nii.gz /home/felice/workflow_folders/in_limbo_level2_felice_fsl/_threshold_2.3/subtract_from_cope/mapflow/_subtract_from_cope6/cope_in_limbo.nii.gz /home/felice/workflow_folders/in_limbo_level2_felice_fsl/_threshold_2.3/subtract_from_cope/mapflow/_subtract_from_cope7/cope_in_limbo.nii.gz /home/felice/workflow_folders/in_limbo_level2_felice_fsl/_threshold_2.3/subtract_from_cope/mapflow/_subtract_from_cope8/cope_in_limbo.nii.gz /home/felice/workflow_folders/in_limbo_level2_felice_fsl/_threshold_2.3/subtract_from_cope/mapflow/_subtract_from_cope9/cope_in_limbo.nii.gz /home/felice/workflow_folders/in_limbo_level2_felice_fsl/_threshold_2.3/subtract_from_cope/mapflow/_subtract_from_cope10/cope_in_limbo.nii.gz /home/felice/workflow_folders/in_limbo_level2_felice_fsl/_threshold_2.3/subtract_from_cope/mapflow/_subtract_from_cope11/cope_in_limbo.nii.gz /home/felice/workflow_folders/in_limbo_level2_felice_fsl/_threshold_2.3/subtract_from_cope/mapflow/_subtract_from_cope12/cope_in_limbo.nii.gz /home/felice/workflow_folders/in_limbo_level2_felice_fsl/_threshold_2.3/subtract_from_cope/mapflow/_subtract_from_cope13/cope_in_limbo.nii.gz /home/felice/workflow_folders/in_limbo_level2_felice_fsl/_threshold_2.3/subtract_from_cope/mapflow/_subtract_from_cope14/cope_in_limbo.nii.gz /home/felice/workflow_folders/in_limbo_level2_felice_fsl/_threshold_2.3/subtract_from_cope/mapflow/_subtract_from_cope15/cope_in_limbo.nii.gz\n"
       ]
      },
      {
       "output_type": "stream",
       "stream": "stderr",
       "text": [
        "INFO:workflow:Executing node gendofvolume.a0 in dir: /home/felice/workflow_folders/in_limbo_level2_felice_fsl/in_limbo_mixedfx/_threshold_2.3/gendofvolume\n"
       ]
      },
      {
       "output_type": "stream",
       "stream": "stderr",
       "text": [
        "INFO:workflow:Executing node cluster.aI.a5 in dir: /home/felice/workflow_folders/in_limbo_level2_felice_fsl/_threshold_3.3/cluster\n"
       ]
      },
      {
       "output_type": "stream",
       "stream": "stderr",
       "text": [
        "INFO:workflow:Running: cluster --dlh=0.2484830000 --in=/home/felice/workflow_folders/in_limbo_level2_felice_fsl/flameo/mapflow/_flameo0/stats/zstat1.nii.gz --othresh=/home/felice/workflow_folders/in_limbo_level2_felice_fsl/_threshold_3.3/cluster/zstat1_threshold.nii.gz --thresh=3.3000000000\n"
       ]
      },
      {
       "output_type": "stream",
       "stream": "stderr",
       "text": [
        "INFO:interface:stdout 2015-01-28T16:40:54.895811:Cluster Index\tVoxels\tMAX\tMAX X (vox)\tMAX Y (vox)\tMAX Z (vox)\tCOG X (vox)\tCOG Y (vox)\tCOG Z (vox)\n"
       ]
      },
      {
       "output_type": "stream",
       "stream": "stderr",
       "text": [
        "INFO:interface:stdout 2015-01-28T16:40:54.897246:15\t4522\t5.97\t65\t25\t32\t44\t27.9\t27.9\n"
       ]
      },
      {
       "output_type": "stream",
       "stream": "stderr",
       "text": [
        "INFO:interface:stdout 2015-01-28T16:40:54.897246:14\t38\t4.19\t45\t36\t19\t46\t36.3\t19.1\n"
       ]
      },
      {
       "output_type": "stream",
       "stream": "stderr",
       "text": [
        "INFO:interface:stdout 2015-01-28T16:40:54.897246:13\t34\t3.77\t20\t54\t30\t19.6\t53.9\t31.2\n"
       ]
      },
      {
       "output_type": "stream",
       "stream": "stderr",
       "text": [
        "INFO:interface:stdout 2015-01-28T16:40:54.897246:12\t1\t3.62\t34\t14\t37\t34\t14\t37\n"
       ]
      },
      {
       "output_type": "stream",
       "stream": "stderr",
       "text": [
        "INFO:interface:stdout 2015-01-28T16:40:54.897246:11\t1\t3.32\t39\t35\t27\t39\t35\t27\n"
       ]
      },
      {
       "output_type": "stream",
       "stream": "stderr",
       "text": [
        "INFO:interface:stdout 2015-01-28T16:40:54.897246:10\t1\t3.44\t32\t70\t26\t32\t70\t26\n"
       ]
      },
      {
       "output_type": "stream",
       "stream": "stderr",
       "text": [
        "INFO:interface:stdout 2015-01-28T16:40:54.897246:9\t1\t6.62\t42\t42\t26\t42\t42\t26\n"
       ]
      },
      {
       "output_type": "stream",
       "stream": "stderr",
       "text": [
        "INFO:interface:stdout 2015-01-28T16:40:54.897246:8\t1\t3.36\t64\t53\t24\t64\t53\t24\n"
       ]
      },
      {
       "output_type": "stream",
       "stream": "stderr",
       "text": [
        "INFO:interface:stdout 2015-01-28T16:40:54.897246:7\t1\t3.3\t30\t35\t24\t30\t35\t24\n"
       ]
      },
      {
       "output_type": "stream",
       "stream": "stderr",
       "text": [
        "INFO:interface:stdout 2015-01-28T16:40:54.897246:6\t1\t5.57\t54\t52\t23\t54\t52\t23\n"
       ]
      },
      {
       "output_type": "stream",
       "stream": "stderr",
       "text": [
        "INFO:interface:stdout 2015-01-28T16:40:54.897246:5\t1\t3.4\t61\t52\t22\t61\t52\t22\n"
       ]
      },
      {
       "output_type": "stream",
       "stream": "stderr",
       "text": [
        "INFO:interface:stdout 2015-01-28T16:40:54.897246:4\t1\t4.69\t69\t40\t17\t69\t40\t17\n"
       ]
      },
      {
       "output_type": "stream",
       "stream": "stderr",
       "text": [
        "INFO:interface:stdout 2015-01-28T16:40:54.897246:3\t1\t3.34\t54\t44\t11\t54\t44\t11\n"
       ]
      },
      {
       "output_type": "stream",
       "stream": "stderr",
       "text": [
        "INFO:interface:stdout 2015-01-28T16:40:54.897246:2\t1\t4.32\t69\t40\t11\t69\t40\t11\n"
       ]
      },
      {
       "output_type": "stream",
       "stream": "stderr",
       "text": [
        "INFO:interface:stdout 2015-01-28T16:40:54.897246:1\t1\t3.54\t52\t40\t11\t52\t40\t11\n"
       ]
      },
      {
       "output_type": "stream",
       "stream": "stderr",
       "text": [
        "INFO:workflow:Executing node cluster.aI.a7 in dir: /home/felice/workflow_folders/in_limbo_level2_felice_fsl/_threshold_3.7/cluster\n"
       ]
      },
      {
       "output_type": "stream",
       "stream": "stderr",
       "text": [
        "INFO:workflow:Running: cluster --dlh=0.2484830000 --in=/home/felice/workflow_folders/in_limbo_level2_felice_fsl/flameo/mapflow/_flameo0/stats/zstat1.nii.gz --othresh=/home/felice/workflow_folders/in_limbo_level2_felice_fsl/_threshold_3.7/cluster/zstat1_threshold.nii.gz --thresh=3.7000000000\n"
       ]
      },
      {
       "output_type": "stream",
       "stream": "stderr",
       "text": [
        "INFO:interface:stdout 2015-01-28T16:40:55.094526:Cluster Index\tVoxels\tMAX\tMAX X (vox)\tMAX Y (vox)\tMAX Z (vox)\tCOG X (vox)\tCOG Y (vox)\tCOG Z (vox)\n"
       ]
      },
      {
       "output_type": "stream",
       "stream": "stderr",
       "text": [
        "INFO:interface:stdout 2015-01-28T16:40:55.095840:15\t1640\t5.3\t32\t25\t31\t31.8\t28.4\t30.1\n"
       ]
      },
      {
       "output_type": "stream",
       "stream": "stderr",
       "text": [
        "INFO:interface:stdout 2015-01-28T16:40:55.095840:14\t1011\t5.97\t65\t25\t32\t59.3\t25.2\t29.2\n"
       ]
      },
      {
       "output_type": "stream",
       "stream": "stderr",
       "text": [
        "INFO:interface:stdout 2015-01-28T16:40:55.095840:13\t100\t4.72\t61\t42\t26\t62\t40\t25.6\n"
       ]
      },
      {
       "output_type": "stream",
       "stream": "stderr",
       "text": [
        "INFO:interface:stdout 2015-01-28T16:40:55.095840:12\t78\t4.46\t59\t31\t9\t57.5\t29.1\t12\n"
       ]
      },
      {
       "output_type": "stream",
       "stream": "stderr",
       "text": [
        "INFO:interface:stdout 2015-01-28T16:40:55.095840:11\t67\t4.77\t39\t27\t16\t38.8\t27.3\t15.9\n"
       ]
      },
      {
       "output_type": "stream",
       "stream": "stderr",
       "text": [
        "INFO:interface:stdout 2015-01-28T16:40:55.095840:10\t12\t4.19\t45\t36\t19\t45.6\t36.1\t18.9\n"
       ]
      },
      {
       "output_type": "stream",
       "stream": "stderr",
       "text": [
        "INFO:interface:stdout 2015-01-28T16:40:55.095840:9\t12\t4.11\t32\t29\t13\t32\t29.3\t13\n"
       ]
      },
      {
       "output_type": "stream",
       "stream": "stderr",
       "text": [
        "INFO:interface:stdout 2015-01-28T16:40:55.095840:8\t4\t3.77\t20\t54\t30\t20.5\t53.3\t31\n"
       ]
      },
      {
       "output_type": "stream",
       "stream": "stderr",
       "text": [
        "INFO:interface:stdout 2015-01-28T16:40:55.095840:7\t2\t3.75\t34\t39\t32\t34\t39.5\t32\n"
       ]
      },
      {
       "output_type": "stream",
       "stream": "stderr",
       "text": [
        "INFO:interface:stdout 2015-01-28T16:40:55.095840:6\t1\t3.71\t35\t42\t32\t35\t42\t32\n"
       ]
      },
      {
       "output_type": "stream",
       "stream": "stderr",
       "text": [
        "INFO:interface:stdout 2015-01-28T16:40:55.095840:5\t1\t6.62\t42\t42\t26\t42\t42\t26\n"
       ]
      },
      {
       "output_type": "stream",
       "stream": "stderr",
       "text": [
        "INFO:interface:stdout 2015-01-28T16:40:55.095840:4\t1\t5.57\t54\t52\t23\t54\t52\t23\n"
       ]
      },
      {
       "output_type": "stream",
       "stream": "stderr",
       "text": [
        "INFO:interface:stdout 2015-01-28T16:40:55.095840:3\t1\t3.71\t56\t33\t22\t56\t33\t22\n"
       ]
      },
      {
       "output_type": "stream",
       "stream": "stderr",
       "text": [
        "INFO:interface:stdout 2015-01-28T16:40:55.095840:2\t1\t4.69\t69\t40\t17\t69\t40\t17\n"
       ]
      },
      {
       "output_type": "stream",
       "stream": "stderr",
       "text": [
        "INFO:interface:stdout 2015-01-28T16:40:55.095840:1\t1\t4.32\t69\t40\t11\t69\t40\t11\n"
       ]
      },
      {
       "output_type": "stream",
       "stream": "stderr",
       "text": [
        "INFO:workflow:Executing node get_comparison_voxel.a7 in dir: /home/felice/workflow_folders/in_limbo_level2_felice_fsl/_threshold_3.7/get_comparison_voxel\n"
       ]
      },
      {
       "output_type": "stream",
       "stream": "stderr",
       "text": [
        "INFO:workflow:Executing node get_min_value.a7 in dir: /home/felice/workflow_folders/in_limbo_level2_felice_fsl/_threshold_3.7/get_min_value\n"
       ]
      },
      {
       "output_type": "stream",
       "stream": "stderr",
       "text": [
        "INFO:workflow:Executing node _get_min_value0 in dir: /home/felice/workflow_folders/in_limbo_level2_felice_fsl/_threshold_3.7/get_min_value/mapflow/_get_min_value0\n"
       ]
      },
      {
       "output_type": "stream",
       "stream": "stderr",
       "text": [
        "INFO:workflow:Executing node _get_min_value1 in dir: /home/felice/workflow_folders/in_limbo_level2_felice_fsl/_threshold_3.7/get_min_value/mapflow/_get_min_value1\n"
       ]
      },
      {
       "output_type": "stream",
       "stream": "stderr",
       "text": [
        "INFO:workflow:Executing node _get_min_value2 in dir: /home/felice/workflow_folders/in_limbo_level2_felice_fsl/_threshold_3.7/get_min_value/mapflow/_get_min_value2\n"
       ]
      },
      {
       "output_type": "stream",
       "stream": "stderr",
       "text": [
        "INFO:workflow:Executing node _get_min_value3 in dir: /home/felice/workflow_folders/in_limbo_level2_felice_fsl/_threshold_3.7/get_min_value/mapflow/_get_min_value3\n"
       ]
      },
      {
       "output_type": "stream",
       "stream": "stderr",
       "text": [
        "INFO:workflow:Executing node _get_min_value4 in dir: /home/felice/workflow_folders/in_limbo_level2_felice_fsl/_threshold_3.7/get_min_value/mapflow/_get_min_value4\n"
       ]
      },
      {
       "output_type": "stream",
       "stream": "stderr",
       "text": [
        "INFO:workflow:Executing node _get_min_value5 in dir: /home/felice/workflow_folders/in_limbo_level2_felice_fsl/_threshold_3.7/get_min_value/mapflow/_get_min_value5\n"
       ]
      },
      {
       "output_type": "stream",
       "stream": "stderr",
       "text": [
        "INFO:workflow:Executing node _get_min_value6 in dir: /home/felice/workflow_folders/in_limbo_level2_felice_fsl/_threshold_3.7/get_min_value/mapflow/_get_min_value6\n"
       ]
      },
      {
       "output_type": "stream",
       "stream": "stderr",
       "text": [
        "INFO:workflow:Executing node _get_min_value7 in dir: /home/felice/workflow_folders/in_limbo_level2_felice_fsl/_threshold_3.7/get_min_value/mapflow/_get_min_value7\n"
       ]
      },
      {
       "output_type": "stream",
       "stream": "stderr",
       "text": [
        "INFO:workflow:Executing node _get_min_value8 in dir: /home/felice/workflow_folders/in_limbo_level2_felice_fsl/_threshold_3.7/get_min_value/mapflow/_get_min_value8\n"
       ]
      },
      {
       "output_type": "stream",
       "stream": "stderr",
       "text": [
        "INFO:workflow:Executing node _get_min_value9 in dir: /home/felice/workflow_folders/in_limbo_level2_felice_fsl/_threshold_3.7/get_min_value/mapflow/_get_min_value9\n"
       ]
      },
      {
       "output_type": "stream",
       "stream": "stderr",
       "text": [
        "INFO:workflow:Executing node _get_min_value10 in dir: /home/felice/workflow_folders/in_limbo_level2_felice_fsl/_threshold_3.7/get_min_value/mapflow/_get_min_value10\n"
       ]
      },
      {
       "output_type": "stream",
       "stream": "stderr",
       "text": [
        "INFO:workflow:Executing node _get_min_value11 in dir: /home/felice/workflow_folders/in_limbo_level2_felice_fsl/_threshold_3.7/get_min_value/mapflow/_get_min_value11\n"
       ]
      },
      {
       "output_type": "stream",
       "stream": "stderr",
       "text": [
        "INFO:workflow:Executing node _get_min_value12 in dir: /home/felice/workflow_folders/in_limbo_level2_felice_fsl/_threshold_3.7/get_min_value/mapflow/_get_min_value12\n"
       ]
      },
      {
       "output_type": "stream",
       "stream": "stderr",
       "text": [
        "INFO:workflow:Executing node _get_min_value13 in dir: /home/felice/workflow_folders/in_limbo_level2_felice_fsl/_threshold_3.7/get_min_value/mapflow/_get_min_value13\n"
       ]
      },
      {
       "output_type": "stream",
       "stream": "stderr",
       "text": [
        "INFO:workflow:Executing node _get_min_value14 in dir: /home/felice/workflow_folders/in_limbo_level2_felice_fsl/_threshold_3.7/get_min_value/mapflow/_get_min_value14\n"
       ]
      },
      {
       "output_type": "stream",
       "stream": "stderr",
       "text": [
        "INFO:workflow:Executing node _get_min_value15 in dir: /home/felice/workflow_folders/in_limbo_level2_felice_fsl/_threshold_3.7/get_min_value/mapflow/_get_min_value15\n"
       ]
      },
      {
       "output_type": "stream",
       "stream": "stderr",
       "text": [
        "INFO:workflow:Executing node cluster.aI.a2 in dir: /home/felice/workflow_folders/in_limbo_level2_felice_fsl/_threshold_2.7/cluster\n"
       ]
      },
      {
       "output_type": "stream",
       "stream": "stderr",
       "text": [
        "INFO:workflow:Running: cluster --dlh=0.2484830000 --in=/home/felice/workflow_folders/in_limbo_level2_felice_fsl/flameo/mapflow/_flameo0/stats/zstat1.nii.gz --othresh=/home/felice/workflow_folders/in_limbo_level2_felice_fsl/_threshold_2.7/cluster/zstat1_threshold.nii.gz --thresh=2.7000000000\n"
       ]
      },
      {
       "output_type": "stream",
       "stream": "stderr",
       "text": [
        "INFO:interface:stdout 2015-01-28T16:40:55.908735:Cluster Index\tVoxels\tMAX\tMAX X (vox)\tMAX Y (vox)\tMAX Z (vox)\tCOG X (vox)\tCOG Y (vox)\tCOG Z (vox)\n"
       ]
      },
      {
       "output_type": "stream",
       "stream": "stderr",
       "text": [
        "INFO:interface:stdout 2015-01-28T16:40:55.908735:18\t7405\t5.97\t65\t25\t32\t44.7\t28.5\t26.5\n"
       ]
      },
      {
       "output_type": "stream",
       "stream": "stderr",
       "text": [
        "INFO:interface:stdout 2015-01-28T16:40:55.910696:17\t80\t3.77\t20\t54\t30\t19.3\t53.9\t31.1\n"
       ]
      },
      {
       "output_type": "stream",
       "stream": "stderr",
       "text": [
        "INFO:interface:stdout 2015-01-28T16:40:55.910696:16\t12\t3.54\t52\t40\t11\t52.2\t39.9\t11.7\n"
       ]
      },
      {
       "output_type": "stream",
       "stream": "stderr",
       "text": [
        "INFO:interface:stdout 2015-01-28T16:40:55.910696:15\t10\t3.4\t61\t52\t22\t60.8\t52\t21.4\n"
       ]
      },
      {
       "output_type": "stream",
       "stream": "stderr",
       "text": [
        "INFO:interface:stdout 2015-01-28T16:40:55.910696:14\t5\t2.92\t38\t35\t19\t37.8\t34.6\t19\n"
       ]
      },
      {
       "output_type": "stream",
       "stream": "stderr",
       "text": [
        "INFO:interface:stdout 2015-01-28T16:40:55.910696:13\t4\t3.44\t32\t70\t26\t30.8\t70.7\t26\n"
       ]
      },
      {
       "output_type": "stream",
       "stream": "stderr",
       "text": [
        "INFO:interface:stdout 2015-01-28T16:40:55.910696:12\t3\t3.26\t57\t50\t25\t57.3\t50\t25.3\n"
       ]
      },
      {
       "output_type": "stream",
       "stream": "stderr",
       "text": [
        "INFO:interface:stdout 2015-01-28T16:40:55.910696:11\t3\t2.98\t30\t37\t20\t30.3\t37.7\t20\n"
       ]
      },
      {
       "output_type": "stream",
       "stream": "stderr",
       "text": [
        "INFO:interface:stdout 2015-01-28T16:40:55.910696:10\t2\t2.84\t21\t74\t26\t21.5\t74.5\t26\n"
       ]
      },
      {
       "output_type": "stream",
       "stream": "stderr",
       "text": [
        "INFO:interface:stdout 2015-01-28T16:40:55.910696:9\t2\t2.71\t20\t72\t26\t20\t71.5\t26\n"
       ]
      },
      {
       "output_type": "stream",
       "stream": "stderr",
       "text": [
        "INFO:interface:stdout 2015-01-28T16:40:55.910696:8\t1\t3.32\t39\t35\t27\t39\t35\t27\n"
       ]
      },
      {
       "output_type": "stream",
       "stream": "stderr",
       "text": [
        "INFO:interface:stdout 2015-01-28T16:40:55.910696:7\t1\t6.62\t42\t42\t26\t42\t42\t26\n"
       ]
      },
      {
       "output_type": "stream",
       "stream": "stderr",
       "text": [
        "INFO:interface:stdout 2015-01-28T16:40:55.910696:6\t1\t3.36\t64\t53\t24\t64\t53\t24\n"
       ]
      },
      {
       "output_type": "stream",
       "stream": "stderr",
       "text": [
        "INFO:interface:stdout 2015-01-28T16:40:55.910696:5\t1\t5.57\t54\t52\t23\t54\t52\t23\n"
       ]
      },
      {
       "output_type": "stream",
       "stream": "stderr",
       "text": [
        "INFO:interface:stdout 2015-01-28T16:40:55.910696:4\t1\t4.69\t69\t40\t17\t69\t40\t17\n"
       ]
      },
      {
       "output_type": "stream",
       "stream": "stderr",
       "text": [
        "INFO:interface:stdout 2015-01-28T16:40:55.910696:3\t1\t3.34\t54\t44\t11\t54\t44\t11\n"
       ]
      },
      {
       "output_type": "stream",
       "stream": "stderr",
       "text": [
        "INFO:interface:stdout 2015-01-28T16:40:55.910696:2\t1\t4.32\t69\t40\t11\t69\t40\t11\n"
       ]
      },
      {
       "output_type": "stream",
       "stream": "stderr",
       "text": [
        "INFO:interface:stdout 2015-01-28T16:40:55.910696:1\t1\t2.75\t61\t35\t11\t61\t35\t11\n"
       ]
      },
      {
       "output_type": "stream",
       "stream": "stderr",
       "text": [
        "INFO:workflow:Executing node get_comparison_voxel.a2 in dir: /home/felice/workflow_folders/in_limbo_level2_felice_fsl/_threshold_2.7/get_comparison_voxel\n"
       ]
      },
      {
       "output_type": "stream",
       "stream": "stderr",
       "text": [
        "INFO:workflow:Executing node get_min_value.a2 in dir: /home/felice/workflow_folders/in_limbo_level2_felice_fsl/_threshold_2.7/get_min_value\n"
       ]
      },
      {
       "output_type": "stream",
       "stream": "stderr",
       "text": [
        "INFO:workflow:Executing node _get_min_value0 in dir: /home/felice/workflow_folders/in_limbo_level2_felice_fsl/_threshold_2.7/get_min_value/mapflow/_get_min_value0\n"
       ]
      },
      {
       "output_type": "stream",
       "stream": "stderr",
       "text": [
        "INFO:workflow:Executing node _get_min_value1 in dir: /home/felice/workflow_folders/in_limbo_level2_felice_fsl/_threshold_2.7/get_min_value/mapflow/_get_min_value1\n"
       ]
      },
      {
       "output_type": "stream",
       "stream": "stderr",
       "text": [
        "INFO:workflow:Executing node _get_min_value2 in dir: /home/felice/workflow_folders/in_limbo_level2_felice_fsl/_threshold_2.7/get_min_value/mapflow/_get_min_value2\n"
       ]
      },
      {
       "output_type": "stream",
       "stream": "stderr",
       "text": [
        "INFO:workflow:Executing node _get_min_value3 in dir: /home/felice/workflow_folders/in_limbo_level2_felice_fsl/_threshold_2.7/get_min_value/mapflow/_get_min_value3\n"
       ]
      },
      {
       "output_type": "stream",
       "stream": "stderr",
       "text": [
        "INFO:workflow:Executing node _get_min_value4 in dir: /home/felice/workflow_folders/in_limbo_level2_felice_fsl/_threshold_2.7/get_min_value/mapflow/_get_min_value4\n"
       ]
      },
      {
       "output_type": "stream",
       "stream": "stderr",
       "text": [
        "INFO:workflow:Executing node _get_min_value5 in dir: /home/felice/workflow_folders/in_limbo_level2_felice_fsl/_threshold_2.7/get_min_value/mapflow/_get_min_value5\n"
       ]
      },
      {
       "output_type": "stream",
       "stream": "stderr",
       "text": [
        "INFO:workflow:Executing node _get_min_value6 in dir: /home/felice/workflow_folders/in_limbo_level2_felice_fsl/_threshold_2.7/get_min_value/mapflow/_get_min_value6\n"
       ]
      },
      {
       "output_type": "stream",
       "stream": "stderr",
       "text": [
        "INFO:workflow:Executing node _get_min_value7 in dir: /home/felice/workflow_folders/in_limbo_level2_felice_fsl/_threshold_2.7/get_min_value/mapflow/_get_min_value7\n"
       ]
      },
      {
       "output_type": "stream",
       "stream": "stderr",
       "text": [
        "INFO:workflow:Executing node _get_min_value8 in dir: /home/felice/workflow_folders/in_limbo_level2_felice_fsl/_threshold_2.7/get_min_value/mapflow/_get_min_value8\n"
       ]
      },
      {
       "output_type": "stream",
       "stream": "stderr",
       "text": [
        "INFO:workflow:Executing node _get_min_value9 in dir: /home/felice/workflow_folders/in_limbo_level2_felice_fsl/_threshold_2.7/get_min_value/mapflow/_get_min_value9\n"
       ]
      },
      {
       "output_type": "stream",
       "stream": "stderr",
       "text": [
        "INFO:workflow:Executing node _get_min_value10 in dir: /home/felice/workflow_folders/in_limbo_level2_felice_fsl/_threshold_2.7/get_min_value/mapflow/_get_min_value10\n"
       ]
      },
      {
       "output_type": "stream",
       "stream": "stderr",
       "text": [
        "INFO:workflow:Executing node _get_min_value11 in dir: /home/felice/workflow_folders/in_limbo_level2_felice_fsl/_threshold_2.7/get_min_value/mapflow/_get_min_value11\n"
       ]
      },
      {
       "output_type": "stream",
       "stream": "stderr",
       "text": [
        "INFO:workflow:Executing node _get_min_value12 in dir: /home/felice/workflow_folders/in_limbo_level2_felice_fsl/_threshold_2.7/get_min_value/mapflow/_get_min_value12\n"
       ]
      },
      {
       "output_type": "stream",
       "stream": "stderr",
       "text": [
        "INFO:workflow:Executing node _get_min_value13 in dir: /home/felice/workflow_folders/in_limbo_level2_felice_fsl/_threshold_2.7/get_min_value/mapflow/_get_min_value13\n"
       ]
      },
      {
       "output_type": "stream",
       "stream": "stderr",
       "text": [
        "INFO:workflow:Executing node _get_min_value14 in dir: /home/felice/workflow_folders/in_limbo_level2_felice_fsl/_threshold_2.7/get_min_value/mapflow/_get_min_value14\n"
       ]
      },
      {
       "output_type": "stream",
       "stream": "stderr",
       "text": [
        "INFO:workflow:Executing node _get_min_value15 in dir: /home/felice/workflow_folders/in_limbo_level2_felice_fsl/_threshold_2.7/get_min_value/mapflow/_get_min_value15\n"
       ]
      },
      {
       "output_type": "stream",
       "stream": "stderr",
       "text": [
        "INFO:workflow:Executing node subtract_from_cope.a2 in dir: /home/felice/workflow_folders/in_limbo_level2_felice_fsl/_threshold_2.7/subtract_from_cope\n"
       ]
      },
      {
       "output_type": "stream",
       "stream": "stderr",
       "text": [
        "INFO:workflow:Executing node _subtract_from_cope0 in dir: /home/felice/workflow_folders/in_limbo_level2_felice_fsl/_threshold_2.7/subtract_from_cope/mapflow/_subtract_from_cope0\n"
       ]
      },
      {
       "output_type": "stream",
       "stream": "stderr",
       "text": [
        "INFO:workflow:Executing node _subtract_from_cope1 in dir: /home/felice/workflow_folders/in_limbo_level2_felice_fsl/_threshold_2.7/subtract_from_cope/mapflow/_subtract_from_cope1\n"
       ]
      },
      {
       "output_type": "stream",
       "stream": "stderr",
       "text": [
        "INFO:workflow:Executing node _subtract_from_cope2 in dir: /home/felice/workflow_folders/in_limbo_level2_felice_fsl/_threshold_2.7/subtract_from_cope/mapflow/_subtract_from_cope2\n"
       ]
      },
      {
       "output_type": "stream",
       "stream": "stderr",
       "text": [
        "INFO:workflow:Executing node _subtract_from_cope3 in dir: /home/felice/workflow_folders/in_limbo_level2_felice_fsl/_threshold_2.7/subtract_from_cope/mapflow/_subtract_from_cope3\n"
       ]
      },
      {
       "output_type": "stream",
       "stream": "stderr",
       "text": [
        "INFO:workflow:Executing node _subtract_from_cope4 in dir: /home/felice/workflow_folders/in_limbo_level2_felice_fsl/_threshold_2.7/subtract_from_cope/mapflow/_subtract_from_cope4\n"
       ]
      },
      {
       "output_type": "stream",
       "stream": "stderr",
       "text": [
        "INFO:workflow:Executing node _subtract_from_cope5 in dir: /home/felice/workflow_folders/in_limbo_level2_felice_fsl/_threshold_2.7/subtract_from_cope/mapflow/_subtract_from_cope5\n"
       ]
      },
      {
       "output_type": "stream",
       "stream": "stderr",
       "text": [
        "INFO:workflow:Executing node _subtract_from_cope6 in dir: /home/felice/workflow_folders/in_limbo_level2_felice_fsl/_threshold_2.7/subtract_from_cope/mapflow/_subtract_from_cope6\n"
       ]
      },
      {
       "output_type": "stream",
       "stream": "stderr",
       "text": [
        "INFO:workflow:Executing node _subtract_from_cope7 in dir: /home/felice/workflow_folders/in_limbo_level2_felice_fsl/_threshold_2.7/subtract_from_cope/mapflow/_subtract_from_cope7\n"
       ]
      },
      {
       "output_type": "stream",
       "stream": "stderr",
       "text": [
        "INFO:workflow:Executing node _subtract_from_cope8 in dir: /home/felice/workflow_folders/in_limbo_level2_felice_fsl/_threshold_2.7/subtract_from_cope/mapflow/_subtract_from_cope8\n"
       ]
      },
      {
       "output_type": "stream",
       "stream": "stderr",
       "text": [
        "INFO:workflow:Executing node _subtract_from_cope9 in dir: /home/felice/workflow_folders/in_limbo_level2_felice_fsl/_threshold_2.7/subtract_from_cope/mapflow/_subtract_from_cope9\n"
       ]
      },
      {
       "output_type": "stream",
       "stream": "stderr",
       "text": [
        "INFO:workflow:Executing node _subtract_from_cope10 in dir: /home/felice/workflow_folders/in_limbo_level2_felice_fsl/_threshold_2.7/subtract_from_cope/mapflow/_subtract_from_cope10\n"
       ]
      },
      {
       "output_type": "stream",
       "stream": "stderr",
       "text": [
        "INFO:workflow:Executing node _subtract_from_cope11 in dir: /home/felice/workflow_folders/in_limbo_level2_felice_fsl/_threshold_2.7/subtract_from_cope/mapflow/_subtract_from_cope11\n"
       ]
      },
      {
       "output_type": "stream",
       "stream": "stderr",
       "text": [
        "INFO:workflow:Executing node _subtract_from_cope12 in dir: /home/felice/workflow_folders/in_limbo_level2_felice_fsl/_threshold_2.7/subtract_from_cope/mapflow/_subtract_from_cope12\n"
       ]
      },
      {
       "output_type": "stream",
       "stream": "stderr",
       "text": [
        "INFO:workflow:Executing node _subtract_from_cope13 in dir: /home/felice/workflow_folders/in_limbo_level2_felice_fsl/_threshold_2.7/subtract_from_cope/mapflow/_subtract_from_cope13\n"
       ]
      },
      {
       "output_type": "stream",
       "stream": "stderr",
       "text": [
        "INFO:workflow:Executing node _subtract_from_cope14 in dir: /home/felice/workflow_folders/in_limbo_level2_felice_fsl/_threshold_2.7/subtract_from_cope/mapflow/_subtract_from_cope14\n"
       ]
      },
      {
       "output_type": "stream",
       "stream": "stderr",
       "text": [
        "INFO:workflow:Executing node _subtract_from_cope15 in dir: /home/felice/workflow_folders/in_limbo_level2_felice_fsl/_threshold_2.7/subtract_from_cope/mapflow/_subtract_from_cope15\n"
       ]
      },
      {
       "output_type": "stream",
       "stream": "stderr",
       "text": [
        "INFO:workflow:Executing node copemerge.a2 in dir: /home/felice/workflow_folders/in_limbo_level2_felice_fsl/in_limbo_mixedfx/_threshold_2.7/copemerge\n"
       ]
      },
      {
       "output_type": "stream",
       "stream": "stderr",
       "text": [
        "INFO:workflow:Executing node _copemerge0 in dir: /home/felice/workflow_folders/in_limbo_level2_felice_fsl/in_limbo_mixedfx/_threshold_2.7/copemerge/mapflow/_copemerge0\n"
       ]
      },
      {
       "output_type": "stream",
       "stream": "stderr",
       "text": [
        "INFO:workflow:Running: fslmerge -t cope_in_limbo_merged.nii.gz /home/felice/workflow_folders/in_limbo_level2_felice_fsl/_threshold_2.7/subtract_from_cope/mapflow/_subtract_from_cope0/cope_in_limbo.nii.gz /home/felice/workflow_folders/in_limbo_level2_felice_fsl/_threshold_2.7/subtract_from_cope/mapflow/_subtract_from_cope1/cope_in_limbo.nii.gz /home/felice/workflow_folders/in_limbo_level2_felice_fsl/_threshold_2.7/subtract_from_cope/mapflow/_subtract_from_cope2/cope_in_limbo.nii.gz /home/felice/workflow_folders/in_limbo_level2_felice_fsl/_threshold_2.7/subtract_from_cope/mapflow/_subtract_from_cope3/cope_in_limbo.nii.gz /home/felice/workflow_folders/in_limbo_level2_felice_fsl/_threshold_2.7/subtract_from_cope/mapflow/_subtract_from_cope4/cope_in_limbo.nii.gz /home/felice/workflow_folders/in_limbo_level2_felice_fsl/_threshold_2.7/subtract_from_cope/mapflow/_subtract_from_cope5/cope_in_limbo.nii.gz /home/felice/workflow_folders/in_limbo_level2_felice_fsl/_threshold_2.7/subtract_from_cope/mapflow/_subtract_from_cope6/cope_in_limbo.nii.gz /home/felice/workflow_folders/in_limbo_level2_felice_fsl/_threshold_2.7/subtract_from_cope/mapflow/_subtract_from_cope7/cope_in_limbo.nii.gz /home/felice/workflow_folders/in_limbo_level2_felice_fsl/_threshold_2.7/subtract_from_cope/mapflow/_subtract_from_cope8/cope_in_limbo.nii.gz /home/felice/workflow_folders/in_limbo_level2_felice_fsl/_threshold_2.7/subtract_from_cope/mapflow/_subtract_from_cope9/cope_in_limbo.nii.gz /home/felice/workflow_folders/in_limbo_level2_felice_fsl/_threshold_2.7/subtract_from_cope/mapflow/_subtract_from_cope10/cope_in_limbo.nii.gz /home/felice/workflow_folders/in_limbo_level2_felice_fsl/_threshold_2.7/subtract_from_cope/mapflow/_subtract_from_cope11/cope_in_limbo.nii.gz /home/felice/workflow_folders/in_limbo_level2_felice_fsl/_threshold_2.7/subtract_from_cope/mapflow/_subtract_from_cope12/cope_in_limbo.nii.gz /home/felice/workflow_folders/in_limbo_level2_felice_fsl/_threshold_2.7/subtract_from_cope/mapflow/_subtract_from_cope13/cope_in_limbo.nii.gz /home/felice/workflow_folders/in_limbo_level2_felice_fsl/_threshold_2.7/subtract_from_cope/mapflow/_subtract_from_cope14/cope_in_limbo.nii.gz /home/felice/workflow_folders/in_limbo_level2_felice_fsl/_threshold_2.7/subtract_from_cope/mapflow/_subtract_from_cope15/cope_in_limbo.nii.gz\n"
       ]
      },
      {
       "output_type": "stream",
       "stream": "stderr",
       "text": [
        "INFO:workflow:Executing node gendofvolume.a2 in dir: /home/felice/workflow_folders/in_limbo_level2_felice_fsl/in_limbo_mixedfx/_threshold_2.7/gendofvolume\n"
       ]
      },
      {
       "output_type": "stream",
       "stream": "stderr",
       "text": [
        "INFO:workflow:Executing node cluster.aI.a9 in dir: /home/felice/workflow_folders/in_limbo_level2_felice_fsl/_threshold_4.1/cluster\n"
       ]
      },
      {
       "output_type": "stream",
       "stream": "stderr",
       "text": [
        "INFO:workflow:Running: cluster --dlh=0.2484830000 --in=/home/felice/workflow_folders/in_limbo_level2_felice_fsl/flameo/mapflow/_flameo0/stats/zstat1.nii.gz --othresh=/home/felice/workflow_folders/in_limbo_level2_felice_fsl/_threshold_4.1/cluster/zstat1_threshold.nii.gz --thresh=4.1000000000\n"
       ]
      },
      {
       "output_type": "stream",
       "stream": "stderr",
       "text": [
        "INFO:interface:stdout 2015-01-28T16:41:03.246952:Cluster Index\tVoxels\tMAX\tMAX X (vox)\tMAX Y (vox)\tMAX Z (vox)\tCOG X (vox)\tCOG Y (vox)\tCOG Z (vox)\n"
       ]
      },
      {
       "output_type": "stream",
       "stream": "stderr",
       "text": [
        "INFO:interface:stdout 2015-01-28T16:41:03.246952:19\t841\t5.3\t32\t25\t31\t30.2\t27.8\t31\n"
       ]
      },
      {
       "output_type": "stream",
       "stream": "stderr",
       "text": [
        "INFO:interface:stdout 2015-01-28T16:41:03.249223:18\t648\t5.97\t65\t25\t32\t59.6\t25.4\t29.5\n"
       ]
      },
      {
       "output_type": "stream",
       "stream": "stderr",
       "text": [
        "INFO:interface:stdout 2015-01-28T16:41:03.249223:17\t49\t4.72\t61\t42\t26\t61.9\t40.3\t25.8\n"
       ]
      },
      {
       "output_type": "stream",
       "stream": "stderr",
       "text": [
        "INFO:interface:stdout 2015-01-28T16:41:03.249223:16\t39\t4.51\t48\t29\t25\t48\t28.3\t24.7\n"
       ]
      },
      {
       "output_type": "stream",
       "stream": "stderr",
       "text": [
        "INFO:interface:stdout 2015-01-28T16:41:03.249223:15\t29\t4.77\t39\t27\t16\t38.8\t27.2\t15.8\n"
       ]
      },
      {
       "output_type": "stream",
       "stream": "stderr",
       "text": [
        "INFO:interface:stdout 2015-01-28T16:41:03.249223:14\t13\t4.46\t59\t31\t9\t58.3\t30\t9.31\n"
       ]
      },
      {
       "output_type": "stream",
       "stream": "stderr",
       "text": [
        "INFO:interface:stdout 2015-01-28T16:41:03.249223:13\t3\t4.31\t61\t18\t32\t62\t17.7\t32.3\n"
       ]
      },
      {
       "output_type": "stream",
       "stream": "stderr",
       "text": [
        "INFO:interface:stdout 2015-01-28T16:41:03.249223:12\t3\t4.34\t31\t45\t26\t31\t45.3\t26.3\n"
       ]
      },
      {
       "output_type": "stream",
       "stream": "stderr",
       "text": [
        "INFO:interface:stdout 2015-01-28T16:41:03.249223:11\t3\t4.19\t48\t30\t20\t48.3\t29.7\t20\n"
       ]
      },
      {
       "output_type": "stream",
       "stream": "stderr",
       "text": [
        "INFO:interface:stdout 2015-01-28T16:41:03.249223:10\t2\t4.11\t34\t35\t31\t33.5\t35\t31.5\n"
       ]
      },
      {
       "output_type": "stream",
       "stream": "stderr",
       "text": [
        "INFO:interface:stdout 2015-01-28T16:41:03.249223:9\t2\t4.33\t68\t30\t29\t68.5\t30\t29\n"
       ]
      },
      {
       "output_type": "stream",
       "stream": "stderr",
       "text": [
        "INFO:interface:stdout 2015-01-28T16:41:03.249223:8\t1\t4.16\t25\t31\t36\t25\t31\t36\n"
       ]
      },
      {
       "output_type": "stream",
       "stream": "stderr",
       "text": [
        "INFO:interface:stdout 2015-01-28T16:41:03.249223:7\t1\t6.62\t42\t42\t26\t42\t42\t26\n"
       ]
      },
      {
       "output_type": "stream",
       "stream": "stderr",
       "text": [
        "INFO:interface:stdout 2015-01-28T16:41:03.249223:6\t1\t4.12\t29\t48\t25\t29\t48\t25\n"
       ]
      },
      {
       "output_type": "stream",
       "stream": "stderr",
       "text": [
        "INFO:interface:stdout 2015-01-28T16:41:03.249223:5\t1\t5.57\t54\t52\t23\t54\t52\t23\n"
       ]
      },
      {
       "output_type": "stream",
       "stream": "stderr",
       "text": [
        "INFO:interface:stdout 2015-01-28T16:41:03.249223:4\t1\t4.19\t45\t36\t19\t45\t36\t19\n"
       ]
      },
      {
       "output_type": "stream",
       "stream": "stderr",
       "text": [
        "INFO:interface:stdout 2015-01-28T16:41:03.249223:3\t1\t4.69\t69\t40\t17\t69\t40\t17\n"
       ]
      },
      {
       "output_type": "stream",
       "stream": "stderr",
       "text": [
        "INFO:interface:stdout 2015-01-28T16:41:03.249223:2\t1\t4.11\t32\t29\t13\t32\t29\t13\n"
       ]
      },
      {
       "output_type": "stream",
       "stream": "stderr",
       "text": [
        "INFO:interface:stdout 2015-01-28T16:41:03.249223:1\t1\t4.32\t69\t40\t11\t69\t40\t11\n"
       ]
      },
      {
       "output_type": "stream",
       "stream": "stderr",
       "text": [
        "INFO:workflow:Executing node get_comparison_voxel.a9 in dir: /home/felice/workflow_folders/in_limbo_level2_felice_fsl/_threshold_4.1/get_comparison_voxel\n"
       ]
      },
      {
       "output_type": "stream",
       "stream": "stderr",
       "text": [
        "INFO:workflow:Executing node get_min_value.a9 in dir: /home/felice/workflow_folders/in_limbo_level2_felice_fsl/_threshold_4.1/get_min_value\n"
       ]
      },
      {
       "output_type": "stream",
       "stream": "stderr",
       "text": [
        "INFO:workflow:Executing node _get_min_value0 in dir: /home/felice/workflow_folders/in_limbo_level2_felice_fsl/_threshold_4.1/get_min_value/mapflow/_get_min_value0\n"
       ]
      },
      {
       "output_type": "stream",
       "stream": "stderr",
       "text": [
        "INFO:workflow:Executing node _get_min_value1 in dir: /home/felice/workflow_folders/in_limbo_level2_felice_fsl/_threshold_4.1/get_min_value/mapflow/_get_min_value1\n"
       ]
      },
      {
       "output_type": "stream",
       "stream": "stderr",
       "text": [
        "INFO:workflow:Executing node _get_min_value2 in dir: /home/felice/workflow_folders/in_limbo_level2_felice_fsl/_threshold_4.1/get_min_value/mapflow/_get_min_value2\n"
       ]
      },
      {
       "output_type": "stream",
       "stream": "stderr",
       "text": [
        "INFO:workflow:Executing node _get_min_value3 in dir: /home/felice/workflow_folders/in_limbo_level2_felice_fsl/_threshold_4.1/get_min_value/mapflow/_get_min_value3\n"
       ]
      },
      {
       "output_type": "stream",
       "stream": "stderr",
       "text": [
        "INFO:workflow:Executing node _get_min_value4 in dir: /home/felice/workflow_folders/in_limbo_level2_felice_fsl/_threshold_4.1/get_min_value/mapflow/_get_min_value4\n"
       ]
      },
      {
       "output_type": "stream",
       "stream": "stderr",
       "text": [
        "INFO:workflow:Executing node _get_min_value5 in dir: /home/felice/workflow_folders/in_limbo_level2_felice_fsl/_threshold_4.1/get_min_value/mapflow/_get_min_value5\n"
       ]
      },
      {
       "output_type": "stream",
       "stream": "stderr",
       "text": [
        "INFO:workflow:Executing node _get_min_value6 in dir: /home/felice/workflow_folders/in_limbo_level2_felice_fsl/_threshold_4.1/get_min_value/mapflow/_get_min_value6\n"
       ]
      },
      {
       "output_type": "stream",
       "stream": "stderr",
       "text": [
        "INFO:workflow:Executing node _get_min_value7 in dir: /home/felice/workflow_folders/in_limbo_level2_felice_fsl/_threshold_4.1/get_min_value/mapflow/_get_min_value7\n"
       ]
      },
      {
       "output_type": "stream",
       "stream": "stderr",
       "text": [
        "INFO:workflow:Executing node _get_min_value8 in dir: /home/felice/workflow_folders/in_limbo_level2_felice_fsl/_threshold_4.1/get_min_value/mapflow/_get_min_value8\n"
       ]
      },
      {
       "output_type": "stream",
       "stream": "stderr",
       "text": [
        "INFO:workflow:Executing node _get_min_value9 in dir: /home/felice/workflow_folders/in_limbo_level2_felice_fsl/_threshold_4.1/get_min_value/mapflow/_get_min_value9\n"
       ]
      },
      {
       "output_type": "stream",
       "stream": "stderr",
       "text": [
        "INFO:workflow:Executing node _get_min_value10 in dir: /home/felice/workflow_folders/in_limbo_level2_felice_fsl/_threshold_4.1/get_min_value/mapflow/_get_min_value10\n"
       ]
      },
      {
       "output_type": "stream",
       "stream": "stderr",
       "text": [
        "INFO:workflow:Executing node _get_min_value11 in dir: /home/felice/workflow_folders/in_limbo_level2_felice_fsl/_threshold_4.1/get_min_value/mapflow/_get_min_value11\n"
       ]
      },
      {
       "output_type": "stream",
       "stream": "stderr",
       "text": [
        "INFO:workflow:Executing node _get_min_value12 in dir: /home/felice/workflow_folders/in_limbo_level2_felice_fsl/_threshold_4.1/get_min_value/mapflow/_get_min_value12\n"
       ]
      },
      {
       "output_type": "stream",
       "stream": "stderr",
       "text": [
        "INFO:workflow:Executing node _get_min_value13 in dir: /home/felice/workflow_folders/in_limbo_level2_felice_fsl/_threshold_4.1/get_min_value/mapflow/_get_min_value13\n"
       ]
      },
      {
       "output_type": "stream",
       "stream": "stderr",
       "text": [
        "INFO:workflow:Executing node _get_min_value14 in dir: /home/felice/workflow_folders/in_limbo_level2_felice_fsl/_threshold_4.1/get_min_value/mapflow/_get_min_value14\n"
       ]
      },
      {
       "output_type": "stream",
       "stream": "stderr",
       "text": [
        "INFO:workflow:Executing node _get_min_value15 in dir: /home/felice/workflow_folders/in_limbo_level2_felice_fsl/_threshold_4.1/get_min_value/mapflow/_get_min_value15\n"
       ]
      },
      {
       "output_type": "stream",
       "stream": "stderr",
       "text": [
        "INFO:workflow:Executing node get_comparison_voxel.a5 in dir: /home/felice/workflow_folders/in_limbo_level2_felice_fsl/_threshold_3.3/get_comparison_voxel\n"
       ]
      },
      {
       "output_type": "stream",
       "stream": "stderr",
       "text": [
        "INFO:workflow:Executing node get_min_value.a5 in dir: /home/felice/workflow_folders/in_limbo_level2_felice_fsl/_threshold_3.3/get_min_value\n"
       ]
      },
      {
       "output_type": "stream",
       "stream": "stderr",
       "text": [
        "INFO:workflow:Executing node _get_min_value0 in dir: /home/felice/workflow_folders/in_limbo_level2_felice_fsl/_threshold_3.3/get_min_value/mapflow/_get_min_value0\n"
       ]
      },
      {
       "output_type": "stream",
       "stream": "stderr",
       "text": [
        "INFO:workflow:Executing node _get_min_value1 in dir: /home/felice/workflow_folders/in_limbo_level2_felice_fsl/_threshold_3.3/get_min_value/mapflow/_get_min_value1\n"
       ]
      },
      {
       "output_type": "stream",
       "stream": "stderr",
       "text": [
        "INFO:workflow:Executing node _get_min_value2 in dir: /home/felice/workflow_folders/in_limbo_level2_felice_fsl/_threshold_3.3/get_min_value/mapflow/_get_min_value2\n"
       ]
      },
      {
       "output_type": "stream",
       "stream": "stderr",
       "text": [
        "INFO:workflow:Executing node _get_min_value3 in dir: /home/felice/workflow_folders/in_limbo_level2_felice_fsl/_threshold_3.3/get_min_value/mapflow/_get_min_value3\n"
       ]
      },
      {
       "output_type": "stream",
       "stream": "stderr",
       "text": [
        "INFO:workflow:Executing node _get_min_value4 in dir: /home/felice/workflow_folders/in_limbo_level2_felice_fsl/_threshold_3.3/get_min_value/mapflow/_get_min_value4\n"
       ]
      },
      {
       "output_type": "stream",
       "stream": "stderr",
       "text": [
        "INFO:workflow:Executing node _get_min_value5 in dir: /home/felice/workflow_folders/in_limbo_level2_felice_fsl/_threshold_3.3/get_min_value/mapflow/_get_min_value5\n"
       ]
      },
      {
       "output_type": "stream",
       "stream": "stderr",
       "text": [
        "INFO:workflow:Executing node _get_min_value6 in dir: /home/felice/workflow_folders/in_limbo_level2_felice_fsl/_threshold_3.3/get_min_value/mapflow/_get_min_value6\n"
       ]
      },
      {
       "output_type": "stream",
       "stream": "stderr",
       "text": [
        "INFO:workflow:Executing node _get_min_value7 in dir: /home/felice/workflow_folders/in_limbo_level2_felice_fsl/_threshold_3.3/get_min_value/mapflow/_get_min_value7\n"
       ]
      },
      {
       "output_type": "stream",
       "stream": "stderr",
       "text": [
        "INFO:workflow:Executing node _get_min_value8 in dir: /home/felice/workflow_folders/in_limbo_level2_felice_fsl/_threshold_3.3/get_min_value/mapflow/_get_min_value8\n"
       ]
      },
      {
       "output_type": "stream",
       "stream": "stderr",
       "text": [
        "INFO:workflow:Executing node _get_min_value9 in dir: /home/felice/workflow_folders/in_limbo_level2_felice_fsl/_threshold_3.3/get_min_value/mapflow/_get_min_value9\n"
       ]
      },
      {
       "output_type": "stream",
       "stream": "stderr",
       "text": [
        "INFO:workflow:Executing node _get_min_value10 in dir: /home/felice/workflow_folders/in_limbo_level2_felice_fsl/_threshold_3.3/get_min_value/mapflow/_get_min_value10\n"
       ]
      },
      {
       "output_type": "stream",
       "stream": "stderr",
       "text": [
        "INFO:workflow:Executing node _get_min_value11 in dir: /home/felice/workflow_folders/in_limbo_level2_felice_fsl/_threshold_3.3/get_min_value/mapflow/_get_min_value11\n"
       ]
      },
      {
       "output_type": "stream",
       "stream": "stderr",
       "text": [
        "INFO:workflow:Executing node _get_min_value12 in dir: /home/felice/workflow_folders/in_limbo_level2_felice_fsl/_threshold_3.3/get_min_value/mapflow/_get_min_value12\n"
       ]
      },
      {
       "output_type": "stream",
       "stream": "stderr",
       "text": [
        "INFO:workflow:Executing node _get_min_value13 in dir: /home/felice/workflow_folders/in_limbo_level2_felice_fsl/_threshold_3.3/get_min_value/mapflow/_get_min_value13\n"
       ]
      },
      {
       "output_type": "stream",
       "stream": "stderr",
       "text": [
        "INFO:workflow:Executing node _get_min_value14 in dir: /home/felice/workflow_folders/in_limbo_level2_felice_fsl/_threshold_3.3/get_min_value/mapflow/_get_min_value14\n"
       ]
      },
      {
       "output_type": "stream",
       "stream": "stderr",
       "text": [
        "INFO:workflow:Executing node _get_min_value15 in dir: /home/felice/workflow_folders/in_limbo_level2_felice_fsl/_threshold_3.3/get_min_value/mapflow/_get_min_value15\n"
       ]
      },
      {
       "output_type": "stream",
       "stream": "stderr",
       "text": [
        "INFO:workflow:Executing node subtract_from_cope.a5 in dir: /home/felice/workflow_folders/in_limbo_level2_felice_fsl/_threshold_3.3/subtract_from_cope\n"
       ]
      },
      {
       "output_type": "stream",
       "stream": "stderr",
       "text": [
        "INFO:workflow:Executing node _subtract_from_cope0 in dir: /home/felice/workflow_folders/in_limbo_level2_felice_fsl/_threshold_3.3/subtract_from_cope/mapflow/_subtract_from_cope0\n"
       ]
      },
      {
       "output_type": "stream",
       "stream": "stderr",
       "text": [
        "INFO:workflow:Executing node _subtract_from_cope1 in dir: /home/felice/workflow_folders/in_limbo_level2_felice_fsl/_threshold_3.3/subtract_from_cope/mapflow/_subtract_from_cope1\n"
       ]
      },
      {
       "output_type": "stream",
       "stream": "stderr",
       "text": [
        "INFO:workflow:Executing node _subtract_from_cope2 in dir: /home/felice/workflow_folders/in_limbo_level2_felice_fsl/_threshold_3.3/subtract_from_cope/mapflow/_subtract_from_cope2\n"
       ]
      },
      {
       "output_type": "stream",
       "stream": "stderr",
       "text": [
        "INFO:workflow:Executing node _subtract_from_cope3 in dir: /home/felice/workflow_folders/in_limbo_level2_felice_fsl/_threshold_3.3/subtract_from_cope/mapflow/_subtract_from_cope3\n"
       ]
      },
      {
       "output_type": "stream",
       "stream": "stderr",
       "text": [
        "INFO:workflow:Executing node _subtract_from_cope4 in dir: /home/felice/workflow_folders/in_limbo_level2_felice_fsl/_threshold_3.3/subtract_from_cope/mapflow/_subtract_from_cope4\n"
       ]
      },
      {
       "output_type": "stream",
       "stream": "stderr",
       "text": [
        "INFO:workflow:Executing node _subtract_from_cope5 in dir: /home/felice/workflow_folders/in_limbo_level2_felice_fsl/_threshold_3.3/subtract_from_cope/mapflow/_subtract_from_cope5\n"
       ]
      },
      {
       "output_type": "stream",
       "stream": "stderr",
       "text": [
        "INFO:workflow:Executing node _subtract_from_cope6 in dir: /home/felice/workflow_folders/in_limbo_level2_felice_fsl/_threshold_3.3/subtract_from_cope/mapflow/_subtract_from_cope6\n"
       ]
      },
      {
       "output_type": "stream",
       "stream": "stderr",
       "text": [
        "INFO:workflow:Executing node _subtract_from_cope7 in dir: /home/felice/workflow_folders/in_limbo_level2_felice_fsl/_threshold_3.3/subtract_from_cope/mapflow/_subtract_from_cope7\n"
       ]
      },
      {
       "output_type": "stream",
       "stream": "stderr",
       "text": [
        "INFO:workflow:Executing node _subtract_from_cope8 in dir: /home/felice/workflow_folders/in_limbo_level2_felice_fsl/_threshold_3.3/subtract_from_cope/mapflow/_subtract_from_cope8\n"
       ]
      },
      {
       "output_type": "stream",
       "stream": "stderr",
       "text": [
        "INFO:workflow:Executing node _subtract_from_cope9 in dir: /home/felice/workflow_folders/in_limbo_level2_felice_fsl/_threshold_3.3/subtract_from_cope/mapflow/_subtract_from_cope9\n"
       ]
      },
      {
       "output_type": "stream",
       "stream": "stderr",
       "text": [
        "INFO:workflow:Executing node _subtract_from_cope10 in dir: /home/felice/workflow_folders/in_limbo_level2_felice_fsl/_threshold_3.3/subtract_from_cope/mapflow/_subtract_from_cope10\n"
       ]
      },
      {
       "output_type": "stream",
       "stream": "stderr",
       "text": [
        "INFO:workflow:Executing node _subtract_from_cope11 in dir: /home/felice/workflow_folders/in_limbo_level2_felice_fsl/_threshold_3.3/subtract_from_cope/mapflow/_subtract_from_cope11\n"
       ]
      },
      {
       "output_type": "stream",
       "stream": "stderr",
       "text": [
        "INFO:workflow:Executing node _subtract_from_cope12 in dir: /home/felice/workflow_folders/in_limbo_level2_felice_fsl/_threshold_3.3/subtract_from_cope/mapflow/_subtract_from_cope12\n"
       ]
      },
      {
       "output_type": "stream",
       "stream": "stderr",
       "text": [
        "INFO:workflow:Executing node _subtract_from_cope13 in dir: /home/felice/workflow_folders/in_limbo_level2_felice_fsl/_threshold_3.3/subtract_from_cope/mapflow/_subtract_from_cope13\n"
       ]
      },
      {
       "output_type": "stream",
       "stream": "stderr",
       "text": [
        "INFO:workflow:Executing node _subtract_from_cope14 in dir: /home/felice/workflow_folders/in_limbo_level2_felice_fsl/_threshold_3.3/subtract_from_cope/mapflow/_subtract_from_cope14\n"
       ]
      },
      {
       "output_type": "stream",
       "stream": "stderr",
       "text": [
        "INFO:workflow:Executing node _subtract_from_cope15 in dir: /home/felice/workflow_folders/in_limbo_level2_felice_fsl/_threshold_3.3/subtract_from_cope/mapflow/_subtract_from_cope15\n"
       ]
      },
      {
       "output_type": "stream",
       "stream": "stderr",
       "text": [
        "INFO:workflow:Executing node copemerge.a5 in dir: /home/felice/workflow_folders/in_limbo_level2_felice_fsl/in_limbo_mixedfx/_threshold_3.3/copemerge\n"
       ]
      },
      {
       "output_type": "stream",
       "stream": "stderr",
       "text": [
        "INFO:workflow:Executing node _copemerge0 in dir: /home/felice/workflow_folders/in_limbo_level2_felice_fsl/in_limbo_mixedfx/_threshold_3.3/copemerge/mapflow/_copemerge0\n"
       ]
      },
      {
       "output_type": "stream",
       "stream": "stderr",
       "text": [
        "INFO:workflow:Running: fslmerge -t cope_in_limbo_merged.nii.gz /home/felice/workflow_folders/in_limbo_level2_felice_fsl/_threshold_3.3/subtract_from_cope/mapflow/_subtract_from_cope0/cope_in_limbo.nii.gz /home/felice/workflow_folders/in_limbo_level2_felice_fsl/_threshold_3.3/subtract_from_cope/mapflow/_subtract_from_cope1/cope_in_limbo.nii.gz /home/felice/workflow_folders/in_limbo_level2_felice_fsl/_threshold_3.3/subtract_from_cope/mapflow/_subtract_from_cope2/cope_in_limbo.nii.gz /home/felice/workflow_folders/in_limbo_level2_felice_fsl/_threshold_3.3/subtract_from_cope/mapflow/_subtract_from_cope3/cope_in_limbo.nii.gz /home/felice/workflow_folders/in_limbo_level2_felice_fsl/_threshold_3.3/subtract_from_cope/mapflow/_subtract_from_cope4/cope_in_limbo.nii.gz /home/felice/workflow_folders/in_limbo_level2_felice_fsl/_threshold_3.3/subtract_from_cope/mapflow/_subtract_from_cope5/cope_in_limbo.nii.gz /home/felice/workflow_folders/in_limbo_level2_felice_fsl/_threshold_3.3/subtract_from_cope/mapflow/_subtract_from_cope6/cope_in_limbo.nii.gz /home/felice/workflow_folders/in_limbo_level2_felice_fsl/_threshold_3.3/subtract_from_cope/mapflow/_subtract_from_cope7/cope_in_limbo.nii.gz /home/felice/workflow_folders/in_limbo_level2_felice_fsl/_threshold_3.3/subtract_from_cope/mapflow/_subtract_from_cope8/cope_in_limbo.nii.gz /home/felice/workflow_folders/in_limbo_level2_felice_fsl/_threshold_3.3/subtract_from_cope/mapflow/_subtract_from_cope9/cope_in_limbo.nii.gz /home/felice/workflow_folders/in_limbo_level2_felice_fsl/_threshold_3.3/subtract_from_cope/mapflow/_subtract_from_cope10/cope_in_limbo.nii.gz /home/felice/workflow_folders/in_limbo_level2_felice_fsl/_threshold_3.3/subtract_from_cope/mapflow/_subtract_from_cope11/cope_in_limbo.nii.gz /home/felice/workflow_folders/in_limbo_level2_felice_fsl/_threshold_3.3/subtract_from_cope/mapflow/_subtract_from_cope12/cope_in_limbo.nii.gz /home/felice/workflow_folders/in_limbo_level2_felice_fsl/_threshold_3.3/subtract_from_cope/mapflow/_subtract_from_cope13/cope_in_limbo.nii.gz /home/felice/workflow_folders/in_limbo_level2_felice_fsl/_threshold_3.3/subtract_from_cope/mapflow/_subtract_from_cope14/cope_in_limbo.nii.gz /home/felice/workflow_folders/in_limbo_level2_felice_fsl/_threshold_3.3/subtract_from_cope/mapflow/_subtract_from_cope15/cope_in_limbo.nii.gz\n"
       ]
      },
      {
       "output_type": "stream",
       "stream": "stderr",
       "text": [
        "INFO:workflow:Executing node gendofvolume.a5 in dir: /home/felice/workflow_folders/in_limbo_level2_felice_fsl/in_limbo_mixedfx/_threshold_3.3/gendofvolume\n"
       ]
      },
      {
       "output_type": "stream",
       "stream": "stderr",
       "text": [
        "INFO:workflow:Executing node subtract_from_cope.a7 in dir: /home/felice/workflow_folders/in_limbo_level2_felice_fsl/_threshold_3.7/subtract_from_cope\n"
       ]
      },
      {
       "output_type": "stream",
       "stream": "stderr",
       "text": [
        "INFO:workflow:Executing node _subtract_from_cope0 in dir: /home/felice/workflow_folders/in_limbo_level2_felice_fsl/_threshold_3.7/subtract_from_cope/mapflow/_subtract_from_cope0\n"
       ]
      },
      {
       "output_type": "stream",
       "stream": "stderr",
       "text": [
        "INFO:workflow:Executing node _subtract_from_cope1 in dir: /home/felice/workflow_folders/in_limbo_level2_felice_fsl/_threshold_3.7/subtract_from_cope/mapflow/_subtract_from_cope1\n"
       ]
      },
      {
       "output_type": "stream",
       "stream": "stderr",
       "text": [
        "INFO:workflow:Executing node _subtract_from_cope2 in dir: /home/felice/workflow_folders/in_limbo_level2_felice_fsl/_threshold_3.7/subtract_from_cope/mapflow/_subtract_from_cope2\n"
       ]
      },
      {
       "output_type": "stream",
       "stream": "stderr",
       "text": [
        "INFO:workflow:Executing node _subtract_from_cope3 in dir: /home/felice/workflow_folders/in_limbo_level2_felice_fsl/_threshold_3.7/subtract_from_cope/mapflow/_subtract_from_cope3\n"
       ]
      },
      {
       "output_type": "stream",
       "stream": "stderr",
       "text": [
        "INFO:workflow:Executing node _subtract_from_cope4 in dir: /home/felice/workflow_folders/in_limbo_level2_felice_fsl/_threshold_3.7/subtract_from_cope/mapflow/_subtract_from_cope4\n"
       ]
      },
      {
       "output_type": "stream",
       "stream": "stderr",
       "text": [
        "INFO:workflow:Executing node _subtract_from_cope5 in dir: /home/felice/workflow_folders/in_limbo_level2_felice_fsl/_threshold_3.7/subtract_from_cope/mapflow/_subtract_from_cope5\n"
       ]
      },
      {
       "output_type": "stream",
       "stream": "stderr",
       "text": [
        "INFO:workflow:Executing node _subtract_from_cope6 in dir: /home/felice/workflow_folders/in_limbo_level2_felice_fsl/_threshold_3.7/subtract_from_cope/mapflow/_subtract_from_cope6\n"
       ]
      },
      {
       "output_type": "stream",
       "stream": "stderr",
       "text": [
        "INFO:workflow:Executing node _subtract_from_cope7 in dir: /home/felice/workflow_folders/in_limbo_level2_felice_fsl/_threshold_3.7/subtract_from_cope/mapflow/_subtract_from_cope7\n"
       ]
      },
      {
       "output_type": "stream",
       "stream": "stderr",
       "text": [
        "INFO:workflow:Executing node _subtract_from_cope8 in dir: /home/felice/workflow_folders/in_limbo_level2_felice_fsl/_threshold_3.7/subtract_from_cope/mapflow/_subtract_from_cope8\n"
       ]
      },
      {
       "output_type": "stream",
       "stream": "stderr",
       "text": [
        "INFO:workflow:Executing node _subtract_from_cope9 in dir: /home/felice/workflow_folders/in_limbo_level2_felice_fsl/_threshold_3.7/subtract_from_cope/mapflow/_subtract_from_cope9\n"
       ]
      },
      {
       "output_type": "stream",
       "stream": "stderr",
       "text": [
        "INFO:workflow:Executing node _subtract_from_cope10 in dir: /home/felice/workflow_folders/in_limbo_level2_felice_fsl/_threshold_3.7/subtract_from_cope/mapflow/_subtract_from_cope10\n"
       ]
      },
      {
       "output_type": "stream",
       "stream": "stderr",
       "text": [
        "INFO:workflow:Executing node _subtract_from_cope11 in dir: /home/felice/workflow_folders/in_limbo_level2_felice_fsl/_threshold_3.7/subtract_from_cope/mapflow/_subtract_from_cope11\n"
       ]
      },
      {
       "output_type": "stream",
       "stream": "stderr",
       "text": [
        "INFO:workflow:Executing node _subtract_from_cope12 in dir: /home/felice/workflow_folders/in_limbo_level2_felice_fsl/_threshold_3.7/subtract_from_cope/mapflow/_subtract_from_cope12\n"
       ]
      },
      {
       "output_type": "stream",
       "stream": "stderr",
       "text": [
        "INFO:workflow:Executing node _subtract_from_cope13 in dir: /home/felice/workflow_folders/in_limbo_level2_felice_fsl/_threshold_3.7/subtract_from_cope/mapflow/_subtract_from_cope13\n"
       ]
      },
      {
       "output_type": "stream",
       "stream": "stderr",
       "text": [
        "INFO:workflow:Executing node _subtract_from_cope14 in dir: /home/felice/workflow_folders/in_limbo_level2_felice_fsl/_threshold_3.7/subtract_from_cope/mapflow/_subtract_from_cope14\n"
       ]
      },
      {
       "output_type": "stream",
       "stream": "stderr",
       "text": [
        "INFO:workflow:Executing node _subtract_from_cope15 in dir: /home/felice/workflow_folders/in_limbo_level2_felice_fsl/_threshold_3.7/subtract_from_cope/mapflow/_subtract_from_cope15\n"
       ]
      },
      {
       "output_type": "stream",
       "stream": "stderr",
       "text": [
        "INFO:workflow:Executing node copemerge.a7 in dir: /home/felice/workflow_folders/in_limbo_level2_felice_fsl/in_limbo_mixedfx/_threshold_3.7/copemerge\n"
       ]
      },
      {
       "output_type": "stream",
       "stream": "stderr",
       "text": [
        "INFO:workflow:Executing node _copemerge0 in dir: /home/felice/workflow_folders/in_limbo_level2_felice_fsl/in_limbo_mixedfx/_threshold_3.7/copemerge/mapflow/_copemerge0\n"
       ]
      },
      {
       "output_type": "stream",
       "stream": "stderr",
       "text": [
        "INFO:workflow:Running: fslmerge -t cope_in_limbo_merged.nii.gz /home/felice/workflow_folders/in_limbo_level2_felice_fsl/_threshold_3.7/subtract_from_cope/mapflow/_subtract_from_cope0/cope_in_limbo.nii.gz /home/felice/workflow_folders/in_limbo_level2_felice_fsl/_threshold_3.7/subtract_from_cope/mapflow/_subtract_from_cope1/cope_in_limbo.nii.gz /home/felice/workflow_folders/in_limbo_level2_felice_fsl/_threshold_3.7/subtract_from_cope/mapflow/_subtract_from_cope2/cope_in_limbo.nii.gz /home/felice/workflow_folders/in_limbo_level2_felice_fsl/_threshold_3.7/subtract_from_cope/mapflow/_subtract_from_cope3/cope_in_limbo.nii.gz /home/felice/workflow_folders/in_limbo_level2_felice_fsl/_threshold_3.7/subtract_from_cope/mapflow/_subtract_from_cope4/cope_in_limbo.nii.gz /home/felice/workflow_folders/in_limbo_level2_felice_fsl/_threshold_3.7/subtract_from_cope/mapflow/_subtract_from_cope5/cope_in_limbo.nii.gz /home/felice/workflow_folders/in_limbo_level2_felice_fsl/_threshold_3.7/subtract_from_cope/mapflow/_subtract_from_cope6/cope_in_limbo.nii.gz /home/felice/workflow_folders/in_limbo_level2_felice_fsl/_threshold_3.7/subtract_from_cope/mapflow/_subtract_from_cope7/cope_in_limbo.nii.gz /home/felice/workflow_folders/in_limbo_level2_felice_fsl/_threshold_3.7/subtract_from_cope/mapflow/_subtract_from_cope8/cope_in_limbo.nii.gz /home/felice/workflow_folders/in_limbo_level2_felice_fsl/_threshold_3.7/subtract_from_cope/mapflow/_subtract_from_cope9/cope_in_limbo.nii.gz /home/felice/workflow_folders/in_limbo_level2_felice_fsl/_threshold_3.7/subtract_from_cope/mapflow/_subtract_from_cope10/cope_in_limbo.nii.gz /home/felice/workflow_folders/in_limbo_level2_felice_fsl/_threshold_3.7/subtract_from_cope/mapflow/_subtract_from_cope11/cope_in_limbo.nii.gz /home/felice/workflow_folders/in_limbo_level2_felice_fsl/_threshold_3.7/subtract_from_cope/mapflow/_subtract_from_cope12/cope_in_limbo.nii.gz /home/felice/workflow_folders/in_limbo_level2_felice_fsl/_threshold_3.7/subtract_from_cope/mapflow/_subtract_from_cope13/cope_in_limbo.nii.gz /home/felice/workflow_folders/in_limbo_level2_felice_fsl/_threshold_3.7/subtract_from_cope/mapflow/_subtract_from_cope14/cope_in_limbo.nii.gz /home/felice/workflow_folders/in_limbo_level2_felice_fsl/_threshold_3.7/subtract_from_cope/mapflow/_subtract_from_cope15/cope_in_limbo.nii.gz\n"
       ]
      },
      {
       "output_type": "stream",
       "stream": "stderr",
       "text": [
        "INFO:workflow:Executing node cluster.aI.a1 in dir: /home/felice/workflow_folders/in_limbo_level2_felice_fsl/_threshold_2.5/cluster\n"
       ]
      },
      {
       "output_type": "stream",
       "stream": "stderr",
       "text": [
        "INFO:workflow:Running: cluster --dlh=0.2484830000 --in=/home/felice/workflow_folders/in_limbo_level2_felice_fsl/flameo/mapflow/_flameo0/stats/zstat1.nii.gz --othresh=/home/felice/workflow_folders/in_limbo_level2_felice_fsl/_threshold_2.5/cluster/zstat1_threshold.nii.gz --thresh=2.5000000000\n"
       ]
      },
      {
       "output_type": "stream",
       "stream": "stderr",
       "text": [
        "INFO:interface:stdout 2015-01-28T16:41:17.239694:Cluster Index\tVoxels\tMAX\tMAX X (vox)\tMAX Y (vox)\tMAX Z (vox)\tCOG X (vox)\tCOG Y (vox)\tCOG Z (vox)\n"
       ]
      },
      {
       "output_type": "stream",
       "stream": "stderr",
       "text": [
        "INFO:interface:stdout 2015-01-28T16:41:17.239694:27\t8397\t5.97\t65\t25\t32\t44.8\t28.6\t26.2\n"
       ]
      },
      {
       "output_type": "stream",
       "stream": "stderr",
       "text": [
        "INFO:interface:stdout 2015-01-28T16:41:17.241479:26\t94\t3.77\t20\t54\t30\t19.2\t53.8\t31.1\n"
       ]
      },
      {
       "output_type": "stream",
       "stream": "stderr",
       "text": [
        "INFO:interface:stdout 2015-01-28T16:41:17.241479:25\t27\t3.54\t52\t40\t11\t52.2\t39.5\t11.9\n"
       ]
      },
      {
       "output_type": "stream",
       "stream": "stderr",
       "text": [
        "INFO:interface:stdout 2015-01-28T16:41:17.241479:24\t16\t3.4\t61\t52\t22\t60.8\t52\t21.4\n"
       ]
      },
      {
       "output_type": "stream",
       "stream": "stderr",
       "text": [
        "INFO:interface:stdout 2015-01-28T16:41:17.241479:23\t7\t3.44\t32\t70\t26\t31.4\t70.4\t25.8\n"
       ]
      },
      {
       "output_type": "stream",
       "stream": "stderr",
       "text": [
        "INFO:interface:stdout 2015-01-28T16:41:17.241479:22\t5\t2.98\t30\t37\t20\t30.4\t36.8\t20.2\n"
       ]
      },
      {
       "output_type": "stream",
       "stream": "stderr",
       "text": [
        "INFO:interface:stdout 2015-01-28T16:41:17.241479:21\t5\t2.63\t34\t65\t19\t33.4\t64.8\t18.6\n"
       ]
      },
      {
       "output_type": "stream",
       "stream": "stderr",
       "text": [
        "INFO:interface:stdout 2015-01-28T16:41:17.241479:20\t4\t3.26\t57\t50\t25\t57.5\t50\t25.5\n"
       ]
      },
      {
       "output_type": "stream",
       "stream": "stderr",
       "text": [
        "INFO:interface:stdout 2015-01-28T16:41:17.241479:19\t3\t3.32\t39\t35\t27\t39\t35\t27\n"
       ]
      },
      {
       "output_type": "stream",
       "stream": "stderr",
       "text": [
        "INFO:interface:stdout 2015-01-28T16:41:17.241479:18\t3\t2.84\t21\t74\t26\t21.7\t75\t26\n"
       ]
      },
      {
       "output_type": "stream",
       "stream": "stderr",
       "text": [
        "INFO:interface:stdout 2015-01-28T16:41:17.241479:17\t3\t2.71\t20\t72\t26\t19.7\t71.3\t26.3\n"
       ]
      },
      {
       "output_type": "stream",
       "stream": "stderr",
       "text": [
        "INFO:interface:stdout 2015-01-28T16:41:17.241479:16\t3\t2.69\t23\t48\t22\t22.7\t47.3\t22\n"
       ]
      },
      {
       "output_type": "stream",
       "stream": "stderr",
       "text": [
        "INFO:interface:stdout 2015-01-28T16:41:17.241479:15\t2\t2.68\t45\t39\t27\t44.5\t39\t27\n"
       ]
      },
      {
       "output_type": "stream",
       "stream": "stderr",
       "text": [
        "INFO:interface:stdout 2015-01-28T16:41:17.241479:14\t2\t2.64\t51\t46\t15\t51.5\t46\t15.5\n"
       ]
      },
      {
       "output_type": "stream",
       "stream": "stderr",
       "text": [
        "INFO:interface:stdout 2015-01-28T16:41:17.241479:13\t1\t2.54\t16\t38\t38\t16\t38\t38\n"
       ]
      },
      {
       "output_type": "stream",
       "stream": "stderr",
       "text": [
        "INFO:interface:stdout 2015-01-28T16:41:17.241479:12\t1\t2.66\t19\t46\t34\t19\t46\t34\n"
       ]
      },
      {
       "output_type": "stream",
       "stream": "stderr",
       "text": [
        "INFO:interface:stdout 2015-01-28T16:41:17.241479:11\t1\t6.62\t42\t42\t26\t42\t42\t26\n"
       ]
      },
      {
       "output_type": "stream",
       "stream": "stderr",
       "text": [
        "INFO:interface:stdout 2015-01-28T16:41:17.241479:10\t1\t2.64\t42\t38\t26\t42\t38\t26\n"
       ]
      },
      {
       "output_type": "stream",
       "stream": "stderr",
       "text": [
        "INFO:interface:stdout 2015-01-28T16:41:17.241479:9\t1\t3.36\t64\t53\t24\t64\t53\t24\n"
       ]
      },
      {
       "output_type": "stream",
       "stream": "stderr",
       "text": [
        "INFO:interface:stdout 2015-01-28T16:41:17.241479:8\t1\t5.57\t54\t52\t23\t54\t52\t23\n"
       ]
      },
      {
       "output_type": "stream",
       "stream": "stderr",
       "text": [
        "INFO:interface:stdout 2015-01-28T16:41:17.241479:7\t1\t4.69\t69\t40\t17\t69\t40\t17\n"
       ]
      },
      {
       "output_type": "stream",
       "stream": "stderr",
       "text": [
        "INFO:interface:stdout 2015-01-28T16:41:17.241479:6\t1\t2.57\t40\t47\t16\t40\t47\t16\n"
       ]
      },
      {
       "output_type": "stream",
       "stream": "stderr",
       "text": [
        "INFO:interface:stdout 2015-01-28T16:41:17.241479:5\t1\t2.53\t52\t43\t15\t52\t43\t15\n"
       ]
      },
      {
       "output_type": "stream",
       "stream": "stderr",
       "text": [
        "INFO:interface:stdout 2015-01-28T16:41:17.241479:4\t1\t2.64\t64\t36\t12\t64\t36\t12\n"
       ]
      },
      {
       "output_type": "stream",
       "stream": "stderr",
       "text": [
        "INFO:interface:stdout 2015-01-28T16:41:17.241479:3\t1\t4.32\t69\t40\t11\t69\t40\t11\n"
       ]
      },
      {
       "output_type": "stream",
       "stream": "stderr",
       "text": [
        "INFO:interface:stdout 2015-01-28T16:41:17.241479:2\t1\t2.63\t48\t35\t10\t48\t35\t10\n"
       ]
      },
      {
       "output_type": "stream",
       "stream": "stderr",
       "text": [
        "INFO:interface:stdout 2015-01-28T16:41:17.241479:1\t1\t2.61\t50\t28\t9\t50\t28\t9\n"
       ]
      },
      {
       "output_type": "stream",
       "stream": "stderr",
       "text": [
        "INFO:workflow:Executing node varcopemerge in dir: /home/felice/workflow_folders/in_limbo_level2_felice_fsl/in_limbo_mixedfx/varcopemerge\n"
       ]
      },
      {
       "output_type": "stream",
       "stream": "stderr",
       "text": [
        "INFO:workflow:Executing node _varcopemerge0 in dir: /home/felice/workflow_folders/in_limbo_level2_felice_fsl/in_limbo_mixedfx/varcopemerge/mapflow/_varcopemerge0\n"
       ]
      },
      {
       "output_type": "stream",
       "stream": "stderr",
       "text": [
        "INFO:workflow:Running: fslmerge -t task001_varcope13_merged.nii.gz /home/felice/results2/ds1/output/model01/task001/sub001/varcopes/mni/model001/task001_varcope13.nii.gz /home/felice/results2/ds1/output/model01/task001/sub002/varcopes/mni/model001/task001_varcope13.nii.gz /home/felice/results2/ds1/output/model01/task001/sub003/varcopes/mni/model001/task001_varcope13.nii.gz /home/felice/results2/ds1/output/model01/task001/sub004/varcopes/mni/model001/task001_varcope13.nii.gz /home/felice/results2/ds1/output/model01/task001/sub005/varcopes/mni/model001/task001_varcope13.nii.gz /home/felice/results2/ds1/output/model01/task001/sub006/varcopes/mni/model001/task001_varcope13.nii.gz /home/felice/results2/ds1/output/model01/task001/sub007/varcopes/mni/model001/task001_varcope13.nii.gz /home/felice/results2/ds1/output/model01/task001/sub008/varcopes/mni/model001/task001_varcope13.nii.gz /home/felice/results2/ds1/output/model01/task001/sub009/varcopes/mni/model001/task001_varcope13.nii.gz /home/felice/results2/ds1/output/model01/task001/sub010/varcopes/mni/model001/task001_varcope13.nii.gz /home/felice/results2/ds1/output/model01/task001/sub011/varcopes/mni/model001/task001_varcope13.nii.gz /home/felice/results2/ds1/output/model01/task001/sub012/varcopes/mni/model001/task001_varcope13.nii.gz /home/felice/results2/ds1/output/model01/task001/sub013/varcopes/mni/model001/task001_varcope13.nii.gz /home/felice/results2/ds1/output/model01/task001/sub014/varcopes/mni/model001/task001_varcope13.nii.gz /home/felice/results2/ds1/output/model01/task001/sub015/varcopes/mni/model001/task001_varcope13.nii.gz /home/felice/results2/ds1/output/model01/task001/sub016/varcopes/mni/model001/task001_varcope13.nii.gz\n"
       ]
      },
      {
       "output_type": "stream",
       "stream": "stderr",
       "text": [
        "INFO:workflow:Executing node flameo.a5 in dir: /home/felice/workflow_folders/in_limbo_level2_felice_fsl/in_limbo_mixedfx/_threshold_3.3/flameo\n"
       ]
      },
      {
       "output_type": "stream",
       "stream": "stderr",
       "text": [
        "INFO:workflow:Executing node _flameo0 in dir: /home/felice/workflow_folders/in_limbo_level2_felice_fsl/in_limbo_mixedfx/_threshold_3.3/flameo/mapflow/_flameo0\n"
       ]
      },
      {
       "output_type": "stream",
       "stream": "stderr",
       "text": [
        "INFO:workflow:Running: flameo --copefile=/home/felice/workflow_folders/in_limbo_level2_felice_fsl/in_limbo_mixedfx/_threshold_3.3/copemerge/mapflow/_copemerge0/cope_in_limbo_merged.nii.gz --covsplitfile=/home/felice/workflow_folders/in_limbo_level2_felice_fsl/in_limbo_mixedfx/l2model/design.grp --designfile=/home/felice/workflow_folders/in_limbo_level2_felice_fsl/in_limbo_mixedfx/l2model/design.mat --dofvarcopefile=/home/felice/workflow_folders/in_limbo_level2_felice_fsl/in_limbo_mixedfx/_threshold_3.3/gendofvolume/dof_file.nii.gz --ld=stats --maskfile=/usr/share/fsl/data/standard/MNI152_T1_2mm_brain_mask.nii.gz --runmode=fe --tcontrastsfile=/home/felice/workflow_folders/in_limbo_level2_felice_fsl/in_limbo_mixedfx/l2model/design.con --varcopefile=/home/felice/workflow_folders/in_limbo_level2_felice_fsl/in_limbo_mixedfx/varcopemerge/mapflow/_varcopemerge0/task001_varcope13_merged.nii.gz\n"
       ]
      },
      {
       "output_type": "stream",
       "stream": "stderr",
       "text": [
        "INFO:interface:stdout 2015-01-28T16:41:20.288258:Log directory is: stats\n"
       ]
      },
      {
       "output_type": "stream",
       "stream": "stderr",
       "text": [
        "INFO:interface:stdout 2015-01-28T16:41:20.290280:Setting up:\n"
       ]
      },
      {
       "output_type": "stream",
       "stream": "stderr",
       "text": [
        "INFO:interface:stdout 2015-01-28T16:41:21.363958:ntptsing=16.000000 \n"
       ]
      },
      {
       "output_type": "stream",
       "stream": "stderr",
       "text": [
        "INFO:interface:stdout 2015-01-28T16:41:21.363958:\n"
       ]
      },
      {
       "output_type": "stream",
       "stream": "stderr",
       "text": [
        "INFO:interface:stdout 2015-01-28T16:41:21.363958:evs_group=1.000000 \n"
       ]
      },
      {
       "output_type": "stream",
       "stream": "stderr",
       "text": [
        "INFO:interface:stdout 2015-01-28T16:41:21.363958:\n"
       ]
      },
      {
       "output_type": "stream",
       "stream": "stderr",
       "text": [
        "INFO:interface:stdout 2015-01-28T16:41:21.365992:No f contrasts\n"
       ]
      },
      {
       "output_type": "stream",
       "stream": "stderr",
       "text": [
        "INFO:interface:stdout 2015-01-28T16:41:21.428560:\n"
       ]
      },
      {
       "output_type": "stream",
       "stream": "stderr",
       "text": [
        "INFO:interface:stdout 2015-01-28T16:41:21.428560:WARNING: The passed in varcope file, /home/felice/workflow_folders/in_limbo_level2_felice_fsl/in_limbo_mixedfx/varcopemerge/mapflow/_varcopemerge0/task001_varcope13_merged.nii.gz, contains voxels inside the mask with zero (or negative) values. These voxels will be excluded from the analysis.\n"
       ]
      },
      {
       "output_type": "stream",
       "stream": "stderr",
       "text": [
        "INFO:interface:stdout 2015-01-28T16:41:21.437364:nevs=1\n"
       ]
      },
      {
       "output_type": "stream",
       "stream": "stderr",
       "text": [
        "INFO:interface:stdout 2015-01-28T16:41:21.437364:ntpts=16\n"
       ]
      },
      {
       "output_type": "stream",
       "stream": "stderr",
       "text": [
        "INFO:interface:stdout 2015-01-28T16:41:21.437364:ngs=1\n"
       ]
      },
      {
       "output_type": "stream",
       "stream": "stderr",
       "text": [
        "INFO:interface:stdout 2015-01-28T16:41:21.437364:nvoxels=39136\n"
       ]
      },
      {
       "output_type": "stream",
       "stream": "stderr",
       "text": [
        "INFO:interface:stdout 2015-01-28T16:41:21.471959:Running:\n"
       ]
      },
      {
       "output_type": "stream",
       "stream": "stderr",
       "text": [
        "INFO:interface:stdout 2015-01-28T16:41:21.471959:nmaskvoxels=39136\n"
       ]
      },
      {
       "output_type": "stream",
       "stream": "stderr",
       "text": [
        "INFO:interface:stdout 2015-01-28T16:41:22.095236: 1 2 3 4 5 6 7 8 9 10 11 12 13 14 15 16 17 18 19 20 21 22 23 24 25 26 27 28 29 30 31 32 33 34 35 36 37 38 39 40 41 42 43 44 45 46 47 48 49 50 51 52 53 54 55 56 57 58 59 60 61 62 63 64 65 66 67 68 69 70 71 72 73 74 75 76 77 78 79 80 81 82 83 84 85 86 87 88 89 90 91 92 93 94 95 96 97 98 99 100\n"
       ]
      },
      {
       "output_type": "stream",
       "stream": "stderr",
       "text": [
        "INFO:interface:stdout 2015-01-28T16:41:22.095236:Saving results\n"
       ]
      },
      {
       "output_type": "stream",
       "stream": "stderr",
       "text": [
        "INFO:interface:stdout 2015-01-28T16:41:23.720858:\n"
       ]
      },
      {
       "output_type": "stream",
       "stream": "stderr",
       "text": [
        "INFO:interface:stdout 2015-01-28T16:41:23.720858:Log directory was: stats\n"
       ]
      },
      {
       "output_type": "stream",
       "stream": "stderr",
       "text": [
        "INFO:workflow:Executing node in_limbo_mapper.a5 in dir: /home/felice/workflow_folders/in_limbo_level2_felice_fsl/_threshold_3.3/in_limbo_mapper\n"
       ]
      },
      {
       "output_type": "stream",
       "stream": "stderr",
       "text": [
        "INFO:workflow:Executing node datasink.a5 in dir: /home/felice/workflow_folders/in_limbo_level2_felice_fsl/_threshold_3.3/datasink\n"
       ]
      },
      {
       "output_type": "stream",
       "stream": "stderr",
       "text": [
        "INFO:workflow:Executing node flameo.a0 in dir: /home/felice/workflow_folders/in_limbo_level2_felice_fsl/in_limbo_mixedfx/_threshold_2.3/flameo\n"
       ]
      },
      {
       "output_type": "stream",
       "stream": "stderr",
       "text": [
        "INFO:workflow:Executing node _flameo0 in dir: /home/felice/workflow_folders/in_limbo_level2_felice_fsl/in_limbo_mixedfx/_threshold_2.3/flameo/mapflow/_flameo0\n"
       ]
      },
      {
       "output_type": "stream",
       "stream": "stderr",
       "text": [
        "INFO:workflow:Running: flameo --copefile=/home/felice/workflow_folders/in_limbo_level2_felice_fsl/in_limbo_mixedfx/_threshold_2.3/copemerge/mapflow/_copemerge0/cope_in_limbo_merged.nii.gz --covsplitfile=/home/felice/workflow_folders/in_limbo_level2_felice_fsl/in_limbo_mixedfx/l2model/design.grp --designfile=/home/felice/workflow_folders/in_limbo_level2_felice_fsl/in_limbo_mixedfx/l2model/design.mat --dofvarcopefile=/home/felice/workflow_folders/in_limbo_level2_felice_fsl/in_limbo_mixedfx/_threshold_2.3/gendofvolume/dof_file.nii.gz --ld=stats --maskfile=/usr/share/fsl/data/standard/MNI152_T1_2mm_brain_mask.nii.gz --runmode=fe --tcontrastsfile=/home/felice/workflow_folders/in_limbo_level2_felice_fsl/in_limbo_mixedfx/l2model/design.con --varcopefile=/home/felice/workflow_folders/in_limbo_level2_felice_fsl/in_limbo_mixedfx/varcopemerge/mapflow/_varcopemerge0/task001_varcope13_merged.nii.gz\n"
       ]
      },
      {
       "output_type": "stream",
       "stream": "stderr",
       "text": [
        "INFO:interface:stdout 2015-01-28T16:41:23.955489:Log directory is: stats\n"
       ]
      },
      {
       "output_type": "stream",
       "stream": "stderr",
       "text": [
        "INFO:interface:stdout 2015-01-28T16:41:23.955489:Setting up:\n"
       ]
      },
      {
       "output_type": "stream",
       "stream": "stderr",
       "text": [
        "INFO:interface:stdout 2015-01-28T16:41:25.038721:ntptsing=16.000000 \n"
       ]
      },
      {
       "output_type": "stream",
       "stream": "stderr",
       "text": [
        "INFO:interface:stdout 2015-01-28T16:41:25.038721:\n"
       ]
      },
      {
       "output_type": "stream",
       "stream": "stderr",
       "text": [
        "INFO:interface:stdout 2015-01-28T16:41:25.038721:evs_group=1.000000 \n"
       ]
      },
      {
       "output_type": "stream",
       "stream": "stderr",
       "text": [
        "INFO:interface:stdout 2015-01-28T16:41:25.038721:\n"
       ]
      },
      {
       "output_type": "stream",
       "stream": "stderr",
       "text": [
        "INFO:interface:stdout 2015-01-28T16:41:25.040866:No f contrasts\n"
       ]
      },
      {
       "output_type": "stream",
       "stream": "stderr",
       "text": [
        "INFO:interface:stdout 2015-01-28T16:41:25.110046:\n"
       ]
      },
      {
       "output_type": "stream",
       "stream": "stderr",
       "text": [
        "INFO:interface:stdout 2015-01-28T16:41:25.110046:WARNING: The passed in varcope file, /home/felice/workflow_folders/in_limbo_level2_felice_fsl/in_limbo_mixedfx/varcopemerge/mapflow/_varcopemerge0/task001_varcope13_merged.nii.gz, contains voxels inside the mask with zero (or negative) values. These voxels will be excluded from the analysis.\n"
       ]
      },
      {
       "output_type": "stream",
       "stream": "stderr",
       "text": [
        "INFO:interface:stdout 2015-01-28T16:41:25.119210:nevs=1\n"
       ]
      },
      {
       "output_type": "stream",
       "stream": "stderr",
       "text": [
        "INFO:interface:stdout 2015-01-28T16:41:25.119210:ntpts=16\n"
       ]
      },
      {
       "output_type": "stream",
       "stream": "stderr",
       "text": [
        "INFO:interface:stdout 2015-01-28T16:41:25.119210:ngs=1\n"
       ]
      },
      {
       "output_type": "stream",
       "stream": "stderr",
       "text": [
        "INFO:interface:stdout 2015-01-28T16:41:25.119210:nvoxels=39136\n"
       ]
      },
      {
       "output_type": "stream",
       "stream": "stderr",
       "text": [
        "INFO:interface:stdout 2015-01-28T16:41:25.153955:Running:\n"
       ]
      },
      {
       "output_type": "stream",
       "stream": "stderr",
       "text": [
        "INFO:interface:stdout 2015-01-28T16:41:25.153955:nmaskvoxels=39136\n"
       ]
      },
      {
       "output_type": "stream",
       "stream": "stderr",
       "text": [
        "INFO:interface:stdout 2015-01-28T16:41:25.672496: 1 2 3 4 5 6 7 8 9 10 11 12 13 14 15 16 17 18 19 20 21 22 23 24 25 26 27 28 29 30 31 32 33 34 35 36 37 38 39 40 41 42 43 44 45 46 47 48 49 50 51 52 53 54 55 56 57 58 59 60 61 62 63 64 65 66 67 68 69 70 71 72 73 74 75 76 77 78 79 80 81 82 83 84 85 86 87 88 89 90 91 92 93 94 95 96 97 98 99 100\n"
       ]
      },
      {
       "output_type": "stream",
       "stream": "stderr",
       "text": [
        "INFO:interface:stdout 2015-01-28T16:41:25.672496:Saving results\n"
       ]
      },
      {
       "output_type": "stream",
       "stream": "stderr",
       "text": [
        "INFO:interface:stdout 2015-01-28T16:41:27.317345:\n"
       ]
      },
      {
       "output_type": "stream",
       "stream": "stderr",
       "text": [
        "INFO:interface:stdout 2015-01-28T16:41:27.317345:Log directory was: stats\n"
       ]
      },
      {
       "output_type": "stream",
       "stream": "stderr",
       "text": [
        "INFO:workflow:Executing node in_limbo_mapper.a0 in dir: /home/felice/workflow_folders/in_limbo_level2_felice_fsl/_threshold_2.3/in_limbo_mapper\n"
       ]
      },
      {
       "output_type": "stream",
       "stream": "stderr",
       "text": [
        "INFO:workflow:Executing node datasink.a0 in dir: /home/felice/workflow_folders/in_limbo_level2_felice_fsl/_threshold_2.3/datasink\n"
       ]
      },
      {
       "output_type": "stream",
       "stream": "stderr",
       "text": [
        "INFO:workflow:Executing node flameo.a2 in dir: /home/felice/workflow_folders/in_limbo_level2_felice_fsl/in_limbo_mixedfx/_threshold_2.7/flameo\n"
       ]
      },
      {
       "output_type": "stream",
       "stream": "stderr",
       "text": [
        "INFO:workflow:Executing node _flameo0 in dir: /home/felice/workflow_folders/in_limbo_level2_felice_fsl/in_limbo_mixedfx/_threshold_2.7/flameo/mapflow/_flameo0\n"
       ]
      },
      {
       "output_type": "stream",
       "stream": "stderr",
       "text": [
        "INFO:workflow:Running: flameo --copefile=/home/felice/workflow_folders/in_limbo_level2_felice_fsl/in_limbo_mixedfx/_threshold_2.7/copemerge/mapflow/_copemerge0/cope_in_limbo_merged.nii.gz --covsplitfile=/home/felice/workflow_folders/in_limbo_level2_felice_fsl/in_limbo_mixedfx/l2model/design.grp --designfile=/home/felice/workflow_folders/in_limbo_level2_felice_fsl/in_limbo_mixedfx/l2model/design.mat --dofvarcopefile=/home/felice/workflow_folders/in_limbo_level2_felice_fsl/in_limbo_mixedfx/_threshold_2.7/gendofvolume/dof_file.nii.gz --ld=stats --maskfile=/usr/share/fsl/data/standard/MNI152_T1_2mm_brain_mask.nii.gz --runmode=fe --tcontrastsfile=/home/felice/workflow_folders/in_limbo_level2_felice_fsl/in_limbo_mixedfx/l2model/design.con --varcopefile=/home/felice/workflow_folders/in_limbo_level2_felice_fsl/in_limbo_mixedfx/varcopemerge/mapflow/_varcopemerge0/task001_varcope13_merged.nii.gz\n"
       ]
      },
      {
       "output_type": "stream",
       "stream": "stderr",
       "text": [
        "INFO:interface:stdout 2015-01-28T16:41:27.554052:Log directory is: stats\n"
       ]
      },
      {
       "output_type": "stream",
       "stream": "stderr",
       "text": [
        "INFO:interface:stdout 2015-01-28T16:41:27.555213:Setting up:\n"
       ]
      },
      {
       "output_type": "stream",
       "stream": "stderr",
       "text": [
        "INFO:interface:stdout 2015-01-28T16:41:28.634054:ntptsing=16.000000 \n"
       ]
      },
      {
       "output_type": "stream",
       "stream": "stderr",
       "text": [
        "INFO:interface:stdout 2015-01-28T16:41:28.634054:\n"
       ]
      },
      {
       "output_type": "stream",
       "stream": "stderr",
       "text": [
        "INFO:interface:stdout 2015-01-28T16:41:28.634054:evs_group=1.000000 \n"
       ]
      },
      {
       "output_type": "stream",
       "stream": "stderr",
       "text": [
        "INFO:interface:stdout 2015-01-28T16:41:28.634054:\n"
       ]
      },
      {
       "output_type": "stream",
       "stream": "stderr",
       "text": [
        "INFO:interface:stdout 2015-01-28T16:41:28.636397:No f contrasts\n"
       ]
      },
      {
       "output_type": "stream",
       "stream": "stderr",
       "text": [
        "INFO:interface:stdout 2015-01-28T16:41:28.698442:\n"
       ]
      },
      {
       "output_type": "stream",
       "stream": "stderr",
       "text": [
        "INFO:interface:stdout 2015-01-28T16:41:28.698442:WARNING: The passed in varcope file, /home/felice/workflow_folders/in_limbo_level2_felice_fsl/in_limbo_mixedfx/varcopemerge/mapflow/_varcopemerge0/task001_varcope13_merged.nii.gz, contains voxels inside the mask with zero (or negative) values. These voxels will be excluded from the analysis.\n"
       ]
      },
      {
       "output_type": "stream",
       "stream": "stderr",
       "text": [
        "INFO:interface:stdout 2015-01-28T16:41:28.706687:nevs=1\n"
       ]
      },
      {
       "output_type": "stream",
       "stream": "stderr",
       "text": [
        "INFO:interface:stdout 2015-01-28T16:41:28.706687:ntpts=16\n"
       ]
      },
      {
       "output_type": "stream",
       "stream": "stderr",
       "text": [
        "INFO:interface:stdout 2015-01-28T16:41:28.706687:ngs=1\n"
       ]
      },
      {
       "output_type": "stream",
       "stream": "stderr",
       "text": [
        "INFO:interface:stdout 2015-01-28T16:41:28.706687:nvoxels=39136\n"
       ]
      },
      {
       "output_type": "stream",
       "stream": "stderr",
       "text": [
        "INFO:interface:stdout 2015-01-28T16:41:28.741088:Running:\n"
       ]
      },
      {
       "output_type": "stream",
       "stream": "stderr",
       "text": [
        "INFO:interface:stdout 2015-01-28T16:41:28.741088:nmaskvoxels=39136\n"
       ]
      },
      {
       "output_type": "stream",
       "stream": "stderr",
       "text": [
        "INFO:interface:stdout 2015-01-28T16:41:29.340651: 1 2 3 4 5 6 7 8 9 10 11 12 13 14 15 16 17 18 19 20 21 22 23 24 25 26 27 28 29 30 31 32 33 34 35 36 37 38 39 40 41 42 43 44 45 46 47 48 49 50 51 52 53 54 55 56 57 58 59 60 61 62 63 64 65 66 67 68 69 70 71 72 73 74 75 76 77 78 79 80 81 82 83 84 85 86 87 88 89 90 91 92 93 94 95 96 97 98 99 100\n"
       ]
      },
      {
       "output_type": "stream",
       "stream": "stderr",
       "text": [
        "INFO:interface:stdout 2015-01-28T16:41:29.340651:Saving results\n"
       ]
      },
      {
       "output_type": "stream",
       "stream": "stderr",
       "text": [
        "INFO:interface:stdout 2015-01-28T16:41:31.141168:\n"
       ]
      },
      {
       "output_type": "stream",
       "stream": "stderr",
       "text": [
        "INFO:interface:stdout 2015-01-28T16:41:31.141168:Log directory was: stats\n"
       ]
      },
      {
       "output_type": "stream",
       "stream": "stderr",
       "text": [
        "INFO:workflow:Executing node in_limbo_mapper.a2 in dir: /home/felice/workflow_folders/in_limbo_level2_felice_fsl/_threshold_2.7/in_limbo_mapper\n"
       ]
      },
      {
       "output_type": "stream",
       "stream": "stderr",
       "text": [
        "INFO:workflow:Executing node datasink.a2 in dir: /home/felice/workflow_folders/in_limbo_level2_felice_fsl/_threshold_2.7/datasink\n"
       ]
      },
      {
       "output_type": "stream",
       "stream": "stderr",
       "text": [
        "INFO:workflow:Executing node flameo.a6 in dir: /home/felice/workflow_folders/in_limbo_level2_felice_fsl/in_limbo_mixedfx/_threshold_3.5/flameo\n"
       ]
      },
      {
       "output_type": "stream",
       "stream": "stderr",
       "text": [
        "INFO:workflow:Executing node _flameo0 in dir: /home/felice/workflow_folders/in_limbo_level2_felice_fsl/in_limbo_mixedfx/_threshold_3.5/flameo/mapflow/_flameo0\n"
       ]
      },
      {
       "output_type": "stream",
       "stream": "stderr",
       "text": [
        "INFO:workflow:Running: flameo --copefile=/home/felice/workflow_folders/in_limbo_level2_felice_fsl/in_limbo_mixedfx/_threshold_3.5/copemerge/mapflow/_copemerge0/cope_in_limbo_merged.nii.gz --covsplitfile=/home/felice/workflow_folders/in_limbo_level2_felice_fsl/in_limbo_mixedfx/l2model/design.grp --designfile=/home/felice/workflow_folders/in_limbo_level2_felice_fsl/in_limbo_mixedfx/l2model/design.mat --dofvarcopefile=/home/felice/workflow_folders/in_limbo_level2_felice_fsl/in_limbo_mixedfx/_threshold_3.5/gendofvolume/dof_file.nii.gz --ld=stats --maskfile=/usr/share/fsl/data/standard/MNI152_T1_2mm_brain_mask.nii.gz --runmode=fe --tcontrastsfile=/home/felice/workflow_folders/in_limbo_level2_felice_fsl/in_limbo_mixedfx/l2model/design.con --varcopefile=/home/felice/workflow_folders/in_limbo_level2_felice_fsl/in_limbo_mixedfx/varcopemerge/mapflow/_varcopemerge0/task001_varcope13_merged.nii.gz\n"
       ]
      },
      {
       "output_type": "stream",
       "stream": "stderr",
       "text": [
        "INFO:interface:stdout 2015-01-28T16:41:31.380095:Log directory is: stats\n"
       ]
      },
      {
       "output_type": "stream",
       "stream": "stderr",
       "text": [
        "INFO:interface:stdout 2015-01-28T16:41:31.381268:Setting up:\n"
       ]
      },
      {
       "output_type": "stream",
       "stream": "stderr",
       "text": [
        "INFO:interface:stdout 2015-01-28T16:41:32.453926:ntptsing=16.000000 \n"
       ]
      },
      {
       "output_type": "stream",
       "stream": "stderr",
       "text": [
        "INFO:interface:stdout 2015-01-28T16:41:32.453926:\n"
       ]
      },
      {
       "output_type": "stream",
       "stream": "stderr",
       "text": [
        "INFO:interface:stdout 2015-01-28T16:41:32.453926:evs_group=1.000000 \n"
       ]
      },
      {
       "output_type": "stream",
       "stream": "stderr",
       "text": [
        "INFO:interface:stdout 2015-01-28T16:41:32.453926:\n"
       ]
      },
      {
       "output_type": "stream",
       "stream": "stderr",
       "text": [
        "INFO:interface:stdout 2015-01-28T16:41:32.456292:No f contrasts\n"
       ]
      },
      {
       "output_type": "stream",
       "stream": "stderr",
       "text": [
        "INFO:interface:stdout 2015-01-28T16:41:32.557462:\n"
       ]
      },
      {
       "output_type": "stream",
       "stream": "stderr",
       "text": [
        "INFO:interface:stdout 2015-01-28T16:41:32.557462:WARNING: The passed in varcope file, /home/felice/workflow_folders/in_limbo_level2_felice_fsl/in_limbo_mixedfx/varcopemerge/mapflow/_varcopemerge0/task001_varcope13_merged.nii.gz, contains voxels inside the mask with zero (or negative) values. These voxels will be excluded from the analysis.\n"
       ]
      },
      {
       "output_type": "stream",
       "stream": "stderr",
       "text": [
        "INFO:interface:stdout 2015-01-28T16:41:32.569849:nevs=1\n"
       ]
      },
      {
       "output_type": "stream",
       "stream": "stderr",
       "text": [
        "INFO:interface:stdout 2015-01-28T16:41:32.569849:ntpts=16\n"
       ]
      },
      {
       "output_type": "stream",
       "stream": "stderr",
       "text": [
        "INFO:interface:stdout 2015-01-28T16:41:32.569849:ngs=1\n"
       ]
      },
      {
       "output_type": "stream",
       "stream": "stderr",
       "text": [
        "INFO:interface:stdout 2015-01-28T16:41:32.569849:nvoxels=39136\n"
       ]
      },
      {
       "output_type": "stream",
       "stream": "stderr",
       "text": [
        "INFO:interface:stdout 2015-01-28T16:41:32.614802:Running:\n"
       ]
      },
      {
       "output_type": "stream",
       "stream": "stderr",
       "text": [
        "INFO:interface:stdout 2015-01-28T16:41:32.614802:nmaskvoxels=39136\n"
       ]
      },
      {
       "output_type": "stream",
       "stream": "stderr",
       "text": [
        "INFO:interface:stdout 2015-01-28T16:41:33.300158: 1 2 3 4 5 6 7 8 9 10 11 12 13 14 15 16 17 18 19 20 21 22 23 24 25 26 27 28 29 30 31 32 33 34 35 36 37 38 39 40 41 42 43 44 45 46 47 48 49 50 51 52 53 54 55 56 57 58 59 60 61 62 63 64 65 66 67 68 69 70 71 72 73 74 75 76 77 78 79 80 81 82 83 84 85 86 87 88 89 90 91 92 93 94 95 96 97 98 99 100\n"
       ]
      },
      {
       "output_type": "stream",
       "stream": "stderr",
       "text": [
        "INFO:interface:stdout 2015-01-28T16:41:33.300158:Saving results\n"
       ]
      },
      {
       "output_type": "stream",
       "stream": "stderr",
       "text": [
        "INFO:interface:stdout 2015-01-28T16:41:35.087610:\n"
       ]
      },
      {
       "output_type": "stream",
       "stream": "stderr",
       "text": [
        "INFO:interface:stdout 2015-01-28T16:41:35.087610:Log directory was: stats\n"
       ]
      },
      {
       "output_type": "stream",
       "stream": "stderr",
       "text": [
        "INFO:workflow:Executing node in_limbo_mapper.a6 in dir: /home/felice/workflow_folders/in_limbo_level2_felice_fsl/_threshold_3.5/in_limbo_mapper\n"
       ]
      },
      {
       "output_type": "stream",
       "stream": "stderr",
       "text": [
        "INFO:workflow:Executing node datasink.a6 in dir: /home/felice/workflow_folders/in_limbo_level2_felice_fsl/_threshold_3.5/datasink\n"
       ]
      },
      {
       "output_type": "stream",
       "stream": "stderr",
       "text": [
        "INFO:workflow:Executing node cluster.aI.a8 in dir: /home/felice/workflow_folders/in_limbo_level2_felice_fsl/_threshold_3.9/cluster\n"
       ]
      },
      {
       "output_type": "stream",
       "stream": "stderr",
       "text": [
        "INFO:workflow:Running: cluster --dlh=0.2484830000 --in=/home/felice/workflow_folders/in_limbo_level2_felice_fsl/flameo/mapflow/_flameo0/stats/zstat1.nii.gz --othresh=/home/felice/workflow_folders/in_limbo_level2_felice_fsl/_threshold_3.9/cluster/zstat1_threshold.nii.gz --thresh=3.9000000000\n"
       ]
      },
      {
       "output_type": "stream",
       "stream": "stderr",
       "text": [
        "INFO:interface:stdout 2015-01-28T16:41:35.370940:Cluster Index\tVoxels\tMAX\tMAX X (vox)\tMAX Y (vox)\tMAX Z (vox)\tCOG X (vox)\tCOG Y (vox)\tCOG Z (vox)\n"
       ]
      },
      {
       "output_type": "stream",
       "stream": "stderr",
       "text": [
        "INFO:interface:stdout 2015-01-28T16:41:35.370940:14\t1246\t5.3\t32\t25\t31\t31.1\t28.2\t30.5\n"
       ]
      },
      {
       "output_type": "stream",
       "stream": "stderr",
       "text": [
        "INFO:interface:stdout 2015-01-28T16:41:35.370940:13\t843\t5.97\t65\t25\t32\t59.3\t25.2\t29.3\n"
       ]
      },
      {
       "output_type": "stream",
       "stream": "stderr",
       "text": [
        "INFO:interface:stdout 2015-01-28T16:41:35.370940:12\t71\t4.72\t61\t42\t26\t62\t40.2\t25.6\n"
       ]
      },
      {
       "output_type": "stream",
       "stream": "stderr",
       "text": [
        "INFO:interface:stdout 2015-01-28T16:41:35.370940:11\t50\t4.77\t39\t27\t16\t38.9\t27.1\t16\n"
       ]
      },
      {
       "output_type": "stream",
       "stream": "stderr",
       "text": [
        "INFO:interface:stdout 2015-01-28T16:41:35.370940:10\t29\t4.46\t59\t31\t9\t58.3\t30.1\t9.28\n"
       ]
      },
      {
       "output_type": "stream",
       "stream": "stderr",
       "text": [
        "INFO:interface:stdout 2015-01-28T16:41:35.376613:9\t6\t4.08\t56\t28\t17\t55.7\t27.3\t17.2\n"
       ]
      },
      {
       "output_type": "stream",
       "stream": "stderr",
       "text": [
        "INFO:interface:stdout 2015-01-28T16:41:35.376613:8\t5\t4.33\t68\t30\t29\t68.4\t30.4\t28.4\n"
       ]
      },
      {
       "output_type": "stream",
       "stream": "stderr",
       "text": [
        "INFO:interface:stdout 2015-01-28T16:41:35.376613:7\t4\t4.19\t45\t36\t19\t45.5\t36\t19\n"
       ]
      },
      {
       "output_type": "stream",
       "stream": "stderr",
       "text": [
        "INFO:interface:stdout 2015-01-28T16:41:35.376613:6\t4\t4.11\t32\t29\t13\t32.2\t29.2\t13.5\n"
       ]
      },
      {
       "output_type": "stream",
       "stream": "stderr",
       "text": [
        "INFO:interface:stdout 2015-01-28T16:41:35.376613:5\t2\t4.1\t64\t33\t22\t64\t33.5\t22\n"
       ]
      },
      {
       "output_type": "stream",
       "stream": "stderr",
       "text": [
        "INFO:interface:stdout 2015-01-28T16:41:35.376613:4\t1\t6.62\t42\t42\t26\t42\t42\t26\n"
       ]
      },
      {
       "output_type": "stream",
       "stream": "stderr",
       "text": [
        "INFO:interface:stdout 2015-01-28T16:41:35.376613:3\t1\t5.57\t54\t52\t23\t54\t52\t23\n"
       ]
      },
      {
       "output_type": "stream",
       "stream": "stderr",
       "text": [
        "INFO:interface:stdout 2015-01-28T16:41:35.376613:2\t1\t4.69\t69\t40\t17\t69\t40\t17\n"
       ]
      },
      {
       "output_type": "stream",
       "stream": "stderr",
       "text": [
        "INFO:interface:stdout 2015-01-28T16:41:35.376613:1\t1\t4.32\t69\t40\t11\t69\t40\t11\n"
       ]
      },
      {
       "output_type": "stream",
       "stream": "stderr",
       "text": [
        "INFO:workflow:Executing node cluster.aI.a4 in dir: /home/felice/workflow_folders/in_limbo_level2_felice_fsl/_threshold_3.1/cluster\n"
       ]
      },
      {
       "output_type": "stream",
       "stream": "stderr",
       "text": [
        "INFO:workflow:Running: cluster --dlh=0.2484830000 --in=/home/felice/workflow_folders/in_limbo_level2_felice_fsl/flameo/mapflow/_flameo0/stats/zstat1.nii.gz --othresh=/home/felice/workflow_folders/in_limbo_level2_felice_fsl/_threshold_3.1/cluster/zstat1_threshold.nii.gz --thresh=3.1000000000\n"
       ]
      },
      {
       "output_type": "stream",
       "stream": "stderr",
       "text": [
        "INFO:interface:stdout 2015-01-28T16:41:35.573402:Cluster Index\tVoxels\tMAX\tMAX X (vox)\tMAX Y (vox)\tMAX Z (vox)\tCOG X (vox)\tCOG Y (vox)\tCOG Z (vox)\n"
       ]
      },
      {
       "output_type": "stream",
       "stream": "stderr",
       "text": [
        "INFO:interface:stdout 2015-01-28T16:41:35.573402:16\t5375\t5.97\t65\t25\t32\t44.2\t28.1\t27.4\n"
       ]
      },
      {
       "output_type": "stream",
       "stream": "stderr",
       "text": [
        "INFO:interface:stdout 2015-01-28T16:41:35.575345:15\t62\t4.19\t45\t36\t19\t46.1\t36.4\t18.9\n"
       ]
      },
      {
       "output_type": "stream",
       "stream": "stderr",
       "text": [
        "INFO:interface:stdout 2015-01-28T16:41:35.575345:14\t45\t3.77\t20\t54\t30\t19.4\t54\t31.2\n"
       ]
      },
      {
       "output_type": "stream",
       "stream": "stderr",
       "text": [
        "INFO:interface:stdout 2015-01-28T16:41:35.575345:13\t3\t3.25\t54\t41\t26\t54\t41\t26\n"
       ]
      },
      {
       "output_type": "stream",
       "stream": "stderr",
       "text": [
        "INFO:interface:stdout 2015-01-28T16:41:35.575345:12\t3\t3.4\t61\t52\t22\t61\t52\t21\n"
       ]
      },
      {
       "output_type": "stream",
       "stream": "stderr",
       "text": [
        "INFO:interface:stdout 2015-01-28T16:41:35.575345:11\t2\t3.23\t32\t13\t37\t32\t13.5\t37\n"
       ]
      },
      {
       "output_type": "stream",
       "stream": "stderr",
       "text": [
        "INFO:interface:stdout 2015-01-28T16:41:35.575345:10\t2\t3.44\t32\t70\t26\t31.5\t70\t26\n"
       ]
      },
      {
       "output_type": "stream",
       "stream": "stderr",
       "text": [
        "INFO:interface:stdout 2015-01-28T16:41:35.575345:9\t2\t3.54\t52\t40\t11\t52\t40\t11.5\n"
       ]
      },
      {
       "output_type": "stream",
       "stream": "stderr",
       "text": [
        "INFO:interface:stdout 2015-01-28T16:41:35.575345:8\t1\t3.32\t39\t35\t27\t39\t35\t27\n"
       ]
      },
      {
       "output_type": "stream",
       "stream": "stderr",
       "text": [
        "INFO:interface:stdout 2015-01-28T16:41:35.575345:7\t1\t6.62\t42\t42\t26\t42\t42\t26\n"
       ]
      },
      {
       "output_type": "stream",
       "stream": "stderr",
       "text": [
        "INFO:interface:stdout 2015-01-28T16:41:35.575345:6\t1\t3.26\t57\t50\t25\t57\t50\t25\n"
       ]
      },
      {
       "output_type": "stream",
       "stream": "stderr",
       "text": [
        "INFO:interface:stdout 2015-01-28T16:41:35.575345:5\t1\t3.36\t64\t53\t24\t64\t53\t24\n"
       ]
      },
      {
       "output_type": "stream",
       "stream": "stderr",
       "text": [
        "INFO:interface:stdout 2015-01-28T16:41:35.575345:4\t1\t5.57\t54\t52\t23\t54\t52\t23\n"
       ]
      },
      {
       "output_type": "stream",
       "stream": "stderr",
       "text": [
        "INFO:interface:stdout 2015-01-28T16:41:35.575345:3\t1\t4.69\t69\t40\t17\t69\t40\t17\n"
       ]
      },
      {
       "output_type": "stream",
       "stream": "stderr",
       "text": [
        "INFO:interface:stdout 2015-01-28T16:41:35.575345:2\t1\t3.34\t54\t44\t11\t54\t44\t11\n"
       ]
      },
      {
       "output_type": "stream",
       "stream": "stderr",
       "text": [
        "INFO:interface:stdout 2015-01-28T16:41:35.575345:1\t1\t4.32\t69\t40\t11\t69\t40\t11\n"
       ]
      },
      {
       "output_type": "stream",
       "stream": "stderr",
       "text": [
        "INFO:workflow:Executing node cluster.aI.a3 in dir: /home/felice/workflow_folders/in_limbo_level2_felice_fsl/_threshold_2.9/cluster\n"
       ]
      },
      {
       "output_type": "stream",
       "stream": "stderr",
       "text": [
        "INFO:workflow:Running: cluster --dlh=0.2484830000 --in=/home/felice/workflow_folders/in_limbo_level2_felice_fsl/flameo/mapflow/_flameo0/stats/zstat1.nii.gz --othresh=/home/felice/workflow_folders/in_limbo_level2_felice_fsl/_threshold_2.9/cluster/zstat1_threshold.nii.gz --thresh=2.9000000000\n"
       ]
      },
      {
       "output_type": "stream",
       "stream": "stderr",
       "text": [
        "INFO:interface:stdout 2015-01-28T16:41:35.772735:Cluster Index\tVoxels\tMAX\tMAX X (vox)\tMAX Y (vox)\tMAX Z (vox)\tCOG X (vox)\tCOG Y (vox)\tCOG Z (vox)\n"
       ]
      },
      {
       "output_type": "stream",
       "stream": "stderr",
       "text": [
        "INFO:interface:stdout 2015-01-28T16:41:35.772735:22\t6315\t5.97\t65\t25\t32\t44.5\t28.2\t27\n"
       ]
      },
      {
       "output_type": "stream",
       "stream": "stderr",
       "text": [
        "INFO:interface:stdout 2015-01-28T16:41:35.772735:21\t90\t4.19\t45\t36\t19\t46\t36.5\t18.9\n"
       ]
      },
      {
       "output_type": "stream",
       "stream": "stderr",
       "text": [
        "INFO:interface:stdout 2015-01-28T16:41:35.772735:20\t60\t3.77\t20\t54\t30\t19.2\t54\t31.2\n"
       ]
      },
      {
       "output_type": "stream",
       "stream": "stderr",
       "text": [
        "INFO:interface:stdout 2015-01-28T16:41:35.772735:19\t4\t3.44\t32\t70\t26\t30.8\t70.7\t26\n"
       ]
      },
      {
       "output_type": "stream",
       "stream": "stderr",
       "text": [
        "INFO:interface:stdout 2015-01-28T16:41:35.772735:18\t4\t3.4\t61\t52\t22\t61\t52.2\t21.3\n"
       ]
      },
      {
       "output_type": "stream",
       "stream": "stderr",
       "text": [
        "INFO:interface:stdout 2015-01-28T16:41:35.772735:17\t4\t3.54\t52\t40\t11\t52\t40.7\t11.5\n"
       ]
      },
      {
       "output_type": "stream",
       "stream": "stderr",
       "text": [
        "INFO:interface:stdout 2015-01-28T16:41:35.772735:16\t2\t2.97\t43\t34\t23\t43.5\t34\t23\n"
       ]
      },
      {
       "output_type": "stream",
       "stream": "stderr",
       "text": [
        "INFO:interface:stdout 2015-01-28T16:41:35.772735:15\t2\t2.98\t30\t37\t20\t30\t37.5\t20\n"
       ]
      },
      {
       "output_type": "stream",
       "stream": "stderr",
       "text": [
        "INFO:interface:stdout 2015-01-28T16:41:35.777824:14\t2\t2.94\t44\t30\t15\t44\t30.5\t15.5\n"
       ]
      },
      {
       "output_type": "stream",
       "stream": "stderr",
       "text": [
        "INFO:interface:stdout 2015-01-28T16:41:35.777824:13\t1\t3.02\t18\t35\t34\t18\t35\t34\n"
       ]
      },
      {
       "output_type": "stream",
       "stream": "stderr",
       "text": [
        "INFO:interface:stdout 2015-01-28T16:41:35.777824:12\t1\t2.9\t38\t31\t28\t38\t31\t28\n"
       ]
      },
      {
       "output_type": "stream",
       "stream": "stderr",
       "text": [
        "INFO:interface:stdout 2015-01-28T16:41:35.777824:11\t1\t3.32\t39\t35\t27\t39\t35\t27\n"
       ]
      },
      {
       "output_type": "stream",
       "stream": "stderr",
       "text": [
        "INFO:interface:stdout 2015-01-28T16:41:35.777824:10\t1\t6.62\t42\t42\t26\t42\t42\t26\n"
       ]
      },
      {
       "output_type": "stream",
       "stream": "stderr",
       "text": [
        "INFO:interface:stdout 2015-01-28T16:41:35.777824:9\t1\t3.26\t57\t50\t25\t57\t50\t25\n"
       ]
      },
      {
       "output_type": "stream",
       "stream": "stderr",
       "text": [
        "INFO:interface:stdout 2015-01-28T16:41:35.777824:8\t1\t3.36\t64\t53\t24\t64\t53\t24\n"
       ]
      },
      {
       "output_type": "stream",
       "stream": "stderr",
       "text": [
        "INFO:interface:stdout 2015-01-28T16:41:35.777824:7\t1\t2.95\t32\t34\t24\t32\t34\t24\n"
       ]
      },
      {
       "output_type": "stream",
       "stream": "stderr",
       "text": [
        "INFO:interface:stdout 2015-01-28T16:41:35.777824:6\t1\t5.57\t54\t52\t23\t54\t52\t23\n"
       ]
      },
      {
       "output_type": "stream",
       "stream": "stderr",
       "text": [
        "INFO:interface:stdout 2015-01-28T16:41:35.777824:5\t1\t2.92\t38\t35\t19\t38\t35\t19\n"
       ]
      },
      {
       "output_type": "stream",
       "stream": "stderr",
       "text": [
        "INFO:interface:stdout 2015-01-28T16:41:35.777824:4\t1\t4.69\t69\t40\t17\t69\t40\t17\n"
       ]
      },
      {
       "output_type": "stream",
       "stream": "stderr",
       "text": [
        "INFO:interface:stdout 2015-01-28T16:41:35.777824:3\t1\t2.93\t52\t38\t13\t52\t38\t13\n"
       ]
      },
      {
       "output_type": "stream",
       "stream": "stderr",
       "text": [
        "INFO:interface:stdout 2015-01-28T16:41:35.777824:2\t1\t3.34\t54\t44\t11\t54\t44\t11\n"
       ]
      },
      {
       "output_type": "stream",
       "stream": "stderr",
       "text": [
        "INFO:interface:stdout 2015-01-28T16:41:35.777824:1\t1\t4.32\t69\t40\t11\t69\t40\t11\n"
       ]
      },
      {
       "output_type": "stream",
       "stream": "stderr",
       "text": [
        "INFO:workflow:Executing node get_comparison_voxel.a3 in dir: /home/felice/workflow_folders/in_limbo_level2_felice_fsl/_threshold_2.9/get_comparison_voxel\n"
       ]
      },
      {
       "output_type": "stream",
       "stream": "stderr",
       "text": [
        "INFO:workflow:Executing node get_min_value.a3 in dir: /home/felice/workflow_folders/in_limbo_level2_felice_fsl/_threshold_2.9/get_min_value\n"
       ]
      },
      {
       "output_type": "stream",
       "stream": "stderr",
       "text": [
        "INFO:workflow:Executing node _get_min_value0 in dir: /home/felice/workflow_folders/in_limbo_level2_felice_fsl/_threshold_2.9/get_min_value/mapflow/_get_min_value0\n"
       ]
      },
      {
       "output_type": "stream",
       "stream": "stderr",
       "text": [
        "INFO:workflow:Executing node _get_min_value1 in dir: /home/felice/workflow_folders/in_limbo_level2_felice_fsl/_threshold_2.9/get_min_value/mapflow/_get_min_value1\n"
       ]
      },
      {
       "output_type": "stream",
       "stream": "stderr",
       "text": [
        "INFO:workflow:Executing node _get_min_value2 in dir: /home/felice/workflow_folders/in_limbo_level2_felice_fsl/_threshold_2.9/get_min_value/mapflow/_get_min_value2\n"
       ]
      },
      {
       "output_type": "stream",
       "stream": "stderr",
       "text": [
        "INFO:workflow:Executing node _get_min_value3 in dir: /home/felice/workflow_folders/in_limbo_level2_felice_fsl/_threshold_2.9/get_min_value/mapflow/_get_min_value3\n"
       ]
      },
      {
       "output_type": "stream",
       "stream": "stderr",
       "text": [
        "INFO:workflow:Executing node _get_min_value4 in dir: /home/felice/workflow_folders/in_limbo_level2_felice_fsl/_threshold_2.9/get_min_value/mapflow/_get_min_value4\n"
       ]
      },
      {
       "output_type": "stream",
       "stream": "stderr",
       "text": [
        "INFO:workflow:Executing node _get_min_value5 in dir: /home/felice/workflow_folders/in_limbo_level2_felice_fsl/_threshold_2.9/get_min_value/mapflow/_get_min_value5\n"
       ]
      },
      {
       "output_type": "stream",
       "stream": "stderr",
       "text": [
        "INFO:workflow:Executing node _get_min_value6 in dir: /home/felice/workflow_folders/in_limbo_level2_felice_fsl/_threshold_2.9/get_min_value/mapflow/_get_min_value6\n"
       ]
      },
      {
       "output_type": "stream",
       "stream": "stderr",
       "text": [
        "INFO:workflow:Executing node _get_min_value7 in dir: /home/felice/workflow_folders/in_limbo_level2_felice_fsl/_threshold_2.9/get_min_value/mapflow/_get_min_value7\n"
       ]
      },
      {
       "output_type": "stream",
       "stream": "stderr",
       "text": [
        "INFO:workflow:Executing node _get_min_value8 in dir: /home/felice/workflow_folders/in_limbo_level2_felice_fsl/_threshold_2.9/get_min_value/mapflow/_get_min_value8\n"
       ]
      },
      {
       "output_type": "stream",
       "stream": "stderr",
       "text": [
        "INFO:workflow:Executing node _get_min_value9 in dir: /home/felice/workflow_folders/in_limbo_level2_felice_fsl/_threshold_2.9/get_min_value/mapflow/_get_min_value9\n"
       ]
      },
      {
       "output_type": "stream",
       "stream": "stderr",
       "text": [
        "INFO:workflow:Executing node _get_min_value10 in dir: /home/felice/workflow_folders/in_limbo_level2_felice_fsl/_threshold_2.9/get_min_value/mapflow/_get_min_value10\n"
       ]
      },
      {
       "output_type": "stream",
       "stream": "stderr",
       "text": [
        "INFO:workflow:Executing node _get_min_value11 in dir: /home/felice/workflow_folders/in_limbo_level2_felice_fsl/_threshold_2.9/get_min_value/mapflow/_get_min_value11\n"
       ]
      },
      {
       "output_type": "stream",
       "stream": "stderr",
       "text": [
        "INFO:workflow:Executing node _get_min_value12 in dir: /home/felice/workflow_folders/in_limbo_level2_felice_fsl/_threshold_2.9/get_min_value/mapflow/_get_min_value12\n"
       ]
      },
      {
       "output_type": "stream",
       "stream": "stderr",
       "text": [
        "INFO:workflow:Executing node _get_min_value13 in dir: /home/felice/workflow_folders/in_limbo_level2_felice_fsl/_threshold_2.9/get_min_value/mapflow/_get_min_value13\n"
       ]
      },
      {
       "output_type": "stream",
       "stream": "stderr",
       "text": [
        "INFO:workflow:Executing node _get_min_value14 in dir: /home/felice/workflow_folders/in_limbo_level2_felice_fsl/_threshold_2.9/get_min_value/mapflow/_get_min_value14\n"
       ]
      },
      {
       "output_type": "stream",
       "stream": "stderr",
       "text": [
        "INFO:workflow:Executing node _get_min_value15 in dir: /home/felice/workflow_folders/in_limbo_level2_felice_fsl/_threshold_2.9/get_min_value/mapflow/_get_min_value15\n"
       ]
      },
      {
       "output_type": "stream",
       "stream": "stderr",
       "text": [
        "INFO:workflow:Executing node subtract_from_cope.a3 in dir: /home/felice/workflow_folders/in_limbo_level2_felice_fsl/_threshold_2.9/subtract_from_cope\n"
       ]
      },
      {
       "output_type": "stream",
       "stream": "stderr",
       "text": [
        "INFO:workflow:Executing node _subtract_from_cope0 in dir: /home/felice/workflow_folders/in_limbo_level2_felice_fsl/_threshold_2.9/subtract_from_cope/mapflow/_subtract_from_cope0\n"
       ]
      },
      {
       "output_type": "stream",
       "stream": "stderr",
       "text": [
        "INFO:workflow:Executing node _subtract_from_cope1 in dir: /home/felice/workflow_folders/in_limbo_level2_felice_fsl/_threshold_2.9/subtract_from_cope/mapflow/_subtract_from_cope1\n"
       ]
      },
      {
       "output_type": "stream",
       "stream": "stderr",
       "text": [
        "INFO:workflow:Executing node _subtract_from_cope2 in dir: /home/felice/workflow_folders/in_limbo_level2_felice_fsl/_threshold_2.9/subtract_from_cope/mapflow/_subtract_from_cope2\n"
       ]
      },
      {
       "output_type": "stream",
       "stream": "stderr",
       "text": [
        "INFO:workflow:Executing node _subtract_from_cope3 in dir: /home/felice/workflow_folders/in_limbo_level2_felice_fsl/_threshold_2.9/subtract_from_cope/mapflow/_subtract_from_cope3\n"
       ]
      },
      {
       "output_type": "stream",
       "stream": "stderr",
       "text": [
        "INFO:workflow:Executing node _subtract_from_cope4 in dir: /home/felice/workflow_folders/in_limbo_level2_felice_fsl/_threshold_2.9/subtract_from_cope/mapflow/_subtract_from_cope4\n"
       ]
      },
      {
       "output_type": "stream",
       "stream": "stderr",
       "text": [
        "INFO:workflow:Executing node _subtract_from_cope5 in dir: /home/felice/workflow_folders/in_limbo_level2_felice_fsl/_threshold_2.9/subtract_from_cope/mapflow/_subtract_from_cope5\n"
       ]
      },
      {
       "output_type": "stream",
       "stream": "stderr",
       "text": [
        "INFO:workflow:Executing node _subtract_from_cope6 in dir: /home/felice/workflow_folders/in_limbo_level2_felice_fsl/_threshold_2.9/subtract_from_cope/mapflow/_subtract_from_cope6\n"
       ]
      },
      {
       "output_type": "stream",
       "stream": "stderr",
       "text": [
        "INFO:workflow:Executing node _subtract_from_cope7 in dir: /home/felice/workflow_folders/in_limbo_level2_felice_fsl/_threshold_2.9/subtract_from_cope/mapflow/_subtract_from_cope7\n"
       ]
      },
      {
       "output_type": "stream",
       "stream": "stderr",
       "text": [
        "INFO:workflow:Executing node _subtract_from_cope8 in dir: /home/felice/workflow_folders/in_limbo_level2_felice_fsl/_threshold_2.9/subtract_from_cope/mapflow/_subtract_from_cope8\n"
       ]
      },
      {
       "output_type": "stream",
       "stream": "stderr",
       "text": [
        "INFO:workflow:Executing node _subtract_from_cope9 in dir: /home/felice/workflow_folders/in_limbo_level2_felice_fsl/_threshold_2.9/subtract_from_cope/mapflow/_subtract_from_cope9\n"
       ]
      },
      {
       "output_type": "stream",
       "stream": "stderr",
       "text": [
        "INFO:workflow:Executing node _subtract_from_cope10 in dir: /home/felice/workflow_folders/in_limbo_level2_felice_fsl/_threshold_2.9/subtract_from_cope/mapflow/_subtract_from_cope10\n"
       ]
      },
      {
       "output_type": "stream",
       "stream": "stderr",
       "text": [
        "INFO:workflow:Executing node _subtract_from_cope11 in dir: /home/felice/workflow_folders/in_limbo_level2_felice_fsl/_threshold_2.9/subtract_from_cope/mapflow/_subtract_from_cope11\n"
       ]
      },
      {
       "output_type": "stream",
       "stream": "stderr",
       "text": [
        "INFO:workflow:Executing node _subtract_from_cope12 in dir: /home/felice/workflow_folders/in_limbo_level2_felice_fsl/_threshold_2.9/subtract_from_cope/mapflow/_subtract_from_cope12\n"
       ]
      },
      {
       "output_type": "stream",
       "stream": "stderr",
       "text": [
        "INFO:workflow:Executing node _subtract_from_cope13 in dir: /home/felice/workflow_folders/in_limbo_level2_felice_fsl/_threshold_2.9/subtract_from_cope/mapflow/_subtract_from_cope13\n"
       ]
      },
      {
       "output_type": "stream",
       "stream": "stderr",
       "text": [
        "INFO:workflow:Executing node _subtract_from_cope14 in dir: /home/felice/workflow_folders/in_limbo_level2_felice_fsl/_threshold_2.9/subtract_from_cope/mapflow/_subtract_from_cope14\n"
       ]
      },
      {
       "output_type": "stream",
       "stream": "stderr",
       "text": [
        "INFO:workflow:Executing node _subtract_from_cope15 in dir: /home/felice/workflow_folders/in_limbo_level2_felice_fsl/_threshold_2.9/subtract_from_cope/mapflow/_subtract_from_cope15\n"
       ]
      },
      {
       "output_type": "stream",
       "stream": "stderr",
       "text": [
        "INFO:workflow:Executing node copemerge.a3 in dir: /home/felice/workflow_folders/in_limbo_level2_felice_fsl/in_limbo_mixedfx/_threshold_2.9/copemerge\n"
       ]
      },
      {
       "output_type": "stream",
       "stream": "stderr",
       "text": [
        "INFO:workflow:Executing node _copemerge0 in dir: /home/felice/workflow_folders/in_limbo_level2_felice_fsl/in_limbo_mixedfx/_threshold_2.9/copemerge/mapflow/_copemerge0\n"
       ]
      },
      {
       "output_type": "stream",
       "stream": "stderr",
       "text": [
        "INFO:workflow:Running: fslmerge -t cope_in_limbo_merged.nii.gz /home/felice/workflow_folders/in_limbo_level2_felice_fsl/_threshold_2.9/subtract_from_cope/mapflow/_subtract_from_cope0/cope_in_limbo.nii.gz /home/felice/workflow_folders/in_limbo_level2_felice_fsl/_threshold_2.9/subtract_from_cope/mapflow/_subtract_from_cope1/cope_in_limbo.nii.gz /home/felice/workflow_folders/in_limbo_level2_felice_fsl/_threshold_2.9/subtract_from_cope/mapflow/_subtract_from_cope2/cope_in_limbo.nii.gz /home/felice/workflow_folders/in_limbo_level2_felice_fsl/_threshold_2.9/subtract_from_cope/mapflow/_subtract_from_cope3/cope_in_limbo.nii.gz /home/felice/workflow_folders/in_limbo_level2_felice_fsl/_threshold_2.9/subtract_from_cope/mapflow/_subtract_from_cope4/cope_in_limbo.nii.gz /home/felice/workflow_folders/in_limbo_level2_felice_fsl/_threshold_2.9/subtract_from_cope/mapflow/_subtract_from_cope5/cope_in_limbo.nii.gz /home/felice/workflow_folders/in_limbo_level2_felice_fsl/_threshold_2.9/subtract_from_cope/mapflow/_subtract_from_cope6/cope_in_limbo.nii.gz /home/felice/workflow_folders/in_limbo_level2_felice_fsl/_threshold_2.9/subtract_from_cope/mapflow/_subtract_from_cope7/cope_in_limbo.nii.gz /home/felice/workflow_folders/in_limbo_level2_felice_fsl/_threshold_2.9/subtract_from_cope/mapflow/_subtract_from_cope8/cope_in_limbo.nii.gz /home/felice/workflow_folders/in_limbo_level2_felice_fsl/_threshold_2.9/subtract_from_cope/mapflow/_subtract_from_cope9/cope_in_limbo.nii.gz /home/felice/workflow_folders/in_limbo_level2_felice_fsl/_threshold_2.9/subtract_from_cope/mapflow/_subtract_from_cope10/cope_in_limbo.nii.gz /home/felice/workflow_folders/in_limbo_level2_felice_fsl/_threshold_2.9/subtract_from_cope/mapflow/_subtract_from_cope11/cope_in_limbo.nii.gz /home/felice/workflow_folders/in_limbo_level2_felice_fsl/_threshold_2.9/subtract_from_cope/mapflow/_subtract_from_cope12/cope_in_limbo.nii.gz /home/felice/workflow_folders/in_limbo_level2_felice_fsl/_threshold_2.9/subtract_from_cope/mapflow/_subtract_from_cope13/cope_in_limbo.nii.gz /home/felice/workflow_folders/in_limbo_level2_felice_fsl/_threshold_2.9/subtract_from_cope/mapflow/_subtract_from_cope14/cope_in_limbo.nii.gz /home/felice/workflow_folders/in_limbo_level2_felice_fsl/_threshold_2.9/subtract_from_cope/mapflow/_subtract_from_cope15/cope_in_limbo.nii.gz\n"
       ]
      },
      {
       "output_type": "stream",
       "stream": "stderr",
       "text": [
        "INFO:workflow:Executing node gendofvolume.a3 in dir: /home/felice/workflow_folders/in_limbo_level2_felice_fsl/in_limbo_mixedfx/_threshold_2.9/gendofvolume\n"
       ]
      },
      {
       "output_type": "stream",
       "stream": "stderr",
       "text": [
        "INFO:workflow:Executing node flameo.a3 in dir: /home/felice/workflow_folders/in_limbo_level2_felice_fsl/in_limbo_mixedfx/_threshold_2.9/flameo\n"
       ]
      },
      {
       "output_type": "stream",
       "stream": "stderr",
       "text": [
        "INFO:workflow:Executing node _flameo0 in dir: /home/felice/workflow_folders/in_limbo_level2_felice_fsl/in_limbo_mixedfx/_threshold_2.9/flameo/mapflow/_flameo0\n"
       ]
      },
      {
       "output_type": "stream",
       "stream": "stderr",
       "text": [
        "INFO:workflow:Running: flameo --copefile=/home/felice/workflow_folders/in_limbo_level2_felice_fsl/in_limbo_mixedfx/_threshold_2.9/copemerge/mapflow/_copemerge0/cope_in_limbo_merged.nii.gz --covsplitfile=/home/felice/workflow_folders/in_limbo_level2_felice_fsl/in_limbo_mixedfx/l2model/design.grp --designfile=/home/felice/workflow_folders/in_limbo_level2_felice_fsl/in_limbo_mixedfx/l2model/design.mat --dofvarcopefile=/home/felice/workflow_folders/in_limbo_level2_felice_fsl/in_limbo_mixedfx/_threshold_2.9/gendofvolume/dof_file.nii.gz --ld=stats --maskfile=/usr/share/fsl/data/standard/MNI152_T1_2mm_brain_mask.nii.gz --runmode=fe --tcontrastsfile=/home/felice/workflow_folders/in_limbo_level2_felice_fsl/in_limbo_mixedfx/l2model/design.con --varcopefile=/home/felice/workflow_folders/in_limbo_level2_felice_fsl/in_limbo_mixedfx/varcopemerge/mapflow/_varcopemerge0/task001_varcope13_merged.nii.gz\n"
       ]
      },
      {
       "output_type": "stream",
       "stream": "stderr",
       "text": [
        "INFO:interface:stdout 2015-01-28T16:41:43.800714:Log directory is: stats\n"
       ]
      },
      {
       "output_type": "stream",
       "stream": "stderr",
       "text": [
        "INFO:interface:stdout 2015-01-28T16:41:43.801869:Setting up:\n"
       ]
      },
      {
       "output_type": "stream",
       "stream": "stderr",
       "text": [
        "INFO:interface:stdout 2015-01-28T16:41:44.979215:ntptsing=16.000000 \n"
       ]
      },
      {
       "output_type": "stream",
       "stream": "stderr",
       "text": [
        "INFO:interface:stdout 2015-01-28T16:41:44.979215:\n"
       ]
      },
      {
       "output_type": "stream",
       "stream": "stderr",
       "text": [
        "INFO:interface:stdout 2015-01-28T16:41:44.979215:evs_group=1.000000 \n"
       ]
      },
      {
       "output_type": "stream",
       "stream": "stderr",
       "text": [
        "INFO:interface:stdout 2015-01-28T16:41:44.979215:\n"
       ]
      },
      {
       "output_type": "stream",
       "stream": "stderr",
       "text": [
        "INFO:interface:stdout 2015-01-28T16:41:44.981273:No f contrasts\n"
       ]
      },
      {
       "output_type": "stream",
       "stream": "stderr",
       "text": [
        "INFO:interface:stdout 2015-01-28T16:41:45.096508:\n"
       ]
      },
      {
       "output_type": "stream",
       "stream": "stderr",
       "text": [
        "INFO:interface:stdout 2015-01-28T16:41:45.096508:WARNING: The passed in varcope file, /home/felice/workflow_folders/in_limbo_level2_felice_fsl/in_limbo_mixedfx/varcopemerge/mapflow/_varcopemerge0/task001_varcope13_merged.nii.gz, contains voxels inside the mask with zero (or negative) values. These voxels will be excluded from the analysis.\n"
       ]
      },
      {
       "output_type": "stream",
       "stream": "stderr",
       "text": [
        "INFO:interface:stdout 2015-01-28T16:41:45.108453:nevs=1\n"
       ]
      },
      {
       "output_type": "stream",
       "stream": "stderr",
       "text": [
        "INFO:interface:stdout 2015-01-28T16:41:45.108453:ntpts=16\n"
       ]
      },
      {
       "output_type": "stream",
       "stream": "stderr",
       "text": [
        "INFO:interface:stdout 2015-01-28T16:41:45.108453:ngs=1\n"
       ]
      },
      {
       "output_type": "stream",
       "stream": "stderr",
       "text": [
        "INFO:interface:stdout 2015-01-28T16:41:45.108453:nvoxels=39136\n"
       ]
      },
      {
       "output_type": "stream",
       "stream": "stderr",
       "text": [
        "INFO:interface:stdout 2015-01-28T16:41:45.156101:Running:\n"
       ]
      },
      {
       "output_type": "stream",
       "stream": "stderr",
       "text": [
        "INFO:interface:stdout 2015-01-28T16:41:45.156101:nmaskvoxels=39136\n"
       ]
      },
      {
       "output_type": "stream",
       "stream": "stderr",
       "text": [
        "INFO:interface:stdout 2015-01-28T16:41:45.827071: 1 2 3 4 5 6 7 8 9 10 11 12 13 14 15 16 17 18 19 20 21 22 23 24 25 26 27 28 29 30 31 32 33 34 35 36 37 38 39 40 41 42 43 44 45 46 47 48 49 50 51 52 53 54 55 56 57 58 59 60 61 62 63 64 65 66 67 68 69 70 71 72 73 74 75 76 77 78 79 80 81 82 83 84 85 86 87 88 89 90 91 92 93 94 95 96 97 98 99 100\n"
       ]
      },
      {
       "output_type": "stream",
       "stream": "stderr",
       "text": [
        "INFO:interface:stdout 2015-01-28T16:41:45.827071:Saving results\n"
       ]
      },
      {
       "output_type": "stream",
       "stream": "stderr",
       "text": [
        "INFO:interface:stdout 2015-01-28T16:41:47.489070:\n"
       ]
      },
      {
       "output_type": "stream",
       "stream": "stderr",
       "text": [
        "INFO:interface:stdout 2015-01-28T16:41:47.489070:Log directory was: stats\n"
       ]
      },
      {
       "output_type": "stream",
       "stream": "stderr",
       "text": [
        "INFO:workflow:Executing node in_limbo_mapper.a3 in dir: /home/felice/workflow_folders/in_limbo_level2_felice_fsl/_threshold_2.9/in_limbo_mapper\n"
       ]
      },
      {
       "output_type": "stream",
       "stream": "stderr",
       "text": [
        "INFO:workflow:Executing node datasink.a3 in dir: /home/felice/workflow_folders/in_limbo_level2_felice_fsl/_threshold_2.9/datasink\n"
       ]
      },
      {
       "output_type": "stream",
       "stream": "stderr",
       "text": [
        "INFO:workflow:Executing node get_comparison_voxel.a8 in dir: /home/felice/workflow_folders/in_limbo_level2_felice_fsl/_threshold_3.9/get_comparison_voxel\n"
       ]
      },
      {
       "output_type": "stream",
       "stream": "stderr",
       "text": [
        "INFO:workflow:Executing node get_min_value.a8 in dir: /home/felice/workflow_folders/in_limbo_level2_felice_fsl/_threshold_3.9/get_min_value\n"
       ]
      },
      {
       "output_type": "stream",
       "stream": "stderr",
       "text": [
        "INFO:workflow:Executing node _get_min_value0 in dir: /home/felice/workflow_folders/in_limbo_level2_felice_fsl/_threshold_3.9/get_min_value/mapflow/_get_min_value0\n"
       ]
      },
      {
       "output_type": "stream",
       "stream": "stderr",
       "text": [
        "INFO:workflow:Executing node _get_min_value1 in dir: /home/felice/workflow_folders/in_limbo_level2_felice_fsl/_threshold_3.9/get_min_value/mapflow/_get_min_value1\n"
       ]
      },
      {
       "output_type": "stream",
       "stream": "stderr",
       "text": [
        "INFO:workflow:Executing node _get_min_value2 in dir: /home/felice/workflow_folders/in_limbo_level2_felice_fsl/_threshold_3.9/get_min_value/mapflow/_get_min_value2\n"
       ]
      },
      {
       "output_type": "stream",
       "stream": "stderr",
       "text": [
        "INFO:workflow:Executing node _get_min_value3 in dir: /home/felice/workflow_folders/in_limbo_level2_felice_fsl/_threshold_3.9/get_min_value/mapflow/_get_min_value3\n"
       ]
      },
      {
       "output_type": "stream",
       "stream": "stderr",
       "text": [
        "INFO:workflow:Executing node _get_min_value4 in dir: /home/felice/workflow_folders/in_limbo_level2_felice_fsl/_threshold_3.9/get_min_value/mapflow/_get_min_value4\n"
       ]
      },
      {
       "output_type": "stream",
       "stream": "stderr",
       "text": [
        "INFO:workflow:Executing node _get_min_value5 in dir: /home/felice/workflow_folders/in_limbo_level2_felice_fsl/_threshold_3.9/get_min_value/mapflow/_get_min_value5\n"
       ]
      },
      {
       "output_type": "stream",
       "stream": "stderr",
       "text": [
        "INFO:workflow:Executing node _get_min_value6 in dir: /home/felice/workflow_folders/in_limbo_level2_felice_fsl/_threshold_3.9/get_min_value/mapflow/_get_min_value6\n"
       ]
      },
      {
       "output_type": "stream",
       "stream": "stderr",
       "text": [
        "INFO:workflow:Executing node _get_min_value7 in dir: /home/felice/workflow_folders/in_limbo_level2_felice_fsl/_threshold_3.9/get_min_value/mapflow/_get_min_value7\n"
       ]
      },
      {
       "output_type": "stream",
       "stream": "stderr",
       "text": [
        "INFO:workflow:Executing node _get_min_value8 in dir: /home/felice/workflow_folders/in_limbo_level2_felice_fsl/_threshold_3.9/get_min_value/mapflow/_get_min_value8\n"
       ]
      },
      {
       "output_type": "stream",
       "stream": "stderr",
       "text": [
        "INFO:workflow:Executing node _get_min_value9 in dir: /home/felice/workflow_folders/in_limbo_level2_felice_fsl/_threshold_3.9/get_min_value/mapflow/_get_min_value9\n"
       ]
      },
      {
       "output_type": "stream",
       "stream": "stderr",
       "text": [
        "INFO:workflow:Executing node _get_min_value10 in dir: /home/felice/workflow_folders/in_limbo_level2_felice_fsl/_threshold_3.9/get_min_value/mapflow/_get_min_value10\n"
       ]
      },
      {
       "output_type": "stream",
       "stream": "stderr",
       "text": [
        "INFO:workflow:Executing node _get_min_value11 in dir: /home/felice/workflow_folders/in_limbo_level2_felice_fsl/_threshold_3.9/get_min_value/mapflow/_get_min_value11\n"
       ]
      },
      {
       "output_type": "stream",
       "stream": "stderr",
       "text": [
        "INFO:workflow:Executing node _get_min_value12 in dir: /home/felice/workflow_folders/in_limbo_level2_felice_fsl/_threshold_3.9/get_min_value/mapflow/_get_min_value12\n"
       ]
      },
      {
       "output_type": "stream",
       "stream": "stderr",
       "text": [
        "INFO:workflow:Executing node _get_min_value13 in dir: /home/felice/workflow_folders/in_limbo_level2_felice_fsl/_threshold_3.9/get_min_value/mapflow/_get_min_value13\n"
       ]
      },
      {
       "output_type": "stream",
       "stream": "stderr",
       "text": [
        "INFO:workflow:Executing node _get_min_value14 in dir: /home/felice/workflow_folders/in_limbo_level2_felice_fsl/_threshold_3.9/get_min_value/mapflow/_get_min_value14\n"
       ]
      },
      {
       "output_type": "stream",
       "stream": "stderr",
       "text": [
        "INFO:workflow:Executing node _get_min_value15 in dir: /home/felice/workflow_folders/in_limbo_level2_felice_fsl/_threshold_3.9/get_min_value/mapflow/_get_min_value15\n"
       ]
      },
      {
       "output_type": "stream",
       "stream": "stderr",
       "text": [
        "INFO:workflow:Executing node subtract_from_cope.a8 in dir: /home/felice/workflow_folders/in_limbo_level2_felice_fsl/_threshold_3.9/subtract_from_cope\n"
       ]
      },
      {
       "output_type": "stream",
       "stream": "stderr",
       "text": [
        "INFO:workflow:Executing node _subtract_from_cope0 in dir: /home/felice/workflow_folders/in_limbo_level2_felice_fsl/_threshold_3.9/subtract_from_cope/mapflow/_subtract_from_cope0\n"
       ]
      },
      {
       "output_type": "stream",
       "stream": "stderr",
       "text": [
        "INFO:workflow:Executing node _subtract_from_cope1 in dir: /home/felice/workflow_folders/in_limbo_level2_felice_fsl/_threshold_3.9/subtract_from_cope/mapflow/_subtract_from_cope1\n"
       ]
      },
      {
       "output_type": "stream",
       "stream": "stderr",
       "text": [
        "INFO:workflow:Executing node _subtract_from_cope2 in dir: /home/felice/workflow_folders/in_limbo_level2_felice_fsl/_threshold_3.9/subtract_from_cope/mapflow/_subtract_from_cope2\n"
       ]
      },
      {
       "output_type": "stream",
       "stream": "stderr",
       "text": [
        "INFO:workflow:Executing node _subtract_from_cope3 in dir: /home/felice/workflow_folders/in_limbo_level2_felice_fsl/_threshold_3.9/subtract_from_cope/mapflow/_subtract_from_cope3\n"
       ]
      },
      {
       "output_type": "stream",
       "stream": "stderr",
       "text": [
        "INFO:workflow:Executing node _subtract_from_cope4 in dir: /home/felice/workflow_folders/in_limbo_level2_felice_fsl/_threshold_3.9/subtract_from_cope/mapflow/_subtract_from_cope4\n"
       ]
      },
      {
       "output_type": "stream",
       "stream": "stderr",
       "text": [
        "INFO:workflow:Executing node _subtract_from_cope5 in dir: /home/felice/workflow_folders/in_limbo_level2_felice_fsl/_threshold_3.9/subtract_from_cope/mapflow/_subtract_from_cope5\n"
       ]
      },
      {
       "output_type": "stream",
       "stream": "stderr",
       "text": [
        "INFO:workflow:Executing node _subtract_from_cope6 in dir: /home/felice/workflow_folders/in_limbo_level2_felice_fsl/_threshold_3.9/subtract_from_cope/mapflow/_subtract_from_cope6\n"
       ]
      },
      {
       "output_type": "stream",
       "stream": "stderr",
       "text": [
        "INFO:workflow:Executing node _subtract_from_cope7 in dir: /home/felice/workflow_folders/in_limbo_level2_felice_fsl/_threshold_3.9/subtract_from_cope/mapflow/_subtract_from_cope7\n"
       ]
      },
      {
       "output_type": "stream",
       "stream": "stderr",
       "text": [
        "INFO:workflow:Executing node _subtract_from_cope8 in dir: /home/felice/workflow_folders/in_limbo_level2_felice_fsl/_threshold_3.9/subtract_from_cope/mapflow/_subtract_from_cope8\n"
       ]
      },
      {
       "output_type": "stream",
       "stream": "stderr",
       "text": [
        "INFO:workflow:Executing node _subtract_from_cope9 in dir: /home/felice/workflow_folders/in_limbo_level2_felice_fsl/_threshold_3.9/subtract_from_cope/mapflow/_subtract_from_cope9\n"
       ]
      },
      {
       "output_type": "stream",
       "stream": "stderr",
       "text": [
        "INFO:workflow:Executing node _subtract_from_cope10 in dir: /home/felice/workflow_folders/in_limbo_level2_felice_fsl/_threshold_3.9/subtract_from_cope/mapflow/_subtract_from_cope10\n"
       ]
      },
      {
       "output_type": "stream",
       "stream": "stderr",
       "text": [
        "INFO:workflow:Executing node _subtract_from_cope11 in dir: /home/felice/workflow_folders/in_limbo_level2_felice_fsl/_threshold_3.9/subtract_from_cope/mapflow/_subtract_from_cope11\n"
       ]
      },
      {
       "output_type": "stream",
       "stream": "stderr",
       "text": [
        "INFO:workflow:Executing node _subtract_from_cope12 in dir: /home/felice/workflow_folders/in_limbo_level2_felice_fsl/_threshold_3.9/subtract_from_cope/mapflow/_subtract_from_cope12\n"
       ]
      },
      {
       "output_type": "stream",
       "stream": "stderr",
       "text": [
        "INFO:workflow:Executing node _subtract_from_cope13 in dir: /home/felice/workflow_folders/in_limbo_level2_felice_fsl/_threshold_3.9/subtract_from_cope/mapflow/_subtract_from_cope13\n"
       ]
      },
      {
       "output_type": "stream",
       "stream": "stderr",
       "text": [
        "INFO:workflow:Executing node _subtract_from_cope14 in dir: /home/felice/workflow_folders/in_limbo_level2_felice_fsl/_threshold_3.9/subtract_from_cope/mapflow/_subtract_from_cope14\n"
       ]
      },
      {
       "output_type": "stream",
       "stream": "stderr",
       "text": [
        "INFO:workflow:Executing node _subtract_from_cope15 in dir: /home/felice/workflow_folders/in_limbo_level2_felice_fsl/_threshold_3.9/subtract_from_cope/mapflow/_subtract_from_cope15\n"
       ]
      },
      {
       "output_type": "stream",
       "stream": "stderr",
       "text": [
        "INFO:workflow:Executing node copemerge.a8 in dir: /home/felice/workflow_folders/in_limbo_level2_felice_fsl/in_limbo_mixedfx/_threshold_3.9/copemerge\n"
       ]
      },
      {
       "output_type": "stream",
       "stream": "stderr",
       "text": [
        "INFO:workflow:Executing node _copemerge0 in dir: /home/felice/workflow_folders/in_limbo_level2_felice_fsl/in_limbo_mixedfx/_threshold_3.9/copemerge/mapflow/_copemerge0\n"
       ]
      },
      {
       "output_type": "stream",
       "stream": "stderr",
       "text": [
        "INFO:workflow:Running: fslmerge -t cope_in_limbo_merged.nii.gz /home/felice/workflow_folders/in_limbo_level2_felice_fsl/_threshold_3.9/subtract_from_cope/mapflow/_subtract_from_cope0/cope_in_limbo.nii.gz /home/felice/workflow_folders/in_limbo_level2_felice_fsl/_threshold_3.9/subtract_from_cope/mapflow/_subtract_from_cope1/cope_in_limbo.nii.gz /home/felice/workflow_folders/in_limbo_level2_felice_fsl/_threshold_3.9/subtract_from_cope/mapflow/_subtract_from_cope2/cope_in_limbo.nii.gz /home/felice/workflow_folders/in_limbo_level2_felice_fsl/_threshold_3.9/subtract_from_cope/mapflow/_subtract_from_cope3/cope_in_limbo.nii.gz /home/felice/workflow_folders/in_limbo_level2_felice_fsl/_threshold_3.9/subtract_from_cope/mapflow/_subtract_from_cope4/cope_in_limbo.nii.gz /home/felice/workflow_folders/in_limbo_level2_felice_fsl/_threshold_3.9/subtract_from_cope/mapflow/_subtract_from_cope5/cope_in_limbo.nii.gz /home/felice/workflow_folders/in_limbo_level2_felice_fsl/_threshold_3.9/subtract_from_cope/mapflow/_subtract_from_cope6/cope_in_limbo.nii.gz /home/felice/workflow_folders/in_limbo_level2_felice_fsl/_threshold_3.9/subtract_from_cope/mapflow/_subtract_from_cope7/cope_in_limbo.nii.gz /home/felice/workflow_folders/in_limbo_level2_felice_fsl/_threshold_3.9/subtract_from_cope/mapflow/_subtract_from_cope8/cope_in_limbo.nii.gz /home/felice/workflow_folders/in_limbo_level2_felice_fsl/_threshold_3.9/subtract_from_cope/mapflow/_subtract_from_cope9/cope_in_limbo.nii.gz /home/felice/workflow_folders/in_limbo_level2_felice_fsl/_threshold_3.9/subtract_from_cope/mapflow/_subtract_from_cope10/cope_in_limbo.nii.gz /home/felice/workflow_folders/in_limbo_level2_felice_fsl/_threshold_3.9/subtract_from_cope/mapflow/_subtract_from_cope11/cope_in_limbo.nii.gz /home/felice/workflow_folders/in_limbo_level2_felice_fsl/_threshold_3.9/subtract_from_cope/mapflow/_subtract_from_cope12/cope_in_limbo.nii.gz /home/felice/workflow_folders/in_limbo_level2_felice_fsl/_threshold_3.9/subtract_from_cope/mapflow/_subtract_from_cope13/cope_in_limbo.nii.gz /home/felice/workflow_folders/in_limbo_level2_felice_fsl/_threshold_3.9/subtract_from_cope/mapflow/_subtract_from_cope14/cope_in_limbo.nii.gz /home/felice/workflow_folders/in_limbo_level2_felice_fsl/_threshold_3.9/subtract_from_cope/mapflow/_subtract_from_cope15/cope_in_limbo.nii.gz\n"
       ]
      },
      {
       "output_type": "stream",
       "stream": "stderr",
       "text": [
        "INFO:workflow:Executing node get_comparison_voxel.a1 in dir: /home/felice/workflow_folders/in_limbo_level2_felice_fsl/_threshold_2.5/get_comparison_voxel\n"
       ]
      },
      {
       "output_type": "stream",
       "stream": "stderr",
       "text": [
        "INFO:workflow:Executing node get_min_value.a1 in dir: /home/felice/workflow_folders/in_limbo_level2_felice_fsl/_threshold_2.5/get_min_value\n"
       ]
      },
      {
       "output_type": "stream",
       "stream": "stderr",
       "text": [
        "INFO:workflow:Executing node _get_min_value0 in dir: /home/felice/workflow_folders/in_limbo_level2_felice_fsl/_threshold_2.5/get_min_value/mapflow/_get_min_value0\n"
       ]
      },
      {
       "output_type": "stream",
       "stream": "stderr",
       "text": [
        "INFO:workflow:Executing node _get_min_value1 in dir: /home/felice/workflow_folders/in_limbo_level2_felice_fsl/_threshold_2.5/get_min_value/mapflow/_get_min_value1\n"
       ]
      },
      {
       "output_type": "stream",
       "stream": "stderr",
       "text": [
        "INFO:workflow:Executing node _get_min_value2 in dir: /home/felice/workflow_folders/in_limbo_level2_felice_fsl/_threshold_2.5/get_min_value/mapflow/_get_min_value2\n"
       ]
      },
      {
       "output_type": "stream",
       "stream": "stderr",
       "text": [
        "INFO:workflow:Executing node _get_min_value3 in dir: /home/felice/workflow_folders/in_limbo_level2_felice_fsl/_threshold_2.5/get_min_value/mapflow/_get_min_value3\n"
       ]
      },
      {
       "output_type": "stream",
       "stream": "stderr",
       "text": [
        "INFO:workflow:Executing node _get_min_value4 in dir: /home/felice/workflow_folders/in_limbo_level2_felice_fsl/_threshold_2.5/get_min_value/mapflow/_get_min_value4\n"
       ]
      },
      {
       "output_type": "stream",
       "stream": "stderr",
       "text": [
        "INFO:workflow:Executing node _get_min_value5 in dir: /home/felice/workflow_folders/in_limbo_level2_felice_fsl/_threshold_2.5/get_min_value/mapflow/_get_min_value5\n"
       ]
      },
      {
       "output_type": "stream",
       "stream": "stderr",
       "text": [
        "INFO:workflow:Executing node _get_min_value6 in dir: /home/felice/workflow_folders/in_limbo_level2_felice_fsl/_threshold_2.5/get_min_value/mapflow/_get_min_value6\n"
       ]
      },
      {
       "output_type": "stream",
       "stream": "stderr",
       "text": [
        "INFO:workflow:Executing node _get_min_value7 in dir: /home/felice/workflow_folders/in_limbo_level2_felice_fsl/_threshold_2.5/get_min_value/mapflow/_get_min_value7\n"
       ]
      },
      {
       "output_type": "stream",
       "stream": "stderr",
       "text": [
        "INFO:workflow:Executing node _get_min_value8 in dir: /home/felice/workflow_folders/in_limbo_level2_felice_fsl/_threshold_2.5/get_min_value/mapflow/_get_min_value8\n"
       ]
      },
      {
       "output_type": "stream",
       "stream": "stderr",
       "text": [
        "INFO:workflow:Executing node _get_min_value9 in dir: /home/felice/workflow_folders/in_limbo_level2_felice_fsl/_threshold_2.5/get_min_value/mapflow/_get_min_value9\n"
       ]
      },
      {
       "output_type": "stream",
       "stream": "stderr",
       "text": [
        "INFO:workflow:Executing node _get_min_value10 in dir: /home/felice/workflow_folders/in_limbo_level2_felice_fsl/_threshold_2.5/get_min_value/mapflow/_get_min_value10\n"
       ]
      },
      {
       "output_type": "stream",
       "stream": "stderr",
       "text": [
        "INFO:workflow:Executing node _get_min_value11 in dir: /home/felice/workflow_folders/in_limbo_level2_felice_fsl/_threshold_2.5/get_min_value/mapflow/_get_min_value11\n"
       ]
      },
      {
       "output_type": "stream",
       "stream": "stderr",
       "text": [
        "INFO:workflow:Executing node _get_min_value12 in dir: /home/felice/workflow_folders/in_limbo_level2_felice_fsl/_threshold_2.5/get_min_value/mapflow/_get_min_value12\n"
       ]
      },
      {
       "output_type": "stream",
       "stream": "stderr",
       "text": [
        "INFO:workflow:Executing node _get_min_value13 in dir: /home/felice/workflow_folders/in_limbo_level2_felice_fsl/_threshold_2.5/get_min_value/mapflow/_get_min_value13\n"
       ]
      },
      {
       "output_type": "stream",
       "stream": "stderr",
       "text": [
        "INFO:workflow:Executing node _get_min_value14 in dir: /home/felice/workflow_folders/in_limbo_level2_felice_fsl/_threshold_2.5/get_min_value/mapflow/_get_min_value14\n"
       ]
      },
      {
       "output_type": "stream",
       "stream": "stderr",
       "text": [
        "INFO:workflow:Executing node _get_min_value15 in dir: /home/felice/workflow_folders/in_limbo_level2_felice_fsl/_threshold_2.5/get_min_value/mapflow/_get_min_value15\n"
       ]
      },
      {
       "output_type": "stream",
       "stream": "stderr",
       "text": [
        "INFO:workflow:Executing node subtract_from_cope.a1 in dir: /home/felice/workflow_folders/in_limbo_level2_felice_fsl/_threshold_2.5/subtract_from_cope\n"
       ]
      },
      {
       "output_type": "stream",
       "stream": "stderr",
       "text": [
        "INFO:workflow:Executing node _subtract_from_cope0 in dir: /home/felice/workflow_folders/in_limbo_level2_felice_fsl/_threshold_2.5/subtract_from_cope/mapflow/_subtract_from_cope0\n"
       ]
      },
      {
       "output_type": "stream",
       "stream": "stderr",
       "text": [
        "INFO:workflow:Executing node _subtract_from_cope1 in dir: /home/felice/workflow_folders/in_limbo_level2_felice_fsl/_threshold_2.5/subtract_from_cope/mapflow/_subtract_from_cope1\n"
       ]
      },
      {
       "output_type": "stream",
       "stream": "stderr",
       "text": [
        "INFO:workflow:Executing node _subtract_from_cope2 in dir: /home/felice/workflow_folders/in_limbo_level2_felice_fsl/_threshold_2.5/subtract_from_cope/mapflow/_subtract_from_cope2\n"
       ]
      },
      {
       "output_type": "stream",
       "stream": "stderr",
       "text": [
        "INFO:workflow:Executing node _subtract_from_cope3 in dir: /home/felice/workflow_folders/in_limbo_level2_felice_fsl/_threshold_2.5/subtract_from_cope/mapflow/_subtract_from_cope3\n"
       ]
      },
      {
       "output_type": "stream",
       "stream": "stderr",
       "text": [
        "INFO:workflow:Executing node _subtract_from_cope4 in dir: /home/felice/workflow_folders/in_limbo_level2_felice_fsl/_threshold_2.5/subtract_from_cope/mapflow/_subtract_from_cope4\n"
       ]
      },
      {
       "output_type": "stream",
       "stream": "stderr",
       "text": [
        "INFO:workflow:Executing node _subtract_from_cope5 in dir: /home/felice/workflow_folders/in_limbo_level2_felice_fsl/_threshold_2.5/subtract_from_cope/mapflow/_subtract_from_cope5\n"
       ]
      },
      {
       "output_type": "stream",
       "stream": "stderr",
       "text": [
        "INFO:workflow:Executing node _subtract_from_cope6 in dir: /home/felice/workflow_folders/in_limbo_level2_felice_fsl/_threshold_2.5/subtract_from_cope/mapflow/_subtract_from_cope6\n"
       ]
      },
      {
       "output_type": "stream",
       "stream": "stderr",
       "text": [
        "INFO:workflow:Executing node _subtract_from_cope7 in dir: /home/felice/workflow_folders/in_limbo_level2_felice_fsl/_threshold_2.5/subtract_from_cope/mapflow/_subtract_from_cope7\n"
       ]
      },
      {
       "output_type": "stream",
       "stream": "stderr",
       "text": [
        "INFO:workflow:Executing node _subtract_from_cope8 in dir: /home/felice/workflow_folders/in_limbo_level2_felice_fsl/_threshold_2.5/subtract_from_cope/mapflow/_subtract_from_cope8\n"
       ]
      },
      {
       "output_type": "stream",
       "stream": "stderr",
       "text": [
        "INFO:workflow:Executing node _subtract_from_cope9 in dir: /home/felice/workflow_folders/in_limbo_level2_felice_fsl/_threshold_2.5/subtract_from_cope/mapflow/_subtract_from_cope9\n"
       ]
      },
      {
       "output_type": "stream",
       "stream": "stderr",
       "text": [
        "INFO:workflow:Executing node _subtract_from_cope10 in dir: /home/felice/workflow_folders/in_limbo_level2_felice_fsl/_threshold_2.5/subtract_from_cope/mapflow/_subtract_from_cope10\n"
       ]
      },
      {
       "output_type": "stream",
       "stream": "stderr",
       "text": [
        "INFO:workflow:Executing node _subtract_from_cope11 in dir: /home/felice/workflow_folders/in_limbo_level2_felice_fsl/_threshold_2.5/subtract_from_cope/mapflow/_subtract_from_cope11\n"
       ]
      },
      {
       "output_type": "stream",
       "stream": "stderr",
       "text": [
        "INFO:workflow:Executing node _subtract_from_cope12 in dir: /home/felice/workflow_folders/in_limbo_level2_felice_fsl/_threshold_2.5/subtract_from_cope/mapflow/_subtract_from_cope12\n"
       ]
      },
      {
       "output_type": "stream",
       "stream": "stderr",
       "text": [
        "INFO:workflow:Executing node _subtract_from_cope13 in dir: /home/felice/workflow_folders/in_limbo_level2_felice_fsl/_threshold_2.5/subtract_from_cope/mapflow/_subtract_from_cope13\n"
       ]
      },
      {
       "output_type": "stream",
       "stream": "stderr",
       "text": [
        "INFO:workflow:Executing node _subtract_from_cope14 in dir: /home/felice/workflow_folders/in_limbo_level2_felice_fsl/_threshold_2.5/subtract_from_cope/mapflow/_subtract_from_cope14\n"
       ]
      },
      {
       "output_type": "stream",
       "stream": "stderr",
       "text": [
        "INFO:workflow:Executing node _subtract_from_cope15 in dir: /home/felice/workflow_folders/in_limbo_level2_felice_fsl/_threshold_2.5/subtract_from_cope/mapflow/_subtract_from_cope15\n"
       ]
      },
      {
       "output_type": "stream",
       "stream": "stderr",
       "text": [
        "INFO:workflow:Executing node copemerge.a1 in dir: /home/felice/workflow_folders/in_limbo_level2_felice_fsl/in_limbo_mixedfx/_threshold_2.5/copemerge\n"
       ]
      },
      {
       "output_type": "stream",
       "stream": "stderr",
       "text": [
        "INFO:workflow:Executing node _copemerge0 in dir: /home/felice/workflow_folders/in_limbo_level2_felice_fsl/in_limbo_mixedfx/_threshold_2.5/copemerge/mapflow/_copemerge0\n"
       ]
      },
      {
       "output_type": "stream",
       "stream": "stderr",
       "text": [
        "INFO:workflow:Running: fslmerge -t cope_in_limbo_merged.nii.gz /home/felice/workflow_folders/in_limbo_level2_felice_fsl/_threshold_2.5/subtract_from_cope/mapflow/_subtract_from_cope0/cope_in_limbo.nii.gz /home/felice/workflow_folders/in_limbo_level2_felice_fsl/_threshold_2.5/subtract_from_cope/mapflow/_subtract_from_cope1/cope_in_limbo.nii.gz /home/felice/workflow_folders/in_limbo_level2_felice_fsl/_threshold_2.5/subtract_from_cope/mapflow/_subtract_from_cope2/cope_in_limbo.nii.gz /home/felice/workflow_folders/in_limbo_level2_felice_fsl/_threshold_2.5/subtract_from_cope/mapflow/_subtract_from_cope3/cope_in_limbo.nii.gz /home/felice/workflow_folders/in_limbo_level2_felice_fsl/_threshold_2.5/subtract_from_cope/mapflow/_subtract_from_cope4/cope_in_limbo.nii.gz /home/felice/workflow_folders/in_limbo_level2_felice_fsl/_threshold_2.5/subtract_from_cope/mapflow/_subtract_from_cope5/cope_in_limbo.nii.gz /home/felice/workflow_folders/in_limbo_level2_felice_fsl/_threshold_2.5/subtract_from_cope/mapflow/_subtract_from_cope6/cope_in_limbo.nii.gz /home/felice/workflow_folders/in_limbo_level2_felice_fsl/_threshold_2.5/subtract_from_cope/mapflow/_subtract_from_cope7/cope_in_limbo.nii.gz /home/felice/workflow_folders/in_limbo_level2_felice_fsl/_threshold_2.5/subtract_from_cope/mapflow/_subtract_from_cope8/cope_in_limbo.nii.gz /home/felice/workflow_folders/in_limbo_level2_felice_fsl/_threshold_2.5/subtract_from_cope/mapflow/_subtract_from_cope9/cope_in_limbo.nii.gz /home/felice/workflow_folders/in_limbo_level2_felice_fsl/_threshold_2.5/subtract_from_cope/mapflow/_subtract_from_cope10/cope_in_limbo.nii.gz /home/felice/workflow_folders/in_limbo_level2_felice_fsl/_threshold_2.5/subtract_from_cope/mapflow/_subtract_from_cope11/cope_in_limbo.nii.gz /home/felice/workflow_folders/in_limbo_level2_felice_fsl/_threshold_2.5/subtract_from_cope/mapflow/_subtract_from_cope12/cope_in_limbo.nii.gz /home/felice/workflow_folders/in_limbo_level2_felice_fsl/_threshold_2.5/subtract_from_cope/mapflow/_subtract_from_cope13/cope_in_limbo.nii.gz /home/felice/workflow_folders/in_limbo_level2_felice_fsl/_threshold_2.5/subtract_from_cope/mapflow/_subtract_from_cope14/cope_in_limbo.nii.gz /home/felice/workflow_folders/in_limbo_level2_felice_fsl/_threshold_2.5/subtract_from_cope/mapflow/_subtract_from_cope15/cope_in_limbo.nii.gz\n"
       ]
      },
      {
       "output_type": "stream",
       "stream": "stderr",
       "text": [
        "INFO:workflow:Executing node gendofvolume.a1 in dir: /home/felice/workflow_folders/in_limbo_level2_felice_fsl/in_limbo_mixedfx/_threshold_2.5/gendofvolume\n"
       ]
      },
      {
       "output_type": "stream",
       "stream": "stderr",
       "text": [
        "INFO:workflow:Executing node flameo.a1 in dir: /home/felice/workflow_folders/in_limbo_level2_felice_fsl/in_limbo_mixedfx/_threshold_2.5/flameo\n"
       ]
      },
      {
       "output_type": "stream",
       "stream": "stderr",
       "text": [
        "INFO:workflow:Executing node _flameo0 in dir: /home/felice/workflow_folders/in_limbo_level2_felice_fsl/in_limbo_mixedfx/_threshold_2.5/flameo/mapflow/_flameo0\n"
       ]
      },
      {
       "output_type": "stream",
       "stream": "stderr",
       "text": [
        "INFO:workflow:Running: flameo --copefile=/home/felice/workflow_folders/in_limbo_level2_felice_fsl/in_limbo_mixedfx/_threshold_2.5/copemerge/mapflow/_copemerge0/cope_in_limbo_merged.nii.gz --covsplitfile=/home/felice/workflow_folders/in_limbo_level2_felice_fsl/in_limbo_mixedfx/l2model/design.grp --designfile=/home/felice/workflow_folders/in_limbo_level2_felice_fsl/in_limbo_mixedfx/l2model/design.mat --dofvarcopefile=/home/felice/workflow_folders/in_limbo_level2_felice_fsl/in_limbo_mixedfx/_threshold_2.5/gendofvolume/dof_file.nii.gz --ld=stats --maskfile=/usr/share/fsl/data/standard/MNI152_T1_2mm_brain_mask.nii.gz --runmode=fe --tcontrastsfile=/home/felice/workflow_folders/in_limbo_level2_felice_fsl/in_limbo_mixedfx/l2model/design.con --varcopefile=/home/felice/workflow_folders/in_limbo_level2_felice_fsl/in_limbo_mixedfx/varcopemerge/mapflow/_varcopemerge0/task001_varcope13_merged.nii.gz\n"
       ]
      },
      {
       "output_type": "stream",
       "stream": "stderr",
       "text": [
        "INFO:interface:stdout 2015-01-28T16:42:02.897910:Log directory is: stats\n"
       ]
      },
      {
       "output_type": "stream",
       "stream": "stderr",
       "text": [
        "INFO:interface:stdout 2015-01-28T16:42:02.899169:Setting up:\n"
       ]
      },
      {
       "output_type": "stream",
       "stream": "stderr",
       "text": [
        "INFO:interface:stdout 2015-01-28T16:42:04.033388:ntptsing=16.000000 \n"
       ]
      },
      {
       "output_type": "stream",
       "stream": "stderr",
       "text": [
        "INFO:interface:stdout 2015-01-28T16:42:04.033388:\n"
       ]
      },
      {
       "output_type": "stream",
       "stream": "stderr",
       "text": [
        "INFO:interface:stdout 2015-01-28T16:42:04.033388:evs_group=1.000000 \n"
       ]
      },
      {
       "output_type": "stream",
       "stream": "stderr",
       "text": [
        "INFO:interface:stdout 2015-01-28T16:42:04.033388:\n"
       ]
      },
      {
       "output_type": "stream",
       "stream": "stderr",
       "text": [
        "INFO:interface:stdout 2015-01-28T16:42:04.038445:No f contrasts\n"
       ]
      },
      {
       "output_type": "stream",
       "stream": "stderr",
       "text": [
        "INFO:interface:stdout 2015-01-28T16:42:04.107758:\n"
       ]
      },
      {
       "output_type": "stream",
       "stream": "stderr",
       "text": [
        "INFO:interface:stdout 2015-01-28T16:42:04.107758:WARNING: The passed in varcope file, /home/felice/workflow_folders/in_limbo_level2_felice_fsl/in_limbo_mixedfx/varcopemerge/mapflow/_varcopemerge0/task001_varcope13_merged.nii.gz, contains voxels inside the mask with zero (or negative) values. These voxels will be excluded from the analysis.\n"
       ]
      },
      {
       "output_type": "stream",
       "stream": "stderr",
       "text": [
        "INFO:interface:stdout 2015-01-28T16:42:04.116703:nevs=1\n"
       ]
      },
      {
       "output_type": "stream",
       "stream": "stderr",
       "text": [
        "INFO:interface:stdout 2015-01-28T16:42:04.116703:ntpts=16\n"
       ]
      },
      {
       "output_type": "stream",
       "stream": "stderr",
       "text": [
        "INFO:interface:stdout 2015-01-28T16:42:04.116703:ngs=1\n"
       ]
      },
      {
       "output_type": "stream",
       "stream": "stderr",
       "text": [
        "INFO:interface:stdout 2015-01-28T16:42:04.116703:nvoxels=39136\n"
       ]
      },
      {
       "output_type": "stream",
       "stream": "stderr",
       "text": [
        "INFO:interface:stdout 2015-01-28T16:42:04.152056:Running:\n"
       ]
      },
      {
       "output_type": "stream",
       "stream": "stderr",
       "text": [
        "INFO:interface:stdout 2015-01-28T16:42:04.152056:nmaskvoxels=39136\n"
       ]
      },
      {
       "output_type": "stream",
       "stream": "stderr",
       "text": [
        "INFO:interface:stdout 2015-01-28T16:42:04.683328: 1 2 3 4 5 6 7 8 9 10 11 12 13 14 15 16 17 18 19 20 21 22 23 24 25 26 27 28 29 30 31 32 33 34 35 36 37 38 39 40 41 42 43 44 45 46 47 48 49 50 51 52 53 54 55 56 57 58 59 60 61 62 63 64 65 66 67 68 69 70 71 72 73 74 75 76 77 78 79 80 81 82 83 84 85 86 87 88 89 90 91 92 93 94 95 96 97 98 99 100\n"
       ]
      },
      {
       "output_type": "stream",
       "stream": "stderr",
       "text": [
        "INFO:interface:stdout 2015-01-28T16:42:04.683328:Saving results\n"
       ]
      },
      {
       "output_type": "stream",
       "stream": "stderr",
       "text": [
        "INFO:interface:stdout 2015-01-28T16:42:06.690206:\n"
       ]
      },
      {
       "output_type": "stream",
       "stream": "stderr",
       "text": [
        "INFO:interface:stdout 2015-01-28T16:42:06.690206:Log directory was: stats\n"
       ]
      },
      {
       "output_type": "stream",
       "stream": "stderr",
       "text": [
        "INFO:workflow:Executing node in_limbo_mapper.a1 in dir: /home/felice/workflow_folders/in_limbo_level2_felice_fsl/_threshold_2.5/in_limbo_mapper\n"
       ]
      },
      {
       "output_type": "stream",
       "stream": "stderr",
       "text": [
        "INFO:workflow:Executing node datasink.a1 in dir: /home/felice/workflow_folders/in_limbo_level2_felice_fsl/_threshold_2.5/datasink\n"
       ]
      },
      {
       "output_type": "stream",
       "stream": "stderr",
       "text": [
        "INFO:workflow:Executing node subtract_from_cope.a9 in dir: /home/felice/workflow_folders/in_limbo_level2_felice_fsl/_threshold_4.1/subtract_from_cope\n"
       ]
      },
      {
       "output_type": "stream",
       "stream": "stderr",
       "text": [
        "INFO:workflow:Executing node _subtract_from_cope0 in dir: /home/felice/workflow_folders/in_limbo_level2_felice_fsl/_threshold_4.1/subtract_from_cope/mapflow/_subtract_from_cope0\n"
       ]
      },
      {
       "output_type": "stream",
       "stream": "stderr",
       "text": [
        "INFO:workflow:Executing node _subtract_from_cope1 in dir: /home/felice/workflow_folders/in_limbo_level2_felice_fsl/_threshold_4.1/subtract_from_cope/mapflow/_subtract_from_cope1\n"
       ]
      },
      {
       "output_type": "stream",
       "stream": "stderr",
       "text": [
        "INFO:workflow:Executing node _subtract_from_cope2 in dir: /home/felice/workflow_folders/in_limbo_level2_felice_fsl/_threshold_4.1/subtract_from_cope/mapflow/_subtract_from_cope2\n"
       ]
      },
      {
       "output_type": "stream",
       "stream": "stderr",
       "text": [
        "INFO:workflow:Executing node _subtract_from_cope3 in dir: /home/felice/workflow_folders/in_limbo_level2_felice_fsl/_threshold_4.1/subtract_from_cope/mapflow/_subtract_from_cope3\n"
       ]
      },
      {
       "output_type": "stream",
       "stream": "stderr",
       "text": [
        "INFO:workflow:Executing node _subtract_from_cope4 in dir: /home/felice/workflow_folders/in_limbo_level2_felice_fsl/_threshold_4.1/subtract_from_cope/mapflow/_subtract_from_cope4\n"
       ]
      },
      {
       "output_type": "stream",
       "stream": "stderr",
       "text": [
        "INFO:workflow:Executing node _subtract_from_cope5 in dir: /home/felice/workflow_folders/in_limbo_level2_felice_fsl/_threshold_4.1/subtract_from_cope/mapflow/_subtract_from_cope5\n"
       ]
      },
      {
       "output_type": "stream",
       "stream": "stderr",
       "text": [
        "INFO:workflow:Executing node _subtract_from_cope6 in dir: /home/felice/workflow_folders/in_limbo_level2_felice_fsl/_threshold_4.1/subtract_from_cope/mapflow/_subtract_from_cope6\n"
       ]
      },
      {
       "output_type": "stream",
       "stream": "stderr",
       "text": [
        "INFO:workflow:Executing node _subtract_from_cope7 in dir: /home/felice/workflow_folders/in_limbo_level2_felice_fsl/_threshold_4.1/subtract_from_cope/mapflow/_subtract_from_cope7\n"
       ]
      },
      {
       "output_type": "stream",
       "stream": "stderr",
       "text": [
        "INFO:workflow:Executing node _subtract_from_cope8 in dir: /home/felice/workflow_folders/in_limbo_level2_felice_fsl/_threshold_4.1/subtract_from_cope/mapflow/_subtract_from_cope8\n"
       ]
      },
      {
       "output_type": "stream",
       "stream": "stderr",
       "text": [
        "INFO:workflow:Executing node _subtract_from_cope9 in dir: /home/felice/workflow_folders/in_limbo_level2_felice_fsl/_threshold_4.1/subtract_from_cope/mapflow/_subtract_from_cope9\n"
       ]
      },
      {
       "output_type": "stream",
       "stream": "stderr",
       "text": [
        "INFO:workflow:Executing node _subtract_from_cope10 in dir: /home/felice/workflow_folders/in_limbo_level2_felice_fsl/_threshold_4.1/subtract_from_cope/mapflow/_subtract_from_cope10\n"
       ]
      },
      {
       "output_type": "stream",
       "stream": "stderr",
       "text": [
        "INFO:workflow:Executing node _subtract_from_cope11 in dir: /home/felice/workflow_folders/in_limbo_level2_felice_fsl/_threshold_4.1/subtract_from_cope/mapflow/_subtract_from_cope11\n"
       ]
      },
      {
       "output_type": "stream",
       "stream": "stderr",
       "text": [
        "INFO:workflow:Executing node _subtract_from_cope12 in dir: /home/felice/workflow_folders/in_limbo_level2_felice_fsl/_threshold_4.1/subtract_from_cope/mapflow/_subtract_from_cope12\n"
       ]
      },
      {
       "output_type": "stream",
       "stream": "stderr",
       "text": [
        "INFO:workflow:Executing node _subtract_from_cope13 in dir: /home/felice/workflow_folders/in_limbo_level2_felice_fsl/_threshold_4.1/subtract_from_cope/mapflow/_subtract_from_cope13\n"
       ]
      },
      {
       "output_type": "stream",
       "stream": "stderr",
       "text": [
        "INFO:workflow:Executing node _subtract_from_cope14 in dir: /home/felice/workflow_folders/in_limbo_level2_felice_fsl/_threshold_4.1/subtract_from_cope/mapflow/_subtract_from_cope14\n"
       ]
      },
      {
       "output_type": "stream",
       "stream": "stderr",
       "text": [
        "INFO:workflow:Executing node _subtract_from_cope15 in dir: /home/felice/workflow_folders/in_limbo_level2_felice_fsl/_threshold_4.1/subtract_from_cope/mapflow/_subtract_from_cope15\n"
       ]
      },
      {
       "output_type": "stream",
       "stream": "stderr",
       "text": [
        "INFO:workflow:Executing node gendofvolume.a8 in dir: /home/felice/workflow_folders/in_limbo_level2_felice_fsl/in_limbo_mixedfx/_threshold_3.9/gendofvolume\n"
       ]
      },
      {
       "output_type": "stream",
       "stream": "stderr",
       "text": [
        "INFO:workflow:Executing node flameo.a8 in dir: /home/felice/workflow_folders/in_limbo_level2_felice_fsl/in_limbo_mixedfx/_threshold_3.9/flameo\n"
       ]
      },
      {
       "output_type": "stream",
       "stream": "stderr",
       "text": [
        "INFO:workflow:Executing node _flameo0 in dir: /home/felice/workflow_folders/in_limbo_level2_felice_fsl/in_limbo_mixedfx/_threshold_3.9/flameo/mapflow/_flameo0\n"
       ]
      },
      {
       "output_type": "stream",
       "stream": "stderr",
       "text": [
        "INFO:workflow:Running: flameo --copefile=/home/felice/workflow_folders/in_limbo_level2_felice_fsl/in_limbo_mixedfx/_threshold_3.9/copemerge/mapflow/_copemerge0/cope_in_limbo_merged.nii.gz --covsplitfile=/home/felice/workflow_folders/in_limbo_level2_felice_fsl/in_limbo_mixedfx/l2model/design.grp --designfile=/home/felice/workflow_folders/in_limbo_level2_felice_fsl/in_limbo_mixedfx/l2model/design.mat --dofvarcopefile=/home/felice/workflow_folders/in_limbo_level2_felice_fsl/in_limbo_mixedfx/_threshold_3.9/gendofvolume/dof_file.nii.gz --ld=stats --maskfile=/usr/share/fsl/data/standard/MNI152_T1_2mm_brain_mask.nii.gz --runmode=fe --tcontrastsfile=/home/felice/workflow_folders/in_limbo_level2_felice_fsl/in_limbo_mixedfx/l2model/design.con --varcopefile=/home/felice/workflow_folders/in_limbo_level2_felice_fsl/in_limbo_mixedfx/varcopemerge/mapflow/_varcopemerge0/task001_varcope13_merged.nii.gz\n"
       ]
      },
      {
       "output_type": "stream",
       "stream": "stderr",
       "text": [
        "INFO:interface:stdout 2015-01-28T16:42:10.384705:Log directory is: stats\n"
       ]
      },
      {
       "output_type": "stream",
       "stream": "stderr",
       "text": [
        "INFO:interface:stdout 2015-01-28T16:42:10.385859:Setting up:\n"
       ]
      },
      {
       "output_type": "stream",
       "stream": "stderr",
       "text": [
        "INFO:interface:stdout 2015-01-28T16:42:11.477408:ntptsing=16.000000 \n"
       ]
      },
      {
       "output_type": "stream",
       "stream": "stderr",
       "text": [
        "INFO:interface:stdout 2015-01-28T16:42:11.477408:\n"
       ]
      },
      {
       "output_type": "stream",
       "stream": "stderr",
       "text": [
        "INFO:interface:stdout 2015-01-28T16:42:11.477408:evs_group=1.000000 \n"
       ]
      },
      {
       "output_type": "stream",
       "stream": "stderr",
       "text": [
        "INFO:interface:stdout 2015-01-28T16:42:11.477408:\n"
       ]
      },
      {
       "output_type": "stream",
       "stream": "stderr",
       "text": [
        "INFO:interface:stdout 2015-01-28T16:42:11.483387:No f contrasts\n"
       ]
      },
      {
       "output_type": "stream",
       "stream": "stderr",
       "text": [
        "INFO:interface:stdout 2015-01-28T16:42:11.540346:\n"
       ]
      },
      {
       "output_type": "stream",
       "stream": "stderr",
       "text": [
        "INFO:interface:stdout 2015-01-28T16:42:11.540346:WARNING: The passed in varcope file, /home/felice/workflow_folders/in_limbo_level2_felice_fsl/in_limbo_mixedfx/varcopemerge/mapflow/_varcopemerge0/task001_varcope13_merged.nii.gz, contains voxels inside the mask with zero (or negative) values. These voxels will be excluded from the analysis.\n"
       ]
      },
      {
       "output_type": "stream",
       "stream": "stderr",
       "text": [
        "INFO:interface:stdout 2015-01-28T16:42:11.549722:nevs=1\n"
       ]
      },
      {
       "output_type": "stream",
       "stream": "stderr",
       "text": [
        "INFO:interface:stdout 2015-01-28T16:42:11.549722:ntpts=16\n"
       ]
      },
      {
       "output_type": "stream",
       "stream": "stderr",
       "text": [
        "INFO:interface:stdout 2015-01-28T16:42:11.549722:ngs=1\n"
       ]
      },
      {
       "output_type": "stream",
       "stream": "stderr",
       "text": [
        "INFO:interface:stdout 2015-01-28T16:42:11.549722:nvoxels=39136\n"
       ]
      },
      {
       "output_type": "stream",
       "stream": "stderr",
       "text": [
        "INFO:interface:stdout 2015-01-28T16:42:11.586897:Running:\n"
       ]
      },
      {
       "output_type": "stream",
       "stream": "stderr",
       "text": [
        "INFO:interface:stdout 2015-01-28T16:42:11.586897:nmaskvoxels=39136\n"
       ]
      },
      {
       "output_type": "stream",
       "stream": "stderr",
       "text": [
        "INFO:interface:stdout 2015-01-28T16:42:12.100181: 1 2 3 4 5 6 7 8 9 10 11 12 13 14 15 16 17 18 19 20 21 22 23 24 25 26 27 28 29 30 31 32 33 34 35 36 37 38 39 40 41 42 43 44 45 46 47 48 49 50 51 52 53 54 55 56 57 58 59 60 61 62 63 64 65 66 67 68 69 70 71 72 73 74 75 76 77 78 79 80 81 82 83 84 85 86 87 88 89 90 91 92 93 94 95 96 97 98 99 100\n"
       ]
      },
      {
       "output_type": "stream",
       "stream": "stderr",
       "text": [
        "INFO:interface:stdout 2015-01-28T16:42:12.100181:Saving results\n"
       ]
      },
      {
       "output_type": "stream",
       "stream": "stderr",
       "text": [
        "INFO:interface:stdout 2015-01-28T16:42:13.991016:\n"
       ]
      },
      {
       "output_type": "stream",
       "stream": "stderr",
       "text": [
        "INFO:interface:stdout 2015-01-28T16:42:13.991016:Log directory was: stats\n"
       ]
      },
      {
       "output_type": "stream",
       "stream": "stderr",
       "text": [
        "INFO:workflow:Executing node in_limbo_mapper.a8 in dir: /home/felice/workflow_folders/in_limbo_level2_felice_fsl/_threshold_3.9/in_limbo_mapper\n"
       ]
      },
      {
       "output_type": "stream",
       "stream": "stderr",
       "text": [
        "INFO:workflow:Executing node datasink.a8 in dir: /home/felice/workflow_folders/in_limbo_level2_felice_fsl/_threshold_3.9/datasink\n"
       ]
      },
      {
       "output_type": "stream",
       "stream": "stderr",
       "text": [
        "INFO:workflow:Executing node get_comparison_voxel.a4 in dir: /home/felice/workflow_folders/in_limbo_level2_felice_fsl/_threshold_3.1/get_comparison_voxel\n"
       ]
      },
      {
       "output_type": "stream",
       "stream": "stderr",
       "text": [
        "INFO:workflow:Executing node get_min_value.a4 in dir: /home/felice/workflow_folders/in_limbo_level2_felice_fsl/_threshold_3.1/get_min_value\n"
       ]
      },
      {
       "output_type": "stream",
       "stream": "stderr",
       "text": [
        "INFO:workflow:Executing node _get_min_value0 in dir: /home/felice/workflow_folders/in_limbo_level2_felice_fsl/_threshold_3.1/get_min_value/mapflow/_get_min_value0\n"
       ]
      },
      {
       "output_type": "stream",
       "stream": "stderr",
       "text": [
        "INFO:workflow:Executing node _get_min_value1 in dir: /home/felice/workflow_folders/in_limbo_level2_felice_fsl/_threshold_3.1/get_min_value/mapflow/_get_min_value1\n"
       ]
      },
      {
       "output_type": "stream",
       "stream": "stderr",
       "text": [
        "INFO:workflow:Executing node _get_min_value2 in dir: /home/felice/workflow_folders/in_limbo_level2_felice_fsl/_threshold_3.1/get_min_value/mapflow/_get_min_value2\n"
       ]
      },
      {
       "output_type": "stream",
       "stream": "stderr",
       "text": [
        "INFO:workflow:Executing node _get_min_value3 in dir: /home/felice/workflow_folders/in_limbo_level2_felice_fsl/_threshold_3.1/get_min_value/mapflow/_get_min_value3\n"
       ]
      },
      {
       "output_type": "stream",
       "stream": "stderr",
       "text": [
        "INFO:workflow:Executing node _get_min_value4 in dir: /home/felice/workflow_folders/in_limbo_level2_felice_fsl/_threshold_3.1/get_min_value/mapflow/_get_min_value4\n"
       ]
      },
      {
       "output_type": "stream",
       "stream": "stderr",
       "text": [
        "INFO:workflow:Executing node _get_min_value5 in dir: /home/felice/workflow_folders/in_limbo_level2_felice_fsl/_threshold_3.1/get_min_value/mapflow/_get_min_value5\n"
       ]
      },
      {
       "output_type": "stream",
       "stream": "stderr",
       "text": [
        "INFO:workflow:Executing node _get_min_value6 in dir: /home/felice/workflow_folders/in_limbo_level2_felice_fsl/_threshold_3.1/get_min_value/mapflow/_get_min_value6\n"
       ]
      },
      {
       "output_type": "stream",
       "stream": "stderr",
       "text": [
        "INFO:workflow:Executing node _get_min_value7 in dir: /home/felice/workflow_folders/in_limbo_level2_felice_fsl/_threshold_3.1/get_min_value/mapflow/_get_min_value7\n"
       ]
      },
      {
       "output_type": "stream",
       "stream": "stderr",
       "text": [
        "INFO:workflow:Executing node _get_min_value8 in dir: /home/felice/workflow_folders/in_limbo_level2_felice_fsl/_threshold_3.1/get_min_value/mapflow/_get_min_value8\n"
       ]
      },
      {
       "output_type": "stream",
       "stream": "stderr",
       "text": [
        "INFO:workflow:Executing node _get_min_value9 in dir: /home/felice/workflow_folders/in_limbo_level2_felice_fsl/_threshold_3.1/get_min_value/mapflow/_get_min_value9\n"
       ]
      },
      {
       "output_type": "stream",
       "stream": "stderr",
       "text": [
        "INFO:workflow:Executing node _get_min_value10 in dir: /home/felice/workflow_folders/in_limbo_level2_felice_fsl/_threshold_3.1/get_min_value/mapflow/_get_min_value10\n"
       ]
      },
      {
       "output_type": "stream",
       "stream": "stderr",
       "text": [
        "INFO:workflow:Executing node _get_min_value11 in dir: /home/felice/workflow_folders/in_limbo_level2_felice_fsl/_threshold_3.1/get_min_value/mapflow/_get_min_value11\n"
       ]
      },
      {
       "output_type": "stream",
       "stream": "stderr",
       "text": [
        "INFO:workflow:Executing node _get_min_value12 in dir: /home/felice/workflow_folders/in_limbo_level2_felice_fsl/_threshold_3.1/get_min_value/mapflow/_get_min_value12\n"
       ]
      },
      {
       "output_type": "stream",
       "stream": "stderr",
       "text": [
        "INFO:workflow:Executing node _get_min_value13 in dir: /home/felice/workflow_folders/in_limbo_level2_felice_fsl/_threshold_3.1/get_min_value/mapflow/_get_min_value13\n"
       ]
      },
      {
       "output_type": "stream",
       "stream": "stderr",
       "text": [
        "INFO:workflow:Executing node _get_min_value14 in dir: /home/felice/workflow_folders/in_limbo_level2_felice_fsl/_threshold_3.1/get_min_value/mapflow/_get_min_value14\n"
       ]
      },
      {
       "output_type": "stream",
       "stream": "stderr",
       "text": [
        "INFO:workflow:Executing node _get_min_value15 in dir: /home/felice/workflow_folders/in_limbo_level2_felice_fsl/_threshold_3.1/get_min_value/mapflow/_get_min_value15\n"
       ]
      },
      {
       "output_type": "stream",
       "stream": "stderr",
       "text": [
        "INFO:workflow:Executing node subtract_from_cope.a4 in dir: /home/felice/workflow_folders/in_limbo_level2_felice_fsl/_threshold_3.1/subtract_from_cope\n"
       ]
      },
      {
       "output_type": "stream",
       "stream": "stderr",
       "text": [
        "INFO:workflow:Executing node _subtract_from_cope0 in dir: /home/felice/workflow_folders/in_limbo_level2_felice_fsl/_threshold_3.1/subtract_from_cope/mapflow/_subtract_from_cope0\n"
       ]
      },
      {
       "output_type": "stream",
       "stream": "stderr",
       "text": [
        "INFO:workflow:Executing node _subtract_from_cope1 in dir: /home/felice/workflow_folders/in_limbo_level2_felice_fsl/_threshold_3.1/subtract_from_cope/mapflow/_subtract_from_cope1\n"
       ]
      },
      {
       "output_type": "stream",
       "stream": "stderr",
       "text": [
        "INFO:workflow:Executing node _subtract_from_cope2 in dir: /home/felice/workflow_folders/in_limbo_level2_felice_fsl/_threshold_3.1/subtract_from_cope/mapflow/_subtract_from_cope2\n"
       ]
      },
      {
       "output_type": "stream",
       "stream": "stderr",
       "text": [
        "INFO:workflow:Executing node _subtract_from_cope3 in dir: /home/felice/workflow_folders/in_limbo_level2_felice_fsl/_threshold_3.1/subtract_from_cope/mapflow/_subtract_from_cope3\n"
       ]
      },
      {
       "output_type": "stream",
       "stream": "stderr",
       "text": [
        "INFO:workflow:Executing node _subtract_from_cope4 in dir: /home/felice/workflow_folders/in_limbo_level2_felice_fsl/_threshold_3.1/subtract_from_cope/mapflow/_subtract_from_cope4\n"
       ]
      },
      {
       "output_type": "stream",
       "stream": "stderr",
       "text": [
        "INFO:workflow:Executing node _subtract_from_cope5 in dir: /home/felice/workflow_folders/in_limbo_level2_felice_fsl/_threshold_3.1/subtract_from_cope/mapflow/_subtract_from_cope5\n"
       ]
      },
      {
       "output_type": "stream",
       "stream": "stderr",
       "text": [
        "INFO:workflow:Executing node _subtract_from_cope6 in dir: /home/felice/workflow_folders/in_limbo_level2_felice_fsl/_threshold_3.1/subtract_from_cope/mapflow/_subtract_from_cope6\n"
       ]
      },
      {
       "output_type": "stream",
       "stream": "stderr",
       "text": [
        "INFO:workflow:Executing node _subtract_from_cope7 in dir: /home/felice/workflow_folders/in_limbo_level2_felice_fsl/_threshold_3.1/subtract_from_cope/mapflow/_subtract_from_cope7\n"
       ]
      },
      {
       "output_type": "stream",
       "stream": "stderr",
       "text": [
        "INFO:workflow:Executing node _subtract_from_cope8 in dir: /home/felice/workflow_folders/in_limbo_level2_felice_fsl/_threshold_3.1/subtract_from_cope/mapflow/_subtract_from_cope8\n"
       ]
      },
      {
       "output_type": "stream",
       "stream": "stderr",
       "text": [
        "INFO:workflow:Executing node _subtract_from_cope9 in dir: /home/felice/workflow_folders/in_limbo_level2_felice_fsl/_threshold_3.1/subtract_from_cope/mapflow/_subtract_from_cope9\n"
       ]
      },
      {
       "output_type": "stream",
       "stream": "stderr",
       "text": [
        "INFO:workflow:Executing node _subtract_from_cope10 in dir: /home/felice/workflow_folders/in_limbo_level2_felice_fsl/_threshold_3.1/subtract_from_cope/mapflow/_subtract_from_cope10\n"
       ]
      },
      {
       "output_type": "stream",
       "stream": "stderr",
       "text": [
        "INFO:workflow:Executing node _subtract_from_cope11 in dir: /home/felice/workflow_folders/in_limbo_level2_felice_fsl/_threshold_3.1/subtract_from_cope/mapflow/_subtract_from_cope11\n"
       ]
      },
      {
       "output_type": "stream",
       "stream": "stderr",
       "text": [
        "INFO:workflow:Executing node _subtract_from_cope12 in dir: /home/felice/workflow_folders/in_limbo_level2_felice_fsl/_threshold_3.1/subtract_from_cope/mapflow/_subtract_from_cope12\n"
       ]
      },
      {
       "output_type": "stream",
       "stream": "stderr",
       "text": [
        "INFO:workflow:Executing node _subtract_from_cope13 in dir: /home/felice/workflow_folders/in_limbo_level2_felice_fsl/_threshold_3.1/subtract_from_cope/mapflow/_subtract_from_cope13\n"
       ]
      },
      {
       "output_type": "stream",
       "stream": "stderr",
       "text": [
        "INFO:workflow:Executing node _subtract_from_cope14 in dir: /home/felice/workflow_folders/in_limbo_level2_felice_fsl/_threshold_3.1/subtract_from_cope/mapflow/_subtract_from_cope14\n"
       ]
      },
      {
       "output_type": "stream",
       "stream": "stderr",
       "text": [
        "INFO:workflow:Executing node _subtract_from_cope15 in dir: /home/felice/workflow_folders/in_limbo_level2_felice_fsl/_threshold_3.1/subtract_from_cope/mapflow/_subtract_from_cope15\n"
       ]
      },
      {
       "output_type": "stream",
       "stream": "stderr",
       "text": [
        "INFO:workflow:Executing node copemerge.a4 in dir: /home/felice/workflow_folders/in_limbo_level2_felice_fsl/in_limbo_mixedfx/_threshold_3.1/copemerge\n"
       ]
      },
      {
       "output_type": "stream",
       "stream": "stderr",
       "text": [
        "INFO:workflow:Executing node _copemerge0 in dir: /home/felice/workflow_folders/in_limbo_level2_felice_fsl/in_limbo_mixedfx/_threshold_3.1/copemerge/mapflow/_copemerge0\n"
       ]
      },
      {
       "output_type": "stream",
       "stream": "stderr",
       "text": [
        "INFO:workflow:Running: fslmerge -t cope_in_limbo_merged.nii.gz /home/felice/workflow_folders/in_limbo_level2_felice_fsl/_threshold_3.1/subtract_from_cope/mapflow/_subtract_from_cope0/cope_in_limbo.nii.gz /home/felice/workflow_folders/in_limbo_level2_felice_fsl/_threshold_3.1/subtract_from_cope/mapflow/_subtract_from_cope1/cope_in_limbo.nii.gz /home/felice/workflow_folders/in_limbo_level2_felice_fsl/_threshold_3.1/subtract_from_cope/mapflow/_subtract_from_cope2/cope_in_limbo.nii.gz /home/felice/workflow_folders/in_limbo_level2_felice_fsl/_threshold_3.1/subtract_from_cope/mapflow/_subtract_from_cope3/cope_in_limbo.nii.gz /home/felice/workflow_folders/in_limbo_level2_felice_fsl/_threshold_3.1/subtract_from_cope/mapflow/_subtract_from_cope4/cope_in_limbo.nii.gz /home/felice/workflow_folders/in_limbo_level2_felice_fsl/_threshold_3.1/subtract_from_cope/mapflow/_subtract_from_cope5/cope_in_limbo.nii.gz /home/felice/workflow_folders/in_limbo_level2_felice_fsl/_threshold_3.1/subtract_from_cope/mapflow/_subtract_from_cope6/cope_in_limbo.nii.gz /home/felice/workflow_folders/in_limbo_level2_felice_fsl/_threshold_3.1/subtract_from_cope/mapflow/_subtract_from_cope7/cope_in_limbo.nii.gz /home/felice/workflow_folders/in_limbo_level2_felice_fsl/_threshold_3.1/subtract_from_cope/mapflow/_subtract_from_cope8/cope_in_limbo.nii.gz /home/felice/workflow_folders/in_limbo_level2_felice_fsl/_threshold_3.1/subtract_from_cope/mapflow/_subtract_from_cope9/cope_in_limbo.nii.gz /home/felice/workflow_folders/in_limbo_level2_felice_fsl/_threshold_3.1/subtract_from_cope/mapflow/_subtract_from_cope10/cope_in_limbo.nii.gz /home/felice/workflow_folders/in_limbo_level2_felice_fsl/_threshold_3.1/subtract_from_cope/mapflow/_subtract_from_cope11/cope_in_limbo.nii.gz /home/felice/workflow_folders/in_limbo_level2_felice_fsl/_threshold_3.1/subtract_from_cope/mapflow/_subtract_from_cope12/cope_in_limbo.nii.gz /home/felice/workflow_folders/in_limbo_level2_felice_fsl/_threshold_3.1/subtract_from_cope/mapflow/_subtract_from_cope13/cope_in_limbo.nii.gz /home/felice/workflow_folders/in_limbo_level2_felice_fsl/_threshold_3.1/subtract_from_cope/mapflow/_subtract_from_cope14/cope_in_limbo.nii.gz /home/felice/workflow_folders/in_limbo_level2_felice_fsl/_threshold_3.1/subtract_from_cope/mapflow/_subtract_from_cope15/cope_in_limbo.nii.gz\n"
       ]
      },
      {
       "output_type": "stream",
       "stream": "stderr",
       "text": [
        "INFO:workflow:Executing node gendofvolume.a4 in dir: /home/felice/workflow_folders/in_limbo_level2_felice_fsl/in_limbo_mixedfx/_threshold_3.1/gendofvolume\n"
       ]
      },
      {
       "output_type": "stream",
       "stream": "stderr",
       "text": [
        "INFO:workflow:Executing node flameo.a4 in dir: /home/felice/workflow_folders/in_limbo_level2_felice_fsl/in_limbo_mixedfx/_threshold_3.1/flameo\n"
       ]
      },
      {
       "output_type": "stream",
       "stream": "stderr",
       "text": [
        "INFO:workflow:Executing node _flameo0 in dir: /home/felice/workflow_folders/in_limbo_level2_felice_fsl/in_limbo_mixedfx/_threshold_3.1/flameo/mapflow/_flameo0\n"
       ]
      },
      {
       "output_type": "stream",
       "stream": "stderr",
       "text": [
        "INFO:workflow:Running: flameo --copefile=/home/felice/workflow_folders/in_limbo_level2_felice_fsl/in_limbo_mixedfx/_threshold_3.1/copemerge/mapflow/_copemerge0/cope_in_limbo_merged.nii.gz --covsplitfile=/home/felice/workflow_folders/in_limbo_level2_felice_fsl/in_limbo_mixedfx/l2model/design.grp --designfile=/home/felice/workflow_folders/in_limbo_level2_felice_fsl/in_limbo_mixedfx/l2model/design.mat --dofvarcopefile=/home/felice/workflow_folders/in_limbo_level2_felice_fsl/in_limbo_mixedfx/_threshold_3.1/gendofvolume/dof_file.nii.gz --ld=stats --maskfile=/usr/share/fsl/data/standard/MNI152_T1_2mm_brain_mask.nii.gz --runmode=fe --tcontrastsfile=/home/felice/workflow_folders/in_limbo_level2_felice_fsl/in_limbo_mixedfx/l2model/design.con --varcopefile=/home/felice/workflow_folders/in_limbo_level2_felice_fsl/in_limbo_mixedfx/varcopemerge/mapflow/_varcopemerge0/task001_varcope13_merged.nii.gz\n"
       ]
      },
      {
       "output_type": "stream",
       "stream": "stderr",
       "text": [
        "INFO:interface:stdout 2015-01-28T16:42:21.934161:Log directory is: stats\n"
       ]
      },
      {
       "output_type": "stream",
       "stream": "stderr",
       "text": [
        "INFO:interface:stdout 2015-01-28T16:42:21.936230:Setting up:\n"
       ]
      },
      {
       "output_type": "stream",
       "stream": "stderr",
       "text": [
        "INFO:interface:stdout 2015-01-28T16:42:23.099810:ntptsing=16.000000 \n"
       ]
      },
      {
       "output_type": "stream",
       "stream": "stderr",
       "text": [
        "INFO:interface:stdout 2015-01-28T16:42:23.099810:\n"
       ]
      },
      {
       "output_type": "stream",
       "stream": "stderr",
       "text": [
        "INFO:interface:stdout 2015-01-28T16:42:23.099810:evs_group=1.000000 \n"
       ]
      },
      {
       "output_type": "stream",
       "stream": "stderr",
       "text": [
        "INFO:interface:stdout 2015-01-28T16:42:23.099810:\n"
       ]
      },
      {
       "output_type": "stream",
       "stream": "stderr",
       "text": [
        "INFO:interface:stdout 2015-01-28T16:42:23.101920:No f contrasts\n"
       ]
      },
      {
       "output_type": "stream",
       "stream": "stderr",
       "text": [
        "INFO:interface:stdout 2015-01-28T16:42:23.199076:\n"
       ]
      },
      {
       "output_type": "stream",
       "stream": "stderr",
       "text": [
        "INFO:interface:stdout 2015-01-28T16:42:23.199076:WARNING: The passed in varcope file, /home/felice/workflow_folders/in_limbo_level2_felice_fsl/in_limbo_mixedfx/varcopemerge/mapflow/_varcopemerge0/task001_varcope13_merged.nii.gz, contains voxels inside the mask with zero (or negative) values. These voxels will be excluded from the analysis.\n"
       ]
      },
      {
       "output_type": "stream",
       "stream": "stderr",
       "text": [
        "INFO:interface:stdout 2015-01-28T16:42:23.210226:nevs=1\n"
       ]
      },
      {
       "output_type": "stream",
       "stream": "stderr",
       "text": [
        "INFO:interface:stdout 2015-01-28T16:42:23.210226:ntpts=16\n"
       ]
      },
      {
       "output_type": "stream",
       "stream": "stderr",
       "text": [
        "INFO:interface:stdout 2015-01-28T16:42:23.210226:ngs=1\n"
       ]
      },
      {
       "output_type": "stream",
       "stream": "stderr",
       "text": [
        "INFO:interface:stdout 2015-01-28T16:42:23.210226:nvoxels=39136\n"
       ]
      },
      {
       "output_type": "stream",
       "stream": "stderr",
       "text": [
        "INFO:interface:stdout 2015-01-28T16:42:23.250729:Running:\n"
       ]
      },
      {
       "output_type": "stream",
       "stream": "stderr",
       "text": [
        "INFO:interface:stdout 2015-01-28T16:42:23.250729:nmaskvoxels=39136\n"
       ]
      },
      {
       "output_type": "stream",
       "stream": "stderr",
       "text": [
        "INFO:interface:stdout 2015-01-28T16:42:23.817894: 1 2 3 4 5 6 7 8 9 10 11 12 13 14 15 16 17 18 19 20 21 22 23 24 25 26 27 28 29 30 31 32 33 34 35 36 37 38 39 40 41 42 43 44 45 46 47 48 49 50 51 52 53 54 55 56 57 58 59 60 61 62 63 64 65 66 67 68 69 70 71 72 73 74 75 76 77 78 79 80 81 82 83 84 85 86 87 88 89 90 91 92 93 94 95 96 97 98 99 100\n"
       ]
      },
      {
       "output_type": "stream",
       "stream": "stderr",
       "text": [
        "INFO:interface:stdout 2015-01-28T16:42:23.817894:Saving results\n"
       ]
      },
      {
       "output_type": "stream",
       "stream": "stderr",
       "text": [
        "INFO:interface:stdout 2015-01-28T16:42:25.769125:\n"
       ]
      },
      {
       "output_type": "stream",
       "stream": "stderr",
       "text": [
        "INFO:interface:stdout 2015-01-28T16:42:25.769125:Log directory was: stats\n"
       ]
      },
      {
       "output_type": "stream",
       "stream": "stderr",
       "text": [
        "INFO:workflow:Executing node in_limbo_mapper.a4 in dir: /home/felice/workflow_folders/in_limbo_level2_felice_fsl/_threshold_3.1/in_limbo_mapper\n"
       ]
      },
      {
       "output_type": "stream",
       "stream": "stderr",
       "text": [
        "INFO:workflow:Executing node datasink.a4 in dir: /home/felice/workflow_folders/in_limbo_level2_felice_fsl/_threshold_3.1/datasink\n"
       ]
      },
      {
       "output_type": "stream",
       "stream": "stderr",
       "text": [
        "INFO:workflow:Executing node gendofvolume.a7 in dir: /home/felice/workflow_folders/in_limbo_level2_felice_fsl/in_limbo_mixedfx/_threshold_3.7/gendofvolume\n"
       ]
      },
      {
       "output_type": "stream",
       "stream": "stderr",
       "text": [
        "INFO:workflow:Executing node flameo.a7 in dir: /home/felice/workflow_folders/in_limbo_level2_felice_fsl/in_limbo_mixedfx/_threshold_3.7/flameo\n"
       ]
      },
      {
       "output_type": "stream",
       "stream": "stderr",
       "text": [
        "INFO:workflow:Executing node _flameo0 in dir: /home/felice/workflow_folders/in_limbo_level2_felice_fsl/in_limbo_mixedfx/_threshold_3.7/flameo/mapflow/_flameo0\n"
       ]
      },
      {
       "output_type": "stream",
       "stream": "stderr",
       "text": [
        "INFO:workflow:Running: flameo --copefile=/home/felice/workflow_folders/in_limbo_level2_felice_fsl/in_limbo_mixedfx/_threshold_3.7/copemerge/mapflow/_copemerge0/cope_in_limbo_merged.nii.gz --covsplitfile=/home/felice/workflow_folders/in_limbo_level2_felice_fsl/in_limbo_mixedfx/l2model/design.grp --designfile=/home/felice/workflow_folders/in_limbo_level2_felice_fsl/in_limbo_mixedfx/l2model/design.mat --dofvarcopefile=/home/felice/workflow_folders/in_limbo_level2_felice_fsl/in_limbo_mixedfx/_threshold_3.7/gendofvolume/dof_file.nii.gz --ld=stats --maskfile=/usr/share/fsl/data/standard/MNI152_T1_2mm_brain_mask.nii.gz --runmode=fe --tcontrastsfile=/home/felice/workflow_folders/in_limbo_level2_felice_fsl/in_limbo_mixedfx/l2model/design.con --varcopefile=/home/felice/workflow_folders/in_limbo_level2_felice_fsl/in_limbo_mixedfx/varcopemerge/mapflow/_varcopemerge0/task001_varcope13_merged.nii.gz\n"
       ]
      },
      {
       "output_type": "stream",
       "stream": "stderr",
       "text": [
        "INFO:interface:stdout 2015-01-28T16:42:26.814636:Log directory is: stats\n"
       ]
      },
      {
       "output_type": "stream",
       "stream": "stderr",
       "text": [
        "INFO:interface:stdout 2015-01-28T16:42:26.815940:Setting up:\n"
       ]
      },
      {
       "output_type": "stream",
       "stream": "stderr",
       "text": [
        "INFO:interface:stdout 2015-01-28T16:42:27.929285:ntptsing=16.000000 \n"
       ]
      },
      {
       "output_type": "stream",
       "stream": "stderr",
       "text": [
        "INFO:interface:stdout 2015-01-28T16:42:27.929285:\n"
       ]
      },
      {
       "output_type": "stream",
       "stream": "stderr",
       "text": [
        "INFO:interface:stdout 2015-01-28T16:42:27.929285:evs_group=1.000000 \n"
       ]
      },
      {
       "output_type": "stream",
       "stream": "stderr",
       "text": [
        "INFO:interface:stdout 2015-01-28T16:42:27.929285:\n"
       ]
      },
      {
       "output_type": "stream",
       "stream": "stderr",
       "text": [
        "INFO:interface:stdout 2015-01-28T16:42:27.931212:No f contrasts\n"
       ]
      },
      {
       "output_type": "stream",
       "stream": "stderr",
       "text": [
        "INFO:interface:stdout 2015-01-28T16:42:27.996444:\n"
       ]
      },
      {
       "output_type": "stream",
       "stream": "stderr",
       "text": [
        "INFO:interface:stdout 2015-01-28T16:42:27.996444:WARNING: The passed in varcope file, /home/felice/workflow_folders/in_limbo_level2_felice_fsl/in_limbo_mixedfx/varcopemerge/mapflow/_varcopemerge0/task001_varcope13_merged.nii.gz, contains voxels inside the mask with zero (or negative) values. These voxels will be excluded from the analysis.\n"
       ]
      },
      {
       "output_type": "stream",
       "stream": "stderr",
       "text": [
        "INFO:interface:stdout 2015-01-28T16:42:28.005095:nevs=1\n"
       ]
      },
      {
       "output_type": "stream",
       "stream": "stderr",
       "text": [
        "INFO:interface:stdout 2015-01-28T16:42:28.005095:ntpts=16\n"
       ]
      },
      {
       "output_type": "stream",
       "stream": "stderr",
       "text": [
        "INFO:interface:stdout 2015-01-28T16:42:28.005095:ngs=1\n"
       ]
      },
      {
       "output_type": "stream",
       "stream": "stderr",
       "text": [
        "INFO:interface:stdout 2015-01-28T16:42:28.005095:nvoxels=39136\n"
       ]
      },
      {
       "output_type": "stream",
       "stream": "stderr",
       "text": [
        "INFO:interface:stdout 2015-01-28T16:42:28.039328:Running:\n"
       ]
      },
      {
       "output_type": "stream",
       "stream": "stderr",
       "text": [
        "INFO:interface:stdout 2015-01-28T16:42:28.039328:nmaskvoxels=39136\n"
       ]
      },
      {
       "output_type": "stream",
       "stream": "stderr",
       "text": [
        "INFO:interface:stdout 2015-01-28T16:42:28.392631: 1 2 3 4 5 6 7 8 9 10 11 12 13 14 15 16 17 18 19 20 21 22 23 24 25 26 27 28 29 30 31 32 33 34 35 36 37 38 39 40 41 42 43 44 45 46 47 48 49 50 51 52 53 54 55 56 57 58 59 60 61 62 63 64 65 66 67 68 69 70 71 72 73 74 75 76 77 78 79 80 81 82 83 84 85 86 87 88 89 90 91 92 93 94 95 96 97 98 99 100\n"
       ]
      },
      {
       "output_type": "stream",
       "stream": "stderr",
       "text": [
        "INFO:interface:stdout 2015-01-28T16:42:28.392631:Saving results\n"
       ]
      },
      {
       "output_type": "stream",
       "stream": "stderr",
       "text": [
        "INFO:interface:stdout 2015-01-28T16:42:30.077826:\n"
       ]
      },
      {
       "output_type": "stream",
       "stream": "stderr",
       "text": [
        "INFO:interface:stdout 2015-01-28T16:42:30.077826:Log directory was: stats\n"
       ]
      },
      {
       "output_type": "stream",
       "stream": "stderr",
       "text": [
        "INFO:workflow:Executing node in_limbo_mapper.a7 in dir: /home/felice/workflow_folders/in_limbo_level2_felice_fsl/_threshold_3.7/in_limbo_mapper\n"
       ]
      },
      {
       "output_type": "stream",
       "stream": "stderr",
       "text": [
        "INFO:workflow:Executing node datasink.a7 in dir: /home/felice/workflow_folders/in_limbo_level2_felice_fsl/_threshold_3.7/datasink\n"
       ]
      },
      {
       "output_type": "stream",
       "stream": "stderr",
       "text": [
        "INFO:workflow:Executing node copemerge.a9 in dir: /home/felice/workflow_folders/in_limbo_level2_felice_fsl/in_limbo_mixedfx/_threshold_4.1/copemerge\n"
       ]
      },
      {
       "output_type": "stream",
       "stream": "stderr",
       "text": [
        "INFO:workflow:Executing node _copemerge0 in dir: /home/felice/workflow_folders/in_limbo_level2_felice_fsl/in_limbo_mixedfx/_threshold_4.1/copemerge/mapflow/_copemerge0\n"
       ]
      },
      {
       "output_type": "stream",
       "stream": "stderr",
       "text": [
        "INFO:workflow:Running: fslmerge -t cope_in_limbo_merged.nii.gz /home/felice/workflow_folders/in_limbo_level2_felice_fsl/_threshold_4.1/subtract_from_cope/mapflow/_subtract_from_cope0/cope_in_limbo.nii.gz /home/felice/workflow_folders/in_limbo_level2_felice_fsl/_threshold_4.1/subtract_from_cope/mapflow/_subtract_from_cope1/cope_in_limbo.nii.gz /home/felice/workflow_folders/in_limbo_level2_felice_fsl/_threshold_4.1/subtract_from_cope/mapflow/_subtract_from_cope2/cope_in_limbo.nii.gz /home/felice/workflow_folders/in_limbo_level2_felice_fsl/_threshold_4.1/subtract_from_cope/mapflow/_subtract_from_cope3/cope_in_limbo.nii.gz /home/felice/workflow_folders/in_limbo_level2_felice_fsl/_threshold_4.1/subtract_from_cope/mapflow/_subtract_from_cope4/cope_in_limbo.nii.gz /home/felice/workflow_folders/in_limbo_level2_felice_fsl/_threshold_4.1/subtract_from_cope/mapflow/_subtract_from_cope5/cope_in_limbo.nii.gz /home/felice/workflow_folders/in_limbo_level2_felice_fsl/_threshold_4.1/subtract_from_cope/mapflow/_subtract_from_cope6/cope_in_limbo.nii.gz /home/felice/workflow_folders/in_limbo_level2_felice_fsl/_threshold_4.1/subtract_from_cope/mapflow/_subtract_from_cope7/cope_in_limbo.nii.gz /home/felice/workflow_folders/in_limbo_level2_felice_fsl/_threshold_4.1/subtract_from_cope/mapflow/_subtract_from_cope8/cope_in_limbo.nii.gz /home/felice/workflow_folders/in_limbo_level2_felice_fsl/_threshold_4.1/subtract_from_cope/mapflow/_subtract_from_cope9/cope_in_limbo.nii.gz /home/felice/workflow_folders/in_limbo_level2_felice_fsl/_threshold_4.1/subtract_from_cope/mapflow/_subtract_from_cope10/cope_in_limbo.nii.gz /home/felice/workflow_folders/in_limbo_level2_felice_fsl/_threshold_4.1/subtract_from_cope/mapflow/_subtract_from_cope11/cope_in_limbo.nii.gz /home/felice/workflow_folders/in_limbo_level2_felice_fsl/_threshold_4.1/subtract_from_cope/mapflow/_subtract_from_cope12/cope_in_limbo.nii.gz /home/felice/workflow_folders/in_limbo_level2_felice_fsl/_threshold_4.1/subtract_from_cope/mapflow/_subtract_from_cope13/cope_in_limbo.nii.gz /home/felice/workflow_folders/in_limbo_level2_felice_fsl/_threshold_4.1/subtract_from_cope/mapflow/_subtract_from_cope14/cope_in_limbo.nii.gz /home/felice/workflow_folders/in_limbo_level2_felice_fsl/_threshold_4.1/subtract_from_cope/mapflow/_subtract_from_cope15/cope_in_limbo.nii.gz\n"
       ]
      },
      {
       "output_type": "stream",
       "stream": "stderr",
       "text": [
        "INFO:workflow:Executing node gendofvolume.a9 in dir: /home/felice/workflow_folders/in_limbo_level2_felice_fsl/in_limbo_mixedfx/_threshold_4.1/gendofvolume\n"
       ]
      },
      {
       "output_type": "stream",
       "stream": "stderr",
       "text": [
        "INFO:workflow:Executing node flameo.a9 in dir: /home/felice/workflow_folders/in_limbo_level2_felice_fsl/in_limbo_mixedfx/_threshold_4.1/flameo\n"
       ]
      },
      {
       "output_type": "stream",
       "stream": "stderr",
       "text": [
        "INFO:workflow:Executing node _flameo0 in dir: /home/felice/workflow_folders/in_limbo_level2_felice_fsl/in_limbo_mixedfx/_threshold_4.1/flameo/mapflow/_flameo0\n"
       ]
      },
      {
       "output_type": "stream",
       "stream": "stderr",
       "text": [
        "INFO:workflow:Running: flameo --copefile=/home/felice/workflow_folders/in_limbo_level2_felice_fsl/in_limbo_mixedfx/_threshold_4.1/copemerge/mapflow/_copemerge0/cope_in_limbo_merged.nii.gz --covsplitfile=/home/felice/workflow_folders/in_limbo_level2_felice_fsl/in_limbo_mixedfx/l2model/design.grp --designfile=/home/felice/workflow_folders/in_limbo_level2_felice_fsl/in_limbo_mixedfx/l2model/design.mat --dofvarcopefile=/home/felice/workflow_folders/in_limbo_level2_felice_fsl/in_limbo_mixedfx/_threshold_4.1/gendofvolume/dof_file.nii.gz --ld=stats --maskfile=/usr/share/fsl/data/standard/MNI152_T1_2mm_brain_mask.nii.gz --runmode=fe --tcontrastsfile=/home/felice/workflow_folders/in_limbo_level2_felice_fsl/in_limbo_mixedfx/l2model/design.con --varcopefile=/home/felice/workflow_folders/in_limbo_level2_felice_fsl/in_limbo_mixedfx/varcopemerge/mapflow/_varcopemerge0/task001_varcope13_merged.nii.gz\n"
       ]
      },
      {
       "output_type": "stream",
       "stream": "stderr",
       "text": [
        "INFO:interface:stdout 2015-01-28T16:42:34.686795:Log directory is: stats\n"
       ]
      },
      {
       "output_type": "stream",
       "stream": "stderr",
       "text": [
        "INFO:interface:stdout 2015-01-28T16:42:34.687968:Setting up:\n"
       ]
      },
      {
       "output_type": "stream",
       "stream": "stderr",
       "text": [
        "INFO:interface:stdout 2015-01-28T16:42:35.803110:ntptsing=16.000000 \n"
       ]
      },
      {
       "output_type": "stream",
       "stream": "stderr",
       "text": [
        "INFO:interface:stdout 2015-01-28T16:42:35.803110:\n"
       ]
      },
      {
       "output_type": "stream",
       "stream": "stderr",
       "text": [
        "INFO:interface:stdout 2015-01-28T16:42:35.803110:evs_group=1.000000 \n"
       ]
      },
      {
       "output_type": "stream",
       "stream": "stderr",
       "text": [
        "INFO:interface:stdout 2015-01-28T16:42:35.803110:\n"
       ]
      },
      {
       "output_type": "stream",
       "stream": "stderr",
       "text": [
        "INFO:interface:stdout 2015-01-28T16:42:35.805252:No f contrasts\n"
       ]
      },
      {
       "output_type": "stream",
       "stream": "stderr",
       "text": [
        "INFO:interface:stdout 2015-01-28T16:42:35.897809:\n"
       ]
      },
      {
       "output_type": "stream",
       "stream": "stderr",
       "text": [
        "INFO:interface:stdout 2015-01-28T16:42:35.897809:WARNING: The passed in varcope file, /home/felice/workflow_folders/in_limbo_level2_felice_fsl/in_limbo_mixedfx/varcopemerge/mapflow/_varcopemerge0/task001_varcope13_merged.nii.gz, contains voxels inside the mask with zero (or negative) values. These voxels will be excluded from the analysis.\n"
       ]
      },
      {
       "output_type": "stream",
       "stream": "stderr",
       "text": [
        "INFO:interface:stdout 2015-01-28T16:42:35.907317:nevs=1\n"
       ]
      },
      {
       "output_type": "stream",
       "stream": "stderr",
       "text": [
        "INFO:interface:stdout 2015-01-28T16:42:35.907317:ntpts=16\n"
       ]
      },
      {
       "output_type": "stream",
       "stream": "stderr",
       "text": [
        "INFO:interface:stdout 2015-01-28T16:42:35.907317:ngs=1\n"
       ]
      },
      {
       "output_type": "stream",
       "stream": "stderr",
       "text": [
        "INFO:interface:stdout 2015-01-28T16:42:35.907317:nvoxels=39136\n"
       ]
      },
      {
       "output_type": "stream",
       "stream": "stderr",
       "text": [
        "INFO:interface:stdout 2015-01-28T16:42:35.947006:Running:\n"
       ]
      },
      {
       "output_type": "stream",
       "stream": "stderr",
       "text": [
        "INFO:interface:stdout 2015-01-28T16:42:35.947006:nmaskvoxels=39136\n"
       ]
      },
      {
       "output_type": "stream",
       "stream": "stderr",
       "text": [
        "INFO:interface:stdout 2015-01-28T16:42:36.562978: 1 2 3 4 5 6 7 8 9 10 11 12 13 14 15 16 17 18 19 20 21 22 23 24 25 26 27 28 29 30 31 32 33 34 35 36 37 38 39 40 41 42 43 44 45 46 47 48 49 50 51 52 53 54 55 56 57 58 59 60 61 62 63 64 65 66 67 68 69 70 71 72 73 74 75 76 77 78 79 80 81 82 83 84 85 86 87 88 89 90 91 92 93 94 95 96 97 98 99 100\n"
       ]
      },
      {
       "output_type": "stream",
       "stream": "stderr",
       "text": [
        "INFO:interface:stdout 2015-01-28T16:42:36.562978:Saving results\n"
       ]
      },
      {
       "output_type": "stream",
       "stream": "stderr",
       "text": [
        "INFO:interface:stdout 2015-01-28T16:42:38.193132:\n"
       ]
      },
      {
       "output_type": "stream",
       "stream": "stderr",
       "text": [
        "INFO:interface:stdout 2015-01-28T16:42:38.193132:Log directory was: stats\n"
       ]
      },
      {
       "output_type": "stream",
       "stream": "stderr",
       "text": [
        "INFO:workflow:Executing node in_limbo_mapper.a9 in dir: /home/felice/workflow_folders/in_limbo_level2_felice_fsl/_threshold_4.1/in_limbo_mapper\n"
       ]
      },
      {
       "output_type": "stream",
       "stream": "stderr",
       "text": [
        "INFO:workflow:Executing node datasink.a9 in dir: /home/felice/workflow_folders/in_limbo_level2_felice_fsl/_threshold_4.1/datasink\n"
       ]
      },
      {
       "metadata": {},
       "output_type": "pyout",
       "prompt_number": 12,
       "text": [
        "<networkx.classes.digraph.DiGraph at 0x7f09a047ddd0>"
       ]
      }
     ],
     "prompt_number": 12
    },
    {
     "cell_type": "markdown",
     "metadata": {},
     "source": [
      "Load [Seaborn](http://web.stanford.edu/~mwaskom/software/seaborn/) for nice plots"
     ]
    },
    {
     "cell_type": "code",
     "collapsed": false,
     "input": [
      "import seaborn as sns\n",
      "palette = sns.blend_palette([\"seagreen\", \"lightblue\"]);\n",
      "\n",
      "sns.set_style('white')"
     ],
     "language": "python",
     "metadata": {},
     "outputs": [],
     "prompt_number": 1
    },
    {
     "cell_type": "markdown",
     "metadata": {},
     "source": [
      "Plot for the thresholds"
     ]
    },
    {
     "cell_type": "markdown",
     "metadata": {},
     "source": [
      "(Due to standard coding this is radiological convention) with right hemisphere on right side of the screen."
     ]
    },
    {
     "cell_type": "code",
     "collapsed": false,
     "input": [],
     "language": "python",
     "metadata": {},
     "outputs": [],
     "prompt_number": 250
    },
    {
     "cell_type": "code",
     "collapsed": false,
     "input": [
      "# Don't put warnings in my plots, please, Python\n",
      "import warnings\n",
      "import nibabel as nb\n",
      "import numpy as np\n",
      "import matplotlib.pyplot as plt\n",
      "\n",
      "warnings.filterwarnings('ignore')\n",
      "\n",
      "\n",
      "x_slice = 41\n",
      "y_slice = 49\n",
      "z_slice = 31\n",
      "\n",
      "\n",
      "for threshold in [2.3, 3.1, 3.6, 4.1]:    \n",
      "    \n",
      "    ## STANDARD FSL AR(1)-model\n",
      "    in_limbo = nb.load('/home/felice/level2_fsl_results/ds1/contrast1/in_limbo/_threshold_%s/in_limbo.nii.gz' % threshold).get_data()\n",
      "    z_map = nb.load('/home/felice/level2_fsl_results/ds1/contrast1/thresholded_z/_threshold_%s/zstat1_threshold.nii.gz' % threshold).get_data()\n",
      "    brain = nb.load('/usr/share/fsl/data/standard/MNI152_T1_2mm_brain.nii.gz').get_data()\n",
      "    \n",
      "    z_map = np.ma.masked_less_equal(z_map, 0)\n",
      "    in_limbo = np.ma.masked_less_equal(in_limbo, 0)\n",
      "    plt.figure(figsize=(20, 5))\n",
      "    plt.suptitle('AR(1) estimation - z > %s' % threshold, fontsize=25)\n",
      "    plt.subplot(131)\n",
      "    plt.imshow(brain[x_slice, :, :].T, origin='lower', cmap=plt.cm.gray)\n",
      "    plt.imshow(z_map[x_slice, :, :].T, origin='lower', cmap=plt.cm.hot)\n",
      "    plt.imshow(in_limbo[x_slice, :, :].T, origin='lower', cmap=plt.cm.Greens_r)\n",
      "    plt.axis('off')   \n",
      "    \n",
      "    plt.subplot(132)\n",
      "    plt.imshow(brain[:, y_slice, :].T, origin='lower', cmap=plt.cm.gray)\n",
      "    plt.imshow(z_map[:, y_slice, :].T, origin='lower', cmap=plt.cm.hot)\n",
      "    plt.imshow(in_limbo[:, y_slice, :].T, origin='lower', cmap=plt.cm.Greens_r)\n",
      "    plt.axis('off')    \n",
      "    \n",
      "    plt.subplot(133)\n",
      "    plt.imshow(brain[:, :, z_slice].T, origin='lower', cmap=plt.cm.gray)\n",
      "    plt.imshow(z_map[:, :, z_slice].T, origin='lower', cmap=plt.cm.hot)\n",
      "    plt.imshow(in_limbo[:, :, z_slice].T, origin='lower', cmap=plt.cm.Greens_r)\n",
      "    \n",
      "    plt.axis('off')\n",
      "    \n",
      "plt.show()\n",
      "   "
     ],
     "language": "python",
     "metadata": {},
     "outputs": [],
     "prompt_number": 20
    },
    {
     "cell_type": "code",
     "collapsed": false,
     "input": [
      " \n",
      "## Sandwich approach\n",
      "plt.figure(figsize=(20, 5))\n",
      "in_limbo = nb.load('/home/gdholla1/projects/in_limbo/final_results/%s_in_limbo_mask_brain_masked.nii.gz' % threshold).get_data()\n",
      "z_map = nb.load('/home/gdholla1/projects/in_limbo/final_results/%s_z_threshold.nii.gz' % threshold).get_data()    \n",
      "\n",
      "z_map = np.ma.masked_less_equal(z_map, 0)\n",
      "in_limbo = np.ma.masked_less_equal(in_limbo, 0)\n",
      "\n",
      "plt.suptitle('Sandwich- estimation z > %s' % threshold, fontsize=25)\n",
      "plt.subplot(131)\n",
      "plt.imshow(brain[x_slice, :, :].T, origin='lower', cmap=plt.cm.gray)\n",
      "plt.imshow(z_map[x_slice, :, :].T, origin='lower', cmap=plt.cm.hot)\n",
      "plt.imshow(in_limbo[x_slice, :, :].T, origin='lower', cmap=plt.cm.Greens_r)\n",
      "plt.axis('off')   \n",
      "\n",
      "plt.subplot(132)\n",
      "plt.imshow(brain[:, y_slice, :].T, origin='lower', cmap=plt.cm.gray)\n",
      "plt.imshow(z_map[:, y_slice, :].T, origin='lower', cmap=plt.cm.hot)\n",
      "plt.imshow(in_limbo[:, y_slice, :].T, origin='lower', cmap=plt.cm.Greens_r)\n",
      "plt.axis('off')    \n",
      "\n",
      "plt.subplot(133)\n",
      "plt.imshow(brain[:, :, z_slice].T, origin='lower', cmap=plt.cm.gray)\n",
      "plt.imshow(z_map[:, :, z_slice].T, origin='lower', cmap=plt.cm.hot)\n",
      "plt.imshow(in_limbo[:, :, z_slice].T, origin='lower', cmap=plt.cm.Greens_r)    \n",
      "plt.axis('off')\n",
      "\n",
      "    \n"
     ],
     "language": "python",
     "metadata": {},
     "outputs": [
      {
       "ename": "NameError",
       "evalue": "name 'plt' is not defined",
       "output_type": "pyerr",
       "traceback": [
        "\u001b[1;31m---------------------------------------------------------------------------\u001b[0m\n\u001b[1;31mNameError\u001b[0m                                 Traceback (most recent call last)",
        "\u001b[1;32m<ipython-input-13-b89dd1f2bebc>\u001b[0m in \u001b[0;36m<module>\u001b[1;34m()\u001b[0m\n\u001b[0;32m      1\u001b[0m \u001b[1;33m\u001b[0m\u001b[0m\n\u001b[0;32m      2\u001b[0m \u001b[1;31m## Sandwich approach\u001b[0m\u001b[1;33m\u001b[0m\u001b[1;33m\u001b[0m\u001b[0m\n\u001b[1;32m----> 3\u001b[1;33m \u001b[0mplt\u001b[0m\u001b[1;33m.\u001b[0m\u001b[0mfigure\u001b[0m\u001b[1;33m(\u001b[0m\u001b[0mfigsize\u001b[0m\u001b[1;33m=\u001b[0m\u001b[1;33m(\u001b[0m\u001b[1;36m20\u001b[0m\u001b[1;33m,\u001b[0m \u001b[1;36m5\u001b[0m\u001b[1;33m)\u001b[0m\u001b[1;33m)\u001b[0m\u001b[1;33m\u001b[0m\u001b[0m\n\u001b[0m\u001b[0;32m      4\u001b[0m \u001b[0min_limbo\u001b[0m \u001b[1;33m=\u001b[0m \u001b[0mnb\u001b[0m\u001b[1;33m.\u001b[0m\u001b[0mload\u001b[0m\u001b[1;33m(\u001b[0m\u001b[1;34m'/home/gdholla1/projects/in_limbo/final_results/%s_in_limbo_mask_brain_masked.nii.gz'\u001b[0m \u001b[1;33m%\u001b[0m \u001b[0mthreshold\u001b[0m\u001b[1;33m)\u001b[0m\u001b[1;33m.\u001b[0m\u001b[0mget_data\u001b[0m\u001b[1;33m(\u001b[0m\u001b[1;33m)\u001b[0m\u001b[1;33m\u001b[0m\u001b[0m\n\u001b[0;32m      5\u001b[0m \u001b[0mz_map\u001b[0m \u001b[1;33m=\u001b[0m \u001b[0mnb\u001b[0m\u001b[1;33m.\u001b[0m\u001b[0mload\u001b[0m\u001b[1;33m(\u001b[0m\u001b[1;34m'/home/gdholla1/projects/in_limbo/final_results/%s_z_threshold.nii.gz'\u001b[0m \u001b[1;33m%\u001b[0m \u001b[0mthreshold\u001b[0m\u001b[1;33m)\u001b[0m\u001b[1;33m.\u001b[0m\u001b[0mget_data\u001b[0m\u001b[1;33m(\u001b[0m\u001b[1;33m)\u001b[0m\u001b[1;33m\u001b[0m\u001b[0m\n",
        "\u001b[1;31mNameError\u001b[0m: name 'plt' is not defined"
       ]
      }
     ],
     "prompt_number": 13
    },
    {
     "cell_type": "code",
     "collapsed": false,
     "input": [],
     "language": "python",
     "metadata": {},
     "outputs": []
    }
   ],
   "metadata": {}
  }
 ]
}